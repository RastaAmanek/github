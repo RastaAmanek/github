{
 "cells": [
  {
   "cell_type": "code",
   "execution_count": 4,
   "id": "e6939547-d3bb-4ec7-bdec-0edd1722c6c7",
   "metadata": {},
   "outputs": [
    {
     "data": {
      "text/plain": [
       "3"
      ]
     },
     "execution_count": 4,
     "metadata": {},
     "output_type": "execute_result"
    }
   ],
   "source": [
    "x = 3\n",
    "x"
   ]
  },
  {
   "cell_type": "code",
   "execution_count": null,
   "id": "b47aaf70-4eaa-4649-9cf7-64f3fee3f36c",
   "metadata": {},
   "outputs": [],
   "source": []
  },
  {
   "cell_type": "code",
   "execution_count": null,
   "id": "7d33943e-5c15-4e84-be5b-222a801d1073",
   "metadata": {},
   "outputs": [],
   "source": []
  },
  {
   "cell_type": "code",
   "execution_count": null,
   "id": "c4ba3060-2f68-41ed-a402-d8a2365ecf58",
   "metadata": {},
   "outputs": [],
   "source": []
  },
  {
   "cell_type": "markdown",
   "id": "1361c8c8-0e09-443c-8e40-4e705843f6cd",
   "metadata": {},
   "source": [
    "# BB"
   ]
  },
  {
   "cell_type": "markdown",
   "id": "2e4807a6-16d0-4e82-a7e4-4fa2adb852ef",
   "metadata": {},
   "source": [
    "# 1\n",
    "## 2\n",
    "### 3\n",
    "#### 4\n",
    "##### 5"
   ]
  },
  {
   "cell_type": "markdown",
   "id": "690602b5-9b3d-49c8-95e9-c105d8bc0fce",
   "metadata": {},
   "source": [
    "*italic*"
   ]
  },
  {
   "cell_type": "markdown",
   "id": "86d076c7-71fd-4f16-8cd3-3ae865afee8d",
   "metadata": {},
   "source": [
    "***D**"
   ]
  },
  {
   "cell_type": "markdown",
   "id": "f90915cc-d2c1-447f-a798-a71136ff644f",
   "metadata": {},
   "source": [
    "$2+1=4$\n",
    "$$2\\cdot\\alpha^{2}=\\frac{3}{4}\\cdot\\sum_{x=1}^{n}x^{3}\\$$"
   ]
  },
  {
   "cell_type": "markdown",
   "id": "967541e6-246c-45fb-980b-ab0ff233a7a4",
   "metadata": {},
   "source": [
    "$$ 7/8=6$$"
   ]
  },
  {
   "cell_type": "markdown",
   "id": "d05036ce-d4d1-4e06-9763-0f8c72fe5298",
   "metadata": {},
   "source": [
    "Linki\n",
    "[kliknij tutaj](https://github.com/RastaAmanek/github)"
   ]
  },
  {
   "cell_type": "code",
   "execution_count": null,
   "id": "74ffe699-511d-46c6-99fd-85cadc4a99b3",
   "metadata": {},
   "outputs": [],
   "source": [
    "bbb"
   ]
  },
  {
   "cell_type": "code",
   "execution_count": null,
   "id": "cfd38a54-f734-4d22-a4e5-c0af50f13b39",
   "metadata": {},
   "outputs": [],
   "source": []
  },
  {
   "cell_type": "code",
   "execution_count": null,
   "id": "cf6bb9c5-7e58-41f0-8e18-f284fdb9d5ba",
   "metadata": {},
   "outputs": [],
   "source": []
  },
  {
   "cell_type": "raw",
   "id": "a363d0af-8a2e-416e-9b5d-a4feba6a3675",
   "metadata": {},
   "source": []
  }
 ],
 "metadata": {
  "kernelspec": {
   "display_name": "Python 3 (ipykernel)",
   "language": "python",
   "name": "python3"
  },
  "language_info": {
   "codemirror_mode": {
    "name": "ipython",
    "version": 3
   },
   "file_extension": ".py",
   "mimetype": "text/x-python",
   "name": "python",
   "nbconvert_exporter": "python",
   "pygments_lexer": "ipython3",
   "version": "3.8.2"
  }
 },
 "nbformat": 4,
 "nbformat_minor": 5
}
