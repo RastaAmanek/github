{
 "cells": [
  {
   "cell_type": "code",
   "execution_count": 10,
   "id": "9f20ce1b-f482-4895-b84b-ebd67fb252cf",
   "metadata": {},
   "outputs": [
    {
     "name": "stdin",
     "output_type": "stream",
     "text": [
      "What is your email? naprzodwieszowa@gmail.com\n"
     ]
    },
    {
     "name": "stdout",
     "output_type": "stream",
     "text": [
      "naprzodwieszowa@gmail.com\n"
     ]
    }
   ],
   "source": [
    "email = input(\"What is your email?\").strip()\n",
    "\n",
    "print(email)"
   ]
  },
  {
   "cell_type": "code",
   "execution_count": 11,
   "id": "ea1adf8e-5d53-4d1b-a4ee-b21ce8a0b195",
   "metadata": {},
   "outputs": [
    {
     "name": "stdout",
     "output_type": "stream",
     "text": [
      "jest @\n"
     ]
    }
   ],
   "source": [
    "if \"@\" in email and \".\" in email:\n",
    "    print(\"jest @\")\n",
    "else:\n",
    "    print(\"nie ma @\")\n",
    "    "
   ]
  },
  {
   "cell_type": "code",
   "execution_count": 12,
   "id": "96ff9ae7-5664-4040-b08d-0c1f702c8a0b",
   "metadata": {},
   "outputs": [
    {
     "name": "stdout",
     "output_type": "stream",
     "text": [
      "naprzodwieszowa gmail.com\n"
     ]
    }
   ],
   "source": [
    "username, domain = email.split(\"@\")\n",
    "print(username, domain)"
   ]
  },
  {
   "cell_type": "code",
   "execution_count": 13,
   "id": "0fce625e-b053-4616-a677-bcc8da512dd4",
   "metadata": {},
   "outputs": [
    {
     "name": "stdout",
     "output_type": "stream",
     "text": [
      "jest @\n"
     ]
    }
   ],
   "source": [
    "if username and domain in email:\n",
    "    print(\"jest @\")\n",
    "else:\n",
    "    print(\"nie ma @\")"
   ]
  },
  {
   "cell_type": "code",
   "execution_count": 14,
   "id": "d7794e9f-6178-419a-9ecd-517154591dd3",
   "metadata": {},
   "outputs": [
    {
     "name": "stdout",
     "output_type": "stream",
     "text": [
      "nie ma @\n"
     ]
    }
   ],
   "source": [
    "if username and domain in (\".edu\", \".com\"):\n",
    "    print(\"jest @\")\n",
    "else:\n",
    "    print(\"nie ma @\")"
   ]
  },
  {
   "cell_type": "code",
   "execution_count": null,
   "id": "ebd12cea-917b-4c49-92ab-746cbac66c0c",
   "metadata": {},
   "outputs": [],
   "source": []
  }
 ],
 "metadata": {
  "kernelspec": {
   "display_name": "Python 3 (ipykernel)",
   "language": "python",
   "name": "python3"
  },
  "language_info": {
   "codemirror_mode": {
    "name": "ipython",
    "version": 3
   },
   "file_extension": ".py",
   "mimetype": "text/x-python",
   "name": "python",
   "nbconvert_exporter": "python",
   "pygments_lexer": "ipython3",
   "version": "3.8.2"
  }
 },
 "nbformat": 4,
 "nbformat_minor": 5
}
