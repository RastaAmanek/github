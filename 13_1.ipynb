{
 "cells": [
  {
   "cell_type": "markdown",
   "id": "8d33c016-8536-45c9-b00d-6e5c14d62336",
   "metadata": {},
   "source": [
    "# "
   ]
  },
  {
   "cell_type": "code",
   "execution_count": 1,
   "id": "6361fed4-6a06-4c76-9060-bfb796b7c18b",
   "metadata": {},
   "outputs": [],
   "source": [
    "import pandas as pd\n",
    "from sklearn.model_selection import train_test_split"
   ]
  },
  {
   "cell_type": "code",
   "execution_count": 126,
   "id": "b6eb768f-e3f9-4ab9-ad4a-bd0def482b9a",
   "metadata": {},
   "outputs": [
    {
     "data": {
      "text/html": [
       "<div>\n",
       "<style scoped>\n",
       "    .dataframe tbody tr th:only-of-type {\n",
       "        vertical-align: middle;\n",
       "    }\n",
       "\n",
       "    .dataframe tbody tr th {\n",
       "        vertical-align: top;\n",
       "    }\n",
       "\n",
       "    .dataframe thead th {\n",
       "        text-align: right;\n",
       "    }\n",
       "</style>\n",
       "<table border=\"1\" class=\"dataframe\">\n",
       "  <thead>\n",
       "    <tr style=\"text-align: right;\">\n",
       "      <th></th>\n",
       "      <th>PassengerId</th>\n",
       "      <th>Survived</th>\n",
       "      <th>Pclass</th>\n",
       "      <th>Name</th>\n",
       "      <th>Sex</th>\n",
       "      <th>Age</th>\n",
       "      <th>SibSp</th>\n",
       "      <th>Parch</th>\n",
       "      <th>Ticket</th>\n",
       "      <th>Fare</th>\n",
       "      <th>Cabin</th>\n",
       "      <th>Embarked</th>\n",
       "    </tr>\n",
       "  </thead>\n",
       "  <tbody>\n",
       "    <tr>\n",
       "      <th>0</th>\n",
       "      <td>1</td>\n",
       "      <td>0</td>\n",
       "      <td>3</td>\n",
       "      <td>Braund, Mr. Owen Harris</td>\n",
       "      <td>male</td>\n",
       "      <td>22.0</td>\n",
       "      <td>1</td>\n",
       "      <td>0</td>\n",
       "      <td>A/5 21171</td>\n",
       "      <td>7.2500</td>\n",
       "      <td>NaN</td>\n",
       "      <td>S</td>\n",
       "    </tr>\n",
       "    <tr>\n",
       "      <th>1</th>\n",
       "      <td>2</td>\n",
       "      <td>1</td>\n",
       "      <td>1</td>\n",
       "      <td>Cumings, Mrs. John Bradley (Florence Briggs Th...</td>\n",
       "      <td>female</td>\n",
       "      <td>38.0</td>\n",
       "      <td>1</td>\n",
       "      <td>0</td>\n",
       "      <td>PC 17599</td>\n",
       "      <td>71.2833</td>\n",
       "      <td>C85</td>\n",
       "      <td>C</td>\n",
       "    </tr>\n",
       "    <tr>\n",
       "      <th>2</th>\n",
       "      <td>3</td>\n",
       "      <td>1</td>\n",
       "      <td>3</td>\n",
       "      <td>Heikkinen, Miss. Laina</td>\n",
       "      <td>female</td>\n",
       "      <td>26.0</td>\n",
       "      <td>0</td>\n",
       "      <td>0</td>\n",
       "      <td>STON/O2. 3101282</td>\n",
       "      <td>7.9250</td>\n",
       "      <td>NaN</td>\n",
       "      <td>S</td>\n",
       "    </tr>\n",
       "    <tr>\n",
       "      <th>3</th>\n",
       "      <td>4</td>\n",
       "      <td>1</td>\n",
       "      <td>1</td>\n",
       "      <td>Futrelle, Mrs. Jacques Heath (Lily May Peel)</td>\n",
       "      <td>female</td>\n",
       "      <td>35.0</td>\n",
       "      <td>1</td>\n",
       "      <td>0</td>\n",
       "      <td>113803</td>\n",
       "      <td>53.1000</td>\n",
       "      <td>C123</td>\n",
       "      <td>S</td>\n",
       "    </tr>\n",
       "    <tr>\n",
       "      <th>4</th>\n",
       "      <td>5</td>\n",
       "      <td>0</td>\n",
       "      <td>3</td>\n",
       "      <td>Allen, Mr. William Henry</td>\n",
       "      <td>male</td>\n",
       "      <td>35.0</td>\n",
       "      <td>0</td>\n",
       "      <td>0</td>\n",
       "      <td>373450</td>\n",
       "      <td>8.0500</td>\n",
       "      <td>NaN</td>\n",
       "      <td>S</td>\n",
       "    </tr>\n",
       "  </tbody>\n",
       "</table>\n",
       "</div>"
      ],
      "text/plain": [
       "   PassengerId  Survived  Pclass  \\\n",
       "0            1         0       3   \n",
       "1            2         1       1   \n",
       "2            3         1       3   \n",
       "3            4         1       1   \n",
       "4            5         0       3   \n",
       "\n",
       "                                                Name     Sex   Age  SibSp  \\\n",
       "0                            Braund, Mr. Owen Harris    male  22.0      1   \n",
       "1  Cumings, Mrs. John Bradley (Florence Briggs Th...  female  38.0      1   \n",
       "2                             Heikkinen, Miss. Laina  female  26.0      0   \n",
       "3       Futrelle, Mrs. Jacques Heath (Lily May Peel)  female  35.0      1   \n",
       "4                           Allen, Mr. William Henry    male  35.0      0   \n",
       "\n",
       "   Parch            Ticket     Fare Cabin Embarked  \n",
       "0      0         A/5 21171   7.2500   NaN        S  \n",
       "1      0          PC 17599  71.2833   C85        C  \n",
       "2      0  STON/O2. 3101282   7.9250   NaN        S  \n",
       "3      0            113803  53.1000  C123        S  \n",
       "4      0            373450   8.0500   NaN        S  "
      ]
     },
     "execution_count": 126,
     "metadata": {},
     "output_type": "execute_result"
    }
   ],
   "source": [
    "df = pd.read_csv('titanic.csv')\n",
    "df.head()"
   ]
  },
  {
   "cell_type": "code",
   "execution_count": 127,
   "id": "7033a33e-c933-430b-8422-f3101cf40e7a",
   "metadata": {},
   "outputs": [],
   "source": [
    "data = df[['Age', \"Fare\", 'Embarked', \"Sex\", 'Pclass', \"Survived\"]]"
   ]
  },
  {
   "cell_type": "code",
   "execution_count": 128,
   "id": "30db00c3-1a45-40e3-9aac-b8a7e2c372a7",
   "metadata": {},
   "outputs": [],
   "source": [
    "y = data[\"Survived\"]\n",
    "X = data.drop(['Survived'], axis=1)"
   ]
  },
  {
   "cell_type": "code",
   "execution_count": 129,
   "id": "ac6df390-802b-4fce-b66a-4aa7c7e3fb2e",
   "metadata": {},
   "outputs": [],
   "source": [
    "X_train, X_test, y_train, y_test = train_test_split(X, y, test_size=300, random_state=123)"
   ]
  },
  {
   "cell_type": "code",
   "execution_count": 6,
   "id": "a63e54ea-01d9-472f-80db-8ba0c4c76de0",
   "metadata": {},
   "outputs": [],
   "source": [
    "from sklearn.pipeline import Pipeline\n",
    "from sklearn.compose import ColumnTransformer\n",
    "from sklearn.preprocessing import StandardScaler, OneHotEncoder, MinMaxScaler\n",
    "from sklearn.impute import SimpleImputer\n",
    "from sklearn.linear_model import LogisticRegression\n",
    "from sklearn.metrics import accuracy_score\n",
    "from sklearn.preprocessing import PowerTransformer"
   ]
  },
  {
   "cell_type": "code",
   "execution_count": 7,
   "id": "2e5246a1-f41b-40a6-acc2-673b5008646b",
   "metadata": {},
   "outputs": [],
   "source": [
    "num_columns = ['Age', 'Fare', 'Pclass']\n",
    "cat_columns = ['Embarked', 'Sex']"
   ]
  },
  {
   "cell_type": "code",
   "execution_count": 8,
   "id": "8923fb35-aea5-468d-8a5c-cbad6ae2229a",
   "metadata": {},
   "outputs": [
    {
     "data": {
      "text/html": [
       "<div>\n",
       "<style scoped>\n",
       "    .dataframe tbody tr th:only-of-type {\n",
       "        vertical-align: middle;\n",
       "    }\n",
       "\n",
       "    .dataframe tbody tr th {\n",
       "        vertical-align: top;\n",
       "    }\n",
       "\n",
       "    .dataframe thead th {\n",
       "        text-align: right;\n",
       "    }\n",
       "</style>\n",
       "<table border=\"1\" class=\"dataframe\">\n",
       "  <thead>\n",
       "    <tr style=\"text-align: right;\">\n",
       "      <th></th>\n",
       "      <th>Age</th>\n",
       "      <th>Fare</th>\n",
       "      <th>Embarked</th>\n",
       "      <th>Sex</th>\n",
       "      <th>Pclass</th>\n",
       "    </tr>\n",
       "  </thead>\n",
       "  <tbody>\n",
       "    <tr>\n",
       "      <th>369</th>\n",
       "      <td>24.0</td>\n",
       "      <td>69.3</td>\n",
       "      <td>C</td>\n",
       "      <td>female</td>\n",
       "      <td>1</td>\n",
       "    </tr>\n",
       "    <tr>\n",
       "      <th>597</th>\n",
       "      <td>49.0</td>\n",
       "      <td>0.0</td>\n",
       "      <td>S</td>\n",
       "      <td>male</td>\n",
       "      <td>3</td>\n",
       "    </tr>\n",
       "    <tr>\n",
       "      <th>21</th>\n",
       "      <td>34.0</td>\n",
       "      <td>13.0</td>\n",
       "      <td>S</td>\n",
       "      <td>male</td>\n",
       "      <td>2</td>\n",
       "    </tr>\n",
       "    <tr>\n",
       "      <th>706</th>\n",
       "      <td>45.0</td>\n",
       "      <td>13.5</td>\n",
       "      <td>S</td>\n",
       "      <td>female</td>\n",
       "      <td>2</td>\n",
       "    </tr>\n",
       "    <tr>\n",
       "      <th>387</th>\n",
       "      <td>36.0</td>\n",
       "      <td>13.0</td>\n",
       "      <td>S</td>\n",
       "      <td>female</td>\n",
       "      <td>2</td>\n",
       "    </tr>\n",
       "  </tbody>\n",
       "</table>\n",
       "</div>"
      ],
      "text/plain": [
       "      Age  Fare Embarked     Sex  Pclass\n",
       "369  24.0  69.3        C  female       1\n",
       "597  49.0   0.0        S    male       3\n",
       "21   34.0  13.0        S    male       2\n",
       "706  45.0  13.5        S  female       2\n",
       "387  36.0  13.0        S  female       2"
      ]
     },
     "execution_count": 8,
     "metadata": {},
     "output_type": "execute_result"
    }
   ],
   "source": [
    "X_train.head()"
   ]
  },
  {
   "cell_type": "code",
   "execution_count": 9,
   "id": "270cccc7-377e-4629-8f42-081604e91370",
   "metadata": {
    "scrolled": true
   },
   "outputs": [
    {
     "data": {
      "text/html": [
       "<style>#sk-container-id-1 {color: black;}#sk-container-id-1 pre{padding: 0;}#sk-container-id-1 div.sk-toggleable {background-color: white;}#sk-container-id-1 label.sk-toggleable__label {cursor: pointer;display: block;width: 100%;margin-bottom: 0;padding: 0.3em;box-sizing: border-box;text-align: center;}#sk-container-id-1 label.sk-toggleable__label-arrow:before {content: \"▸\";float: left;margin-right: 0.25em;color: #696969;}#sk-container-id-1 label.sk-toggleable__label-arrow:hover:before {color: black;}#sk-container-id-1 div.sk-estimator:hover label.sk-toggleable__label-arrow:before {color: black;}#sk-container-id-1 div.sk-toggleable__content {max-height: 0;max-width: 0;overflow: hidden;text-align: left;background-color: #f0f8ff;}#sk-container-id-1 div.sk-toggleable__content pre {margin: 0.2em;color: black;border-radius: 0.25em;background-color: #f0f8ff;}#sk-container-id-1 input.sk-toggleable__control:checked~div.sk-toggleable__content {max-height: 200px;max-width: 100%;overflow: auto;}#sk-container-id-1 input.sk-toggleable__control:checked~label.sk-toggleable__label-arrow:before {content: \"▾\";}#sk-container-id-1 div.sk-estimator input.sk-toggleable__control:checked~label.sk-toggleable__label {background-color: #d4ebff;}#sk-container-id-1 div.sk-label input.sk-toggleable__control:checked~label.sk-toggleable__label {background-color: #d4ebff;}#sk-container-id-1 input.sk-hidden--visually {border: 0;clip: rect(1px 1px 1px 1px);clip: rect(1px, 1px, 1px, 1px);height: 1px;margin: -1px;overflow: hidden;padding: 0;position: absolute;width: 1px;}#sk-container-id-1 div.sk-estimator {font-family: monospace;background-color: #f0f8ff;border: 1px dotted black;border-radius: 0.25em;box-sizing: border-box;margin-bottom: 0.5em;}#sk-container-id-1 div.sk-estimator:hover {background-color: #d4ebff;}#sk-container-id-1 div.sk-parallel-item::after {content: \"\";width: 100%;border-bottom: 1px solid gray;flex-grow: 1;}#sk-container-id-1 div.sk-label:hover label.sk-toggleable__label {background-color: #d4ebff;}#sk-container-id-1 div.sk-serial::before {content: \"\";position: absolute;border-left: 1px solid gray;box-sizing: border-box;top: 0;bottom: 0;left: 50%;z-index: 0;}#sk-container-id-1 div.sk-serial {display: flex;flex-direction: column;align-items: center;background-color: white;padding-right: 0.2em;padding-left: 0.2em;position: relative;}#sk-container-id-1 div.sk-item {position: relative;z-index: 1;}#sk-container-id-1 div.sk-parallel {display: flex;align-items: stretch;justify-content: center;background-color: white;position: relative;}#sk-container-id-1 div.sk-item::before, #sk-container-id-1 div.sk-parallel-item::before {content: \"\";position: absolute;border-left: 1px solid gray;box-sizing: border-box;top: 0;bottom: 0;left: 50%;z-index: -1;}#sk-container-id-1 div.sk-parallel-item {display: flex;flex-direction: column;z-index: 1;position: relative;background-color: white;}#sk-container-id-1 div.sk-parallel-item:first-child::after {align-self: flex-end;width: 50%;}#sk-container-id-1 div.sk-parallel-item:last-child::after {align-self: flex-start;width: 50%;}#sk-container-id-1 div.sk-parallel-item:only-child::after {width: 0;}#sk-container-id-1 div.sk-dashed-wrapped {border: 1px dashed gray;margin: 0 0.4em 0.5em 0.4em;box-sizing: border-box;padding-bottom: 0.4em;background-color: white;}#sk-container-id-1 div.sk-label label {font-family: monospace;font-weight: bold;display: inline-block;line-height: 1.2em;}#sk-container-id-1 div.sk-label-container {text-align: center;}#sk-container-id-1 div.sk-container {/* jupyter's `normalize.less` sets `[hidden] { display: none; }` but bootstrap.min.css set `[hidden] { display: none !important; }` so we also need the `!important` here to be able to override the default hidden behavior on the sphinx rendered scikit-learn.org. See: https://github.com/scikit-learn/scikit-learn/issues/21755 */display: inline-block !important;position: relative;}#sk-container-id-1 div.sk-text-repr-fallback {display: none;}</style><div id=\"sk-container-id-1\" class=\"sk-top-container\"><div class=\"sk-text-repr-fallback\"><pre>SimpleImputer()</pre><b>In a Jupyter environment, please rerun this cell to show the HTML representation or trust the notebook. <br />On GitHub, the HTML representation is unable to render, please try loading this page with nbviewer.org.</b></div><div class=\"sk-container\" hidden><div class=\"sk-item\"><div class=\"sk-estimator sk-toggleable\"><input class=\"sk-toggleable__control sk-hidden--visually\" id=\"sk-estimator-id-1\" type=\"checkbox\" checked><label for=\"sk-estimator-id-1\" class=\"sk-toggleable__label sk-toggleable__label-arrow\">SimpleImputer</label><div class=\"sk-toggleable__content\"><pre>SimpleImputer()</pre></div></div></div></div></div>"
      ],
      "text/plain": [
       "SimpleImputer()"
      ]
     },
     "execution_count": 9,
     "metadata": {},
     "output_type": "execute_result"
    }
   ],
   "source": [
    "imputer = SimpleImputer()\n",
    "\n",
    "imputer.fit(X_train[num_columns])"
   ]
  },
  {
   "cell_type": "code",
   "execution_count": 10,
   "id": "fc1c53f9-10b6-475e-b334-0aca8269d17c",
   "metadata": {},
   "outputs": [
    {
     "data": {
      "text/plain": [
       "array([[24.   , 69.3  ,  1.   ],\n",
       "       [49.   ,  0.   ,  3.   ],\n",
       "       [34.   , 13.   ,  2.   ],\n",
       "       ...,\n",
       "       [32.   ,  7.925,  3.   ],\n",
       "       [30.   ,  7.25 ,  3.   ],\n",
       "       [29.   ,  7.75 ,  3.   ]])"
      ]
     },
     "execution_count": 10,
     "metadata": {},
     "output_type": "execute_result"
    }
   ],
   "source": [
    "imputer.transform(X_train[num_columns])"
   ]
  },
  {
   "cell_type": "code",
   "execution_count": 11,
   "id": "2d620b8f-4659-44b0-99bf-8ebc60fe826c",
   "metadata": {},
   "outputs": [
    {
     "data": {
      "text/html": [
       "<style>#sk-container-id-2 {color: black;}#sk-container-id-2 pre{padding: 0;}#sk-container-id-2 div.sk-toggleable {background-color: white;}#sk-container-id-2 label.sk-toggleable__label {cursor: pointer;display: block;width: 100%;margin-bottom: 0;padding: 0.3em;box-sizing: border-box;text-align: center;}#sk-container-id-2 label.sk-toggleable__label-arrow:before {content: \"▸\";float: left;margin-right: 0.25em;color: #696969;}#sk-container-id-2 label.sk-toggleable__label-arrow:hover:before {color: black;}#sk-container-id-2 div.sk-estimator:hover label.sk-toggleable__label-arrow:before {color: black;}#sk-container-id-2 div.sk-toggleable__content {max-height: 0;max-width: 0;overflow: hidden;text-align: left;background-color: #f0f8ff;}#sk-container-id-2 div.sk-toggleable__content pre {margin: 0.2em;color: black;border-radius: 0.25em;background-color: #f0f8ff;}#sk-container-id-2 input.sk-toggleable__control:checked~div.sk-toggleable__content {max-height: 200px;max-width: 100%;overflow: auto;}#sk-container-id-2 input.sk-toggleable__control:checked~label.sk-toggleable__label-arrow:before {content: \"▾\";}#sk-container-id-2 div.sk-estimator input.sk-toggleable__control:checked~label.sk-toggleable__label {background-color: #d4ebff;}#sk-container-id-2 div.sk-label input.sk-toggleable__control:checked~label.sk-toggleable__label {background-color: #d4ebff;}#sk-container-id-2 input.sk-hidden--visually {border: 0;clip: rect(1px 1px 1px 1px);clip: rect(1px, 1px, 1px, 1px);height: 1px;margin: -1px;overflow: hidden;padding: 0;position: absolute;width: 1px;}#sk-container-id-2 div.sk-estimator {font-family: monospace;background-color: #f0f8ff;border: 1px dotted black;border-radius: 0.25em;box-sizing: border-box;margin-bottom: 0.5em;}#sk-container-id-2 div.sk-estimator:hover {background-color: #d4ebff;}#sk-container-id-2 div.sk-parallel-item::after {content: \"\";width: 100%;border-bottom: 1px solid gray;flex-grow: 1;}#sk-container-id-2 div.sk-label:hover label.sk-toggleable__label {background-color: #d4ebff;}#sk-container-id-2 div.sk-serial::before {content: \"\";position: absolute;border-left: 1px solid gray;box-sizing: border-box;top: 0;bottom: 0;left: 50%;z-index: 0;}#sk-container-id-2 div.sk-serial {display: flex;flex-direction: column;align-items: center;background-color: white;padding-right: 0.2em;padding-left: 0.2em;position: relative;}#sk-container-id-2 div.sk-item {position: relative;z-index: 1;}#sk-container-id-2 div.sk-parallel {display: flex;align-items: stretch;justify-content: center;background-color: white;position: relative;}#sk-container-id-2 div.sk-item::before, #sk-container-id-2 div.sk-parallel-item::before {content: \"\";position: absolute;border-left: 1px solid gray;box-sizing: border-box;top: 0;bottom: 0;left: 50%;z-index: -1;}#sk-container-id-2 div.sk-parallel-item {display: flex;flex-direction: column;z-index: 1;position: relative;background-color: white;}#sk-container-id-2 div.sk-parallel-item:first-child::after {align-self: flex-end;width: 50%;}#sk-container-id-2 div.sk-parallel-item:last-child::after {align-self: flex-start;width: 50%;}#sk-container-id-2 div.sk-parallel-item:only-child::after {width: 0;}#sk-container-id-2 div.sk-dashed-wrapped {border: 1px dashed gray;margin: 0 0.4em 0.5em 0.4em;box-sizing: border-box;padding-bottom: 0.4em;background-color: white;}#sk-container-id-2 div.sk-label label {font-family: monospace;font-weight: bold;display: inline-block;line-height: 1.2em;}#sk-container-id-2 div.sk-label-container {text-align: center;}#sk-container-id-2 div.sk-container {/* jupyter's `normalize.less` sets `[hidden] { display: none; }` but bootstrap.min.css set `[hidden] { display: none !important; }` so we also need the `!important` here to be able to override the default hidden behavior on the sphinx rendered scikit-learn.org. See: https://github.com/scikit-learn/scikit-learn/issues/21755 */display: inline-block !important;position: relative;}#sk-container-id-2 div.sk-text-repr-fallback {display: none;}</style><div id=\"sk-container-id-2\" class=\"sk-top-container\"><div class=\"sk-text-repr-fallback\"><pre>OneHotEncoder(drop=&#x27;first&#x27;, sparse_output=False)</pre><b>In a Jupyter environment, please rerun this cell to show the HTML representation or trust the notebook. <br />On GitHub, the HTML representation is unable to render, please try loading this page with nbviewer.org.</b></div><div class=\"sk-container\" hidden><div class=\"sk-item\"><div class=\"sk-estimator sk-toggleable\"><input class=\"sk-toggleable__control sk-hidden--visually\" id=\"sk-estimator-id-2\" type=\"checkbox\" checked><label for=\"sk-estimator-id-2\" class=\"sk-toggleable__label sk-toggleable__label-arrow\">OneHotEncoder</label><div class=\"sk-toggleable__content\"><pre>OneHotEncoder(drop=&#x27;first&#x27;, sparse_output=False)</pre></div></div></div></div></div>"
      ],
      "text/plain": [
       "OneHotEncoder(drop='first', sparse_output=False)"
      ]
     },
     "execution_count": 11,
     "metadata": {},
     "output_type": "execute_result"
    }
   ],
   "source": [
    "encoder = OneHotEncoder(drop='first', sparse_output=False)\n",
    "\n",
    "encoder.fit(X_train[cat_columns])"
   ]
  },
  {
   "cell_type": "code",
   "execution_count": 12,
   "id": "ce2cdf24-2a07-4f63-b465-eb369a98da1b",
   "metadata": {},
   "outputs": [
    {
     "data": {
      "text/plain": [
       "array([[0., 0., 0., 0.],\n",
       "       [0., 1., 0., 1.],\n",
       "       [0., 1., 0., 1.],\n",
       "       ...,\n",
       "       [0., 1., 0., 1.],\n",
       "       [0., 1., 0., 1.],\n",
       "       [1., 0., 0., 1.]])"
      ]
     },
     "execution_count": 12,
     "metadata": {},
     "output_type": "execute_result"
    }
   ],
   "source": [
    "encoder.transform(X_train[cat_columns])"
   ]
  },
  {
   "cell_type": "code",
   "execution_count": 13,
   "id": "9ade2243-1d73-4903-8205-29df42b1e2a9",
   "metadata": {},
   "outputs": [
    {
     "data": {
      "text/plain": [
       "array(['Embarked_Q', 'Embarked_S', 'Embarked_nan', 'Sex_male'],\n",
       "      dtype=object)"
      ]
     },
     "execution_count": 13,
     "metadata": {},
     "output_type": "execute_result"
    }
   ],
   "source": [
    "encoder.get_feature_names_out()"
   ]
  },
  {
   "cell_type": "code",
   "execution_count": 14,
   "id": "3d94dde4-99c5-4d7b-a814-94e3d74bbafb",
   "metadata": {},
   "outputs": [
    {
     "data": {
      "text/plain": [
       "array([[-0.42552101,  1.28163762, -1.47054633],\n",
       "       [ 1.45458609, -3.47717209,  0.8509416 ],\n",
       "       [ 0.35971996, -0.26846798, -0.62449275],\n",
       "       ...,\n",
       "       [ 0.20692583, -0.7522234 ,  0.8509416 ],\n",
       "       [ 0.05217142, -0.83920875,  0.8509416 ],\n",
       "       [-0.02598824, -0.77405592,  0.8509416 ]])"
      ]
     },
     "execution_count": 14,
     "metadata": {},
     "output_type": "execute_result"
    }
   ],
   "source": [
    "num_pipe = Pipeline([\n",
    "    ('imputer', SimpleImputer()),\n",
    "    ('power_transformer', PowerTransformer()),\n",
    "    ('scaler', StandardScaler())\n",
    "])\n",
    "\n",
    "num_pipe.fit_transform (X_train[num_columns])"
   ]
  },
  {
   "cell_type": "code",
   "execution_count": 15,
   "id": "91634928-97ff-4131-ac36-3a69fdb6fb7c",
   "metadata": {},
   "outputs": [],
   "source": [
    "cat_pipe = Pipeline([\n",
    "    ('imputer', SimpleImputer(strategy='most_frequent')),\n",
    "    ('encoder', OneHotEncoder(drop='first'))\n",
    "     ])"
   ]
  },
  {
   "cell_type": "code",
   "execution_count": 16,
   "id": "b24bab10-97dd-49be-9915-3466062d7af3",
   "metadata": {},
   "outputs": [],
   "source": [
    "preprocessor = ColumnTransformer([\n",
    "    ('num', num_pipe, num_columns),\n",
    "    ('cat', cat_pipe, cat_columns)\n",
    "])"
   ]
  },
  {
   "cell_type": "code",
   "execution_count": 17,
   "id": "16f084c6-3a08-4ecb-88d6-51603b26e2ef",
   "metadata": {},
   "outputs": [
    {
     "data": {
      "text/html": [
       "<style>#sk-container-id-3 {color: black;}#sk-container-id-3 pre{padding: 0;}#sk-container-id-3 div.sk-toggleable {background-color: white;}#sk-container-id-3 label.sk-toggleable__label {cursor: pointer;display: block;width: 100%;margin-bottom: 0;padding: 0.3em;box-sizing: border-box;text-align: center;}#sk-container-id-3 label.sk-toggleable__label-arrow:before {content: \"▸\";float: left;margin-right: 0.25em;color: #696969;}#sk-container-id-3 label.sk-toggleable__label-arrow:hover:before {color: black;}#sk-container-id-3 div.sk-estimator:hover label.sk-toggleable__label-arrow:before {color: black;}#sk-container-id-3 div.sk-toggleable__content {max-height: 0;max-width: 0;overflow: hidden;text-align: left;background-color: #f0f8ff;}#sk-container-id-3 div.sk-toggleable__content pre {margin: 0.2em;color: black;border-radius: 0.25em;background-color: #f0f8ff;}#sk-container-id-3 input.sk-toggleable__control:checked~div.sk-toggleable__content {max-height: 200px;max-width: 100%;overflow: auto;}#sk-container-id-3 input.sk-toggleable__control:checked~label.sk-toggleable__label-arrow:before {content: \"▾\";}#sk-container-id-3 div.sk-estimator input.sk-toggleable__control:checked~label.sk-toggleable__label {background-color: #d4ebff;}#sk-container-id-3 div.sk-label input.sk-toggleable__control:checked~label.sk-toggleable__label {background-color: #d4ebff;}#sk-container-id-3 input.sk-hidden--visually {border: 0;clip: rect(1px 1px 1px 1px);clip: rect(1px, 1px, 1px, 1px);height: 1px;margin: -1px;overflow: hidden;padding: 0;position: absolute;width: 1px;}#sk-container-id-3 div.sk-estimator {font-family: monospace;background-color: #f0f8ff;border: 1px dotted black;border-radius: 0.25em;box-sizing: border-box;margin-bottom: 0.5em;}#sk-container-id-3 div.sk-estimator:hover {background-color: #d4ebff;}#sk-container-id-3 div.sk-parallel-item::after {content: \"\";width: 100%;border-bottom: 1px solid gray;flex-grow: 1;}#sk-container-id-3 div.sk-label:hover label.sk-toggleable__label {background-color: #d4ebff;}#sk-container-id-3 div.sk-serial::before {content: \"\";position: absolute;border-left: 1px solid gray;box-sizing: border-box;top: 0;bottom: 0;left: 50%;z-index: 0;}#sk-container-id-3 div.sk-serial {display: flex;flex-direction: column;align-items: center;background-color: white;padding-right: 0.2em;padding-left: 0.2em;position: relative;}#sk-container-id-3 div.sk-item {position: relative;z-index: 1;}#sk-container-id-3 div.sk-parallel {display: flex;align-items: stretch;justify-content: center;background-color: white;position: relative;}#sk-container-id-3 div.sk-item::before, #sk-container-id-3 div.sk-parallel-item::before {content: \"\";position: absolute;border-left: 1px solid gray;box-sizing: border-box;top: 0;bottom: 0;left: 50%;z-index: -1;}#sk-container-id-3 div.sk-parallel-item {display: flex;flex-direction: column;z-index: 1;position: relative;background-color: white;}#sk-container-id-3 div.sk-parallel-item:first-child::after {align-self: flex-end;width: 50%;}#sk-container-id-3 div.sk-parallel-item:last-child::after {align-self: flex-start;width: 50%;}#sk-container-id-3 div.sk-parallel-item:only-child::after {width: 0;}#sk-container-id-3 div.sk-dashed-wrapped {border: 1px dashed gray;margin: 0 0.4em 0.5em 0.4em;box-sizing: border-box;padding-bottom: 0.4em;background-color: white;}#sk-container-id-3 div.sk-label label {font-family: monospace;font-weight: bold;display: inline-block;line-height: 1.2em;}#sk-container-id-3 div.sk-label-container {text-align: center;}#sk-container-id-3 div.sk-container {/* jupyter's `normalize.less` sets `[hidden] { display: none; }` but bootstrap.min.css set `[hidden] { display: none !important; }` so we also need the `!important` here to be able to override the default hidden behavior on the sphinx rendered scikit-learn.org. See: https://github.com/scikit-learn/scikit-learn/issues/21755 */display: inline-block !important;position: relative;}#sk-container-id-3 div.sk-text-repr-fallback {display: none;}</style><div id=\"sk-container-id-3\" class=\"sk-top-container\"><div class=\"sk-text-repr-fallback\"><pre>ColumnTransformer(transformers=[(&#x27;num&#x27;,\n",
       "                                 Pipeline(steps=[(&#x27;imputer&#x27;, SimpleImputer()),\n",
       "                                                 (&#x27;power_transformer&#x27;,\n",
       "                                                  PowerTransformer()),\n",
       "                                                 (&#x27;scaler&#x27;, StandardScaler())]),\n",
       "                                 [&#x27;Age&#x27;, &#x27;Fare&#x27;, &#x27;Pclass&#x27;]),\n",
       "                                (&#x27;cat&#x27;,\n",
       "                                 Pipeline(steps=[(&#x27;imputer&#x27;,\n",
       "                                                  SimpleImputer(strategy=&#x27;most_frequent&#x27;)),\n",
       "                                                 (&#x27;encoder&#x27;,\n",
       "                                                  OneHotEncoder(drop=&#x27;first&#x27;))]),\n",
       "                                 [&#x27;Embarked&#x27;, &#x27;Sex&#x27;])])</pre><b>In a Jupyter environment, please rerun this cell to show the HTML representation or trust the notebook. <br />On GitHub, the HTML representation is unable to render, please try loading this page with nbviewer.org.</b></div><div class=\"sk-container\" hidden><div class=\"sk-item sk-dashed-wrapped\"><div class=\"sk-label-container\"><div class=\"sk-label sk-toggleable\"><input class=\"sk-toggleable__control sk-hidden--visually\" id=\"sk-estimator-id-3\" type=\"checkbox\" ><label for=\"sk-estimator-id-3\" class=\"sk-toggleable__label sk-toggleable__label-arrow\">ColumnTransformer</label><div class=\"sk-toggleable__content\"><pre>ColumnTransformer(transformers=[(&#x27;num&#x27;,\n",
       "                                 Pipeline(steps=[(&#x27;imputer&#x27;, SimpleImputer()),\n",
       "                                                 (&#x27;power_transformer&#x27;,\n",
       "                                                  PowerTransformer()),\n",
       "                                                 (&#x27;scaler&#x27;, StandardScaler())]),\n",
       "                                 [&#x27;Age&#x27;, &#x27;Fare&#x27;, &#x27;Pclass&#x27;]),\n",
       "                                (&#x27;cat&#x27;,\n",
       "                                 Pipeline(steps=[(&#x27;imputer&#x27;,\n",
       "                                                  SimpleImputer(strategy=&#x27;most_frequent&#x27;)),\n",
       "                                                 (&#x27;encoder&#x27;,\n",
       "                                                  OneHotEncoder(drop=&#x27;first&#x27;))]),\n",
       "                                 [&#x27;Embarked&#x27;, &#x27;Sex&#x27;])])</pre></div></div></div><div class=\"sk-parallel\"><div class=\"sk-parallel-item\"><div class=\"sk-item\"><div class=\"sk-label-container\"><div class=\"sk-label sk-toggleable\"><input class=\"sk-toggleable__control sk-hidden--visually\" id=\"sk-estimator-id-4\" type=\"checkbox\" ><label for=\"sk-estimator-id-4\" class=\"sk-toggleable__label sk-toggleable__label-arrow\">num</label><div class=\"sk-toggleable__content\"><pre>[&#x27;Age&#x27;, &#x27;Fare&#x27;, &#x27;Pclass&#x27;]</pre></div></div></div><div class=\"sk-serial\"><div class=\"sk-item\"><div class=\"sk-serial\"><div class=\"sk-item\"><div class=\"sk-estimator sk-toggleable\"><input class=\"sk-toggleable__control sk-hidden--visually\" id=\"sk-estimator-id-5\" type=\"checkbox\" ><label for=\"sk-estimator-id-5\" class=\"sk-toggleable__label sk-toggleable__label-arrow\">SimpleImputer</label><div class=\"sk-toggleable__content\"><pre>SimpleImputer()</pre></div></div></div><div class=\"sk-item\"><div class=\"sk-estimator sk-toggleable\"><input class=\"sk-toggleable__control sk-hidden--visually\" id=\"sk-estimator-id-6\" type=\"checkbox\" ><label for=\"sk-estimator-id-6\" class=\"sk-toggleable__label sk-toggleable__label-arrow\">PowerTransformer</label><div class=\"sk-toggleable__content\"><pre>PowerTransformer()</pre></div></div></div><div class=\"sk-item\"><div class=\"sk-estimator sk-toggleable\"><input class=\"sk-toggleable__control sk-hidden--visually\" id=\"sk-estimator-id-7\" type=\"checkbox\" ><label for=\"sk-estimator-id-7\" class=\"sk-toggleable__label sk-toggleable__label-arrow\">StandardScaler</label><div class=\"sk-toggleable__content\"><pre>StandardScaler()</pre></div></div></div></div></div></div></div></div><div class=\"sk-parallel-item\"><div class=\"sk-item\"><div class=\"sk-label-container\"><div class=\"sk-label sk-toggleable\"><input class=\"sk-toggleable__control sk-hidden--visually\" id=\"sk-estimator-id-8\" type=\"checkbox\" ><label for=\"sk-estimator-id-8\" class=\"sk-toggleable__label sk-toggleable__label-arrow\">cat</label><div class=\"sk-toggleable__content\"><pre>[&#x27;Embarked&#x27;, &#x27;Sex&#x27;]</pre></div></div></div><div class=\"sk-serial\"><div class=\"sk-item\"><div class=\"sk-serial\"><div class=\"sk-item\"><div class=\"sk-estimator sk-toggleable\"><input class=\"sk-toggleable__control sk-hidden--visually\" id=\"sk-estimator-id-9\" type=\"checkbox\" ><label for=\"sk-estimator-id-9\" class=\"sk-toggleable__label sk-toggleable__label-arrow\">SimpleImputer</label><div class=\"sk-toggleable__content\"><pre>SimpleImputer(strategy=&#x27;most_frequent&#x27;)</pre></div></div></div><div class=\"sk-item\"><div class=\"sk-estimator sk-toggleable\"><input class=\"sk-toggleable__control sk-hidden--visually\" id=\"sk-estimator-id-10\" type=\"checkbox\" ><label for=\"sk-estimator-id-10\" class=\"sk-toggleable__label sk-toggleable__label-arrow\">OneHotEncoder</label><div class=\"sk-toggleable__content\"><pre>OneHotEncoder(drop=&#x27;first&#x27;)</pre></div></div></div></div></div></div></div></div></div></div></div></div>"
      ],
      "text/plain": [
       "ColumnTransformer(transformers=[('num',\n",
       "                                 Pipeline(steps=[('imputer', SimpleImputer()),\n",
       "                                                 ('power_transformer',\n",
       "                                                  PowerTransformer()),\n",
       "                                                 ('scaler', StandardScaler())]),\n",
       "                                 ['Age', 'Fare', 'Pclass']),\n",
       "                                ('cat',\n",
       "                                 Pipeline(steps=[('imputer',\n",
       "                                                  SimpleImputer(strategy='most_frequent')),\n",
       "                                                 ('encoder',\n",
       "                                                  OneHotEncoder(drop='first'))]),\n",
       "                                 ['Embarked', 'Sex'])])"
      ]
     },
     "execution_count": 17,
     "metadata": {},
     "output_type": "execute_result"
    }
   ],
   "source": [
    "preprocessor.fit(X_train)"
   ]
  },
  {
   "cell_type": "code",
   "execution_count": 18,
   "id": "2b47eb21-114e-437c-be4d-9dcfe79b3601",
   "metadata": {},
   "outputs": [
    {
     "data": {
      "text/plain": [
       "array([[-0.43,  1.28, -1.47,  0.  ,  0.  ,  0.  ],\n",
       "       [ 1.45, -3.48,  0.85,  0.  ,  1.  ,  1.  ],\n",
       "       [ 0.36, -0.27, -0.62,  0.  ,  1.  ,  1.  ],\n",
       "       ...,\n",
       "       [ 0.21, -0.75,  0.85,  0.  ,  1.  ,  1.  ],\n",
       "       [ 0.05, -0.84,  0.85,  0.  ,  1.  ,  1.  ],\n",
       "       [-0.03, -0.77,  0.85,  1.  ,  0.  ,  1.  ]])"
      ]
     },
     "execution_count": 18,
     "metadata": {},
     "output_type": "execute_result"
    }
   ],
   "source": [
    "preprocessor.transform(X_train).round(2)"
   ]
  },
  {
   "cell_type": "code",
   "execution_count": 19,
   "id": "c25f5a75-08a6-4beb-a5a8-30de9eadfb19",
   "metadata": {},
   "outputs": [
    {
     "data": {
      "text/html": [
       "<style>#sk-container-id-4 {color: black;}#sk-container-id-4 pre{padding: 0;}#sk-container-id-4 div.sk-toggleable {background-color: white;}#sk-container-id-4 label.sk-toggleable__label {cursor: pointer;display: block;width: 100%;margin-bottom: 0;padding: 0.3em;box-sizing: border-box;text-align: center;}#sk-container-id-4 label.sk-toggleable__label-arrow:before {content: \"▸\";float: left;margin-right: 0.25em;color: #696969;}#sk-container-id-4 label.sk-toggleable__label-arrow:hover:before {color: black;}#sk-container-id-4 div.sk-estimator:hover label.sk-toggleable__label-arrow:before {color: black;}#sk-container-id-4 div.sk-toggleable__content {max-height: 0;max-width: 0;overflow: hidden;text-align: left;background-color: #f0f8ff;}#sk-container-id-4 div.sk-toggleable__content pre {margin: 0.2em;color: black;border-radius: 0.25em;background-color: #f0f8ff;}#sk-container-id-4 input.sk-toggleable__control:checked~div.sk-toggleable__content {max-height: 200px;max-width: 100%;overflow: auto;}#sk-container-id-4 input.sk-toggleable__control:checked~label.sk-toggleable__label-arrow:before {content: \"▾\";}#sk-container-id-4 div.sk-estimator input.sk-toggleable__control:checked~label.sk-toggleable__label {background-color: #d4ebff;}#sk-container-id-4 div.sk-label input.sk-toggleable__control:checked~label.sk-toggleable__label {background-color: #d4ebff;}#sk-container-id-4 input.sk-hidden--visually {border: 0;clip: rect(1px 1px 1px 1px);clip: rect(1px, 1px, 1px, 1px);height: 1px;margin: -1px;overflow: hidden;padding: 0;position: absolute;width: 1px;}#sk-container-id-4 div.sk-estimator {font-family: monospace;background-color: #f0f8ff;border: 1px dotted black;border-radius: 0.25em;box-sizing: border-box;margin-bottom: 0.5em;}#sk-container-id-4 div.sk-estimator:hover {background-color: #d4ebff;}#sk-container-id-4 div.sk-parallel-item::after {content: \"\";width: 100%;border-bottom: 1px solid gray;flex-grow: 1;}#sk-container-id-4 div.sk-label:hover label.sk-toggleable__label {background-color: #d4ebff;}#sk-container-id-4 div.sk-serial::before {content: \"\";position: absolute;border-left: 1px solid gray;box-sizing: border-box;top: 0;bottom: 0;left: 50%;z-index: 0;}#sk-container-id-4 div.sk-serial {display: flex;flex-direction: column;align-items: center;background-color: white;padding-right: 0.2em;padding-left: 0.2em;position: relative;}#sk-container-id-4 div.sk-item {position: relative;z-index: 1;}#sk-container-id-4 div.sk-parallel {display: flex;align-items: stretch;justify-content: center;background-color: white;position: relative;}#sk-container-id-4 div.sk-item::before, #sk-container-id-4 div.sk-parallel-item::before {content: \"\";position: absolute;border-left: 1px solid gray;box-sizing: border-box;top: 0;bottom: 0;left: 50%;z-index: -1;}#sk-container-id-4 div.sk-parallel-item {display: flex;flex-direction: column;z-index: 1;position: relative;background-color: white;}#sk-container-id-4 div.sk-parallel-item:first-child::after {align-self: flex-end;width: 50%;}#sk-container-id-4 div.sk-parallel-item:last-child::after {align-self: flex-start;width: 50%;}#sk-container-id-4 div.sk-parallel-item:only-child::after {width: 0;}#sk-container-id-4 div.sk-dashed-wrapped {border: 1px dashed gray;margin: 0 0.4em 0.5em 0.4em;box-sizing: border-box;padding-bottom: 0.4em;background-color: white;}#sk-container-id-4 div.sk-label label {font-family: monospace;font-weight: bold;display: inline-block;line-height: 1.2em;}#sk-container-id-4 div.sk-label-container {text-align: center;}#sk-container-id-4 div.sk-container {/* jupyter's `normalize.less` sets `[hidden] { display: none; }` but bootstrap.min.css set `[hidden] { display: none !important; }` so we also need the `!important` here to be able to override the default hidden behavior on the sphinx rendered scikit-learn.org. See: https://github.com/scikit-learn/scikit-learn/issues/21755 */display: inline-block !important;position: relative;}#sk-container-id-4 div.sk-text-repr-fallback {display: none;}</style><div id=\"sk-container-id-4\" class=\"sk-top-container\"><div class=\"sk-text-repr-fallback\"><pre>Pipeline(steps=[(&#x27;preprocessor&#x27;,\n",
       "                 ColumnTransformer(transformers=[(&#x27;num&#x27;,\n",
       "                                                  Pipeline(steps=[(&#x27;imputer&#x27;,\n",
       "                                                                   SimpleImputer()),\n",
       "                                                                  (&#x27;power_transformer&#x27;,\n",
       "                                                                   PowerTransformer()),\n",
       "                                                                  (&#x27;scaler&#x27;,\n",
       "                                                                   StandardScaler())]),\n",
       "                                                  [&#x27;Age&#x27;, &#x27;Fare&#x27;, &#x27;Pclass&#x27;]),\n",
       "                                                 (&#x27;cat&#x27;,\n",
       "                                                  Pipeline(steps=[(&#x27;imputer&#x27;,\n",
       "                                                                   SimpleImputer(strategy=&#x27;most_frequent&#x27;)),\n",
       "                                                                  (&#x27;encoder&#x27;,\n",
       "                                                                   OneHotEncoder(drop=&#x27;first&#x27;))]),\n",
       "                                                  [&#x27;Embarked&#x27;, &#x27;Sex&#x27;])])),\n",
       "                (&#x27;model&#x27;, LogisticRegression())])</pre><b>In a Jupyter environment, please rerun this cell to show the HTML representation or trust the notebook. <br />On GitHub, the HTML representation is unable to render, please try loading this page with nbviewer.org.</b></div><div class=\"sk-container\" hidden><div class=\"sk-item sk-dashed-wrapped\"><div class=\"sk-label-container\"><div class=\"sk-label sk-toggleable\"><input class=\"sk-toggleable__control sk-hidden--visually\" id=\"sk-estimator-id-11\" type=\"checkbox\" ><label for=\"sk-estimator-id-11\" class=\"sk-toggleable__label sk-toggleable__label-arrow\">Pipeline</label><div class=\"sk-toggleable__content\"><pre>Pipeline(steps=[(&#x27;preprocessor&#x27;,\n",
       "                 ColumnTransformer(transformers=[(&#x27;num&#x27;,\n",
       "                                                  Pipeline(steps=[(&#x27;imputer&#x27;,\n",
       "                                                                   SimpleImputer()),\n",
       "                                                                  (&#x27;power_transformer&#x27;,\n",
       "                                                                   PowerTransformer()),\n",
       "                                                                  (&#x27;scaler&#x27;,\n",
       "                                                                   StandardScaler())]),\n",
       "                                                  [&#x27;Age&#x27;, &#x27;Fare&#x27;, &#x27;Pclass&#x27;]),\n",
       "                                                 (&#x27;cat&#x27;,\n",
       "                                                  Pipeline(steps=[(&#x27;imputer&#x27;,\n",
       "                                                                   SimpleImputer(strategy=&#x27;most_frequent&#x27;)),\n",
       "                                                                  (&#x27;encoder&#x27;,\n",
       "                                                                   OneHotEncoder(drop=&#x27;first&#x27;))]),\n",
       "                                                  [&#x27;Embarked&#x27;, &#x27;Sex&#x27;])])),\n",
       "                (&#x27;model&#x27;, LogisticRegression())])</pre></div></div></div><div class=\"sk-serial\"><div class=\"sk-item sk-dashed-wrapped\"><div class=\"sk-label-container\"><div class=\"sk-label sk-toggleable\"><input class=\"sk-toggleable__control sk-hidden--visually\" id=\"sk-estimator-id-12\" type=\"checkbox\" ><label for=\"sk-estimator-id-12\" class=\"sk-toggleable__label sk-toggleable__label-arrow\">preprocessor: ColumnTransformer</label><div class=\"sk-toggleable__content\"><pre>ColumnTransformer(transformers=[(&#x27;num&#x27;,\n",
       "                                 Pipeline(steps=[(&#x27;imputer&#x27;, SimpleImputer()),\n",
       "                                                 (&#x27;power_transformer&#x27;,\n",
       "                                                  PowerTransformer()),\n",
       "                                                 (&#x27;scaler&#x27;, StandardScaler())]),\n",
       "                                 [&#x27;Age&#x27;, &#x27;Fare&#x27;, &#x27;Pclass&#x27;]),\n",
       "                                (&#x27;cat&#x27;,\n",
       "                                 Pipeline(steps=[(&#x27;imputer&#x27;,\n",
       "                                                  SimpleImputer(strategy=&#x27;most_frequent&#x27;)),\n",
       "                                                 (&#x27;encoder&#x27;,\n",
       "                                                  OneHotEncoder(drop=&#x27;first&#x27;))]),\n",
       "                                 [&#x27;Embarked&#x27;, &#x27;Sex&#x27;])])</pre></div></div></div><div class=\"sk-parallel\"><div class=\"sk-parallel-item\"><div class=\"sk-item\"><div class=\"sk-label-container\"><div class=\"sk-label sk-toggleable\"><input class=\"sk-toggleable__control sk-hidden--visually\" id=\"sk-estimator-id-13\" type=\"checkbox\" ><label for=\"sk-estimator-id-13\" class=\"sk-toggleable__label sk-toggleable__label-arrow\">num</label><div class=\"sk-toggleable__content\"><pre>[&#x27;Age&#x27;, &#x27;Fare&#x27;, &#x27;Pclass&#x27;]</pre></div></div></div><div class=\"sk-serial\"><div class=\"sk-item\"><div class=\"sk-serial\"><div class=\"sk-item\"><div class=\"sk-estimator sk-toggleable\"><input class=\"sk-toggleable__control sk-hidden--visually\" id=\"sk-estimator-id-14\" type=\"checkbox\" ><label for=\"sk-estimator-id-14\" class=\"sk-toggleable__label sk-toggleable__label-arrow\">SimpleImputer</label><div class=\"sk-toggleable__content\"><pre>SimpleImputer()</pre></div></div></div><div class=\"sk-item\"><div class=\"sk-estimator sk-toggleable\"><input class=\"sk-toggleable__control sk-hidden--visually\" id=\"sk-estimator-id-15\" type=\"checkbox\" ><label for=\"sk-estimator-id-15\" class=\"sk-toggleable__label sk-toggleable__label-arrow\">PowerTransformer</label><div class=\"sk-toggleable__content\"><pre>PowerTransformer()</pre></div></div></div><div class=\"sk-item\"><div class=\"sk-estimator sk-toggleable\"><input class=\"sk-toggleable__control sk-hidden--visually\" id=\"sk-estimator-id-16\" type=\"checkbox\" ><label for=\"sk-estimator-id-16\" class=\"sk-toggleable__label sk-toggleable__label-arrow\">StandardScaler</label><div class=\"sk-toggleable__content\"><pre>StandardScaler()</pre></div></div></div></div></div></div></div></div><div class=\"sk-parallel-item\"><div class=\"sk-item\"><div class=\"sk-label-container\"><div class=\"sk-label sk-toggleable\"><input class=\"sk-toggleable__control sk-hidden--visually\" id=\"sk-estimator-id-17\" type=\"checkbox\" ><label for=\"sk-estimator-id-17\" class=\"sk-toggleable__label sk-toggleable__label-arrow\">cat</label><div class=\"sk-toggleable__content\"><pre>[&#x27;Embarked&#x27;, &#x27;Sex&#x27;]</pre></div></div></div><div class=\"sk-serial\"><div class=\"sk-item\"><div class=\"sk-serial\"><div class=\"sk-item\"><div class=\"sk-estimator sk-toggleable\"><input class=\"sk-toggleable__control sk-hidden--visually\" id=\"sk-estimator-id-18\" type=\"checkbox\" ><label for=\"sk-estimator-id-18\" class=\"sk-toggleable__label sk-toggleable__label-arrow\">SimpleImputer</label><div class=\"sk-toggleable__content\"><pre>SimpleImputer(strategy=&#x27;most_frequent&#x27;)</pre></div></div></div><div class=\"sk-item\"><div class=\"sk-estimator sk-toggleable\"><input class=\"sk-toggleable__control sk-hidden--visually\" id=\"sk-estimator-id-19\" type=\"checkbox\" ><label for=\"sk-estimator-id-19\" class=\"sk-toggleable__label sk-toggleable__label-arrow\">OneHotEncoder</label><div class=\"sk-toggleable__content\"><pre>OneHotEncoder(drop=&#x27;first&#x27;)</pre></div></div></div></div></div></div></div></div></div></div><div class=\"sk-item\"><div class=\"sk-estimator sk-toggleable\"><input class=\"sk-toggleable__control sk-hidden--visually\" id=\"sk-estimator-id-20\" type=\"checkbox\" ><label for=\"sk-estimator-id-20\" class=\"sk-toggleable__label sk-toggleable__label-arrow\">LogisticRegression</label><div class=\"sk-toggleable__content\"><pre>LogisticRegression()</pre></div></div></div></div></div></div></div>"
      ],
      "text/plain": [
       "Pipeline(steps=[('preprocessor',\n",
       "                 ColumnTransformer(transformers=[('num',\n",
       "                                                  Pipeline(steps=[('imputer',\n",
       "                                                                   SimpleImputer()),\n",
       "                                                                  ('power_transformer',\n",
       "                                                                   PowerTransformer()),\n",
       "                                                                  ('scaler',\n",
       "                                                                   StandardScaler())]),\n",
       "                                                  ['Age', 'Fare', 'Pclass']),\n",
       "                                                 ('cat',\n",
       "                                                  Pipeline(steps=[('imputer',\n",
       "                                                                   SimpleImputer(strategy='most_frequent')),\n",
       "                                                                  ('encoder',\n",
       "                                                                   OneHotEncoder(drop='first'))]),\n",
       "                                                  ['Embarked', 'Sex'])])),\n",
       "                ('model', LogisticRegression())])"
      ]
     },
     "execution_count": 19,
     "metadata": {},
     "output_type": "execute_result"
    }
   ],
   "source": [
    "pipeline = Pipeline([\n",
    "    ('preprocessor', preprocessor),\n",
    "    ('model', LogisticRegression())\n",
    "])\n",
    "\n",
    "pipeline"
   ]
  },
  {
   "cell_type": "code",
   "execution_count": 20,
   "id": "60762aad-9b95-479d-aa54-d6cc69906bf1",
   "metadata": {},
   "outputs": [
    {
     "data": {
      "text/html": [
       "<style>#sk-container-id-5 {color: black;}#sk-container-id-5 pre{padding: 0;}#sk-container-id-5 div.sk-toggleable {background-color: white;}#sk-container-id-5 label.sk-toggleable__label {cursor: pointer;display: block;width: 100%;margin-bottom: 0;padding: 0.3em;box-sizing: border-box;text-align: center;}#sk-container-id-5 label.sk-toggleable__label-arrow:before {content: \"▸\";float: left;margin-right: 0.25em;color: #696969;}#sk-container-id-5 label.sk-toggleable__label-arrow:hover:before {color: black;}#sk-container-id-5 div.sk-estimator:hover label.sk-toggleable__label-arrow:before {color: black;}#sk-container-id-5 div.sk-toggleable__content {max-height: 0;max-width: 0;overflow: hidden;text-align: left;background-color: #f0f8ff;}#sk-container-id-5 div.sk-toggleable__content pre {margin: 0.2em;color: black;border-radius: 0.25em;background-color: #f0f8ff;}#sk-container-id-5 input.sk-toggleable__control:checked~div.sk-toggleable__content {max-height: 200px;max-width: 100%;overflow: auto;}#sk-container-id-5 input.sk-toggleable__control:checked~label.sk-toggleable__label-arrow:before {content: \"▾\";}#sk-container-id-5 div.sk-estimator input.sk-toggleable__control:checked~label.sk-toggleable__label {background-color: #d4ebff;}#sk-container-id-5 div.sk-label input.sk-toggleable__control:checked~label.sk-toggleable__label {background-color: #d4ebff;}#sk-container-id-5 input.sk-hidden--visually {border: 0;clip: rect(1px 1px 1px 1px);clip: rect(1px, 1px, 1px, 1px);height: 1px;margin: -1px;overflow: hidden;padding: 0;position: absolute;width: 1px;}#sk-container-id-5 div.sk-estimator {font-family: monospace;background-color: #f0f8ff;border: 1px dotted black;border-radius: 0.25em;box-sizing: border-box;margin-bottom: 0.5em;}#sk-container-id-5 div.sk-estimator:hover {background-color: #d4ebff;}#sk-container-id-5 div.sk-parallel-item::after {content: \"\";width: 100%;border-bottom: 1px solid gray;flex-grow: 1;}#sk-container-id-5 div.sk-label:hover label.sk-toggleable__label {background-color: #d4ebff;}#sk-container-id-5 div.sk-serial::before {content: \"\";position: absolute;border-left: 1px solid gray;box-sizing: border-box;top: 0;bottom: 0;left: 50%;z-index: 0;}#sk-container-id-5 div.sk-serial {display: flex;flex-direction: column;align-items: center;background-color: white;padding-right: 0.2em;padding-left: 0.2em;position: relative;}#sk-container-id-5 div.sk-item {position: relative;z-index: 1;}#sk-container-id-5 div.sk-parallel {display: flex;align-items: stretch;justify-content: center;background-color: white;position: relative;}#sk-container-id-5 div.sk-item::before, #sk-container-id-5 div.sk-parallel-item::before {content: \"\";position: absolute;border-left: 1px solid gray;box-sizing: border-box;top: 0;bottom: 0;left: 50%;z-index: -1;}#sk-container-id-5 div.sk-parallel-item {display: flex;flex-direction: column;z-index: 1;position: relative;background-color: white;}#sk-container-id-5 div.sk-parallel-item:first-child::after {align-self: flex-end;width: 50%;}#sk-container-id-5 div.sk-parallel-item:last-child::after {align-self: flex-start;width: 50%;}#sk-container-id-5 div.sk-parallel-item:only-child::after {width: 0;}#sk-container-id-5 div.sk-dashed-wrapped {border: 1px dashed gray;margin: 0 0.4em 0.5em 0.4em;box-sizing: border-box;padding-bottom: 0.4em;background-color: white;}#sk-container-id-5 div.sk-label label {font-family: monospace;font-weight: bold;display: inline-block;line-height: 1.2em;}#sk-container-id-5 div.sk-label-container {text-align: center;}#sk-container-id-5 div.sk-container {/* jupyter's `normalize.less` sets `[hidden] { display: none; }` but bootstrap.min.css set `[hidden] { display: none !important; }` so we also need the `!important` here to be able to override the default hidden behavior on the sphinx rendered scikit-learn.org. See: https://github.com/scikit-learn/scikit-learn/issues/21755 */display: inline-block !important;position: relative;}#sk-container-id-5 div.sk-text-repr-fallback {display: none;}</style><div id=\"sk-container-id-5\" class=\"sk-top-container\"><div class=\"sk-text-repr-fallback\"><pre>Pipeline(steps=[(&#x27;preprocessor&#x27;,\n",
       "                 ColumnTransformer(transformers=[(&#x27;num&#x27;,\n",
       "                                                  Pipeline(steps=[(&#x27;imputer&#x27;,\n",
       "                                                                   SimpleImputer()),\n",
       "                                                                  (&#x27;power_transformer&#x27;,\n",
       "                                                                   PowerTransformer()),\n",
       "                                                                  (&#x27;scaler&#x27;,\n",
       "                                                                   StandardScaler())]),\n",
       "                                                  [&#x27;Age&#x27;, &#x27;Fare&#x27;, &#x27;Pclass&#x27;]),\n",
       "                                                 (&#x27;cat&#x27;,\n",
       "                                                  Pipeline(steps=[(&#x27;imputer&#x27;,\n",
       "                                                                   SimpleImputer(strategy=&#x27;most_frequent&#x27;)),\n",
       "                                                                  (&#x27;encoder&#x27;,\n",
       "                                                                   OneHotEncoder(drop=&#x27;first&#x27;))]),\n",
       "                                                  [&#x27;Embarked&#x27;, &#x27;Sex&#x27;])])),\n",
       "                (&#x27;model&#x27;, LogisticRegression())])</pre><b>In a Jupyter environment, please rerun this cell to show the HTML representation or trust the notebook. <br />On GitHub, the HTML representation is unable to render, please try loading this page with nbviewer.org.</b></div><div class=\"sk-container\" hidden><div class=\"sk-item sk-dashed-wrapped\"><div class=\"sk-label-container\"><div class=\"sk-label sk-toggleable\"><input class=\"sk-toggleable__control sk-hidden--visually\" id=\"sk-estimator-id-21\" type=\"checkbox\" ><label for=\"sk-estimator-id-21\" class=\"sk-toggleable__label sk-toggleable__label-arrow\">Pipeline</label><div class=\"sk-toggleable__content\"><pre>Pipeline(steps=[(&#x27;preprocessor&#x27;,\n",
       "                 ColumnTransformer(transformers=[(&#x27;num&#x27;,\n",
       "                                                  Pipeline(steps=[(&#x27;imputer&#x27;,\n",
       "                                                                   SimpleImputer()),\n",
       "                                                                  (&#x27;power_transformer&#x27;,\n",
       "                                                                   PowerTransformer()),\n",
       "                                                                  (&#x27;scaler&#x27;,\n",
       "                                                                   StandardScaler())]),\n",
       "                                                  [&#x27;Age&#x27;, &#x27;Fare&#x27;, &#x27;Pclass&#x27;]),\n",
       "                                                 (&#x27;cat&#x27;,\n",
       "                                                  Pipeline(steps=[(&#x27;imputer&#x27;,\n",
       "                                                                   SimpleImputer(strategy=&#x27;most_frequent&#x27;)),\n",
       "                                                                  (&#x27;encoder&#x27;,\n",
       "                                                                   OneHotEncoder(drop=&#x27;first&#x27;))]),\n",
       "                                                  [&#x27;Embarked&#x27;, &#x27;Sex&#x27;])])),\n",
       "                (&#x27;model&#x27;, LogisticRegression())])</pre></div></div></div><div class=\"sk-serial\"><div class=\"sk-item sk-dashed-wrapped\"><div class=\"sk-label-container\"><div class=\"sk-label sk-toggleable\"><input class=\"sk-toggleable__control sk-hidden--visually\" id=\"sk-estimator-id-22\" type=\"checkbox\" ><label for=\"sk-estimator-id-22\" class=\"sk-toggleable__label sk-toggleable__label-arrow\">preprocessor: ColumnTransformer</label><div class=\"sk-toggleable__content\"><pre>ColumnTransformer(transformers=[(&#x27;num&#x27;,\n",
       "                                 Pipeline(steps=[(&#x27;imputer&#x27;, SimpleImputer()),\n",
       "                                                 (&#x27;power_transformer&#x27;,\n",
       "                                                  PowerTransformer()),\n",
       "                                                 (&#x27;scaler&#x27;, StandardScaler())]),\n",
       "                                 [&#x27;Age&#x27;, &#x27;Fare&#x27;, &#x27;Pclass&#x27;]),\n",
       "                                (&#x27;cat&#x27;,\n",
       "                                 Pipeline(steps=[(&#x27;imputer&#x27;,\n",
       "                                                  SimpleImputer(strategy=&#x27;most_frequent&#x27;)),\n",
       "                                                 (&#x27;encoder&#x27;,\n",
       "                                                  OneHotEncoder(drop=&#x27;first&#x27;))]),\n",
       "                                 [&#x27;Embarked&#x27;, &#x27;Sex&#x27;])])</pre></div></div></div><div class=\"sk-parallel\"><div class=\"sk-parallel-item\"><div class=\"sk-item\"><div class=\"sk-label-container\"><div class=\"sk-label sk-toggleable\"><input class=\"sk-toggleable__control sk-hidden--visually\" id=\"sk-estimator-id-23\" type=\"checkbox\" ><label for=\"sk-estimator-id-23\" class=\"sk-toggleable__label sk-toggleable__label-arrow\">num</label><div class=\"sk-toggleable__content\"><pre>[&#x27;Age&#x27;, &#x27;Fare&#x27;, &#x27;Pclass&#x27;]</pre></div></div></div><div class=\"sk-serial\"><div class=\"sk-item\"><div class=\"sk-serial\"><div class=\"sk-item\"><div class=\"sk-estimator sk-toggleable\"><input class=\"sk-toggleable__control sk-hidden--visually\" id=\"sk-estimator-id-24\" type=\"checkbox\" ><label for=\"sk-estimator-id-24\" class=\"sk-toggleable__label sk-toggleable__label-arrow\">SimpleImputer</label><div class=\"sk-toggleable__content\"><pre>SimpleImputer()</pre></div></div></div><div class=\"sk-item\"><div class=\"sk-estimator sk-toggleable\"><input class=\"sk-toggleable__control sk-hidden--visually\" id=\"sk-estimator-id-25\" type=\"checkbox\" ><label for=\"sk-estimator-id-25\" class=\"sk-toggleable__label sk-toggleable__label-arrow\">PowerTransformer</label><div class=\"sk-toggleable__content\"><pre>PowerTransformer()</pre></div></div></div><div class=\"sk-item\"><div class=\"sk-estimator sk-toggleable\"><input class=\"sk-toggleable__control sk-hidden--visually\" id=\"sk-estimator-id-26\" type=\"checkbox\" ><label for=\"sk-estimator-id-26\" class=\"sk-toggleable__label sk-toggleable__label-arrow\">StandardScaler</label><div class=\"sk-toggleable__content\"><pre>StandardScaler()</pre></div></div></div></div></div></div></div></div><div class=\"sk-parallel-item\"><div class=\"sk-item\"><div class=\"sk-label-container\"><div class=\"sk-label sk-toggleable\"><input class=\"sk-toggleable__control sk-hidden--visually\" id=\"sk-estimator-id-27\" type=\"checkbox\" ><label for=\"sk-estimator-id-27\" class=\"sk-toggleable__label sk-toggleable__label-arrow\">cat</label><div class=\"sk-toggleable__content\"><pre>[&#x27;Embarked&#x27;, &#x27;Sex&#x27;]</pre></div></div></div><div class=\"sk-serial\"><div class=\"sk-item\"><div class=\"sk-serial\"><div class=\"sk-item\"><div class=\"sk-estimator sk-toggleable\"><input class=\"sk-toggleable__control sk-hidden--visually\" id=\"sk-estimator-id-28\" type=\"checkbox\" ><label for=\"sk-estimator-id-28\" class=\"sk-toggleable__label sk-toggleable__label-arrow\">SimpleImputer</label><div class=\"sk-toggleable__content\"><pre>SimpleImputer(strategy=&#x27;most_frequent&#x27;)</pre></div></div></div><div class=\"sk-item\"><div class=\"sk-estimator sk-toggleable\"><input class=\"sk-toggleable__control sk-hidden--visually\" id=\"sk-estimator-id-29\" type=\"checkbox\" ><label for=\"sk-estimator-id-29\" class=\"sk-toggleable__label sk-toggleable__label-arrow\">OneHotEncoder</label><div class=\"sk-toggleable__content\"><pre>OneHotEncoder(drop=&#x27;first&#x27;)</pre></div></div></div></div></div></div></div></div></div></div><div class=\"sk-item\"><div class=\"sk-estimator sk-toggleable\"><input class=\"sk-toggleable__control sk-hidden--visually\" id=\"sk-estimator-id-30\" type=\"checkbox\" ><label for=\"sk-estimator-id-30\" class=\"sk-toggleable__label sk-toggleable__label-arrow\">LogisticRegression</label><div class=\"sk-toggleable__content\"><pre>LogisticRegression()</pre></div></div></div></div></div></div></div>"
      ],
      "text/plain": [
       "Pipeline(steps=[('preprocessor',\n",
       "                 ColumnTransformer(transformers=[('num',\n",
       "                                                  Pipeline(steps=[('imputer',\n",
       "                                                                   SimpleImputer()),\n",
       "                                                                  ('power_transformer',\n",
       "                                                                   PowerTransformer()),\n",
       "                                                                  ('scaler',\n",
       "                                                                   StandardScaler())]),\n",
       "                                                  ['Age', 'Fare', 'Pclass']),\n",
       "                                                 ('cat',\n",
       "                                                  Pipeline(steps=[('imputer',\n",
       "                                                                   SimpleImputer(strategy='most_frequent')),\n",
       "                                                                  ('encoder',\n",
       "                                                                   OneHotEncoder(drop='first'))]),\n",
       "                                                  ['Embarked', 'Sex'])])),\n",
       "                ('model', LogisticRegression())])"
      ]
     },
     "execution_count": 20,
     "metadata": {},
     "output_type": "execute_result"
    }
   ],
   "source": [
    "pipeline.fit(X_train, y_train)"
   ]
  },
  {
   "cell_type": "code",
   "execution_count": 21,
   "id": "fb89cd0b-efec-41c7-b171-b3e023474859",
   "metadata": {},
   "outputs": [
    {
     "data": {
      "text/plain": [
       "array([1, 0, 1, 0, 0, 0, 1, 1, 1, 1, 1, 1, 1, 0, 1, 1, 1, 0, 0, 0, 1, 1,\n",
       "       0, 0, 0, 0, 0, 1, 0, 0, 1, 1, 0, 0, 0, 0, 0, 0, 1, 0, 1, 0, 1, 0,\n",
       "       0, 0, 1, 0, 0, 1, 1, 1, 0, 0, 0, 0, 0, 0, 0, 0, 1, 1, 1, 1, 0, 0,\n",
       "       0, 0, 0, 1, 1, 0, 0, 0, 0, 0, 0, 0, 1, 1, 1, 0, 0, 0, 0, 0, 1, 0,\n",
       "       0, 0, 1, 0, 0, 0, 0, 0, 1, 1, 0, 1, 0, 0, 0, 1, 0, 0, 0, 0, 0, 1,\n",
       "       1, 0, 1, 0, 0, 0, 0, 0, 0, 1, 0, 0, 0, 0, 0, 0, 0, 0, 1, 0, 1, 0,\n",
       "       0, 1, 1, 0, 1, 1, 0, 1, 0, 1, 0, 1, 1, 0, 0, 0, 0, 1, 0, 0, 1, 0,\n",
       "       1, 0, 1, 1, 1, 1, 1, 0, 1, 1, 0, 1, 1, 0, 1, 0, 0, 0, 1, 0, 0, 0,\n",
       "       1, 0, 0, 1, 0, 0, 0, 1, 0, 1, 0, 1, 0, 1, 0, 0, 1, 0, 1, 1, 0, 0,\n",
       "       1, 0, 1, 1, 0, 0, 0, 0, 0, 1, 0, 0, 0, 1, 1, 0, 0, 0, 0, 0, 0, 0,\n",
       "       0, 0, 0, 0, 1, 0, 0, 0, 0, 1, 0, 0, 1, 0, 0, 0, 1, 0, 1, 0, 0, 0,\n",
       "       1, 0, 0, 0, 0, 1, 0, 0, 0, 0, 0, 0, 0, 1, 0, 1, 1, 1, 0, 0, 0, 0,\n",
       "       1, 1, 0, 1, 1, 1, 0, 0, 0, 1, 0, 1, 1, 1, 0, 0, 1, 0, 0, 1, 0, 1,\n",
       "       0, 0, 0, 1, 0, 1, 0, 1, 1, 0, 0, 0, 0, 1], dtype=int64)"
      ]
     },
     "execution_count": 21,
     "metadata": {},
     "output_type": "execute_result"
    }
   ],
   "source": [
    "pipeline.predict(X_test)"
   ]
  },
  {
   "cell_type": "code",
   "execution_count": 22,
   "id": "97295d6d-4d4c-4f6a-8a1a-661339f6ee6c",
   "metadata": {},
   "outputs": [
    {
     "data": {
      "text/plain": [
       "0.8033333333333333"
      ]
     },
     "execution_count": 22,
     "metadata": {},
     "output_type": "execute_result"
    }
   ],
   "source": [
    "y_pred = pipeline.predict(X_test)\n",
    "accuracy_score(y_test, y_pred)"
   ]
  },
  {
   "cell_type": "code",
   "execution_count": 23,
   "id": "67e85548-ccda-4284-9eca-0bdb93935019",
   "metadata": {},
   "outputs": [],
   "source": [
    "from sklearn.model_selection import GridSearchCV, KFold"
   ]
  },
  {
   "cell_type": "code",
   "execution_count": 24,
   "id": "13c3252d-b298-41d3-9f2a-a687dde16e40",
   "metadata": {},
   "outputs": [],
   "source": [
    "param_grid = {\n",
    "    'preprocessor__num__imputer__strategy': ['mean', 'median'],\n",
    "    'preprocessor__num__power_transformer': [PowerTransformer(), \"passthrough\"],\n",
    "    'preprocessor__num__scaler': [StandardScaler(), MinMaxScaler()],\n",
    "    'model__C': [0.1, 1, 2, 10]\n",
    "}"
   ]
  },
  {
   "cell_type": "code",
   "execution_count": 25,
   "id": "8d4463e2-eecc-4e44-90af-a08f8d2ebbf4",
   "metadata": {},
   "outputs": [
    {
     "data": {
      "text/html": [
       "<style>#sk-container-id-6 {color: black;}#sk-container-id-6 pre{padding: 0;}#sk-container-id-6 div.sk-toggleable {background-color: white;}#sk-container-id-6 label.sk-toggleable__label {cursor: pointer;display: block;width: 100%;margin-bottom: 0;padding: 0.3em;box-sizing: border-box;text-align: center;}#sk-container-id-6 label.sk-toggleable__label-arrow:before {content: \"▸\";float: left;margin-right: 0.25em;color: #696969;}#sk-container-id-6 label.sk-toggleable__label-arrow:hover:before {color: black;}#sk-container-id-6 div.sk-estimator:hover label.sk-toggleable__label-arrow:before {color: black;}#sk-container-id-6 div.sk-toggleable__content {max-height: 0;max-width: 0;overflow: hidden;text-align: left;background-color: #f0f8ff;}#sk-container-id-6 div.sk-toggleable__content pre {margin: 0.2em;color: black;border-radius: 0.25em;background-color: #f0f8ff;}#sk-container-id-6 input.sk-toggleable__control:checked~div.sk-toggleable__content {max-height: 200px;max-width: 100%;overflow: auto;}#sk-container-id-6 input.sk-toggleable__control:checked~label.sk-toggleable__label-arrow:before {content: \"▾\";}#sk-container-id-6 div.sk-estimator input.sk-toggleable__control:checked~label.sk-toggleable__label {background-color: #d4ebff;}#sk-container-id-6 div.sk-label input.sk-toggleable__control:checked~label.sk-toggleable__label {background-color: #d4ebff;}#sk-container-id-6 input.sk-hidden--visually {border: 0;clip: rect(1px 1px 1px 1px);clip: rect(1px, 1px, 1px, 1px);height: 1px;margin: -1px;overflow: hidden;padding: 0;position: absolute;width: 1px;}#sk-container-id-6 div.sk-estimator {font-family: monospace;background-color: #f0f8ff;border: 1px dotted black;border-radius: 0.25em;box-sizing: border-box;margin-bottom: 0.5em;}#sk-container-id-6 div.sk-estimator:hover {background-color: #d4ebff;}#sk-container-id-6 div.sk-parallel-item::after {content: \"\";width: 100%;border-bottom: 1px solid gray;flex-grow: 1;}#sk-container-id-6 div.sk-label:hover label.sk-toggleable__label {background-color: #d4ebff;}#sk-container-id-6 div.sk-serial::before {content: \"\";position: absolute;border-left: 1px solid gray;box-sizing: border-box;top: 0;bottom: 0;left: 50%;z-index: 0;}#sk-container-id-6 div.sk-serial {display: flex;flex-direction: column;align-items: center;background-color: white;padding-right: 0.2em;padding-left: 0.2em;position: relative;}#sk-container-id-6 div.sk-item {position: relative;z-index: 1;}#sk-container-id-6 div.sk-parallel {display: flex;align-items: stretch;justify-content: center;background-color: white;position: relative;}#sk-container-id-6 div.sk-item::before, #sk-container-id-6 div.sk-parallel-item::before {content: \"\";position: absolute;border-left: 1px solid gray;box-sizing: border-box;top: 0;bottom: 0;left: 50%;z-index: -1;}#sk-container-id-6 div.sk-parallel-item {display: flex;flex-direction: column;z-index: 1;position: relative;background-color: white;}#sk-container-id-6 div.sk-parallel-item:first-child::after {align-self: flex-end;width: 50%;}#sk-container-id-6 div.sk-parallel-item:last-child::after {align-self: flex-start;width: 50%;}#sk-container-id-6 div.sk-parallel-item:only-child::after {width: 0;}#sk-container-id-6 div.sk-dashed-wrapped {border: 1px dashed gray;margin: 0 0.4em 0.5em 0.4em;box-sizing: border-box;padding-bottom: 0.4em;background-color: white;}#sk-container-id-6 div.sk-label label {font-family: monospace;font-weight: bold;display: inline-block;line-height: 1.2em;}#sk-container-id-6 div.sk-label-container {text-align: center;}#sk-container-id-6 div.sk-container {/* jupyter's `normalize.less` sets `[hidden] { display: none; }` but bootstrap.min.css set `[hidden] { display: none !important; }` so we also need the `!important` here to be able to override the default hidden behavior on the sphinx rendered scikit-learn.org. See: https://github.com/scikit-learn/scikit-learn/issues/21755 */display: inline-block !important;position: relative;}#sk-container-id-6 div.sk-text-repr-fallback {display: none;}</style><div id=\"sk-container-id-6\" class=\"sk-top-container\"><div class=\"sk-text-repr-fallback\"><pre>GridSearchCV(cv=KFold(n_splits=10, random_state=None, shuffle=True),\n",
       "             estimator=Pipeline(steps=[(&#x27;preprocessor&#x27;,\n",
       "                                        ColumnTransformer(transformers=[(&#x27;num&#x27;,\n",
       "                                                                         Pipeline(steps=[(&#x27;imputer&#x27;,\n",
       "                                                                                          SimpleImputer()),\n",
       "                                                                                         (&#x27;power_transformer&#x27;,\n",
       "                                                                                          PowerTransformer()),\n",
       "                                                                                         (&#x27;scaler&#x27;,\n",
       "                                                                                          StandardScaler())]),\n",
       "                                                                         [&#x27;Age&#x27;,\n",
       "                                                                          &#x27;Fare&#x27;,\n",
       "                                                                          &#x27;Pclass&#x27;]),\n",
       "                                                                        (&#x27;cat&#x27;,\n",
       "                                                                         Pipeline(steps=[(&#x27;imputer&#x27;,\n",
       "                                                                                          SimpleImputer(strategy=&#x27;most_...\n",
       "                                                                                         (&#x27;encoder&#x27;,\n",
       "                                                                                          OneHotEncoder(drop=&#x27;first&#x27;))]),\n",
       "                                                                         [&#x27;Embarked&#x27;,\n",
       "                                                                          &#x27;Sex&#x27;])])),\n",
       "                                       (&#x27;model&#x27;, LogisticRegression())]),\n",
       "             n_jobs=-1,\n",
       "             param_grid={&#x27;model__C&#x27;: [0.1, 1, 2, 10],\n",
       "                         &#x27;preprocessor__num__imputer__strategy&#x27;: [&#x27;mean&#x27;,\n",
       "                                                                  &#x27;median&#x27;],\n",
       "                         &#x27;preprocessor__num__power_transformer&#x27;: [PowerTransformer(),\n",
       "                                                                  &#x27;passthrough&#x27;],\n",
       "                         &#x27;preprocessor__num__scaler&#x27;: [StandardScaler(),\n",
       "                                                       MinMaxScaler()]},\n",
       "             scoring=&#x27;accuracy&#x27;)</pre><b>In a Jupyter environment, please rerun this cell to show the HTML representation or trust the notebook. <br />On GitHub, the HTML representation is unable to render, please try loading this page with nbviewer.org.</b></div><div class=\"sk-container\" hidden><div class=\"sk-item sk-dashed-wrapped\"><div class=\"sk-label-container\"><div class=\"sk-label sk-toggleable\"><input class=\"sk-toggleable__control sk-hidden--visually\" id=\"sk-estimator-id-31\" type=\"checkbox\" ><label for=\"sk-estimator-id-31\" class=\"sk-toggleable__label sk-toggleable__label-arrow\">GridSearchCV</label><div class=\"sk-toggleable__content\"><pre>GridSearchCV(cv=KFold(n_splits=10, random_state=None, shuffle=True),\n",
       "             estimator=Pipeline(steps=[(&#x27;preprocessor&#x27;,\n",
       "                                        ColumnTransformer(transformers=[(&#x27;num&#x27;,\n",
       "                                                                         Pipeline(steps=[(&#x27;imputer&#x27;,\n",
       "                                                                                          SimpleImputer()),\n",
       "                                                                                         (&#x27;power_transformer&#x27;,\n",
       "                                                                                          PowerTransformer()),\n",
       "                                                                                         (&#x27;scaler&#x27;,\n",
       "                                                                                          StandardScaler())]),\n",
       "                                                                         [&#x27;Age&#x27;,\n",
       "                                                                          &#x27;Fare&#x27;,\n",
       "                                                                          &#x27;Pclass&#x27;]),\n",
       "                                                                        (&#x27;cat&#x27;,\n",
       "                                                                         Pipeline(steps=[(&#x27;imputer&#x27;,\n",
       "                                                                                          SimpleImputer(strategy=&#x27;most_...\n",
       "                                                                                         (&#x27;encoder&#x27;,\n",
       "                                                                                          OneHotEncoder(drop=&#x27;first&#x27;))]),\n",
       "                                                                         [&#x27;Embarked&#x27;,\n",
       "                                                                          &#x27;Sex&#x27;])])),\n",
       "                                       (&#x27;model&#x27;, LogisticRegression())]),\n",
       "             n_jobs=-1,\n",
       "             param_grid={&#x27;model__C&#x27;: [0.1, 1, 2, 10],\n",
       "                         &#x27;preprocessor__num__imputer__strategy&#x27;: [&#x27;mean&#x27;,\n",
       "                                                                  &#x27;median&#x27;],\n",
       "                         &#x27;preprocessor__num__power_transformer&#x27;: [PowerTransformer(),\n",
       "                                                                  &#x27;passthrough&#x27;],\n",
       "                         &#x27;preprocessor__num__scaler&#x27;: [StandardScaler(),\n",
       "                                                       MinMaxScaler()]},\n",
       "             scoring=&#x27;accuracy&#x27;)</pre></div></div></div><div class=\"sk-parallel\"><div class=\"sk-parallel-item\"><div class=\"sk-item\"><div class=\"sk-label-container\"><div class=\"sk-label sk-toggleable\"><input class=\"sk-toggleable__control sk-hidden--visually\" id=\"sk-estimator-id-32\" type=\"checkbox\" ><label for=\"sk-estimator-id-32\" class=\"sk-toggleable__label sk-toggleable__label-arrow\">estimator: Pipeline</label><div class=\"sk-toggleable__content\"><pre>Pipeline(steps=[(&#x27;preprocessor&#x27;,\n",
       "                 ColumnTransformer(transformers=[(&#x27;num&#x27;,\n",
       "                                                  Pipeline(steps=[(&#x27;imputer&#x27;,\n",
       "                                                                   SimpleImputer()),\n",
       "                                                                  (&#x27;power_transformer&#x27;,\n",
       "                                                                   PowerTransformer()),\n",
       "                                                                  (&#x27;scaler&#x27;,\n",
       "                                                                   StandardScaler())]),\n",
       "                                                  [&#x27;Age&#x27;, &#x27;Fare&#x27;, &#x27;Pclass&#x27;]),\n",
       "                                                 (&#x27;cat&#x27;,\n",
       "                                                  Pipeline(steps=[(&#x27;imputer&#x27;,\n",
       "                                                                   SimpleImputer(strategy=&#x27;most_frequent&#x27;)),\n",
       "                                                                  (&#x27;encoder&#x27;,\n",
       "                                                                   OneHotEncoder(drop=&#x27;first&#x27;))]),\n",
       "                                                  [&#x27;Embarked&#x27;, &#x27;Sex&#x27;])])),\n",
       "                (&#x27;model&#x27;, LogisticRegression())])</pre></div></div></div><div class=\"sk-serial\"><div class=\"sk-item\"><div class=\"sk-serial\"><div class=\"sk-item sk-dashed-wrapped\"><div class=\"sk-label-container\"><div class=\"sk-label sk-toggleable\"><input class=\"sk-toggleable__control sk-hidden--visually\" id=\"sk-estimator-id-33\" type=\"checkbox\" ><label for=\"sk-estimator-id-33\" class=\"sk-toggleable__label sk-toggleable__label-arrow\">preprocessor: ColumnTransformer</label><div class=\"sk-toggleable__content\"><pre>ColumnTransformer(transformers=[(&#x27;num&#x27;,\n",
       "                                 Pipeline(steps=[(&#x27;imputer&#x27;, SimpleImputer()),\n",
       "                                                 (&#x27;power_transformer&#x27;,\n",
       "                                                  PowerTransformer()),\n",
       "                                                 (&#x27;scaler&#x27;, StandardScaler())]),\n",
       "                                 [&#x27;Age&#x27;, &#x27;Fare&#x27;, &#x27;Pclass&#x27;]),\n",
       "                                (&#x27;cat&#x27;,\n",
       "                                 Pipeline(steps=[(&#x27;imputer&#x27;,\n",
       "                                                  SimpleImputer(strategy=&#x27;most_frequent&#x27;)),\n",
       "                                                 (&#x27;encoder&#x27;,\n",
       "                                                  OneHotEncoder(drop=&#x27;first&#x27;))]),\n",
       "                                 [&#x27;Embarked&#x27;, &#x27;Sex&#x27;])])</pre></div></div></div><div class=\"sk-parallel\"><div class=\"sk-parallel-item\"><div class=\"sk-item\"><div class=\"sk-label-container\"><div class=\"sk-label sk-toggleable\"><input class=\"sk-toggleable__control sk-hidden--visually\" id=\"sk-estimator-id-34\" type=\"checkbox\" ><label for=\"sk-estimator-id-34\" class=\"sk-toggleable__label sk-toggleable__label-arrow\">num</label><div class=\"sk-toggleable__content\"><pre>[&#x27;Age&#x27;, &#x27;Fare&#x27;, &#x27;Pclass&#x27;]</pre></div></div></div><div class=\"sk-serial\"><div class=\"sk-item\"><div class=\"sk-serial\"><div class=\"sk-item\"><div class=\"sk-estimator sk-toggleable\"><input class=\"sk-toggleable__control sk-hidden--visually\" id=\"sk-estimator-id-35\" type=\"checkbox\" ><label for=\"sk-estimator-id-35\" class=\"sk-toggleable__label sk-toggleable__label-arrow\">SimpleImputer</label><div class=\"sk-toggleable__content\"><pre>SimpleImputer()</pre></div></div></div><div class=\"sk-item\"><div class=\"sk-estimator sk-toggleable\"><input class=\"sk-toggleable__control sk-hidden--visually\" id=\"sk-estimator-id-36\" type=\"checkbox\" ><label for=\"sk-estimator-id-36\" class=\"sk-toggleable__label sk-toggleable__label-arrow\">PowerTransformer</label><div class=\"sk-toggleable__content\"><pre>PowerTransformer()</pre></div></div></div><div class=\"sk-item\"><div class=\"sk-estimator sk-toggleable\"><input class=\"sk-toggleable__control sk-hidden--visually\" id=\"sk-estimator-id-37\" type=\"checkbox\" ><label for=\"sk-estimator-id-37\" class=\"sk-toggleable__label sk-toggleable__label-arrow\">StandardScaler</label><div class=\"sk-toggleable__content\"><pre>StandardScaler()</pre></div></div></div></div></div></div></div></div><div class=\"sk-parallel-item\"><div class=\"sk-item\"><div class=\"sk-label-container\"><div class=\"sk-label sk-toggleable\"><input class=\"sk-toggleable__control sk-hidden--visually\" id=\"sk-estimator-id-38\" type=\"checkbox\" ><label for=\"sk-estimator-id-38\" class=\"sk-toggleable__label sk-toggleable__label-arrow\">cat</label><div class=\"sk-toggleable__content\"><pre>[&#x27;Embarked&#x27;, &#x27;Sex&#x27;]</pre></div></div></div><div class=\"sk-serial\"><div class=\"sk-item\"><div class=\"sk-serial\"><div class=\"sk-item\"><div class=\"sk-estimator sk-toggleable\"><input class=\"sk-toggleable__control sk-hidden--visually\" id=\"sk-estimator-id-39\" type=\"checkbox\" ><label for=\"sk-estimator-id-39\" class=\"sk-toggleable__label sk-toggleable__label-arrow\">SimpleImputer</label><div class=\"sk-toggleable__content\"><pre>SimpleImputer(strategy=&#x27;most_frequent&#x27;)</pre></div></div></div><div class=\"sk-item\"><div class=\"sk-estimator sk-toggleable\"><input class=\"sk-toggleable__control sk-hidden--visually\" id=\"sk-estimator-id-40\" type=\"checkbox\" ><label for=\"sk-estimator-id-40\" class=\"sk-toggleable__label sk-toggleable__label-arrow\">OneHotEncoder</label><div class=\"sk-toggleable__content\"><pre>OneHotEncoder(drop=&#x27;first&#x27;)</pre></div></div></div></div></div></div></div></div></div></div><div class=\"sk-item\"><div class=\"sk-estimator sk-toggleable\"><input class=\"sk-toggleable__control sk-hidden--visually\" id=\"sk-estimator-id-41\" type=\"checkbox\" ><label for=\"sk-estimator-id-41\" class=\"sk-toggleable__label sk-toggleable__label-arrow\">LogisticRegression</label><div class=\"sk-toggleable__content\"><pre>LogisticRegression()</pre></div></div></div></div></div></div></div></div></div></div></div></div>"
      ],
      "text/plain": [
       "GridSearchCV(cv=KFold(n_splits=10, random_state=None, shuffle=True),\n",
       "             estimator=Pipeline(steps=[('preprocessor',\n",
       "                                        ColumnTransformer(transformers=[('num',\n",
       "                                                                         Pipeline(steps=[('imputer',\n",
       "                                                                                          SimpleImputer()),\n",
       "                                                                                         ('power_transformer',\n",
       "                                                                                          PowerTransformer()),\n",
       "                                                                                         ('scaler',\n",
       "                                                                                          StandardScaler())]),\n",
       "                                                                         ['Age',\n",
       "                                                                          'Fare',\n",
       "                                                                          'Pclass']),\n",
       "                                                                        ('cat',\n",
       "                                                                         Pipeline(steps=[('imputer',\n",
       "                                                                                          SimpleImputer(strategy='most_...\n",
       "                                                                                         ('encoder',\n",
       "                                                                                          OneHotEncoder(drop='first'))]),\n",
       "                                                                         ['Embarked',\n",
       "                                                                          'Sex'])])),\n",
       "                                       ('model', LogisticRegression())]),\n",
       "             n_jobs=-1,\n",
       "             param_grid={'model__C': [0.1, 1, 2, 10],\n",
       "                         'preprocessor__num__imputer__strategy': ['mean',\n",
       "                                                                  'median'],\n",
       "                         'preprocessor__num__power_transformer': [PowerTransformer(),\n",
       "                                                                  'passthrough'],\n",
       "                         'preprocessor__num__scaler': [StandardScaler(),\n",
       "                                                       MinMaxScaler()]},\n",
       "             scoring='accuracy')"
      ]
     },
     "execution_count": 25,
     "metadata": {},
     "output_type": "execute_result"
    }
   ],
   "source": [
    "cv = KFold(n_splits=10, shuffle=True)\n",
    "optimizer = GridSearchCV(pipeline, param_grid, cv=cv, scoring='accuracy', n_jobs=-1)\n",
    "optimizer.fit(X_train, y_train)"
   ]
  },
  {
   "cell_type": "code",
   "execution_count": 26,
   "id": "1badc323-3296-4e04-bb63-acee40940036",
   "metadata": {},
   "outputs": [
    {
     "data": {
      "text/plain": [
       "{'model__C': 10,\n",
       " 'preprocessor__num__imputer__strategy': 'mean',\n",
       " 'preprocessor__num__power_transformer': PowerTransformer(),\n",
       " 'preprocessor__num__scaler': StandardScaler()}"
      ]
     },
     "execution_count": 26,
     "metadata": {},
     "output_type": "execute_result"
    }
   ],
   "source": [
    "optimizer.best_params_"
   ]
  },
  {
   "cell_type": "code",
   "execution_count": 27,
   "id": "9160f6ed-ac98-4e7c-9129-eb4e193ba5af",
   "metadata": {},
   "outputs": [
    {
     "data": {
      "text/plain": [
       "0.8033333333333333"
      ]
     },
     "execution_count": 27,
     "metadata": {},
     "output_type": "execute_result"
    }
   ],
   "source": [
    "accuracy_score(y_test, optimizer.best_estimator_.predict(X_test))"
   ]
  },
  {
   "cell_type": "code",
   "execution_count": 28,
   "id": "54923e28-6874-4c5a-81a4-a37efc024108",
   "metadata": {},
   "outputs": [],
   "source": [
    "from sklearn.base import BaseEstimator, TransformerMixin"
   ]
  },
  {
   "cell_type": "code",
   "execution_count": 29,
   "id": "c04e55b7-9a2f-446d-8b81-a745a574b956",
   "metadata": {},
   "outputs": [],
   "source": [
    "import numpy as np\n",
    "\n",
    "A = np.array([[1, 13],\n",
    "              [2,  7]])\n"
   ]
  },
  {
   "cell_type": "code",
   "execution_count": 30,
   "id": "6aa2e5bc-ccdf-491a-bce7-a13cf4f0b465",
   "metadata": {},
   "outputs": [],
   "source": [
    "from sklearn.base import OneToOneFeatureMixin"
   ]
  },
  {
   "cell_type": "code",
   "execution_count": 53,
   "id": "339ea456-1f5e-421c-a0d9-7af746843d67",
   "metadata": {},
   "outputs": [],
   "source": [
    "class MyStandardScaler(OneToOneFeatureMixin, BaseEstimator, TransformerMixin):\n",
    "\n",
    "    def __init__(self, with_mean=True):\n",
    "        self.with_mean = with_mean\n",
    "\n",
    "    def fit(self, X, y=None): # Gromadzenie informacji\n",
    "        self._validate_data(X, y)\n",
    "        self._save_info_about_input(X, y)\n",
    "        self._caluculate_stats(X)\n",
    "        return self\n",
    "\n",
    "    def _save_info_about_input(self, X, y=None):\n",
    "        self.n_features_in_ = X.shape[1]\n",
    "        if isinstance(X, pd.DataFrame):\n",
    "            self.feature_names_in_ = X.columns\n",
    "\n",
    "    def _caluculate_stats(self, X):\n",
    "        if self.with_mean:\n",
    "            self.means_ = X.mean(axis=0)\n",
    "        self.stds_ = X.std(axis=0)\n",
    "\n",
    "    def transform(self, X): # Wykonanie transformacji\n",
    "        self._validate_data(X, y)\n",
    "        if X.shape[1] !=self.n_features_in_:\n",
    "            raise ValueError(\"Wrong number of columns\")\n",
    "        if self.with_mean:\n",
    "            return (X - self.means_) / self.stds_\n",
    "        else: \n",
    "            return X / self.stds_\n",
    "\n",
    "    def _validate_data():\n",
    "        if not isinstance(X, (pd.DataFrame, np.ndarray)):\n",
    "            raise ValueError('X must bu ndarray or data frame')\n",
    "\n",
    "    "
   ]
  },
  {
   "cell_type": "code",
   "execution_count": 35,
   "id": "6bdbfb76-24ca-4dba-9693-5ad7978d8be0",
   "metadata": {},
   "outputs": [],
   "source": [
    "scaler = MyStandardScaler()\n"
   ]
  },
  {
   "cell_type": "code",
   "execution_count": 36,
   "id": "6a5465f6-59c9-4cc0-82e7-fa6f705cc703",
   "metadata": {},
   "outputs": [
    {
     "data": {
      "text/html": [
       "<style>#sk-container-id-7 {color: black;}#sk-container-id-7 pre{padding: 0;}#sk-container-id-7 div.sk-toggleable {background-color: white;}#sk-container-id-7 label.sk-toggleable__label {cursor: pointer;display: block;width: 100%;margin-bottom: 0;padding: 0.3em;box-sizing: border-box;text-align: center;}#sk-container-id-7 label.sk-toggleable__label-arrow:before {content: \"▸\";float: left;margin-right: 0.25em;color: #696969;}#sk-container-id-7 label.sk-toggleable__label-arrow:hover:before {color: black;}#sk-container-id-7 div.sk-estimator:hover label.sk-toggleable__label-arrow:before {color: black;}#sk-container-id-7 div.sk-toggleable__content {max-height: 0;max-width: 0;overflow: hidden;text-align: left;background-color: #f0f8ff;}#sk-container-id-7 div.sk-toggleable__content pre {margin: 0.2em;color: black;border-radius: 0.25em;background-color: #f0f8ff;}#sk-container-id-7 input.sk-toggleable__control:checked~div.sk-toggleable__content {max-height: 200px;max-width: 100%;overflow: auto;}#sk-container-id-7 input.sk-toggleable__control:checked~label.sk-toggleable__label-arrow:before {content: \"▾\";}#sk-container-id-7 div.sk-estimator input.sk-toggleable__control:checked~label.sk-toggleable__label {background-color: #d4ebff;}#sk-container-id-7 div.sk-label input.sk-toggleable__control:checked~label.sk-toggleable__label {background-color: #d4ebff;}#sk-container-id-7 input.sk-hidden--visually {border: 0;clip: rect(1px 1px 1px 1px);clip: rect(1px, 1px, 1px, 1px);height: 1px;margin: -1px;overflow: hidden;padding: 0;position: absolute;width: 1px;}#sk-container-id-7 div.sk-estimator {font-family: monospace;background-color: #f0f8ff;border: 1px dotted black;border-radius: 0.25em;box-sizing: border-box;margin-bottom: 0.5em;}#sk-container-id-7 div.sk-estimator:hover {background-color: #d4ebff;}#sk-container-id-7 div.sk-parallel-item::after {content: \"\";width: 100%;border-bottom: 1px solid gray;flex-grow: 1;}#sk-container-id-7 div.sk-label:hover label.sk-toggleable__label {background-color: #d4ebff;}#sk-container-id-7 div.sk-serial::before {content: \"\";position: absolute;border-left: 1px solid gray;box-sizing: border-box;top: 0;bottom: 0;left: 50%;z-index: 0;}#sk-container-id-7 div.sk-serial {display: flex;flex-direction: column;align-items: center;background-color: white;padding-right: 0.2em;padding-left: 0.2em;position: relative;}#sk-container-id-7 div.sk-item {position: relative;z-index: 1;}#sk-container-id-7 div.sk-parallel {display: flex;align-items: stretch;justify-content: center;background-color: white;position: relative;}#sk-container-id-7 div.sk-item::before, #sk-container-id-7 div.sk-parallel-item::before {content: \"\";position: absolute;border-left: 1px solid gray;box-sizing: border-box;top: 0;bottom: 0;left: 50%;z-index: -1;}#sk-container-id-7 div.sk-parallel-item {display: flex;flex-direction: column;z-index: 1;position: relative;background-color: white;}#sk-container-id-7 div.sk-parallel-item:first-child::after {align-self: flex-end;width: 50%;}#sk-container-id-7 div.sk-parallel-item:last-child::after {align-self: flex-start;width: 50%;}#sk-container-id-7 div.sk-parallel-item:only-child::after {width: 0;}#sk-container-id-7 div.sk-dashed-wrapped {border: 1px dashed gray;margin: 0 0.4em 0.5em 0.4em;box-sizing: border-box;padding-bottom: 0.4em;background-color: white;}#sk-container-id-7 div.sk-label label {font-family: monospace;font-weight: bold;display: inline-block;line-height: 1.2em;}#sk-container-id-7 div.sk-label-container {text-align: center;}#sk-container-id-7 div.sk-container {/* jupyter's `normalize.less` sets `[hidden] { display: none; }` but bootstrap.min.css set `[hidden] { display: none !important; }` so we also need the `!important` here to be able to override the default hidden behavior on the sphinx rendered scikit-learn.org. See: https://github.com/scikit-learn/scikit-learn/issues/21755 */display: inline-block !important;position: relative;}#sk-container-id-7 div.sk-text-repr-fallback {display: none;}</style><div id=\"sk-container-id-7\" class=\"sk-top-container\"><div class=\"sk-text-repr-fallback\"><pre>MyStandardScaler()</pre><b>In a Jupyter environment, please rerun this cell to show the HTML representation or trust the notebook. <br />On GitHub, the HTML representation is unable to render, please try loading this page with nbviewer.org.</b></div><div class=\"sk-container\" hidden><div class=\"sk-item\"><div class=\"sk-estimator sk-toggleable\"><input class=\"sk-toggleable__control sk-hidden--visually\" id=\"sk-estimator-id-42\" type=\"checkbox\" checked><label for=\"sk-estimator-id-42\" class=\"sk-toggleable__label sk-toggleable__label-arrow\">MyStandardScaler</label><div class=\"sk-toggleable__content\"><pre>MyStandardScaler()</pre></div></div></div></div></div>"
      ],
      "text/plain": [
       "MyStandardScaler()"
      ]
     },
     "execution_count": 36,
     "metadata": {},
     "output_type": "execute_result"
    }
   ],
   "source": [
    "scaler.fit(A)"
   ]
  },
  {
   "cell_type": "code",
   "execution_count": 37,
   "id": "7310b890-fa00-4f33-bd6b-31608506e62e",
   "metadata": {},
   "outputs": [
    {
     "data": {
      "text/plain": [
       "(array([0.5, 3. ]), array([ 1.5, 10. ]))"
      ]
     },
     "execution_count": 37,
     "metadata": {},
     "output_type": "execute_result"
    }
   ],
   "source": [
    "scaler.stds_, scaler.means_"
   ]
  },
  {
   "cell_type": "code",
   "execution_count": 38,
   "id": "7b971c15-213e-4ac2-a4d1-6f92a379c1ec",
   "metadata": {},
   "outputs": [
    {
     "data": {
      "text/plain": [
       "array([[-1.,  1.],\n",
       "       [ 1., -1.]])"
      ]
     },
     "execution_count": 38,
     "metadata": {},
     "output_type": "execute_result"
    }
   ],
   "source": [
    "scaler.transform(A)"
   ]
  },
  {
   "cell_type": "code",
   "execution_count": 39,
   "id": "46017ee6-0f28-4071-b2e6-84bdae21bf9a",
   "metadata": {
    "scrolled": true
   },
   "outputs": [
    {
     "data": {
      "text/plain": [
       "array([[-1.,  1.],\n",
       "       [ 1., -1.]])"
      ]
     },
     "execution_count": 39,
     "metadata": {},
     "output_type": "execute_result"
    }
   ],
   "source": [
    "scaler = MyStandardScaler(with_mean=True)\n",
    "scaler.fit(A)\n",
    "scaler.transform(A)"
   ]
  },
  {
   "cell_type": "code",
   "execution_count": 40,
   "id": "d183c69c-e6e0-472f-adc4-c65098978738",
   "metadata": {},
   "outputs": [
    {
     "data": {
      "text/plain": [
       "array([[2.        , 4.33333333],\n",
       "       [4.        , 2.33333333]])"
      ]
     },
     "execution_count": 40,
     "metadata": {},
     "output_type": "execute_result"
    }
   ],
   "source": [
    "scaler = MyStandardScaler(with_mean=False)\n",
    "scaler.fit(A)\n",
    "scaler.fit_transform(A)"
   ]
  },
  {
   "cell_type": "code",
   "execution_count": 41,
   "id": "ef83e2ba-56c3-4e95-97ea-d1e9adbdcf57",
   "metadata": {},
   "outputs": [
    {
     "data": {
      "text/plain": [
       "{'with_mean': False}"
      ]
     },
     "execution_count": 41,
     "metadata": {},
     "output_type": "execute_result"
    }
   ],
   "source": [
    "scaler.get_params()"
   ]
  },
  {
   "cell_type": "code",
   "execution_count": 42,
   "id": "7a9402fe-20e5-4928-8f53-5a66212037f0",
   "metadata": {},
   "outputs": [
    {
     "data": {
      "text/plain": [
       "array([[1, 13],\n",
       "       [2, 7]], dtype=object)"
      ]
     },
     "execution_count": 42,
     "metadata": {},
     "output_type": "execute_result"
    }
   ],
   "source": [
    "scaler = MyStandardScaler(with_mean=False)\n",
    "scaler.fit(A)\n",
    "scaler.get_feature_names_out(A)"
   ]
  },
  {
   "cell_type": "code",
   "execution_count": 43,
   "id": "08b45e63-3c80-4879-95e8-edf9fc679f75",
   "metadata": {},
   "outputs": [
    {
     "data": {
      "text/plain": [
       "array([[1, 13],\n",
       "       [2, 7]], dtype=object)"
      ]
     },
     "execution_count": 43,
     "metadata": {},
     "output_type": "execute_result"
    }
   ],
   "source": [
    "scaler.get_feature_names_out(A)"
   ]
  },
  {
   "cell_type": "code",
   "execution_count": 44,
   "id": "e37635ba-63de-41b7-9c97-5b12657f41b7",
   "metadata": {},
   "outputs": [
    {
     "data": {
      "text/plain": [
       "2"
      ]
     },
     "execution_count": 44,
     "metadata": {},
     "output_type": "execute_result"
    }
   ],
   "source": [
    "A.shape[1]"
   ]
  },
  {
   "cell_type": "code",
   "execution_count": 45,
   "id": "82249880-da8d-434a-a16a-9310eaac6b17",
   "metadata": {},
   "outputs": [
    {
     "data": {
      "text/plain": [
       "array([[ 1, 13],\n",
       "       [ 2,  7]])"
      ]
     },
     "execution_count": 45,
     "metadata": {},
     "output_type": "execute_result"
    }
   ],
   "source": [
    "A"
   ]
  },
  {
   "cell_type": "code",
   "execution_count": 46,
   "id": "1722881a-8509-45a9-a60c-f5ee7c381e85",
   "metadata": {},
   "outputs": [
    {
     "data": {
      "text/plain": [
       "array([[1],\n",
       "       [2]])"
      ]
     },
     "execution_count": 46,
     "metadata": {},
     "output_type": "execute_result"
    }
   ],
   "source": [
    "B = np.array([[1], [2]])\n",
    "B"
   ]
  },
  {
   "cell_type": "code",
   "execution_count": 47,
   "id": "6f37f151-1999-4016-8353-7f63c2674eea",
   "metadata": {},
   "outputs": [
    {
     "data": {
      "text/plain": [
       "array([[2.],\n",
       "       [4.]])"
      ]
     },
     "execution_count": 47,
     "metadata": {},
     "output_type": "execute_result"
    }
   ],
   "source": [
    "scaler = MyStandardScaler(with_mean=False)\n",
    "scaler.fit(B)\n",
    "scaler.transform(B)"
   ]
  },
  {
   "cell_type": "code",
   "execution_count": 51,
   "id": "2d747545-abc3-4fff-be89-1a040c9f00b7",
   "metadata": {},
   "outputs": [
    {
     "data": {
      "text/plain": [
       "(array([[ 1, 13],\n",
       "        [ 2,  7]]),\n",
       "    0\n",
       " 0  1\n",
       " 1  2)"
      ]
     },
     "execution_count": 51,
     "metadata": {},
     "output_type": "execute_result"
    }
   ],
   "source": [
    "A, B"
   ]
  },
  {
   "cell_type": "code",
   "execution_count": 50,
   "id": "9b520414-1ea3-4bc5-b68e-e9fbdb9f0b57",
   "metadata": {},
   "outputs": [],
   "source": [
    "B = pd.DataFrame(B)"
   ]
  },
  {
   "cell_type": "code",
   "execution_count": 60,
   "id": "d7c24969-76ef-4ba6-94d1-164d97c1f32f",
   "metadata": {},
   "outputs": [],
   "source": [
    "class MyMinMaxScaler(BaseEstimator, TransformerMixin):\n",
    "\n",
    "    def __init__(self, feature_range=(0,1)):\n",
    "        self.feature_range = feature_range\n",
    "\n",
    "    def fit(self, X, y=None):\n",
    "        self.min_ = X.min(0)\n",
    "        self.max_ = X.max(0)\n",
    "        return self\n",
    "\n",
    "    def transform(self, X):\n",
    "        X_transformed = (X - self.min_) / (self.max_ - self.min_)\n",
    "        a, b = self.feature_range\n",
    "        X_transformed = X_transformed * (b - a) + a\n",
    "        return X_transformed"
   ]
  },
  {
   "cell_type": "code",
   "execution_count": 61,
   "id": "adb15dfb-ee4c-43bf-a9c5-0e361675e26c",
   "metadata": {},
   "outputs": [
    {
     "data": {
      "text/plain": [
       "array([[0., 1.],\n",
       "       [1., 0.]])"
      ]
     },
     "execution_count": 61,
     "metadata": {},
     "output_type": "execute_result"
    }
   ],
   "source": [
    "scaler = MyMinMaxScaler()\n",
    "scaler.fit(A)\n",
    "scaler.transform(A)"
   ]
  },
  {
   "cell_type": "code",
   "execution_count": 92,
   "id": "438bb4e1-dbc5-4cda-bb61-aacdb179478e",
   "metadata": {},
   "outputs": [],
   "source": [
    "A = X_train[['Pclass', 'Fare']]"
   ]
  },
  {
   "cell_type": "code",
   "execution_count": 114,
   "id": "e33ce0f3-01b8-412e-be29-31b9f575571c",
   "metadata": {},
   "outputs": [],
   "source": [
    "class SimpleRelationalImputer(BaseEstimator, TransformerMixin):\n",
    "\n",
    "    def __init__(self, grouping_column, fill_column):\n",
    "        self.grouping_column = grouping_column\n",
    "        self.fill_column = fill_column\n",
    "    \n",
    "    def fit(self, X, y=None):\n",
    "        self.fill_values_ = X.groupby(self.grouping_column)[self.fill_column].mean().to_dict()\n",
    "        return self\n",
    "\n",
    "    def transform(self, X):\n",
    "        mapping = X[self.grouping_column].replace(self.fill_values_)\n",
    "        return np.where(X[self.fill_column].isna(), mapping, X[self.fill_column])"
   ]
  },
  {
   "cell_type": "code",
   "execution_count": 115,
   "id": "b285add5-e897-46ad-a495-0457ef69846e",
   "metadata": {},
   "outputs": [
    {
     "data": {
      "text/plain": [
       "{1: 91.83782482269503, 2: 20.94138655462185, 3: 13.287737764350455}"
      ]
     },
     "execution_count": 115,
     "metadata": {},
     "output_type": "execute_result"
    }
   ],
   "source": [
    "imputer = SimpleRelationalImputer('Pclass', 'Fare')\n",
    "imputer.fit(A)\n",
    "imputer.fill_values_"
   ]
  },
  {
   "cell_type": "code",
   "execution_count": 116,
   "id": "ad7b36d0-d012-4c26-8931-95f8f837896a",
   "metadata": {},
   "outputs": [
    {
     "data": {
      "text/html": [
       "<div>\n",
       "<style scoped>\n",
       "    .dataframe tbody tr th:only-of-type {\n",
       "        vertical-align: middle;\n",
       "    }\n",
       "\n",
       "    .dataframe tbody tr th {\n",
       "        vertical-align: top;\n",
       "    }\n",
       "\n",
       "    .dataframe thead th {\n",
       "        text-align: right;\n",
       "    }\n",
       "</style>\n",
       "<table border=\"1\" class=\"dataframe\">\n",
       "  <thead>\n",
       "    <tr style=\"text-align: right;\">\n",
       "      <th></th>\n",
       "      <th>Pclass</th>\n",
       "      <th>Fare</th>\n",
       "    </tr>\n",
       "  </thead>\n",
       "  <tbody>\n",
       "    <tr>\n",
       "      <th>369</th>\n",
       "      <td>1</td>\n",
       "      <td>69.3</td>\n",
       "    </tr>\n",
       "    <tr>\n",
       "      <th>597</th>\n",
       "      <td>3</td>\n",
       "      <td>0.0</td>\n",
       "    </tr>\n",
       "    <tr>\n",
       "      <th>21</th>\n",
       "      <td>2</td>\n",
       "      <td>13.0</td>\n",
       "    </tr>\n",
       "    <tr>\n",
       "      <th>706</th>\n",
       "      <td>2</td>\n",
       "      <td>13.5</td>\n",
       "    </tr>\n",
       "    <tr>\n",
       "      <th>387</th>\n",
       "      <td>2</td>\n",
       "      <td>13.0</td>\n",
       "    </tr>\n",
       "  </tbody>\n",
       "</table>\n",
       "</div>"
      ],
      "text/plain": [
       "     Pclass  Fare\n",
       "369       1  69.3\n",
       "597       3   0.0\n",
       "21        2  13.0\n",
       "706       2  13.5\n",
       "387       2  13.0"
      ]
     },
     "execution_count": 116,
     "metadata": {},
     "output_type": "execute_result"
    }
   ],
   "source": [
    "imputer.transform(A)\n",
    "A.head()"
   ]
  },
  {
   "cell_type": "code",
   "execution_count": 118,
   "id": "a27e38f0-ff7f-4e08-9cfb-10be3ff014b3",
   "metadata": {},
   "outputs": [
    {
     "data": {
      "text/html": [
       "<div>\n",
       "<style scoped>\n",
       "    .dataframe tbody tr th:only-of-type {\n",
       "        vertical-align: middle;\n",
       "    }\n",
       "\n",
       "    .dataframe tbody tr th {\n",
       "        vertical-align: top;\n",
       "    }\n",
       "\n",
       "    .dataframe thead th {\n",
       "        text-align: right;\n",
       "    }\n",
       "</style>\n",
       "<table border=\"1\" class=\"dataframe\">\n",
       "  <thead>\n",
       "    <tr style=\"text-align: right;\">\n",
       "      <th></th>\n",
       "      <th>Pclass</th>\n",
       "      <th>Fare</th>\n",
       "    </tr>\n",
       "  </thead>\n",
       "  <tbody>\n",
       "  </tbody>\n",
       "</table>\n",
       "</div>"
      ],
      "text/plain": [
       "Empty DataFrame\n",
       "Columns: [Pclass, Fare]\n",
       "Index: []"
      ]
     },
     "execution_count": 118,
     "metadata": {},
     "output_type": "execute_result"
    }
   ],
   "source": [
    "A[A.Fare.isna()]"
   ]
  },
  {
   "cell_type": "code",
   "execution_count": 132,
   "id": "e1fd0be4-4fe4-452f-a8f9-d45dea5b74d4",
   "metadata": {},
   "outputs": [
    {
     "ename": "ValueError",
     "evalue": "\nAll the 320 fits failed.\nIt is very likely that your model is misconfigured.\nYou can try to debug the error by setting error_score='raise'.\n\nBelow are more details about the failures:\n--------------------------------------------------------------------------------\n32 fits failed with the following error:\nTraceback (most recent call last):\n  File \"C:\\Users\\AmanP\\PycharmProjects\\PodstawyPython\\github\\.venv\\lib\\site-packages\\sklearn\\compose\\_column_transformer.py\", line 681, in _fit_transform\n    return Parallel(n_jobs=self.n_jobs)(\n  File \"C:\\Users\\AmanP\\PycharmProjects\\PodstawyPython\\github\\.venv\\lib\\site-packages\\sklearn\\utils\\parallel.py\", line 65, in __call__\n    return super().__call__(iterable_with_config)\n  File \"C:\\Users\\AmanP\\PycharmProjects\\PodstawyPython\\github\\.venv\\lib\\site-packages\\joblib\\parallel.py\", line 1918, in __call__\n    return output if self.return_generator else list(output)\n  File \"C:\\Users\\AmanP\\PycharmProjects\\PodstawyPython\\github\\.venv\\lib\\site-packages\\joblib\\parallel.py\", line 1847, in _get_sequential_output\n    res = func(*args, **kwargs)\n  File \"C:\\Users\\AmanP\\PycharmProjects\\PodstawyPython\\github\\.venv\\lib\\site-packages\\sklearn\\utils\\parallel.py\", line 127, in __call__\n    return self.function(*args, **kwargs)\n  File \"C:\\Users\\AmanP\\PycharmProjects\\PodstawyPython\\github\\.venv\\lib\\site-packages\\sklearn\\pipeline.py\", line 957, in _fit_transform_one\n    res = transformer.fit_transform(X, y, **fit_params)\n  File \"C:\\Users\\AmanP\\PycharmProjects\\PodstawyPython\\github\\.venv\\lib\\site-packages\\sklearn\\base.py\", line 1152, in wrapper\n    return fit_method(estimator, *args, **kwargs)\n  File \"C:\\Users\\AmanP\\PycharmProjects\\PodstawyPython\\github\\.venv\\lib\\site-packages\\sklearn\\pipeline.py\", line 471, in fit_transform\n    Xt = self._fit(X, y, **fit_params_steps)\n  File \"C:\\Users\\AmanP\\PycharmProjects\\PodstawyPython\\github\\.venv\\lib\\site-packages\\sklearn\\pipeline.py\", line 377, in _fit\n    X, fitted_transformer = fit_transform_one_cached(\n  File \"C:\\Users\\AmanP\\PycharmProjects\\PodstawyPython\\github\\.venv\\lib\\site-packages\\joblib\\memory.py\", line 312, in __call__\n    return self.func(*args, **kwargs)\n  File \"C:\\Users\\AmanP\\PycharmProjects\\PodstawyPython\\github\\.venv\\lib\\site-packages\\sklearn\\pipeline.py\", line 957, in _fit_transform_one\n    res = transformer.fit_transform(X, y, **fit_params)\n  File \"C:\\Users\\AmanP\\PycharmProjects\\PodstawyPython\\github\\.venv\\lib\\site-packages\\sklearn\\utils\\_set_output.py\", line 157, in wrapped\n    data_to_wrap = f(self, X, *args, **kwargs)\n  File \"C:\\Users\\AmanP\\PycharmProjects\\PodstawyPython\\github\\.venv\\lib\\site-packages\\sklearn\\base.py\", line 1152, in wrapper\n    return fit_method(estimator, *args, **kwargs)\n  File \"C:\\Users\\AmanP\\PycharmProjects\\PodstawyPython\\github\\.venv\\lib\\site-packages\\sklearn\\preprocessing\\_data.py\", line 3142, in fit_transform\n    return self._fit(X, y, force_transform=True)\n  File \"C:\\Users\\AmanP\\PycharmProjects\\PodstawyPython\\github\\.venv\\lib\\site-packages\\sklearn\\preprocessing\\_data.py\", line 3145, in _fit\n    X = self._check_input(X, in_fit=True, check_positive=True)\n  File \"C:\\Users\\AmanP\\PycharmProjects\\PodstawyPython\\github\\.venv\\lib\\site-packages\\sklearn\\preprocessing\\_data.py\", line 3383, in _check_input\n    X = self._validate_data(\n  File \"C:\\Users\\AmanP\\PycharmProjects\\PodstawyPython\\github\\.venv\\lib\\site-packages\\sklearn\\base.py\", line 605, in _validate_data\n    out = check_array(X, input_name=\"X\", **check_params)\n  File \"C:\\Users\\AmanP\\PycharmProjects\\PodstawyPython\\github\\.venv\\lib\\site-packages\\sklearn\\utils\\validation.py\", line 938, in check_array\n    raise ValueError(\nValueError: Expected 2D array, got 1D array instead:\narray=[  0.      13.5     13.       8.05    14.5      9.5     16.1     13.\n  73.5     26.25     7.1417   8.3     13.4167   8.05     6.75    19.5\n   7.8542   8.0292  15.05    15.      30.5     30.0708   9.225   24.\n   7.8542   7.25    10.5     22.525   13.      10.5     61.3792  28.5\n   7.25    12.475    7.75     7.8958 108.9     15.5     83.1583  24.15\n   7.25     7.775  512.3292  15.55    90.     153.4625   7.8542   7.925\n  50.4958   7.75    15.85    21.       7.25    39.      12.875    8.05\n  26.55     7.8542   8.05    25.4667  14.4542 153.4625  27.9      7.925\n  13.8583  38.5      8.05   247.5208  16.     227.525    7.8958   7.5208\n  30.6958  15.5     20.575   30.5     26.      39.6     30.5     14.5\n   7.75    26.       7.8958  23.       7.7958  18.      35.5     27.7208\n   7.55     7.25    73.5      8.5167   7.725   26.       8.6625  56.9292\n  29.7     32.3208   8.05     8.6625  18.      21.075    6.2375  13.\n  10.4625   7.25    16.1     78.85    18.75     7.225    6.95   262.375\n 512.3292  69.55    26.55     7.75    20.25     7.775   52.      24.\n  27.7208   8.05     7.775   31.275    9.5    211.3375  26.       4.0125\n   7.8958   7.2292   7.8958  46.9     14.4583  10.5     16.1     14.4542\n   7.7333  69.55     9.825   17.8     56.4958   0.      29.125    0.\n  69.55     8.05    51.4792   7.8958   7.775   10.5     27.75    13.\n  26.55    26.     151.55    79.2     89.1042  30.5    211.3375  14.5\n 151.55     7.2292  26.      46.9     11.2417   7.8542  73.5      7.225\n   7.55    52.      12.2875   8.05     7.925    7.7375 120.       7.8958\n   7.8792   8.1125   0.      13.      26.      39.      79.2     22.025\n  10.5      9.8458  21.     110.8833   8.05     8.6625  13.      79.65\n   7.75    53.1      9.8375   7.8542 110.8833 263.       7.8958   7.925\n  52.5542   7.7958  10.5     14.4583  22.3583   7.8958   7.75     8.6625\n  10.5     31.3875   7.925   13.      16.1     12.35    75.25     7.4958\n   8.05     7.8958  49.5042  18.      16.1      7.925   41.5792  52.5542\n  15.5     51.8625  79.65    15.85    13.      36.75     8.05     7.125\n  80.      10.5     81.8583   8.05     7.925   20.525    7.8958 110.8833\n   8.05     7.925   57.       8.05    83.1583  10.5      9.5     11.5\n  16.1      0.      56.4958   0.       7.0458  31.3875   9.5     27.7208\n  26.      71.2833   7.4958   7.8958 133.65     7.75   164.8667  40.125\n   9.225   47.1     14.4583  23.25    26.       7.75     7.925   34.375\n   8.05    10.5     86.5      0.       0.      29.7      8.05    14.4\n   5.      13.      10.5     76.2917  26.       8.05     8.05     6.75\n   7.75     8.05    10.5      7.25    26.25     6.45    14.5      7.75\n   7.8958  52.     134.5      9.5     26.55     7.8792  21.      52.\n  26.      69.55    26.      25.925   53.1      7.875    8.05     9.35\n   8.05     7.8958  29.125   77.9583   7.925    9.5    211.3375  26.2833\n  26.       7.125   13.      10.5      7.775    8.85    31.      16.7\n   9.35    71.      10.4625  18.7875  27.7208   7.55     7.925    8.05\n 135.6333  15.5     26.      26.       7.6292 263.       7.05    20.575\n  26.55    15.7417   9.5      7.8542  18.75    26.55     7.775   27.9\n  26.       7.75    61.175    7.8958  23.       8.05     9.       9.5875\n  39.6875  52.       7.775  227.525   13.       7.8958  24.15    13.5\n 153.4625 113.275    7.05     8.6833   0.      14.5      8.6625  26.25\n  34.375   86.5      7.75    31.275   13.      19.9667  73.5     26.55\n   7.8958   7.8292   0.       7.4958  15.2458  27.9     15.85    11.1333\n   8.05    10.5     27.75    27.75    20.2125 211.5     46.9      7.0542\n  26.55   134.5     15.5     90.       7.75   263.      35.5     29.\n   7.8958   7.2292  90.      73.5     24.15     7.125   23.25    11.1333\n   7.2292  80.      15.5     34.375   24.15    27.9     76.7292  29.125\n  49.5042  26.      89.1042   7.8958   8.05    49.5    263.      15.2458\n   7.75    26.55     7.8542  10.5     79.65    14.5     26.      53.1\n   7.225   15.9     65.      13.7917   7.225    8.1583  34.0208  13.\n  10.5      8.05    71.       7.8      7.05    26.       7.2292 151.55\n  55.9    106.425   13.5     13.      26.55     6.975    7.8792  15.2458\n  30.     120.      33.       7.3125   6.4958  30.      26.       8.6625\n  77.9583   6.4375   0.      91.0792   7.7958  10.5      7.75    16.7\n  56.4958  13.      13.       8.05    10.5167   8.1375   8.05    78.85\n   6.8583  30.      13.       7.8792  69.55   227.525   26.      15.0458\n  25.4667  86.5     33.      30.      11.2417  26.      19.9667   7.925\n   7.75    41.5792   7.8958  16.1     69.55    35.5     25.4667  14.4542\n  90.     106.425   14.4542   7.75    39.6875   9.825   34.6542 512.3292\n   7.75     7.8542  13.       7.65    24.15    13.     262.375   12.35\n   7.925    7.25     7.75  ].\nReshape your data either using array.reshape(-1, 1) if your data has a single feature or array.reshape(1, -1) if it contains a single sample.\n\nThe above exception was the direct cause of the following exception:\n\nTraceback (most recent call last):\n  File \"C:\\Users\\AmanP\\PycharmProjects\\PodstawyPython\\github\\.venv\\lib\\site-packages\\sklearn\\model_selection\\_validation.py\", line 729, in _fit_and_score\n    estimator.fit(X_train, y_train, **fit_params)\n  File \"C:\\Users\\AmanP\\PycharmProjects\\PodstawyPython\\github\\.venv\\lib\\site-packages\\sklearn\\base.py\", line 1152, in wrapper\n    return fit_method(estimator, *args, **kwargs)\n  File \"C:\\Users\\AmanP\\PycharmProjects\\PodstawyPython\\github\\.venv\\lib\\site-packages\\sklearn\\pipeline.py\", line 423, in fit\n    Xt = self._fit(X, y, **fit_params_steps)\n  File \"C:\\Users\\AmanP\\PycharmProjects\\PodstawyPython\\github\\.venv\\lib\\site-packages\\sklearn\\pipeline.py\", line 377, in _fit\n    X, fitted_transformer = fit_transform_one_cached(\n  File \"C:\\Users\\AmanP\\PycharmProjects\\PodstawyPython\\github\\.venv\\lib\\site-packages\\joblib\\memory.py\", line 312, in __call__\n    return self.func(*args, **kwargs)\n  File \"C:\\Users\\AmanP\\PycharmProjects\\PodstawyPython\\github\\.venv\\lib\\site-packages\\sklearn\\pipeline.py\", line 957, in _fit_transform_one\n    res = transformer.fit_transform(X, y, **fit_params)\n  File \"C:\\Users\\AmanP\\PycharmProjects\\PodstawyPython\\github\\.venv\\lib\\site-packages\\sklearn\\utils\\_set_output.py\", line 157, in wrapped\n    data_to_wrap = f(self, X, *args, **kwargs)\n  File \"C:\\Users\\AmanP\\PycharmProjects\\PodstawyPython\\github\\.venv\\lib\\site-packages\\sklearn\\base.py\", line 1152, in wrapper\n    return fit_method(estimator, *args, **kwargs)\n  File \"C:\\Users\\AmanP\\PycharmProjects\\PodstawyPython\\github\\.venv\\lib\\site-packages\\sklearn\\compose\\_column_transformer.py\", line 754, in fit_transform\n    result = self._fit_transform(X, y, _fit_transform_one)\n  File \"C:\\Users\\AmanP\\PycharmProjects\\PodstawyPython\\github\\.venv\\lib\\site-packages\\sklearn\\compose\\_column_transformer.py\", line 694, in _fit_transform\n    raise ValueError(_ERR_MSG_1DCOLUMN) from e\nValueError: 1D data passed to a transformer that expects 2D data. Try to specify the column selection as a list of one item instead of a scalar.\n\n--------------------------------------------------------------------------------\n32 fits failed with the following error:\nTraceback (most recent call last):\n  File \"C:\\Users\\AmanP\\PycharmProjects\\PodstawyPython\\github\\.venv\\lib\\site-packages\\sklearn\\compose\\_column_transformer.py\", line 681, in _fit_transform\n    return Parallel(n_jobs=self.n_jobs)(\n  File \"C:\\Users\\AmanP\\PycharmProjects\\PodstawyPython\\github\\.venv\\lib\\site-packages\\sklearn\\utils\\parallel.py\", line 65, in __call__\n    return super().__call__(iterable_with_config)\n  File \"C:\\Users\\AmanP\\PycharmProjects\\PodstawyPython\\github\\.venv\\lib\\site-packages\\joblib\\parallel.py\", line 1918, in __call__\n    return output if self.return_generator else list(output)\n  File \"C:\\Users\\AmanP\\PycharmProjects\\PodstawyPython\\github\\.venv\\lib\\site-packages\\joblib\\parallel.py\", line 1847, in _get_sequential_output\n    res = func(*args, **kwargs)\n  File \"C:\\Users\\AmanP\\PycharmProjects\\PodstawyPython\\github\\.venv\\lib\\site-packages\\sklearn\\utils\\parallel.py\", line 127, in __call__\n    return self.function(*args, **kwargs)\n  File \"C:\\Users\\AmanP\\PycharmProjects\\PodstawyPython\\github\\.venv\\lib\\site-packages\\sklearn\\pipeline.py\", line 957, in _fit_transform_one\n    res = transformer.fit_transform(X, y, **fit_params)\n  File \"C:\\Users\\AmanP\\PycharmProjects\\PodstawyPython\\github\\.venv\\lib\\site-packages\\sklearn\\base.py\", line 1152, in wrapper\n    return fit_method(estimator, *args, **kwargs)\n  File \"C:\\Users\\AmanP\\PycharmProjects\\PodstawyPython\\github\\.venv\\lib\\site-packages\\sklearn\\pipeline.py\", line 471, in fit_transform\n    Xt = self._fit(X, y, **fit_params_steps)\n  File \"C:\\Users\\AmanP\\PycharmProjects\\PodstawyPython\\github\\.venv\\lib\\site-packages\\sklearn\\pipeline.py\", line 377, in _fit\n    X, fitted_transformer = fit_transform_one_cached(\n  File \"C:\\Users\\AmanP\\PycharmProjects\\PodstawyPython\\github\\.venv\\lib\\site-packages\\joblib\\memory.py\", line 312, in __call__\n    return self.func(*args, **kwargs)\n  File \"C:\\Users\\AmanP\\PycharmProjects\\PodstawyPython\\github\\.venv\\lib\\site-packages\\sklearn\\pipeline.py\", line 957, in _fit_transform_one\n    res = transformer.fit_transform(X, y, **fit_params)\n  File \"C:\\Users\\AmanP\\PycharmProjects\\PodstawyPython\\github\\.venv\\lib\\site-packages\\sklearn\\utils\\_set_output.py\", line 157, in wrapped\n    data_to_wrap = f(self, X, *args, **kwargs)\n  File \"C:\\Users\\AmanP\\PycharmProjects\\PodstawyPython\\github\\.venv\\lib\\site-packages\\sklearn\\base.py\", line 1152, in wrapper\n    return fit_method(estimator, *args, **kwargs)\n  File \"C:\\Users\\AmanP\\PycharmProjects\\PodstawyPython\\github\\.venv\\lib\\site-packages\\sklearn\\preprocessing\\_data.py\", line 3142, in fit_transform\n    return self._fit(X, y, force_transform=True)\n  File \"C:\\Users\\AmanP\\PycharmProjects\\PodstawyPython\\github\\.venv\\lib\\site-packages\\sklearn\\preprocessing\\_data.py\", line 3145, in _fit\n    X = self._check_input(X, in_fit=True, check_positive=True)\n  File \"C:\\Users\\AmanP\\PycharmProjects\\PodstawyPython\\github\\.venv\\lib\\site-packages\\sklearn\\preprocessing\\_data.py\", line 3383, in _check_input\n    X = self._validate_data(\n  File \"C:\\Users\\AmanP\\PycharmProjects\\PodstawyPython\\github\\.venv\\lib\\site-packages\\sklearn\\base.py\", line 605, in _validate_data\n    out = check_array(X, input_name=\"X\", **check_params)\n  File \"C:\\Users\\AmanP\\PycharmProjects\\PodstawyPython\\github\\.venv\\lib\\site-packages\\sklearn\\utils\\validation.py\", line 938, in check_array\n    raise ValueError(\nValueError: Expected 2D array, got 1D array instead:\narray=[ 69.3      0.      13.      13.       8.05    14.5      9.5      7.2292\n  16.1     73.5      7.1417   8.3     10.5      9.      13.4167   8.05\n   6.75    19.5      8.0292  15.05    15.      30.5      7.8958  30.0708\n   9.225   24.      10.5     22.525   13.      10.5     10.5     61.3792\n  28.5      7.25    13.     108.9     15.5      8.6625  83.1583  24.15\n   7.25     7.775  512.3292  90.     153.4625   7.8542   7.925   50.4958\n   7.55     7.75    15.85    39.       8.05    26.55     7.8958   7.8542\n   8.05    25.4667   7.225   14.4542 153.4625  27.9      7.925   30.6958\n  13.8583  10.5     38.5     13.       8.05   247.5208  16.     227.525\n   7.8958   7.5208  30.6958   7.925    7.7958  20.575   30.5     26.\n  39.6     30.5     14.5      7.75    26.       7.8958  23.       7.7958\n  18.      35.5      7.75    27.7208   7.55     7.25    73.5      8.5167\n   7.725   26.       8.6625   7.925   56.9292  29.7     32.3208   8.6625\n  18.      10.5      6.2375  13.      10.4625   7.25    16.1     78.85\n  18.75     7.225    6.95   262.375  512.3292  69.55    26.55     7.75\n  20.25     7.775   52.      27.7208   8.05     7.775   31.275    9.5\n 211.3375   4.0125   7.8958   7.2292   7.8958  46.9     14.4583  10.5\n  16.1     14.4542   7.7333  69.55    31.275    9.825   26.2875  31.275\n  17.8      7.125   56.4958   0.      29.125    0.      69.55    51.4792\n   7.8958  56.4958   7.775   10.5     27.75    13.      26.55    26.\n  79.2     89.1042  30.5    211.3375  14.5    151.55     7.2292   7.75\n  26.      46.9      8.05    11.2417   7.8542  73.5      7.225    7.55\n  52.      12.2875   8.05     7.925    7.7375  26.     120.       7.8958\n   7.8792   8.1125   0.      13.      26.      39.      79.2     22.025\n  10.5      9.8458 110.8833   8.05     8.6625  79.65    53.1      7.8542\n 263.       7.8958   7.925   52.5542   7.8958   7.7958  10.5     14.4583\n  22.3583   7.8958   7.75     8.6625  10.5     31.3875   7.925   13.\n  16.1     12.35    75.25     7.4958   8.05     7.775    7.8958  49.5042\n  18.      16.1      7.925   22.3583  41.5792  52.5542  15.5     51.8625\n  79.65    15.85    13.      36.75     8.05     7.125   10.5     81.8583\n  83.475    8.05     7.925    7.7333  20.525    7.8958   7.8542 110.8833\n   8.05     7.925   57.       8.05    10.1708   9.5      0.      56.4958\n   0.       7.0458  31.3875  26.      71.2833   7.225    7.8958   7.75\n 164.8667  40.125    9.225   47.1     14.4583  26.       7.75     7.925\n  34.375    8.05    10.5     86.5      0.       0.      29.7      8.05\n  14.4      5.      13.      10.5     76.2917  26.       8.05     8.05\n   6.75     7.75     8.05    10.5      7.25    26.25     6.45    14.5\n   7.75     7.8958  52.     134.5     26.55     7.8958  21.      52.\n  26.      69.55    26.      25.925   53.1      7.875    9.35     7.8958\n  29.125   77.9583   7.925    9.5    211.3375  26.2833  26.      13.\n  10.5      7.75     7.775    8.85    31.      16.7      9.35    71.\n  10.4625  18.7875 113.275    7.925    8.6625  27.7208   7.55    26.3875\n   7.925    8.05   135.6333  15.5     26.      26.       7.6292 263.\n  20.575   15.7417   9.5      7.8542  18.75    26.55     7.775   27.9\n  26.       7.75    61.175    7.8958   8.05     9.      39.6875  52.\n   7.775  227.525   13.       7.8958  24.15    13.5    153.4625   8.4042\n 113.275    9.5      7.05     0.      14.5      8.6625  26.25    34.375\n  76.7292  86.5      7.75    31.275   15.1     13.      19.9667  73.5\n  26.55     7.8958   7.8292   0.       7.4958  27.9     15.85    11.1333\n   8.05    10.5     27.75    27.75    20.2125 211.5     46.9     78.2667\n   7.0542  26.55   134.5     15.5     90.     263.      35.5     29.\n   7.8958   7.2292  90.      73.5     24.15     7.125   23.25    11.1333\n   7.2292   7.8542  80.      15.5     34.375   24.15    76.7292  29.125\n  49.5042  26.      89.1042   7.8958   8.05    49.5    263.      15.2458\n  26.55     7.8542   8.05     8.05    14.5     26.       7.225   15.9\n  65.      13.7917   7.225   79.2      8.1583  34.0208  13.      10.5\n   8.05    71.       7.8     59.4      7.05    26.       7.2292 151.55\n  55.9    106.425   13.5     13.      15.5     26.55     6.975    7.225\n  15.2458  30.     120.      33.       7.3125   6.4958  30.      26.\n   7.8958   8.6625  77.9583   6.4375   0.       7.7958  10.5      7.75\n  16.7     56.4958  13.      13.       8.05    10.5167   8.1375   6.8583\n  30.      13.       7.8792  69.55    26.      15.0458  25.4667  86.5\n  17.4     33.      11.2417  26.       7.925   19.9667  12.475   37.0042\n   7.925    7.75    41.5792   7.8958  16.1     69.55    35.5     25.4667\n  14.4542  90.     106.425   14.4542   7.75     9.825   34.6542 512.3292\n   7.75     7.8542  13.       7.65    24.15    13.     262.375   23.\n  12.35     7.925    7.25     7.75  ].\nReshape your data either using array.reshape(-1, 1) if your data has a single feature or array.reshape(1, -1) if it contains a single sample.\n\nThe above exception was the direct cause of the following exception:\n\nTraceback (most recent call last):\n  File \"C:\\Users\\AmanP\\PycharmProjects\\PodstawyPython\\github\\.venv\\lib\\site-packages\\sklearn\\model_selection\\_validation.py\", line 729, in _fit_and_score\n    estimator.fit(X_train, y_train, **fit_params)\n  File \"C:\\Users\\AmanP\\PycharmProjects\\PodstawyPython\\github\\.venv\\lib\\site-packages\\sklearn\\base.py\", line 1152, in wrapper\n    return fit_method(estimator, *args, **kwargs)\n  File \"C:\\Users\\AmanP\\PycharmProjects\\PodstawyPython\\github\\.venv\\lib\\site-packages\\sklearn\\pipeline.py\", line 423, in fit\n    Xt = self._fit(X, y, **fit_params_steps)\n  File \"C:\\Users\\AmanP\\PycharmProjects\\PodstawyPython\\github\\.venv\\lib\\site-packages\\sklearn\\pipeline.py\", line 377, in _fit\n    X, fitted_transformer = fit_transform_one_cached(\n  File \"C:\\Users\\AmanP\\PycharmProjects\\PodstawyPython\\github\\.venv\\lib\\site-packages\\joblib\\memory.py\", line 312, in __call__\n    return self.func(*args, **kwargs)\n  File \"C:\\Users\\AmanP\\PycharmProjects\\PodstawyPython\\github\\.venv\\lib\\site-packages\\sklearn\\pipeline.py\", line 957, in _fit_transform_one\n    res = transformer.fit_transform(X, y, **fit_params)\n  File \"C:\\Users\\AmanP\\PycharmProjects\\PodstawyPython\\github\\.venv\\lib\\site-packages\\sklearn\\utils\\_set_output.py\", line 157, in wrapped\n    data_to_wrap = f(self, X, *args, **kwargs)\n  File \"C:\\Users\\AmanP\\PycharmProjects\\PodstawyPython\\github\\.venv\\lib\\site-packages\\sklearn\\base.py\", line 1152, in wrapper\n    return fit_method(estimator, *args, **kwargs)\n  File \"C:\\Users\\AmanP\\PycharmProjects\\PodstawyPython\\github\\.venv\\lib\\site-packages\\sklearn\\compose\\_column_transformer.py\", line 754, in fit_transform\n    result = self._fit_transform(X, y, _fit_transform_one)\n  File \"C:\\Users\\AmanP\\PycharmProjects\\PodstawyPython\\github\\.venv\\lib\\site-packages\\sklearn\\compose\\_column_transformer.py\", line 694, in _fit_transform\n    raise ValueError(_ERR_MSG_1DCOLUMN) from e\nValueError: 1D data passed to a transformer that expects 2D data. Try to specify the column selection as a list of one item instead of a scalar.\n\n--------------------------------------------------------------------------------\n32 fits failed with the following error:\nTraceback (most recent call last):\n  File \"C:\\Users\\AmanP\\PycharmProjects\\PodstawyPython\\github\\.venv\\lib\\site-packages\\sklearn\\compose\\_column_transformer.py\", line 681, in _fit_transform\n    return Parallel(n_jobs=self.n_jobs)(\n  File \"C:\\Users\\AmanP\\PycharmProjects\\PodstawyPython\\github\\.venv\\lib\\site-packages\\sklearn\\utils\\parallel.py\", line 65, in __call__\n    return super().__call__(iterable_with_config)\n  File \"C:\\Users\\AmanP\\PycharmProjects\\PodstawyPython\\github\\.venv\\lib\\site-packages\\joblib\\parallel.py\", line 1918, in __call__\n    return output if self.return_generator else list(output)\n  File \"C:\\Users\\AmanP\\PycharmProjects\\PodstawyPython\\github\\.venv\\lib\\site-packages\\joblib\\parallel.py\", line 1847, in _get_sequential_output\n    res = func(*args, **kwargs)\n  File \"C:\\Users\\AmanP\\PycharmProjects\\PodstawyPython\\github\\.venv\\lib\\site-packages\\sklearn\\utils\\parallel.py\", line 127, in __call__\n    return self.function(*args, **kwargs)\n  File \"C:\\Users\\AmanP\\PycharmProjects\\PodstawyPython\\github\\.venv\\lib\\site-packages\\sklearn\\pipeline.py\", line 957, in _fit_transform_one\n    res = transformer.fit_transform(X, y, **fit_params)\n  File \"C:\\Users\\AmanP\\PycharmProjects\\PodstawyPython\\github\\.venv\\lib\\site-packages\\sklearn\\base.py\", line 1152, in wrapper\n    return fit_method(estimator, *args, **kwargs)\n  File \"C:\\Users\\AmanP\\PycharmProjects\\PodstawyPython\\github\\.venv\\lib\\site-packages\\sklearn\\pipeline.py\", line 471, in fit_transform\n    Xt = self._fit(X, y, **fit_params_steps)\n  File \"C:\\Users\\AmanP\\PycharmProjects\\PodstawyPython\\github\\.venv\\lib\\site-packages\\sklearn\\pipeline.py\", line 377, in _fit\n    X, fitted_transformer = fit_transform_one_cached(\n  File \"C:\\Users\\AmanP\\PycharmProjects\\PodstawyPython\\github\\.venv\\lib\\site-packages\\joblib\\memory.py\", line 312, in __call__\n    return self.func(*args, **kwargs)\n  File \"C:\\Users\\AmanP\\PycharmProjects\\PodstawyPython\\github\\.venv\\lib\\site-packages\\sklearn\\pipeline.py\", line 957, in _fit_transform_one\n    res = transformer.fit_transform(X, y, **fit_params)\n  File \"C:\\Users\\AmanP\\PycharmProjects\\PodstawyPython\\github\\.venv\\lib\\site-packages\\sklearn\\utils\\_set_output.py\", line 157, in wrapped\n    data_to_wrap = f(self, X, *args, **kwargs)\n  File \"C:\\Users\\AmanP\\PycharmProjects\\PodstawyPython\\github\\.venv\\lib\\site-packages\\sklearn\\base.py\", line 1152, in wrapper\n    return fit_method(estimator, *args, **kwargs)\n  File \"C:\\Users\\AmanP\\PycharmProjects\\PodstawyPython\\github\\.venv\\lib\\site-packages\\sklearn\\preprocessing\\_data.py\", line 3142, in fit_transform\n    return self._fit(X, y, force_transform=True)\n  File \"C:\\Users\\AmanP\\PycharmProjects\\PodstawyPython\\github\\.venv\\lib\\site-packages\\sklearn\\preprocessing\\_data.py\", line 3145, in _fit\n    X = self._check_input(X, in_fit=True, check_positive=True)\n  File \"C:\\Users\\AmanP\\PycharmProjects\\PodstawyPython\\github\\.venv\\lib\\site-packages\\sklearn\\preprocessing\\_data.py\", line 3383, in _check_input\n    X = self._validate_data(\n  File \"C:\\Users\\AmanP\\PycharmProjects\\PodstawyPython\\github\\.venv\\lib\\site-packages\\sklearn\\base.py\", line 605, in _validate_data\n    out = check_array(X, input_name=\"X\", **check_params)\n  File \"C:\\Users\\AmanP\\PycharmProjects\\PodstawyPython\\github\\.venv\\lib\\site-packages\\sklearn\\utils\\validation.py\", line 938, in check_array\n    raise ValueError(\nValueError: Expected 2D array, got 1D array instead:\narray=[ 69.3      0.      13.      13.5     13.       8.05    14.5      9.5\n   7.2292  16.1     13.      73.5     26.25     7.1417   8.3     10.5\n   9.       8.05     6.75    19.5      7.8542   8.0292  15.      30.5\n   7.8958   9.225   24.       7.8542   7.25    10.5     13.      10.5\n  10.5      7.25    12.475    7.75     7.8958  13.     108.9     15.5\n   8.6625  83.1583  24.15     7.25     7.775  512.3292  15.55    90.\n 153.4625   7.8542   7.925   50.4958   7.55     7.75    15.85    21.\n   7.25    39.      12.875    8.05    26.55     7.8958   7.8542   8.05\n  25.4667   7.225   14.4542 153.4625  27.9      7.925   30.6958  13.8583\n  10.5     38.5     13.       8.05    16.     227.525    7.8958   7.5208\n  30.6958   7.925    7.7958  15.5     20.575   30.5     26.      39.6\n  30.5     26.       7.8958  23.       7.7958  18.       7.75    27.7208\n   7.55     7.25    73.5      8.5167   7.725   26.       8.6625   7.925\n  56.9292  29.7     32.3208   8.05     8.6625  18.      21.075   10.5\n   6.2375  13.      10.4625   7.25    16.1     78.85    18.75     6.95\n 262.375  512.3292  69.55    26.55     7.75    20.25     7.775   52.\n  24.      27.7208   8.05     7.775   31.275    9.5    211.3375  26.\n   4.0125   7.8958   7.2292   7.8958  46.9     14.4583  10.5     16.1\n  14.4542   7.7333  31.275    9.825   26.2875  31.275   17.8      7.125\n  56.4958   0.       0.      69.55     8.05    51.4792   7.8958  56.4958\n   7.775   13.      26.     151.55    79.2     89.1042  30.5    211.3375\n  14.5    151.55     7.2292   7.75    26.      46.9      8.05    11.2417\n   7.8542   7.225    7.55    52.      12.2875   8.05     7.925    7.7375\n  26.     120.       7.8958   8.1125   0.      13.      26.      39.\n  79.2     22.025   10.5      9.8458  21.       8.05     8.6625  13.\n  79.65     7.75    53.1      9.8375 110.8833 263.       7.8958  52.5542\n   7.8958   7.7958  10.5     14.4583  22.3583   7.8958   7.75     8.6625\n  10.5     31.3875   7.925   13.      75.25     7.4958   8.05     7.775\n   7.8958  49.5042  18.      16.1      7.925   22.3583  41.5792  52.5542\n  15.5     51.8625  79.65    15.85    13.      36.75     7.125   80.\n  10.5     81.8583  83.475    8.05     7.7333  20.525    7.8542 110.8833\n   8.05     7.925   57.       8.05    83.1583  10.1708  10.5      9.5\n  11.5     16.1      0.      56.4958   0.       7.0458  31.3875   9.5\n  27.7208  26.      71.2833   7.4958   7.225    7.8958 133.65     7.75\n 164.8667  40.125    9.225   47.1     14.4583  23.25    26.       7.75\n   7.925   34.375    8.05    10.5     86.5      0.      29.7      8.05\n   5.      13.      10.5     76.2917   8.05     8.05     6.75     7.75\n  10.5      7.25    26.25    14.5      7.8958  52.     134.5      9.5\n   7.8792   7.8958  21.      52.      26.      69.55    26.      25.925\n  53.1      7.875    8.05     9.35     8.05    29.125   77.9583   7.925\n   9.5    211.3375  26.       7.125   13.      10.5      7.75     7.775\n   8.85    31.      16.7      9.35    71.      10.4625  18.7875 113.275\n   7.925    8.6625  27.7208   7.55    26.3875   7.925    8.05   135.6333\n  15.5     26.      26.       7.6292   7.05    20.575   26.55    15.7417\n   9.5      7.8542  18.75    26.55     7.775   27.9     26.      23.\n   9.       9.5875  39.6875  52.       7.775  227.525   13.      24.15\n  13.5    153.4625   8.4042 113.275    9.5      7.05     8.6833   0.\n  14.5      8.6625  26.25    34.375   76.7292  86.5      7.75    31.275\n  15.1     13.      19.9667  73.5     26.55     7.8958   7.8292   0.\n   7.4958  15.2458  27.9     11.1333   8.05    10.5     27.75    27.75\n  20.2125 211.5     78.2667   7.0542  26.55   134.5     15.5     90.\n   7.75   263.      35.5     29.       7.8958   7.2292  90.      73.5\n  24.15    11.1333   7.2292   7.8542  80.      34.375   24.15    27.9\n  76.7292  29.125   49.5042  26.      89.1042   7.8958   8.05    15.2458\n   7.75    26.55     7.8542   8.05    10.5     79.65     8.05    26.\n  53.1      7.225   15.9     13.7917   7.225   79.2      8.1583  34.0208\n  13.      10.5      8.05    71.       7.8     59.4      7.05    26.\n   7.2292 151.55    55.9    106.425   13.      15.5      6.975    7.8792\n   7.225   15.2458  30.     120.      33.       7.3125   6.4958  30.\n  26.       7.8958   8.6625  77.9583   6.4375   0.      91.0792  10.5\n   7.75    16.7     56.4958  13.      13.       8.05    10.5167   8.1375\n   8.05    78.85    30.       7.8792  69.55   227.525   26.      15.0458\n  86.5     17.4     33.      30.      11.2417  26.       7.925   19.9667\n  12.475   37.0042   7.925    7.75    41.5792   7.8958  16.1     69.55\n  35.5     14.4542  90.     106.425    7.75    39.6875   9.825   34.6542\n 512.3292   7.75     7.8542  13.       7.65    13.     262.375   23.\n  12.35     7.925    7.25     7.75  ].\nReshape your data either using array.reshape(-1, 1) if your data has a single feature or array.reshape(1, -1) if it contains a single sample.\n\nThe above exception was the direct cause of the following exception:\n\nTraceback (most recent call last):\n  File \"C:\\Users\\AmanP\\PycharmProjects\\PodstawyPython\\github\\.venv\\lib\\site-packages\\sklearn\\model_selection\\_validation.py\", line 729, in _fit_and_score\n    estimator.fit(X_train, y_train, **fit_params)\n  File \"C:\\Users\\AmanP\\PycharmProjects\\PodstawyPython\\github\\.venv\\lib\\site-packages\\sklearn\\base.py\", line 1152, in wrapper\n    return fit_method(estimator, *args, **kwargs)\n  File \"C:\\Users\\AmanP\\PycharmProjects\\PodstawyPython\\github\\.venv\\lib\\site-packages\\sklearn\\pipeline.py\", line 423, in fit\n    Xt = self._fit(X, y, **fit_params_steps)\n  File \"C:\\Users\\AmanP\\PycharmProjects\\PodstawyPython\\github\\.venv\\lib\\site-packages\\sklearn\\pipeline.py\", line 377, in _fit\n    X, fitted_transformer = fit_transform_one_cached(\n  File \"C:\\Users\\AmanP\\PycharmProjects\\PodstawyPython\\github\\.venv\\lib\\site-packages\\joblib\\memory.py\", line 312, in __call__\n    return self.func(*args, **kwargs)\n  File \"C:\\Users\\AmanP\\PycharmProjects\\PodstawyPython\\github\\.venv\\lib\\site-packages\\sklearn\\pipeline.py\", line 957, in _fit_transform_one\n    res = transformer.fit_transform(X, y, **fit_params)\n  File \"C:\\Users\\AmanP\\PycharmProjects\\PodstawyPython\\github\\.venv\\lib\\site-packages\\sklearn\\utils\\_set_output.py\", line 157, in wrapped\n    data_to_wrap = f(self, X, *args, **kwargs)\n  File \"C:\\Users\\AmanP\\PycharmProjects\\PodstawyPython\\github\\.venv\\lib\\site-packages\\sklearn\\base.py\", line 1152, in wrapper\n    return fit_method(estimator, *args, **kwargs)\n  File \"C:\\Users\\AmanP\\PycharmProjects\\PodstawyPython\\github\\.venv\\lib\\site-packages\\sklearn\\compose\\_column_transformer.py\", line 754, in fit_transform\n    result = self._fit_transform(X, y, _fit_transform_one)\n  File \"C:\\Users\\AmanP\\PycharmProjects\\PodstawyPython\\github\\.venv\\lib\\site-packages\\sklearn\\compose\\_column_transformer.py\", line 694, in _fit_transform\n    raise ValueError(_ERR_MSG_1DCOLUMN) from e\nValueError: 1D data passed to a transformer that expects 2D data. Try to specify the column selection as a list of one item instead of a scalar.\n\n--------------------------------------------------------------------------------\n32 fits failed with the following error:\nTraceback (most recent call last):\n  File \"C:\\Users\\AmanP\\PycharmProjects\\PodstawyPython\\github\\.venv\\lib\\site-packages\\sklearn\\compose\\_column_transformer.py\", line 681, in _fit_transform\n    return Parallel(n_jobs=self.n_jobs)(\n  File \"C:\\Users\\AmanP\\PycharmProjects\\PodstawyPython\\github\\.venv\\lib\\site-packages\\sklearn\\utils\\parallel.py\", line 65, in __call__\n    return super().__call__(iterable_with_config)\n  File \"C:\\Users\\AmanP\\PycharmProjects\\PodstawyPython\\github\\.venv\\lib\\site-packages\\joblib\\parallel.py\", line 1918, in __call__\n    return output if self.return_generator else list(output)\n  File \"C:\\Users\\AmanP\\PycharmProjects\\PodstawyPython\\github\\.venv\\lib\\site-packages\\joblib\\parallel.py\", line 1847, in _get_sequential_output\n    res = func(*args, **kwargs)\n  File \"C:\\Users\\AmanP\\PycharmProjects\\PodstawyPython\\github\\.venv\\lib\\site-packages\\sklearn\\utils\\parallel.py\", line 127, in __call__\n    return self.function(*args, **kwargs)\n  File \"C:\\Users\\AmanP\\PycharmProjects\\PodstawyPython\\github\\.venv\\lib\\site-packages\\sklearn\\pipeline.py\", line 957, in _fit_transform_one\n    res = transformer.fit_transform(X, y, **fit_params)\n  File \"C:\\Users\\AmanP\\PycharmProjects\\PodstawyPython\\github\\.venv\\lib\\site-packages\\sklearn\\base.py\", line 1152, in wrapper\n    return fit_method(estimator, *args, **kwargs)\n  File \"C:\\Users\\AmanP\\PycharmProjects\\PodstawyPython\\github\\.venv\\lib\\site-packages\\sklearn\\pipeline.py\", line 471, in fit_transform\n    Xt = self._fit(X, y, **fit_params_steps)\n  File \"C:\\Users\\AmanP\\PycharmProjects\\PodstawyPython\\github\\.venv\\lib\\site-packages\\sklearn\\pipeline.py\", line 377, in _fit\n    X, fitted_transformer = fit_transform_one_cached(\n  File \"C:\\Users\\AmanP\\PycharmProjects\\PodstawyPython\\github\\.venv\\lib\\site-packages\\joblib\\memory.py\", line 312, in __call__\n    return self.func(*args, **kwargs)\n  File \"C:\\Users\\AmanP\\PycharmProjects\\PodstawyPython\\github\\.venv\\lib\\site-packages\\sklearn\\pipeline.py\", line 957, in _fit_transform_one\n    res = transformer.fit_transform(X, y, **fit_params)\n  File \"C:\\Users\\AmanP\\PycharmProjects\\PodstawyPython\\github\\.venv\\lib\\site-packages\\sklearn\\utils\\_set_output.py\", line 157, in wrapped\n    data_to_wrap = f(self, X, *args, **kwargs)\n  File \"C:\\Users\\AmanP\\PycharmProjects\\PodstawyPython\\github\\.venv\\lib\\site-packages\\sklearn\\base.py\", line 1152, in wrapper\n    return fit_method(estimator, *args, **kwargs)\n  File \"C:\\Users\\AmanP\\PycharmProjects\\PodstawyPython\\github\\.venv\\lib\\site-packages\\sklearn\\preprocessing\\_data.py\", line 3142, in fit_transform\n    return self._fit(X, y, force_transform=True)\n  File \"C:\\Users\\AmanP\\PycharmProjects\\PodstawyPython\\github\\.venv\\lib\\site-packages\\sklearn\\preprocessing\\_data.py\", line 3145, in _fit\n    X = self._check_input(X, in_fit=True, check_positive=True)\n  File \"C:\\Users\\AmanP\\PycharmProjects\\PodstawyPython\\github\\.venv\\lib\\site-packages\\sklearn\\preprocessing\\_data.py\", line 3383, in _check_input\n    X = self._validate_data(\n  File \"C:\\Users\\AmanP\\PycharmProjects\\PodstawyPython\\github\\.venv\\lib\\site-packages\\sklearn\\base.py\", line 605, in _validate_data\n    out = check_array(X, input_name=\"X\", **check_params)\n  File \"C:\\Users\\AmanP\\PycharmProjects\\PodstawyPython\\github\\.venv\\lib\\site-packages\\sklearn\\utils\\validation.py\", line 938, in check_array\n    raise ValueError(\nValueError: Expected 2D array, got 1D array instead:\narray=[ 69.3      0.      13.      13.5     13.       8.05    14.5      9.5\n   7.2292  16.1     13.      73.5     26.25     7.1417   8.3     10.5\n   9.      13.4167   8.05    19.5      7.8542   8.0292  15.05    15.\n  30.5      7.8958  30.0708   9.225   24.       7.8542   7.25    10.5\n  22.525   13.      10.5     61.3792  28.5      7.25    12.475    7.75\n   7.8958  13.     108.9     15.5      8.6625  24.15   512.3292  15.55\n  90.     153.4625   7.925   50.4958   7.55     7.75    15.85    21.\n   7.25    12.875    8.05    26.55     7.8958   7.8542   8.05    25.4667\n   7.225   14.4542 153.4625  27.9      7.925   30.6958  13.8583  10.5\n  38.5     13.       8.05   247.5208  16.     227.525    7.8958   7.5208\n  30.6958   7.925    7.7958  15.5     20.575   30.5     26.      39.6\n  30.5     14.5      7.75    26.       7.8958  23.       7.7958  35.5\n   7.75    27.7208   7.55     7.25    73.5      7.725   26.       8.6625\n   7.925   56.9292  29.7      8.05     8.6625  18.      21.075   10.5\n   6.2375  13.      10.4625   7.25    16.1     78.85    18.75     7.225\n   6.95   262.375  512.3292  26.55     7.75    20.25     7.775   52.\n  24.       8.05     7.775   31.275    9.5    211.3375  26.       4.0125\n   7.2292   7.8958  46.9     14.4583  16.1     14.4542   7.7333  69.55\n  31.275    9.825   26.2875  31.275   17.8      7.125   56.4958   0.\n  29.125    0.      69.55     8.05    51.4792   7.8958  56.4958   7.775\n  10.5     27.75    13.      26.55    26.     151.55    79.2     89.1042\n  30.5    211.3375  14.5    151.55     7.2292   7.75    46.9      8.05\n  11.2417   7.8542  73.5      7.225   52.      12.2875   8.05    26.\n 120.       7.8958   7.8792   0.      13.      26.      39.      79.2\n  22.025   10.5      9.8458  21.     110.8833   8.05     8.6625  13.\n  79.65     7.75    53.1      9.8375   7.8542 110.8833 263.       7.8958\n   7.925   52.5542   7.8958   7.7958  10.5     22.3583   7.8958   7.75\n   8.6625  10.5     31.3875   7.925   13.      16.1     12.35    75.25\n   7.4958   8.05     7.775    7.8958  49.5042  18.      16.1      7.925\n  22.3583  41.5792  52.5542  15.5     51.8625  79.65    13.       8.05\n   7.125   80.      10.5     81.8583  83.475    8.05     7.925    7.7333\n  20.525    7.8958   7.8542 110.8833   7.925   57.       8.05    83.1583\n  10.1708  10.5      9.5     11.5     16.1      0.       0.       7.0458\n  31.3875   9.5     27.7208  26.      71.2833   7.4958   7.225    7.8958\n 133.65     7.75     9.225   47.1     14.4583  23.25    26.       7.75\n   7.925   34.375   86.5      0.       0.      29.7      8.05    14.4\n   5.      13.      76.2917  26.       8.05     8.05     6.75     7.75\n   8.05    10.5      7.25    26.25     6.45     7.75     7.8958 134.5\n   9.5     26.55     7.8792   7.8958  52.      69.55    26.      25.925\n  53.1      7.875    8.05     9.35     8.05     7.8958  29.125   77.9583\n   7.925    9.5    211.3375  26.2833  26.       7.125   13.      10.5\n   7.75     7.775    8.85    31.      16.7      9.35    10.4625  18.7875\n 113.275    7.925    8.6625  27.7208   7.55    26.3875   7.925    8.05\n  15.5     26.      26.       7.6292 263.       7.05    20.575   26.55\n  15.7417   9.5      7.8542  18.75    26.55     7.775   27.9      7.75\n  61.175    7.8958  23.       8.05     9.       9.5875  39.6875  52.\n   7.775   13.       7.8958  13.5    153.4625   8.4042 113.275    9.5\n   7.05     8.6833   0.      14.5      8.6625  26.25    34.375   76.7292\n  86.5      7.75    31.275   15.1     13.      19.9667  73.5     26.55\n   7.8958   7.8292   0.       7.4958  15.2458  27.9     15.85     8.05\n  10.5     27.75    46.9     78.2667   7.0542  26.55     7.75   263.\n  35.5      7.8958  90.      73.5     24.15     7.125   23.25    11.1333\n   7.2292   7.8542  80.      15.5     34.375   24.15    27.9     76.7292\n  29.125   49.5042  26.      89.1042   7.8958   8.05    49.5    263.\n  15.2458   7.75     7.8542   8.05    10.5     79.65     8.05    14.5\n  26.      53.1      7.225   15.9     65.       7.225   79.2     34.0208\n  13.       8.05    71.       7.8     59.4      7.05    26.     151.55\n  55.9    106.425   13.5     15.5     26.55     7.8792   7.225   15.2458\n  30.     120.      33.       6.4958  26.       7.8958   8.6625  77.9583\n   6.4375   0.      91.0792   7.7958  10.5      7.75    16.7     56.4958\n  13.      13.       8.05    10.5167   8.05    78.85     6.8583  30.\n  13.       7.8792  69.55   227.525   26.      25.4667  86.5     17.4\n  33.      30.      11.2417  26.       7.925   19.9667  12.475   37.0042\n   7.925    7.75    41.5792   7.8958  16.1     69.55    35.5     25.4667\n  14.4542 106.425   14.4542   7.75    39.6875   9.825   34.6542 512.3292\n   7.75     7.8542  13.       7.65    24.15    13.     262.375   23.\n  12.35     7.925    7.25     7.75  ].\nReshape your data either using array.reshape(-1, 1) if your data has a single feature or array.reshape(1, -1) if it contains a single sample.\n\nThe above exception was the direct cause of the following exception:\n\nTraceback (most recent call last):\n  File \"C:\\Users\\AmanP\\PycharmProjects\\PodstawyPython\\github\\.venv\\lib\\site-packages\\sklearn\\model_selection\\_validation.py\", line 729, in _fit_and_score\n    estimator.fit(X_train, y_train, **fit_params)\n  File \"C:\\Users\\AmanP\\PycharmProjects\\PodstawyPython\\github\\.venv\\lib\\site-packages\\sklearn\\base.py\", line 1152, in wrapper\n    return fit_method(estimator, *args, **kwargs)\n  File \"C:\\Users\\AmanP\\PycharmProjects\\PodstawyPython\\github\\.venv\\lib\\site-packages\\sklearn\\pipeline.py\", line 423, in fit\n    Xt = self._fit(X, y, **fit_params_steps)\n  File \"C:\\Users\\AmanP\\PycharmProjects\\PodstawyPython\\github\\.venv\\lib\\site-packages\\sklearn\\pipeline.py\", line 377, in _fit\n    X, fitted_transformer = fit_transform_one_cached(\n  File \"C:\\Users\\AmanP\\PycharmProjects\\PodstawyPython\\github\\.venv\\lib\\site-packages\\joblib\\memory.py\", line 312, in __call__\n    return self.func(*args, **kwargs)\n  File \"C:\\Users\\AmanP\\PycharmProjects\\PodstawyPython\\github\\.venv\\lib\\site-packages\\sklearn\\pipeline.py\", line 957, in _fit_transform_one\n    res = transformer.fit_transform(X, y, **fit_params)\n  File \"C:\\Users\\AmanP\\PycharmProjects\\PodstawyPython\\github\\.venv\\lib\\site-packages\\sklearn\\utils\\_set_output.py\", line 157, in wrapped\n    data_to_wrap = f(self, X, *args, **kwargs)\n  File \"C:\\Users\\AmanP\\PycharmProjects\\PodstawyPython\\github\\.venv\\lib\\site-packages\\sklearn\\base.py\", line 1152, in wrapper\n    return fit_method(estimator, *args, **kwargs)\n  File \"C:\\Users\\AmanP\\PycharmProjects\\PodstawyPython\\github\\.venv\\lib\\site-packages\\sklearn\\compose\\_column_transformer.py\", line 754, in fit_transform\n    result = self._fit_transform(X, y, _fit_transform_one)\n  File \"C:\\Users\\AmanP\\PycharmProjects\\PodstawyPython\\github\\.venv\\lib\\site-packages\\sklearn\\compose\\_column_transformer.py\", line 694, in _fit_transform\n    raise ValueError(_ERR_MSG_1DCOLUMN) from e\nValueError: 1D data passed to a transformer that expects 2D data. Try to specify the column selection as a list of one item instead of a scalar.\n\n--------------------------------------------------------------------------------\n32 fits failed with the following error:\nTraceback (most recent call last):\n  File \"C:\\Users\\AmanP\\PycharmProjects\\PodstawyPython\\github\\.venv\\lib\\site-packages\\sklearn\\compose\\_column_transformer.py\", line 681, in _fit_transform\n    return Parallel(n_jobs=self.n_jobs)(\n  File \"C:\\Users\\AmanP\\PycharmProjects\\PodstawyPython\\github\\.venv\\lib\\site-packages\\sklearn\\utils\\parallel.py\", line 65, in __call__\n    return super().__call__(iterable_with_config)\n  File \"C:\\Users\\AmanP\\PycharmProjects\\PodstawyPython\\github\\.venv\\lib\\site-packages\\joblib\\parallel.py\", line 1918, in __call__\n    return output if self.return_generator else list(output)\n  File \"C:\\Users\\AmanP\\PycharmProjects\\PodstawyPython\\github\\.venv\\lib\\site-packages\\joblib\\parallel.py\", line 1847, in _get_sequential_output\n    res = func(*args, **kwargs)\n  File \"C:\\Users\\AmanP\\PycharmProjects\\PodstawyPython\\github\\.venv\\lib\\site-packages\\sklearn\\utils\\parallel.py\", line 127, in __call__\n    return self.function(*args, **kwargs)\n  File \"C:\\Users\\AmanP\\PycharmProjects\\PodstawyPython\\github\\.venv\\lib\\site-packages\\sklearn\\pipeline.py\", line 957, in _fit_transform_one\n    res = transformer.fit_transform(X, y, **fit_params)\n  File \"C:\\Users\\AmanP\\PycharmProjects\\PodstawyPython\\github\\.venv\\lib\\site-packages\\sklearn\\base.py\", line 1152, in wrapper\n    return fit_method(estimator, *args, **kwargs)\n  File \"C:\\Users\\AmanP\\PycharmProjects\\PodstawyPython\\github\\.venv\\lib\\site-packages\\sklearn\\pipeline.py\", line 471, in fit_transform\n    Xt = self._fit(X, y, **fit_params_steps)\n  File \"C:\\Users\\AmanP\\PycharmProjects\\PodstawyPython\\github\\.venv\\lib\\site-packages\\sklearn\\pipeline.py\", line 377, in _fit\n    X, fitted_transformer = fit_transform_one_cached(\n  File \"C:\\Users\\AmanP\\PycharmProjects\\PodstawyPython\\github\\.venv\\lib\\site-packages\\joblib\\memory.py\", line 312, in __call__\n    return self.func(*args, **kwargs)\n  File \"C:\\Users\\AmanP\\PycharmProjects\\PodstawyPython\\github\\.venv\\lib\\site-packages\\sklearn\\pipeline.py\", line 957, in _fit_transform_one\n    res = transformer.fit_transform(X, y, **fit_params)\n  File \"C:\\Users\\AmanP\\PycharmProjects\\PodstawyPython\\github\\.venv\\lib\\site-packages\\sklearn\\utils\\_set_output.py\", line 157, in wrapped\n    data_to_wrap = f(self, X, *args, **kwargs)\n  File \"C:\\Users\\AmanP\\PycharmProjects\\PodstawyPython\\github\\.venv\\lib\\site-packages\\sklearn\\base.py\", line 1152, in wrapper\n    return fit_method(estimator, *args, **kwargs)\n  File \"C:\\Users\\AmanP\\PycharmProjects\\PodstawyPython\\github\\.venv\\lib\\site-packages\\sklearn\\preprocessing\\_data.py\", line 3142, in fit_transform\n    return self._fit(X, y, force_transform=True)\n  File \"C:\\Users\\AmanP\\PycharmProjects\\PodstawyPython\\github\\.venv\\lib\\site-packages\\sklearn\\preprocessing\\_data.py\", line 3145, in _fit\n    X = self._check_input(X, in_fit=True, check_positive=True)\n  File \"C:\\Users\\AmanP\\PycharmProjects\\PodstawyPython\\github\\.venv\\lib\\site-packages\\sklearn\\preprocessing\\_data.py\", line 3383, in _check_input\n    X = self._validate_data(\n  File \"C:\\Users\\AmanP\\PycharmProjects\\PodstawyPython\\github\\.venv\\lib\\site-packages\\sklearn\\base.py\", line 605, in _validate_data\n    out = check_array(X, input_name=\"X\", **check_params)\n  File \"C:\\Users\\AmanP\\PycharmProjects\\PodstawyPython\\github\\.venv\\lib\\site-packages\\sklearn\\utils\\validation.py\", line 938, in check_array\n    raise ValueError(\nValueError: Expected 2D array, got 1D array instead:\narray=[ 69.3      0.      13.      13.5     13.       8.05    14.5      9.5\n   7.2292  16.1     13.      26.25     7.1417  10.5      9.      13.4167\n   8.05     6.75    19.5      7.8542   8.0292  15.05    15.      30.5\n   7.8958  30.0708   9.225   24.       7.8542   7.25    10.5     22.525\n  13.      10.5     10.5     61.3792  28.5      7.25    12.475    7.75\n   7.8958  13.     108.9      8.6625  83.1583   7.25     7.775  512.3292\n  15.55    90.       7.8542   7.925   50.4958   7.55     7.75    15.85\n  21.       7.25    39.      12.875    8.05    26.55     7.8958   7.8542\n   8.05    25.4667   7.225   14.4542 153.4625  27.9      7.925   30.6958\n  10.5     38.5     13.       8.05   247.5208 227.525    7.8958   7.5208\n  30.6958   7.925    7.7958  15.5     20.575   30.5     26.      39.6\n  14.5      7.75    26.       7.8958  23.       7.7958  18.      35.5\n   7.75    27.7208   7.55     7.25    73.5      8.5167   7.725   26.\n   8.6625   7.925   56.9292  29.7     32.3208   8.05     8.6625  18.\n  21.075   10.5      7.25    78.85    18.75     7.225  262.375  512.3292\n  69.55    20.25     7.775   24.      27.7208   8.05     7.775   31.275\n   9.5    211.3375  26.       4.0125   7.8958   7.8958  46.9     14.4583\n  10.5     16.1     14.4542   7.7333  69.55    31.275   26.2875  31.275\n  17.8      7.125   56.4958   0.      29.125   69.55     8.05     7.8958\n  56.4958   7.775   10.5     27.75    13.      26.55    26.     151.55\n  79.2     89.1042  30.5     14.5    151.55     7.2292   7.75    26.\n   8.05    11.2417   7.8542  73.5      7.55    52.      12.2875   8.05\n   7.925    7.7375  26.     120.       7.8958   7.8792   8.1125   0.\n  13.      26.      39.      79.2     22.025   10.5      9.8458  21.\n 110.8833   8.6625  13.      79.65     7.75     9.8375   7.8542 110.8833\n 263.       7.925   52.5542   7.8958   7.7958  10.5     14.4583  22.3583\n   7.75     8.6625  10.5     31.3875   7.925   13.      16.1     12.35\n   7.4958   8.05     7.775    7.8958  49.5042  16.1      7.925   22.3583\n  41.5792  52.5542  15.5     51.8625  79.65    15.85    13.      36.75\n   8.05     7.125   80.      10.5     83.475    8.05     7.925    7.7333\n  20.525    7.8958   7.8542 110.8833   8.05     7.925   57.      83.1583\n  10.1708  10.5      9.5     11.5     16.1      0.      56.4958   0.\n   7.0458  31.3875   9.5     27.7208  26.      71.2833   7.4958   7.225\n   7.8958 133.65     7.75   164.8667  40.125    9.225   47.1     14.4583\n  23.25    26.       7.75     7.925   34.375    8.05    10.5     86.5\n   0.      29.7      8.05    14.4      5.      13.      10.5     76.2917\n  26.       8.05     8.05     6.75     7.75     8.05    10.5      7.25\n   6.45    14.5      7.75    52.     134.5      9.5     26.55     7.8792\n   7.8958  21.      52.      26.      69.55    26.      25.925   53.1\n   8.05     8.05     7.8958  29.125   77.9583   7.925    9.5    211.3375\n  26.2833  26.       7.125   13.      10.5      7.75     7.775    8.85\n  31.       9.35    71.      10.4625  18.7875 113.275    7.925    8.6625\n  27.7208   7.55    26.3875   7.925    8.05   135.6333  15.5     26.\n  26.       7.6292 263.       7.05    20.575   26.55     9.5      7.8542\n   7.775   27.9     26.       7.75    61.175    7.8958  23.       8.05\n   9.       9.5875  52.       7.775  227.525    7.8958  24.15    13.5\n 153.4625   8.4042 113.275    9.5      7.05     8.6833   0.      14.5\n   8.6625  26.25    34.375   76.7292  86.5      7.75    31.275   15.1\n  13.      19.9667  73.5      7.8958   7.8292   0.      15.2458  27.9\n  15.85    11.1333   8.05    10.5     27.75    20.2125 211.5     46.9\n  78.2667   7.0542  26.55   134.5     15.5     90.       7.75   263.\n  35.5     29.       7.8958   7.2292  90.      73.5     24.15     7.125\n  23.25    11.1333   7.8542  80.      15.5     34.375   24.15    27.9\n  76.7292  29.125   49.5042  89.1042   7.8958   8.05    49.5    263.\n  15.2458   7.75    26.55     7.8542   8.05    10.5     79.65     8.05\n  14.5     26.      53.1      7.225   15.9     65.      13.7917   7.225\n  79.2      8.1583  13.      10.5      8.05    71.       7.8     59.4\n   7.05    26.       7.2292 151.55    55.9     13.5     13.      15.5\n  26.55     6.975    7.8792   7.225   15.2458  30.     120.       7.3125\n  30.       7.8958  77.9583   6.4375   0.      91.0792   7.7958  10.5\n   7.75    16.7     56.4958  13.      13.       8.05     8.1375   8.05\n  78.85     6.8583  30.      13.       7.8792  69.55   227.525   15.0458\n  25.4667  86.5     17.4     33.      30.      11.2417  26.       7.925\n  19.9667  12.475   37.0042   7.925    7.75    41.5792   7.8958  16.1\n  69.55    35.5     25.4667  14.4542  90.     106.425   14.4542   7.75\n  39.6875   9.825   34.6542   7.8542  13.      24.15   262.375   23.\n  12.35     7.925    7.25     7.75  ].\nReshape your data either using array.reshape(-1, 1) if your data has a single feature or array.reshape(1, -1) if it contains a single sample.\n\nThe above exception was the direct cause of the following exception:\n\nTraceback (most recent call last):\n  File \"C:\\Users\\AmanP\\PycharmProjects\\PodstawyPython\\github\\.venv\\lib\\site-packages\\sklearn\\model_selection\\_validation.py\", line 729, in _fit_and_score\n    estimator.fit(X_train, y_train, **fit_params)\n  File \"C:\\Users\\AmanP\\PycharmProjects\\PodstawyPython\\github\\.venv\\lib\\site-packages\\sklearn\\base.py\", line 1152, in wrapper\n    return fit_method(estimator, *args, **kwargs)\n  File \"C:\\Users\\AmanP\\PycharmProjects\\PodstawyPython\\github\\.venv\\lib\\site-packages\\sklearn\\pipeline.py\", line 423, in fit\n    Xt = self._fit(X, y, **fit_params_steps)\n  File \"C:\\Users\\AmanP\\PycharmProjects\\PodstawyPython\\github\\.venv\\lib\\site-packages\\sklearn\\pipeline.py\", line 377, in _fit\n    X, fitted_transformer = fit_transform_one_cached(\n  File \"C:\\Users\\AmanP\\PycharmProjects\\PodstawyPython\\github\\.venv\\lib\\site-packages\\joblib\\memory.py\", line 312, in __call__\n    return self.func(*args, **kwargs)\n  File \"C:\\Users\\AmanP\\PycharmProjects\\PodstawyPython\\github\\.venv\\lib\\site-packages\\sklearn\\pipeline.py\", line 957, in _fit_transform_one\n    res = transformer.fit_transform(X, y, **fit_params)\n  File \"C:\\Users\\AmanP\\PycharmProjects\\PodstawyPython\\github\\.venv\\lib\\site-packages\\sklearn\\utils\\_set_output.py\", line 157, in wrapped\n    data_to_wrap = f(self, X, *args, **kwargs)\n  File \"C:\\Users\\AmanP\\PycharmProjects\\PodstawyPython\\github\\.venv\\lib\\site-packages\\sklearn\\base.py\", line 1152, in wrapper\n    return fit_method(estimator, *args, **kwargs)\n  File \"C:\\Users\\AmanP\\PycharmProjects\\PodstawyPython\\github\\.venv\\lib\\site-packages\\sklearn\\compose\\_column_transformer.py\", line 754, in fit_transform\n    result = self._fit_transform(X, y, _fit_transform_one)\n  File \"C:\\Users\\AmanP\\PycharmProjects\\PodstawyPython\\github\\.venv\\lib\\site-packages\\sklearn\\compose\\_column_transformer.py\", line 694, in _fit_transform\n    raise ValueError(_ERR_MSG_1DCOLUMN) from e\nValueError: 1D data passed to a transformer that expects 2D data. Try to specify the column selection as a list of one item instead of a scalar.\n\n--------------------------------------------------------------------------------\n32 fits failed with the following error:\nTraceback (most recent call last):\n  File \"C:\\Users\\AmanP\\PycharmProjects\\PodstawyPython\\github\\.venv\\lib\\site-packages\\sklearn\\compose\\_column_transformer.py\", line 681, in _fit_transform\n    return Parallel(n_jobs=self.n_jobs)(\n  File \"C:\\Users\\AmanP\\PycharmProjects\\PodstawyPython\\github\\.venv\\lib\\site-packages\\sklearn\\utils\\parallel.py\", line 65, in __call__\n    return super().__call__(iterable_with_config)\n  File \"C:\\Users\\AmanP\\PycharmProjects\\PodstawyPython\\github\\.venv\\lib\\site-packages\\joblib\\parallel.py\", line 1918, in __call__\n    return output if self.return_generator else list(output)\n  File \"C:\\Users\\AmanP\\PycharmProjects\\PodstawyPython\\github\\.venv\\lib\\site-packages\\joblib\\parallel.py\", line 1847, in _get_sequential_output\n    res = func(*args, **kwargs)\n  File \"C:\\Users\\AmanP\\PycharmProjects\\PodstawyPython\\github\\.venv\\lib\\site-packages\\sklearn\\utils\\parallel.py\", line 127, in __call__\n    return self.function(*args, **kwargs)\n  File \"C:\\Users\\AmanP\\PycharmProjects\\PodstawyPython\\github\\.venv\\lib\\site-packages\\sklearn\\pipeline.py\", line 957, in _fit_transform_one\n    res = transformer.fit_transform(X, y, **fit_params)\n  File \"C:\\Users\\AmanP\\PycharmProjects\\PodstawyPython\\github\\.venv\\lib\\site-packages\\sklearn\\base.py\", line 1152, in wrapper\n    return fit_method(estimator, *args, **kwargs)\n  File \"C:\\Users\\AmanP\\PycharmProjects\\PodstawyPython\\github\\.venv\\lib\\site-packages\\sklearn\\pipeline.py\", line 471, in fit_transform\n    Xt = self._fit(X, y, **fit_params_steps)\n  File \"C:\\Users\\AmanP\\PycharmProjects\\PodstawyPython\\github\\.venv\\lib\\site-packages\\sklearn\\pipeline.py\", line 377, in _fit\n    X, fitted_transformer = fit_transform_one_cached(\n  File \"C:\\Users\\AmanP\\PycharmProjects\\PodstawyPython\\github\\.venv\\lib\\site-packages\\joblib\\memory.py\", line 312, in __call__\n    return self.func(*args, **kwargs)\n  File \"C:\\Users\\AmanP\\PycharmProjects\\PodstawyPython\\github\\.venv\\lib\\site-packages\\sklearn\\pipeline.py\", line 957, in _fit_transform_one\n    res = transformer.fit_transform(X, y, **fit_params)\n  File \"C:\\Users\\AmanP\\PycharmProjects\\PodstawyPython\\github\\.venv\\lib\\site-packages\\sklearn\\utils\\_set_output.py\", line 157, in wrapped\n    data_to_wrap = f(self, X, *args, **kwargs)\n  File \"C:\\Users\\AmanP\\PycharmProjects\\PodstawyPython\\github\\.venv\\lib\\site-packages\\sklearn\\base.py\", line 1152, in wrapper\n    return fit_method(estimator, *args, **kwargs)\n  File \"C:\\Users\\AmanP\\PycharmProjects\\PodstawyPython\\github\\.venv\\lib\\site-packages\\sklearn\\preprocessing\\_data.py\", line 3142, in fit_transform\n    return self._fit(X, y, force_transform=True)\n  File \"C:\\Users\\AmanP\\PycharmProjects\\PodstawyPython\\github\\.venv\\lib\\site-packages\\sklearn\\preprocessing\\_data.py\", line 3145, in _fit\n    X = self._check_input(X, in_fit=True, check_positive=True)\n  File \"C:\\Users\\AmanP\\PycharmProjects\\PodstawyPython\\github\\.venv\\lib\\site-packages\\sklearn\\preprocessing\\_data.py\", line 3383, in _check_input\n    X = self._validate_data(\n  File \"C:\\Users\\AmanP\\PycharmProjects\\PodstawyPython\\github\\.venv\\lib\\site-packages\\sklearn\\base.py\", line 605, in _validate_data\n    out = check_array(X, input_name=\"X\", **check_params)\n  File \"C:\\Users\\AmanP\\PycharmProjects\\PodstawyPython\\github\\.venv\\lib\\site-packages\\sklearn\\utils\\validation.py\", line 938, in check_array\n    raise ValueError(\nValueError: Expected 2D array, got 1D array instead:\narray=[ 69.3      0.      13.      13.5     13.       8.05    14.5      9.5\n   7.2292  13.      73.5     26.25     7.1417   8.3     10.5      9.\n  13.4167   8.05     6.75    19.5      7.8542   8.0292  15.05    30.5\n   7.8958  30.0708   9.225   24.       7.8542   7.25    10.5     22.525\n  13.      10.5     10.5     61.3792  28.5     12.475    7.75     7.8958\n  13.      15.5      8.6625  83.1583  24.15     7.25     7.775  512.3292\n  15.55    90.     153.4625   7.8542   7.925   50.4958   7.55     7.75\n  15.85    21.       7.25    39.      12.875   26.55     7.8958   7.8542\n  25.4667   7.225  153.4625  27.9      7.925   30.6958  13.8583  10.5\n  13.       8.05   247.5208  16.     227.525    7.8958   7.925    7.7958\n  15.5     20.575   30.5     26.      39.6     30.5     14.5      7.75\n  26.       7.8958  23.       7.7958  18.      35.5      7.75    27.7208\n   7.55     7.25    73.5      8.5167   7.725    8.6625   7.925   29.7\n  32.3208   8.05    18.      21.075   10.5      6.2375  13.      10.4625\n  16.1      7.225    6.95   262.375  512.3292  69.55    26.55     7.75\n   7.775   52.      24.      27.7208   8.05    31.275  211.3375  26.\n   4.0125   7.8958   7.2292   7.8958  46.9     10.5     16.1     14.4542\n   7.7333  69.55    31.275    9.825   26.2875  31.275   17.8      7.125\n  56.4958  29.125    0.       8.05    51.4792  56.4958   7.775   10.5\n  27.75    13.      26.55   151.55    79.2     89.1042  30.5    211.3375\n  14.5    151.55     7.2292   7.75    26.      46.9      8.05    11.2417\n   7.8542  73.5      7.225    7.55    52.      12.2875   8.05     7.925\n   7.7375  26.       7.8792   8.1125   0.      13.      26.      10.5\n  21.     110.8833   8.05     8.6625  13.      79.65     7.75    53.1\n   9.8375   7.8542 110.8833 263.       7.8958   7.925   52.5542   7.8958\n   7.7958  10.5     14.4583  22.3583   7.8958   7.75    10.5      7.925\n  16.1     12.35    75.25     7.4958   8.05     7.775    7.8958  18.\n  16.1     22.3583  41.5792  15.5     51.8625  79.65    15.85    13.\n  36.75     8.05     7.125   80.      10.5     81.8583  83.475    8.05\n   7.925    7.7333   7.8958   7.8542   8.05     7.925   57.       8.05\n  83.1583  10.1708  10.5      9.5     11.5     16.1      0.      56.4958\n   0.       7.0458  31.3875   9.5     27.7208  26.      71.2833   7.4958\n   7.225    7.8958 133.65   164.8667  40.125    9.225   47.1     14.4583\n  23.25    26.       7.75     7.925   34.375    8.05    10.5     86.5\n   0.       0.      29.7      8.05    14.4      5.      13.      10.5\n  76.2917  26.       8.05     8.05     6.75     7.75     8.05    10.5\n   7.25    26.25     6.45    14.5      7.75     7.8958  52.     134.5\n   9.5     26.55     7.8792   7.8958  21.      52.      26.      69.55\n  25.925   53.1      7.875    8.05     9.35     8.05     7.8958  29.125\n  77.9583   7.925   26.2833  26.       7.125   10.5      7.75     7.775\n   8.85    31.      16.7      9.35    71.      10.4625  18.7875 113.275\n   7.925    8.6625  27.7208   7.55    26.3875   7.925    8.05   135.6333\n  15.5     26.      26.       7.6292 263.       7.05    20.575   26.55\n  15.7417   7.8542  18.75    26.55    26.       7.75    61.175    7.8958\n  23.       8.05     9.       9.5875  39.6875  52.       7.775  227.525\n  13.       7.8958  24.15    13.5    153.4625   8.4042 113.275    9.5\n   8.6833   0.      14.5      8.6625  26.25    34.375   76.7292  86.5\n  31.275   15.1     13.      19.9667  73.5     26.55     7.8958   7.8292\n   0.       7.4958  15.2458  27.9     15.85    11.1333   8.05    10.5\n  27.75    27.75    20.2125 211.5     46.9     78.2667  26.55   134.5\n  15.5     90.       7.75   263.      35.5     29.       7.8958   7.2292\n  90.      73.5     24.15     7.125   23.25     7.2292   7.8542  80.\n  15.5     24.15    27.9     76.7292  29.125   26.       7.8958   8.05\n  49.5    263.      15.2458   7.75    26.55     7.8542   8.05    10.5\n  79.65     8.05    14.5     26.      53.1      7.225   15.9     65.\n  13.7917   7.225   79.2      8.1583  34.0208  13.      10.5      8.05\n  71.       7.8     59.4      7.05    26.       7.2292 151.55    55.9\n 106.425   13.5     13.      15.5     26.55     6.975    7.8792   7.225\n  15.2458  30.     120.      33.       7.3125   6.4958  30.      26.\n   7.8958   8.6625  77.9583   6.4375   0.      91.0792   7.7958  10.5\n   7.75    56.4958  13.      13.       8.05    10.5167   8.1375   8.05\n  78.85     6.8583  30.      13.       7.8792  69.55   227.525   26.\n  15.0458  25.4667  86.5     17.4     33.      30.      11.2417  26.\n   7.925   19.9667  12.475   37.0042   7.75    41.5792   7.8958  69.55\n  35.5     25.4667  14.4542  90.     106.425   14.4542  39.6875   9.825\n  34.6542 512.3292   7.75    13.       7.65    24.15    13.     262.375\n  23.      12.35     7.925    7.75  ].\nReshape your data either using array.reshape(-1, 1) if your data has a single feature or array.reshape(1, -1) if it contains a single sample.\n\nThe above exception was the direct cause of the following exception:\n\nTraceback (most recent call last):\n  File \"C:\\Users\\AmanP\\PycharmProjects\\PodstawyPython\\github\\.venv\\lib\\site-packages\\sklearn\\model_selection\\_validation.py\", line 729, in _fit_and_score\n    estimator.fit(X_train, y_train, **fit_params)\n  File \"C:\\Users\\AmanP\\PycharmProjects\\PodstawyPython\\github\\.venv\\lib\\site-packages\\sklearn\\base.py\", line 1152, in wrapper\n    return fit_method(estimator, *args, **kwargs)\n  File \"C:\\Users\\AmanP\\PycharmProjects\\PodstawyPython\\github\\.venv\\lib\\site-packages\\sklearn\\pipeline.py\", line 423, in fit\n    Xt = self._fit(X, y, **fit_params_steps)\n  File \"C:\\Users\\AmanP\\PycharmProjects\\PodstawyPython\\github\\.venv\\lib\\site-packages\\sklearn\\pipeline.py\", line 377, in _fit\n    X, fitted_transformer = fit_transform_one_cached(\n  File \"C:\\Users\\AmanP\\PycharmProjects\\PodstawyPython\\github\\.venv\\lib\\site-packages\\joblib\\memory.py\", line 312, in __call__\n    return self.func(*args, **kwargs)\n  File \"C:\\Users\\AmanP\\PycharmProjects\\PodstawyPython\\github\\.venv\\lib\\site-packages\\sklearn\\pipeline.py\", line 957, in _fit_transform_one\n    res = transformer.fit_transform(X, y, **fit_params)\n  File \"C:\\Users\\AmanP\\PycharmProjects\\PodstawyPython\\github\\.venv\\lib\\site-packages\\sklearn\\utils\\_set_output.py\", line 157, in wrapped\n    data_to_wrap = f(self, X, *args, **kwargs)\n  File \"C:\\Users\\AmanP\\PycharmProjects\\PodstawyPython\\github\\.venv\\lib\\site-packages\\sklearn\\base.py\", line 1152, in wrapper\n    return fit_method(estimator, *args, **kwargs)\n  File \"C:\\Users\\AmanP\\PycharmProjects\\PodstawyPython\\github\\.venv\\lib\\site-packages\\sklearn\\compose\\_column_transformer.py\", line 754, in fit_transform\n    result = self._fit_transform(X, y, _fit_transform_one)\n  File \"C:\\Users\\AmanP\\PycharmProjects\\PodstawyPython\\github\\.venv\\lib\\site-packages\\sklearn\\compose\\_column_transformer.py\", line 694, in _fit_transform\n    raise ValueError(_ERR_MSG_1DCOLUMN) from e\nValueError: 1D data passed to a transformer that expects 2D data. Try to specify the column selection as a list of one item instead of a scalar.\n\n--------------------------------------------------------------------------------\n32 fits failed with the following error:\nTraceback (most recent call last):\n  File \"C:\\Users\\AmanP\\PycharmProjects\\PodstawyPython\\github\\.venv\\lib\\site-packages\\sklearn\\compose\\_column_transformer.py\", line 681, in _fit_transform\n    return Parallel(n_jobs=self.n_jobs)(\n  File \"C:\\Users\\AmanP\\PycharmProjects\\PodstawyPython\\github\\.venv\\lib\\site-packages\\sklearn\\utils\\parallel.py\", line 65, in __call__\n    return super().__call__(iterable_with_config)\n  File \"C:\\Users\\AmanP\\PycharmProjects\\PodstawyPython\\github\\.venv\\lib\\site-packages\\joblib\\parallel.py\", line 1918, in __call__\n    return output if self.return_generator else list(output)\n  File \"C:\\Users\\AmanP\\PycharmProjects\\PodstawyPython\\github\\.venv\\lib\\site-packages\\joblib\\parallel.py\", line 1847, in _get_sequential_output\n    res = func(*args, **kwargs)\n  File \"C:\\Users\\AmanP\\PycharmProjects\\PodstawyPython\\github\\.venv\\lib\\site-packages\\sklearn\\utils\\parallel.py\", line 127, in __call__\n    return self.function(*args, **kwargs)\n  File \"C:\\Users\\AmanP\\PycharmProjects\\PodstawyPython\\github\\.venv\\lib\\site-packages\\sklearn\\pipeline.py\", line 957, in _fit_transform_one\n    res = transformer.fit_transform(X, y, **fit_params)\n  File \"C:\\Users\\AmanP\\PycharmProjects\\PodstawyPython\\github\\.venv\\lib\\site-packages\\sklearn\\base.py\", line 1152, in wrapper\n    return fit_method(estimator, *args, **kwargs)\n  File \"C:\\Users\\AmanP\\PycharmProjects\\PodstawyPython\\github\\.venv\\lib\\site-packages\\sklearn\\pipeline.py\", line 471, in fit_transform\n    Xt = self._fit(X, y, **fit_params_steps)\n  File \"C:\\Users\\AmanP\\PycharmProjects\\PodstawyPython\\github\\.venv\\lib\\site-packages\\sklearn\\pipeline.py\", line 377, in _fit\n    X, fitted_transformer = fit_transform_one_cached(\n  File \"C:\\Users\\AmanP\\PycharmProjects\\PodstawyPython\\github\\.venv\\lib\\site-packages\\joblib\\memory.py\", line 312, in __call__\n    return self.func(*args, **kwargs)\n  File \"C:\\Users\\AmanP\\PycharmProjects\\PodstawyPython\\github\\.venv\\lib\\site-packages\\sklearn\\pipeline.py\", line 957, in _fit_transform_one\n    res = transformer.fit_transform(X, y, **fit_params)\n  File \"C:\\Users\\AmanP\\PycharmProjects\\PodstawyPython\\github\\.venv\\lib\\site-packages\\sklearn\\utils\\_set_output.py\", line 157, in wrapped\n    data_to_wrap = f(self, X, *args, **kwargs)\n  File \"C:\\Users\\AmanP\\PycharmProjects\\PodstawyPython\\github\\.venv\\lib\\site-packages\\sklearn\\base.py\", line 1152, in wrapper\n    return fit_method(estimator, *args, **kwargs)\n  File \"C:\\Users\\AmanP\\PycharmProjects\\PodstawyPython\\github\\.venv\\lib\\site-packages\\sklearn\\preprocessing\\_data.py\", line 3142, in fit_transform\n    return self._fit(X, y, force_transform=True)\n  File \"C:\\Users\\AmanP\\PycharmProjects\\PodstawyPython\\github\\.venv\\lib\\site-packages\\sklearn\\preprocessing\\_data.py\", line 3145, in _fit\n    X = self._check_input(X, in_fit=True, check_positive=True)\n  File \"C:\\Users\\AmanP\\PycharmProjects\\PodstawyPython\\github\\.venv\\lib\\site-packages\\sklearn\\preprocessing\\_data.py\", line 3383, in _check_input\n    X = self._validate_data(\n  File \"C:\\Users\\AmanP\\PycharmProjects\\PodstawyPython\\github\\.venv\\lib\\site-packages\\sklearn\\base.py\", line 605, in _validate_data\n    out = check_array(X, input_name=\"X\", **check_params)\n  File \"C:\\Users\\AmanP\\PycharmProjects\\PodstawyPython\\github\\.venv\\lib\\site-packages\\sklearn\\utils\\validation.py\", line 938, in check_array\n    raise ValueError(\nValueError: Expected 2D array, got 1D array instead:\narray=[ 69.3      0.      13.      13.5     13.       8.05    14.5      9.5\n   7.2292  16.1     13.      73.5     26.25     7.1417   8.3     10.5\n   9.      13.4167   8.05     6.75    19.5      7.8542  15.05    15.\n  30.5      7.8958  30.0708  24.       7.8542   7.25    10.5     22.525\n  10.5     10.5     61.3792  28.5      7.25    12.475    7.75     7.8958\n  13.     108.9     15.5      8.6625  83.1583  24.15     7.25     7.775\n 512.3292  15.55    90.     153.4625   7.8542   7.925   50.4958   7.55\n   7.75    15.85    21.       7.25    39.      12.875    8.05    26.55\n   7.8958   7.8542   8.05    25.4667   7.225   14.4542   7.925   30.6958\n  13.8583  10.5     38.5     13.       8.05   247.5208  16.     227.525\n   7.8958   7.5208  30.6958   7.925    7.7958  15.5     20.575   30.5\n  30.5     14.5      7.75    26.       7.8958  23.      18.      35.5\n   7.75    27.7208   7.25     8.5167  26.       8.6625   7.925   56.9292\n  29.7     32.3208   8.05     8.6625  18.      21.075   10.5      6.2375\n  13.      10.4625   7.25    16.1     78.85    18.75     7.225    6.95\n 262.375   69.55    26.55     7.75    20.25    52.      24.      27.7208\n   8.05     7.775   31.275    9.5    211.3375  26.       7.8958   7.2292\n   7.8958  46.9     14.4583  10.5     14.4542   7.7333  69.55    31.275\n   9.825   26.2875  31.275   17.8      7.125   56.4958   0.      29.125\n   0.      69.55     8.05    51.4792   7.8958  56.4958  10.5     27.75\n  13.      26.55    26.     151.55    79.2     89.1042  30.5    211.3375\n  14.5    151.55     7.2292   7.75    26.      46.9      8.05    11.2417\n   7.8542  73.5      7.225    7.55    52.       7.925    7.7375  26.\n 120.       7.8958   7.8792   8.1125  13.      26.      39.      79.2\n  22.025   10.5      9.8458  21.     110.8833   8.05     8.6625  13.\n  79.65     7.75    53.1      9.8375   7.8542 110.8833 263.       7.8958\n   7.925   52.5542   7.8958   7.7958  10.5     14.4583  22.3583   7.8958\n   7.75     8.6625  10.5     31.3875  13.      16.1     12.35    75.25\n   8.05     7.775    7.8958  49.5042  18.      16.1      7.925   22.3583\n  41.5792  52.5542  15.5     51.8625  79.65    15.85    13.      36.75\n   8.05     7.125   80.      10.5     81.8583  83.475    7.925    7.7333\n  20.525    7.8958   7.8542 110.8833   8.05     7.925   57.       8.05\n  83.1583  10.1708  10.5      9.5     11.5     16.1     56.4958   0.\n   7.0458  31.3875   9.5     27.7208  26.      71.2833   7.4958   7.225\n 133.65     7.75   164.8667  40.125    9.225   14.4583  23.25     7.75\n   7.925    8.05    10.5     86.5      0.       0.      29.7      8.05\n  14.4      5.      13.      10.5     76.2917  26.       8.05     8.05\n   6.75     8.05     7.25    26.25     6.45    14.5      7.75     7.8958\n  52.     134.5      9.5     26.55     7.8792   7.8958  21.      52.\n  26.      26.      53.1      7.875    8.05     9.35     8.05     7.8958\n  29.125   77.9583   9.5    211.3375  26.2833  26.       7.125   13.\n  10.5      7.75     7.775   31.      16.7      9.35    71.      18.7875\n 113.275    7.925    8.6625  27.7208   7.55    26.3875   7.925    8.05\n 135.6333  15.5     26.       7.6292 263.       7.05    26.55    15.7417\n   9.5      7.8542  18.75    26.55     7.775   27.9     26.       7.75\n  61.175    7.8958  23.       8.05     9.       9.5875  39.6875  52.\n   7.775  227.525   13.       7.8958  24.15    13.5    153.4625   8.4042\n   9.5      7.05     8.6833   0.      14.5      8.6625  26.25    34.375\n  76.7292  86.5      7.75    15.1     73.5     26.55     7.4958  15.2458\n  27.9     15.85    11.1333   8.05    10.5     27.75    27.75    20.2125\n 211.5     46.9     78.2667   7.0542 134.5     15.5     90.       7.75\n 263.      29.       7.8958   7.2292  90.      73.5      7.125   23.25\n  11.1333   7.2292   7.8542  15.5     34.375   24.15    27.9     76.7292\n  29.125   49.5042  26.      89.1042   7.8958  49.5    263.       7.75\n  26.55     7.8542   8.05    10.5     79.65     8.05    14.5     26.\n  53.1      7.225   15.9     65.      13.7917   7.225   79.2      8.1583\n  34.0208  13.      10.5     71.       7.8     59.4      7.05    26.\n   7.2292 151.55   106.425   13.5     13.      15.5     26.55     6.975\n   7.8792   7.225   15.2458  30.     120.      33.       7.3125   6.4958\n  30.      26.       7.8958   8.6625  77.9583   0.      91.0792   7.7958\n  10.5      7.75    16.7     56.4958  13.      13.       8.05    10.5167\n   8.1375   8.05    78.85     6.8583  30.      13.       7.8792  69.55\n 227.525   26.      15.0458  25.4667  86.5     17.4     33.      30.\n  11.2417   7.925   19.9667  12.475   37.0042   7.925    7.8958  16.1\n  25.4667  14.4542  90.     106.425   14.4542   7.75    39.6875  34.6542\n 512.3292   7.75     7.8542  13.       7.65    24.15    13.     262.375\n  23.      12.35     7.925    7.25  ].\nReshape your data either using array.reshape(-1, 1) if your data has a single feature or array.reshape(1, -1) if it contains a single sample.\n\nThe above exception was the direct cause of the following exception:\n\nTraceback (most recent call last):\n  File \"C:\\Users\\AmanP\\PycharmProjects\\PodstawyPython\\github\\.venv\\lib\\site-packages\\sklearn\\model_selection\\_validation.py\", line 729, in _fit_and_score\n    estimator.fit(X_train, y_train, **fit_params)\n  File \"C:\\Users\\AmanP\\PycharmProjects\\PodstawyPython\\github\\.venv\\lib\\site-packages\\sklearn\\base.py\", line 1152, in wrapper\n    return fit_method(estimator, *args, **kwargs)\n  File \"C:\\Users\\AmanP\\PycharmProjects\\PodstawyPython\\github\\.venv\\lib\\site-packages\\sklearn\\pipeline.py\", line 423, in fit\n    Xt = self._fit(X, y, **fit_params_steps)\n  File \"C:\\Users\\AmanP\\PycharmProjects\\PodstawyPython\\github\\.venv\\lib\\site-packages\\sklearn\\pipeline.py\", line 377, in _fit\n    X, fitted_transformer = fit_transform_one_cached(\n  File \"C:\\Users\\AmanP\\PycharmProjects\\PodstawyPython\\github\\.venv\\lib\\site-packages\\joblib\\memory.py\", line 312, in __call__\n    return self.func(*args, **kwargs)\n  File \"C:\\Users\\AmanP\\PycharmProjects\\PodstawyPython\\github\\.venv\\lib\\site-packages\\sklearn\\pipeline.py\", line 957, in _fit_transform_one\n    res = transformer.fit_transform(X, y, **fit_params)\n  File \"C:\\Users\\AmanP\\PycharmProjects\\PodstawyPython\\github\\.venv\\lib\\site-packages\\sklearn\\utils\\_set_output.py\", line 157, in wrapped\n    data_to_wrap = f(self, X, *args, **kwargs)\n  File \"C:\\Users\\AmanP\\PycharmProjects\\PodstawyPython\\github\\.venv\\lib\\site-packages\\sklearn\\base.py\", line 1152, in wrapper\n    return fit_method(estimator, *args, **kwargs)\n  File \"C:\\Users\\AmanP\\PycharmProjects\\PodstawyPython\\github\\.venv\\lib\\site-packages\\sklearn\\compose\\_column_transformer.py\", line 754, in fit_transform\n    result = self._fit_transform(X, y, _fit_transform_one)\n  File \"C:\\Users\\AmanP\\PycharmProjects\\PodstawyPython\\github\\.venv\\lib\\site-packages\\sklearn\\compose\\_column_transformer.py\", line 694, in _fit_transform\n    raise ValueError(_ERR_MSG_1DCOLUMN) from e\nValueError: 1D data passed to a transformer that expects 2D data. Try to specify the column selection as a list of one item instead of a scalar.\n\n--------------------------------------------------------------------------------\n32 fits failed with the following error:\nTraceback (most recent call last):\n  File \"C:\\Users\\AmanP\\PycharmProjects\\PodstawyPython\\github\\.venv\\lib\\site-packages\\sklearn\\compose\\_column_transformer.py\", line 681, in _fit_transform\n    return Parallel(n_jobs=self.n_jobs)(\n  File \"C:\\Users\\AmanP\\PycharmProjects\\PodstawyPython\\github\\.venv\\lib\\site-packages\\sklearn\\utils\\parallel.py\", line 65, in __call__\n    return super().__call__(iterable_with_config)\n  File \"C:\\Users\\AmanP\\PycharmProjects\\PodstawyPython\\github\\.venv\\lib\\site-packages\\joblib\\parallel.py\", line 1918, in __call__\n    return output if self.return_generator else list(output)\n  File \"C:\\Users\\AmanP\\PycharmProjects\\PodstawyPython\\github\\.venv\\lib\\site-packages\\joblib\\parallel.py\", line 1847, in _get_sequential_output\n    res = func(*args, **kwargs)\n  File \"C:\\Users\\AmanP\\PycharmProjects\\PodstawyPython\\github\\.venv\\lib\\site-packages\\sklearn\\utils\\parallel.py\", line 127, in __call__\n    return self.function(*args, **kwargs)\n  File \"C:\\Users\\AmanP\\PycharmProjects\\PodstawyPython\\github\\.venv\\lib\\site-packages\\sklearn\\pipeline.py\", line 957, in _fit_transform_one\n    res = transformer.fit_transform(X, y, **fit_params)\n  File \"C:\\Users\\AmanP\\PycharmProjects\\PodstawyPython\\github\\.venv\\lib\\site-packages\\sklearn\\base.py\", line 1152, in wrapper\n    return fit_method(estimator, *args, **kwargs)\n  File \"C:\\Users\\AmanP\\PycharmProjects\\PodstawyPython\\github\\.venv\\lib\\site-packages\\sklearn\\pipeline.py\", line 471, in fit_transform\n    Xt = self._fit(X, y, **fit_params_steps)\n  File \"C:\\Users\\AmanP\\PycharmProjects\\PodstawyPython\\github\\.venv\\lib\\site-packages\\sklearn\\pipeline.py\", line 377, in _fit\n    X, fitted_transformer = fit_transform_one_cached(\n  File \"C:\\Users\\AmanP\\PycharmProjects\\PodstawyPython\\github\\.venv\\lib\\site-packages\\joblib\\memory.py\", line 312, in __call__\n    return self.func(*args, **kwargs)\n  File \"C:\\Users\\AmanP\\PycharmProjects\\PodstawyPython\\github\\.venv\\lib\\site-packages\\sklearn\\pipeline.py\", line 957, in _fit_transform_one\n    res = transformer.fit_transform(X, y, **fit_params)\n  File \"C:\\Users\\AmanP\\PycharmProjects\\PodstawyPython\\github\\.venv\\lib\\site-packages\\sklearn\\utils\\_set_output.py\", line 157, in wrapped\n    data_to_wrap = f(self, X, *args, **kwargs)\n  File \"C:\\Users\\AmanP\\PycharmProjects\\PodstawyPython\\github\\.venv\\lib\\site-packages\\sklearn\\base.py\", line 1152, in wrapper\n    return fit_method(estimator, *args, **kwargs)\n  File \"C:\\Users\\AmanP\\PycharmProjects\\PodstawyPython\\github\\.venv\\lib\\site-packages\\sklearn\\preprocessing\\_data.py\", line 3142, in fit_transform\n    return self._fit(X, y, force_transform=True)\n  File \"C:\\Users\\AmanP\\PycharmProjects\\PodstawyPython\\github\\.venv\\lib\\site-packages\\sklearn\\preprocessing\\_data.py\", line 3145, in _fit\n    X = self._check_input(X, in_fit=True, check_positive=True)\n  File \"C:\\Users\\AmanP\\PycharmProjects\\PodstawyPython\\github\\.venv\\lib\\site-packages\\sklearn\\preprocessing\\_data.py\", line 3383, in _check_input\n    X = self._validate_data(\n  File \"C:\\Users\\AmanP\\PycharmProjects\\PodstawyPython\\github\\.venv\\lib\\site-packages\\sklearn\\base.py\", line 605, in _validate_data\n    out = check_array(X, input_name=\"X\", **check_params)\n  File \"C:\\Users\\AmanP\\PycharmProjects\\PodstawyPython\\github\\.venv\\lib\\site-packages\\sklearn\\utils\\validation.py\", line 938, in check_array\n    raise ValueError(\nValueError: Expected 2D array, got 1D array instead:\narray=[ 69.3      0.      13.      13.5     13.       8.05     7.2292  16.1\n  13.      73.5     26.25     7.1417   8.3     10.5      9.      13.4167\n   6.75     7.8542   8.0292  15.05    15.      30.5      7.8958  30.0708\n   9.225   24.       7.8542   7.25    10.5     22.525   13.      10.5\n  10.5     61.3792  28.5      7.25    12.475    7.75     7.8958  13.\n 108.9     15.5      8.6625  83.1583  24.15     7.25     7.775   15.55\n  90.     153.4625   7.8542  50.4958   7.55     7.75    15.85    21.\n   7.25    39.      12.875    8.05    26.55     7.8958   7.8542   8.05\n  25.4667   7.225   14.4542 153.4625  27.9     30.6958  13.8583  10.5\n  38.5     13.     247.5208  16.     227.525    7.8958   7.5208  30.6958\n   7.925    7.7958  15.5     30.5     26.      39.6     30.5     14.5\n   7.75    26.       7.8958  23.       7.7958  18.      35.5      7.75\n  27.7208   7.55     7.25    73.5      8.5167   7.725   26.       8.6625\n   7.925   56.9292  29.7     32.3208   8.05     8.6625  21.075   10.5\n   6.2375  13.      10.4625   7.25    16.1     78.85    18.75     7.225\n   6.95   262.375  512.3292  69.55    26.55     7.75    20.25     7.775\n  52.      24.      27.7208   7.775   31.275    9.5     26.       4.0125\n   7.8958   7.2292   7.8958  46.9     14.4583  10.5     16.1     14.4542\n   7.7333  69.55    31.275    9.825   26.2875  31.275   17.8      7.125\n  56.4958   0.      29.125    0.      69.55     8.05    51.4792   7.8958\n  56.4958   7.775   10.5     27.75    13.      26.55    26.     151.55\n  89.1042  30.5    211.3375  14.5    151.55     7.75    26.      46.9\n   8.05    11.2417   7.8542  73.5      7.225    7.55    12.2875   8.05\n   7.925    7.7375  26.     120.       7.8958   7.8792   8.1125   0.\n  13.      39.      79.2     22.025   10.5      9.8458  21.     110.8833\n   8.05     8.6625  13.       7.75    53.1      9.8375   7.8542 110.8833\n 263.       7.8958   7.925   52.5542   7.8958  14.4583  22.3583   7.8958\n   7.75     8.6625  10.5     31.3875   7.925   13.      16.1     12.35\n  75.25     7.4958   8.05     7.775    7.8958  49.5042  18.       7.925\n  22.3583  52.5542  15.85    13.      36.75     8.05     7.125   80.\n  10.5     81.8583  83.475    8.05     7.925    7.7333  20.525    7.8958\n   7.8542 110.8833   8.05    57.       8.05    83.1583  10.1708  10.5\n  11.5     16.1      0.      56.4958   7.0458  31.3875   9.5     27.7208\n  26.      71.2833   7.4958   7.225    7.8958 133.65     7.75   164.8667\n  40.125    9.225   47.1     14.4583  23.25    26.       7.75    34.375\n   8.05    10.5     86.5      0.       0.      29.7      8.05    14.4\n  10.5     26.       8.05     8.05     7.75     8.05    10.5      7.25\n  26.25     6.45    14.5      7.75     7.8958  52.     134.5      9.5\n  26.55     7.8792   7.8958  21.      26.      69.55    26.      25.925\n   7.875    8.05     9.35     8.05     7.8958  29.125    7.925    9.5\n 211.3375  26.2833  26.       7.125   13.      10.5      7.75     7.775\n   8.85    31.      16.7      9.35    71.      10.4625 113.275    7.925\n   8.6625  27.7208   7.55    26.3875   7.925    8.05   135.6333  15.5\n  26.       7.6292 263.       7.05    20.575   26.55    15.7417   9.5\n   7.8542  18.75    26.55     7.775   27.9     26.       7.75    61.175\n   7.8958  23.       8.05     9.       9.5875  39.6875  52.       7.775\n 227.525   13.       7.8958  24.15    13.5      8.4042 113.275    9.5\n   7.05     8.6833   8.6625  26.25    76.7292  86.5      7.75    31.275\n  15.1     13.      19.9667  73.5     26.55     7.8958   7.8292   0.\n   7.4958  15.2458  15.85    11.1333   8.05    10.5     27.75    27.75\n  20.2125 211.5     46.9     78.2667   7.0542  26.55   134.5     15.5\n  90.       7.75    35.5     29.       7.2292  90.      73.5     24.15\n   7.125   23.25    11.1333   7.2292   7.8542  80.      15.5     34.375\n  24.15    27.9     29.125   49.5042  26.      89.1042   7.8958   8.05\n  49.5    263.      15.2458   7.75    26.55     7.8542   8.05    10.5\n  79.65     8.05    14.5     26.      53.1     15.9     65.      13.7917\n  79.2      8.1583  34.0208  13.      10.5      8.05     7.8     59.4\n   7.2292 151.55    55.9    106.425   13.5     13.      15.5     26.55\n   6.975    7.8792   7.225   30.     120.      33.       7.3125   6.4958\n  30.      26.       7.8958   8.6625  77.9583   6.4375   0.      91.0792\n   7.7958  10.5      7.75    16.7     56.4958  13.       8.05    10.5167\n   8.1375   8.05    78.85     6.8583  30.      13.     227.525   26.\n  15.0458  25.4667  86.5     17.4     30.      11.2417  26.       7.925\n  19.9667  12.475   37.0042   7.925    7.75    41.5792  16.1     69.55\n  35.5     25.4667  90.      14.4542   7.75    39.6875   9.825  512.3292\n   7.75     7.8542  13.       7.65    24.15    13.     262.375   23.\n  12.35     7.925    7.25     7.75  ].\nReshape your data either using array.reshape(-1, 1) if your data has a single feature or array.reshape(1, -1) if it contains a single sample.\n\nThe above exception was the direct cause of the following exception:\n\nTraceback (most recent call last):\n  File \"C:\\Users\\AmanP\\PycharmProjects\\PodstawyPython\\github\\.venv\\lib\\site-packages\\sklearn\\model_selection\\_validation.py\", line 729, in _fit_and_score\n    estimator.fit(X_train, y_train, **fit_params)\n  File \"C:\\Users\\AmanP\\PycharmProjects\\PodstawyPython\\github\\.venv\\lib\\site-packages\\sklearn\\base.py\", line 1152, in wrapper\n    return fit_method(estimator, *args, **kwargs)\n  File \"C:\\Users\\AmanP\\PycharmProjects\\PodstawyPython\\github\\.venv\\lib\\site-packages\\sklearn\\pipeline.py\", line 423, in fit\n    Xt = self._fit(X, y, **fit_params_steps)\n  File \"C:\\Users\\AmanP\\PycharmProjects\\PodstawyPython\\github\\.venv\\lib\\site-packages\\sklearn\\pipeline.py\", line 377, in _fit\n    X, fitted_transformer = fit_transform_one_cached(\n  File \"C:\\Users\\AmanP\\PycharmProjects\\PodstawyPython\\github\\.venv\\lib\\site-packages\\joblib\\memory.py\", line 312, in __call__\n    return self.func(*args, **kwargs)\n  File \"C:\\Users\\AmanP\\PycharmProjects\\PodstawyPython\\github\\.venv\\lib\\site-packages\\sklearn\\pipeline.py\", line 957, in _fit_transform_one\n    res = transformer.fit_transform(X, y, **fit_params)\n  File \"C:\\Users\\AmanP\\PycharmProjects\\PodstawyPython\\github\\.venv\\lib\\site-packages\\sklearn\\utils\\_set_output.py\", line 157, in wrapped\n    data_to_wrap = f(self, X, *args, **kwargs)\n  File \"C:\\Users\\AmanP\\PycharmProjects\\PodstawyPython\\github\\.venv\\lib\\site-packages\\sklearn\\base.py\", line 1152, in wrapper\n    return fit_method(estimator, *args, **kwargs)\n  File \"C:\\Users\\AmanP\\PycharmProjects\\PodstawyPython\\github\\.venv\\lib\\site-packages\\sklearn\\compose\\_column_transformer.py\", line 754, in fit_transform\n    result = self._fit_transform(X, y, _fit_transform_one)\n  File \"C:\\Users\\AmanP\\PycharmProjects\\PodstawyPython\\github\\.venv\\lib\\site-packages\\sklearn\\compose\\_column_transformer.py\", line 694, in _fit_transform\n    raise ValueError(_ERR_MSG_1DCOLUMN) from e\nValueError: 1D data passed to a transformer that expects 2D data. Try to specify the column selection as a list of one item instead of a scalar.\n\n--------------------------------------------------------------------------------\n32 fits failed with the following error:\nTraceback (most recent call last):\n  File \"C:\\Users\\AmanP\\PycharmProjects\\PodstawyPython\\github\\.venv\\lib\\site-packages\\sklearn\\compose\\_column_transformer.py\", line 681, in _fit_transform\n    return Parallel(n_jobs=self.n_jobs)(\n  File \"C:\\Users\\AmanP\\PycharmProjects\\PodstawyPython\\github\\.venv\\lib\\site-packages\\sklearn\\utils\\parallel.py\", line 65, in __call__\n    return super().__call__(iterable_with_config)\n  File \"C:\\Users\\AmanP\\PycharmProjects\\PodstawyPython\\github\\.venv\\lib\\site-packages\\joblib\\parallel.py\", line 1918, in __call__\n    return output if self.return_generator else list(output)\n  File \"C:\\Users\\AmanP\\PycharmProjects\\PodstawyPython\\github\\.venv\\lib\\site-packages\\joblib\\parallel.py\", line 1847, in _get_sequential_output\n    res = func(*args, **kwargs)\n  File \"C:\\Users\\AmanP\\PycharmProjects\\PodstawyPython\\github\\.venv\\lib\\site-packages\\sklearn\\utils\\parallel.py\", line 127, in __call__\n    return self.function(*args, **kwargs)\n  File \"C:\\Users\\AmanP\\PycharmProjects\\PodstawyPython\\github\\.venv\\lib\\site-packages\\sklearn\\pipeline.py\", line 957, in _fit_transform_one\n    res = transformer.fit_transform(X, y, **fit_params)\n  File \"C:\\Users\\AmanP\\PycharmProjects\\PodstawyPython\\github\\.venv\\lib\\site-packages\\sklearn\\base.py\", line 1152, in wrapper\n    return fit_method(estimator, *args, **kwargs)\n  File \"C:\\Users\\AmanP\\PycharmProjects\\PodstawyPython\\github\\.venv\\lib\\site-packages\\sklearn\\pipeline.py\", line 471, in fit_transform\n    Xt = self._fit(X, y, **fit_params_steps)\n  File \"C:\\Users\\AmanP\\PycharmProjects\\PodstawyPython\\github\\.venv\\lib\\site-packages\\sklearn\\pipeline.py\", line 377, in _fit\n    X, fitted_transformer = fit_transform_one_cached(\n  File \"C:\\Users\\AmanP\\PycharmProjects\\PodstawyPython\\github\\.venv\\lib\\site-packages\\joblib\\memory.py\", line 312, in __call__\n    return self.func(*args, **kwargs)\n  File \"C:\\Users\\AmanP\\PycharmProjects\\PodstawyPython\\github\\.venv\\lib\\site-packages\\sklearn\\pipeline.py\", line 957, in _fit_transform_one\n    res = transformer.fit_transform(X, y, **fit_params)\n  File \"C:\\Users\\AmanP\\PycharmProjects\\PodstawyPython\\github\\.venv\\lib\\site-packages\\sklearn\\utils\\_set_output.py\", line 157, in wrapped\n    data_to_wrap = f(self, X, *args, **kwargs)\n  File \"C:\\Users\\AmanP\\PycharmProjects\\PodstawyPython\\github\\.venv\\lib\\site-packages\\sklearn\\base.py\", line 1152, in wrapper\n    return fit_method(estimator, *args, **kwargs)\n  File \"C:\\Users\\AmanP\\PycharmProjects\\PodstawyPython\\github\\.venv\\lib\\site-packages\\sklearn\\preprocessing\\_data.py\", line 3142, in fit_transform\n    return self._fit(X, y, force_transform=True)\n  File \"C:\\Users\\AmanP\\PycharmProjects\\PodstawyPython\\github\\.venv\\lib\\site-packages\\sklearn\\preprocessing\\_data.py\", line 3145, in _fit\n    X = self._check_input(X, in_fit=True, check_positive=True)\n  File \"C:\\Users\\AmanP\\PycharmProjects\\PodstawyPython\\github\\.venv\\lib\\site-packages\\sklearn\\preprocessing\\_data.py\", line 3383, in _check_input\n    X = self._validate_data(\n  File \"C:\\Users\\AmanP\\PycharmProjects\\PodstawyPython\\github\\.venv\\lib\\site-packages\\sklearn\\base.py\", line 605, in _validate_data\n    out = check_array(X, input_name=\"X\", **check_params)\n  File \"C:\\Users\\AmanP\\PycharmProjects\\PodstawyPython\\github\\.venv\\lib\\site-packages\\sklearn\\utils\\validation.py\", line 938, in check_array\n    raise ValueError(\nValueError: Expected 2D array, got 1D array instead:\narray=[ 69.3     13.      13.5     13.       8.05    14.5      9.5      7.2292\n  16.1     13.      73.5     26.25     7.1417   8.3     10.5      9.\n  13.4167   8.05     6.75    19.5      7.8542   8.0292  15.05    15.\n   7.8958  30.0708   9.225    7.8542   7.25    22.525   13.      10.5\n  10.5     61.3792  28.5      7.25    12.475    7.75     7.8958  13.\n 108.9     15.5      8.6625  83.1583  24.15     7.25     7.775  512.3292\n  15.55    90.     153.4625   7.8542   7.925    7.55     7.75    21.\n   7.25    39.      12.875    8.05    26.55     7.8958   7.8542   8.05\n  25.4667   7.225   14.4542 153.4625  27.9      7.925   30.6958  13.8583\n  10.5     38.5     13.       8.05   247.5208  16.       7.8958   7.5208\n  30.6958   7.925    7.7958  15.5     20.575   30.5     26.      39.6\n  30.5     14.5      7.75     7.7958  18.      35.5      7.75    27.7208\n   7.55    73.5      8.5167   7.725   26.       8.6625   7.925   56.9292\n  32.3208   8.05     8.6625  18.      21.075   10.5      6.2375  13.\n  10.4625   7.25    16.1     78.85    18.75     7.225    6.95   512.3292\n  69.55    26.55     7.75    20.25     7.775   52.      24.      27.7208\n   8.05     7.775    9.5    211.3375  26.       4.0125   7.8958   7.2292\n  14.4583  10.5     16.1      7.7333  69.55    31.275    9.825   26.2875\n  31.275   17.8      7.125   56.4958   0.      29.125    0.      69.55\n   8.05    51.4792   7.8958  56.4958   7.775   10.5     27.75    26.55\n  26.     151.55    79.2     89.1042  30.5    211.3375  14.5    151.55\n   7.2292   7.75    26.      46.9      8.05    73.5      7.225    7.55\n  52.      12.2875   8.05     7.925    7.7375  26.     120.       7.8958\n   7.8792   8.1125   0.      26.      39.      79.2     22.025   10.5\n   9.8458  21.     110.8833   8.05     8.6625  13.      79.65     7.75\n  53.1      9.8375   7.8542 110.8833 263.       7.8958   7.925    7.8958\n   7.7958  10.5     14.4583  22.3583   7.8958   8.6625  31.3875   7.925\n  13.      16.1     12.35    75.25     7.4958   8.05     7.775   49.5042\n  18.      16.1      7.925   22.3583  41.5792  52.5542  15.5     51.8625\n  79.65    15.85    13.      36.75     8.05    80.      81.8583  83.475\n   8.05     7.925    7.7333  20.525    7.8958   7.8542 110.8833   8.05\n   7.925   57.       8.05    83.1583  10.1708  10.5      9.5     11.5\n  16.1      0.      56.4958   0.      31.3875   9.5     27.7208  26.\n  71.2833   7.4958   7.225    7.8958 133.65     7.75   164.8667  40.125\n  47.1     23.25    26.       7.925   34.375    8.05    10.5      0.\n   0.       8.05    14.4      5.      13.      10.5     76.2917  26.\n   8.05     8.05     6.75     7.75     8.05    10.5      7.25    26.25\n   6.45    14.5      7.75     7.8958  52.       9.5     26.55     7.8792\n   7.8958  21.      52.      26.      69.55    26.      25.925   53.1\n   7.875    8.05     9.35     8.05     7.8958  29.125   77.9583   7.925\n   9.5    211.3375  26.2833  26.       7.125   13.      10.5      7.75\n   8.85    16.7     71.      10.4625  18.7875 113.275    7.925    8.6625\n   7.55    26.3875   7.925  135.6333  15.5     26.      26.     263.\n   7.05    20.575   26.55    15.7417   9.5     18.75    26.55     7.775\n  27.9     26.       7.75    61.175    7.8958  23.       8.05     9.\n   9.5875  39.6875  52.     227.525   13.       7.8958  24.15   153.4625\n   8.4042 113.275    9.5      7.05     8.6833   0.      14.5      8.6625\n  34.375   76.7292   7.75    31.275   15.1     13.      19.9667  73.5\n  26.55     7.8958   7.8292   0.       7.4958  15.2458  27.9     15.85\n  11.1333   8.05    27.75    27.75    20.2125 211.5     46.9     78.2667\n   7.0542  26.55   134.5     15.5     90.       7.75   263.      35.5\n  29.       7.8958   7.2292  90.      73.5     24.15     7.125   23.25\n  11.1333   7.2292   7.8542  80.      15.5     34.375   24.15    27.9\n  76.7292  49.5042  26.      89.1042   8.05    49.5    263.      15.2458\n   7.75    26.55     7.8542   8.05    10.5     79.65     8.05    14.5\n  26.      53.1      7.225   65.      13.7917   7.225   79.2      8.1583\n  34.0208  13.      10.5      8.05    71.      59.4      7.05    26.\n   7.2292 151.55    55.9    106.425   13.5     13.      15.5     26.55\n   6.975    7.8792   7.225   15.2458 120.      33.       7.3125   6.4958\n  30.      26.       7.8958   8.6625  77.9583   6.4375  91.0792   7.7958\n  16.7     56.4958  13.      13.       8.05    10.5167   8.1375   8.05\n  78.85     6.8583  13.       7.8792  69.55   227.525   26.      15.0458\n  25.4667  17.4     33.      30.      11.2417  26.       7.925   12.475\n  37.0042   7.925    7.75    41.5792   7.8958  16.1     69.55    35.5\n  25.4667  14.4542  90.     106.425   14.4542   7.75    39.6875   9.825\n  34.6542 512.3292   7.75     7.8542   7.65    24.15    13.     262.375\n  23.       7.925    7.25     7.75  ].\nReshape your data either using array.reshape(-1, 1) if your data has a single feature or array.reshape(1, -1) if it contains a single sample.\n\nThe above exception was the direct cause of the following exception:\n\nTraceback (most recent call last):\n  File \"C:\\Users\\AmanP\\PycharmProjects\\PodstawyPython\\github\\.venv\\lib\\site-packages\\sklearn\\model_selection\\_validation.py\", line 729, in _fit_and_score\n    estimator.fit(X_train, y_train, **fit_params)\n  File \"C:\\Users\\AmanP\\PycharmProjects\\PodstawyPython\\github\\.venv\\lib\\site-packages\\sklearn\\base.py\", line 1152, in wrapper\n    return fit_method(estimator, *args, **kwargs)\n  File \"C:\\Users\\AmanP\\PycharmProjects\\PodstawyPython\\github\\.venv\\lib\\site-packages\\sklearn\\pipeline.py\", line 423, in fit\n    Xt = self._fit(X, y, **fit_params_steps)\n  File \"C:\\Users\\AmanP\\PycharmProjects\\PodstawyPython\\github\\.venv\\lib\\site-packages\\sklearn\\pipeline.py\", line 377, in _fit\n    X, fitted_transformer = fit_transform_one_cached(\n  File \"C:\\Users\\AmanP\\PycharmProjects\\PodstawyPython\\github\\.venv\\lib\\site-packages\\joblib\\memory.py\", line 312, in __call__\n    return self.func(*args, **kwargs)\n  File \"C:\\Users\\AmanP\\PycharmProjects\\PodstawyPython\\github\\.venv\\lib\\site-packages\\sklearn\\pipeline.py\", line 957, in _fit_transform_one\n    res = transformer.fit_transform(X, y, **fit_params)\n  File \"C:\\Users\\AmanP\\PycharmProjects\\PodstawyPython\\github\\.venv\\lib\\site-packages\\sklearn\\utils\\_set_output.py\", line 157, in wrapped\n    data_to_wrap = f(self, X, *args, **kwargs)\n  File \"C:\\Users\\AmanP\\PycharmProjects\\PodstawyPython\\github\\.venv\\lib\\site-packages\\sklearn\\base.py\", line 1152, in wrapper\n    return fit_method(estimator, *args, **kwargs)\n  File \"C:\\Users\\AmanP\\PycharmProjects\\PodstawyPython\\github\\.venv\\lib\\site-packages\\sklearn\\compose\\_column_transformer.py\", line 754, in fit_transform\n    result = self._fit_transform(X, y, _fit_transform_one)\n  File \"C:\\Users\\AmanP\\PycharmProjects\\PodstawyPython\\github\\.venv\\lib\\site-packages\\sklearn\\compose\\_column_transformer.py\", line 694, in _fit_transform\n    raise ValueError(_ERR_MSG_1DCOLUMN) from e\nValueError: 1D data passed to a transformer that expects 2D data. Try to specify the column selection as a list of one item instead of a scalar.\n\n--------------------------------------------------------------------------------\n32 fits failed with the following error:\nTraceback (most recent call last):\n  File \"C:\\Users\\AmanP\\PycharmProjects\\PodstawyPython\\github\\.venv\\lib\\site-packages\\sklearn\\compose\\_column_transformer.py\", line 681, in _fit_transform\n    return Parallel(n_jobs=self.n_jobs)(\n  File \"C:\\Users\\AmanP\\PycharmProjects\\PodstawyPython\\github\\.venv\\lib\\site-packages\\sklearn\\utils\\parallel.py\", line 65, in __call__\n    return super().__call__(iterable_with_config)\n  File \"C:\\Users\\AmanP\\PycharmProjects\\PodstawyPython\\github\\.venv\\lib\\site-packages\\joblib\\parallel.py\", line 1918, in __call__\n    return output if self.return_generator else list(output)\n  File \"C:\\Users\\AmanP\\PycharmProjects\\PodstawyPython\\github\\.venv\\lib\\site-packages\\joblib\\parallel.py\", line 1847, in _get_sequential_output\n    res = func(*args, **kwargs)\n  File \"C:\\Users\\AmanP\\PycharmProjects\\PodstawyPython\\github\\.venv\\lib\\site-packages\\sklearn\\utils\\parallel.py\", line 127, in __call__\n    return self.function(*args, **kwargs)\n  File \"C:\\Users\\AmanP\\PycharmProjects\\PodstawyPython\\github\\.venv\\lib\\site-packages\\sklearn\\pipeline.py\", line 957, in _fit_transform_one\n    res = transformer.fit_transform(X, y, **fit_params)\n  File \"C:\\Users\\AmanP\\PycharmProjects\\PodstawyPython\\github\\.venv\\lib\\site-packages\\sklearn\\base.py\", line 1152, in wrapper\n    return fit_method(estimator, *args, **kwargs)\n  File \"C:\\Users\\AmanP\\PycharmProjects\\PodstawyPython\\github\\.venv\\lib\\site-packages\\sklearn\\pipeline.py\", line 471, in fit_transform\n    Xt = self._fit(X, y, **fit_params_steps)\n  File \"C:\\Users\\AmanP\\PycharmProjects\\PodstawyPython\\github\\.venv\\lib\\site-packages\\sklearn\\pipeline.py\", line 377, in _fit\n    X, fitted_transformer = fit_transform_one_cached(\n  File \"C:\\Users\\AmanP\\PycharmProjects\\PodstawyPython\\github\\.venv\\lib\\site-packages\\joblib\\memory.py\", line 312, in __call__\n    return self.func(*args, **kwargs)\n  File \"C:\\Users\\AmanP\\PycharmProjects\\PodstawyPython\\github\\.venv\\lib\\site-packages\\sklearn\\pipeline.py\", line 957, in _fit_transform_one\n    res = transformer.fit_transform(X, y, **fit_params)\n  File \"C:\\Users\\AmanP\\PycharmProjects\\PodstawyPython\\github\\.venv\\lib\\site-packages\\sklearn\\utils\\_set_output.py\", line 157, in wrapped\n    data_to_wrap = f(self, X, *args, **kwargs)\n  File \"C:\\Users\\AmanP\\PycharmProjects\\PodstawyPython\\github\\.venv\\lib\\site-packages\\sklearn\\base.py\", line 1152, in wrapper\n    return fit_method(estimator, *args, **kwargs)\n  File \"C:\\Users\\AmanP\\PycharmProjects\\PodstawyPython\\github\\.venv\\lib\\site-packages\\sklearn\\preprocessing\\_data.py\", line 3142, in fit_transform\n    return self._fit(X, y, force_transform=True)\n  File \"C:\\Users\\AmanP\\PycharmProjects\\PodstawyPython\\github\\.venv\\lib\\site-packages\\sklearn\\preprocessing\\_data.py\", line 3145, in _fit\n    X = self._check_input(X, in_fit=True, check_positive=True)\n  File \"C:\\Users\\AmanP\\PycharmProjects\\PodstawyPython\\github\\.venv\\lib\\site-packages\\sklearn\\preprocessing\\_data.py\", line 3383, in _check_input\n    X = self._validate_data(\n  File \"C:\\Users\\AmanP\\PycharmProjects\\PodstawyPython\\github\\.venv\\lib\\site-packages\\sklearn\\base.py\", line 605, in _validate_data\n    out = check_array(X, input_name=\"X\", **check_params)\n  File \"C:\\Users\\AmanP\\PycharmProjects\\PodstawyPython\\github\\.venv\\lib\\site-packages\\sklearn\\utils\\validation.py\", line 938, in check_array\n    raise ValueError(\nValueError: Expected 2D array, got 1D array instead:\narray=[ 69.3      0.      13.      13.5     14.5      9.5      7.2292  16.1\n  13.      73.5     26.25     8.3     10.5      9.      13.4167   8.05\n   6.75    19.5      7.8542   8.0292  15.05    15.      30.5      7.8958\n  30.0708   9.225   24.       7.8542   7.25    10.5     22.525   13.\n  10.5     10.5     61.3792  28.5      7.25    12.475    7.75     7.8958\n  13.     108.9     15.5      8.6625  83.1583  24.15     7.25     7.775\n 512.3292  15.55   153.4625   7.8542   7.925   50.4958   7.55    15.85\n  21.       7.25    39.      12.875    8.05     7.8958   8.05     7.225\n  14.4542 153.4625  27.9      7.925   30.6958  13.8583  10.5     38.5\n  13.       8.05   247.5208  16.     227.525    7.5208  30.6958   7.925\n   7.7958  15.5     20.575   26.      39.6     30.5     14.5      7.75\n  26.       7.8958  23.       7.7958  18.      35.5      7.75     7.55\n   7.25    73.5      8.5167   7.725   26.       7.925   56.9292  29.7\n  32.3208   8.05     8.6625  18.      21.075   10.5      6.2375  13.\n  10.4625   7.25    16.1     78.85    18.75     7.225    6.95   262.375\n 512.3292  69.55    26.55     7.75    20.25     7.775   52.      24.\n  27.7208   8.05     7.775   31.275    9.5    211.3375  26.       4.0125\n   7.8958   7.2292   7.8958  46.9     14.4583  10.5     16.1     14.4542\n  69.55    31.275    9.825   26.2875  31.275    7.125    0.      29.125\n   0.      69.55     8.05    51.4792   7.8958  56.4958   7.775   10.5\n  27.75    13.      26.55    26.     151.55    79.2    211.3375   7.2292\n   7.75    26.      46.9      8.05    11.2417   7.8542  73.5      7.225\n   7.55    52.      12.2875   8.05     7.925    7.7375  26.     120.\n   7.8958   7.8792   8.1125   0.      13.      26.      39.      79.2\n  22.025    9.8458  21.     110.8833   8.05    13.      79.65     7.75\n  53.1      9.8375   7.8542 110.8833   7.8958   7.925   52.5542   7.8958\n   7.7958  10.5     14.4583   7.8958   7.75     8.6625  10.5     31.3875\n   7.925   13.      16.1     12.35    75.25     7.4958   7.775    7.8958\n  49.5042  18.      16.1      7.925   22.3583  41.5792  52.5542  15.5\n  51.8625  79.65    15.85    36.75     8.05     7.125   80.      10.5\n  81.8583  83.475    8.05     7.925    7.7333  20.525    7.8958   7.8542\n 110.8833   8.05     7.925    8.05    83.1583  10.1708  10.5      9.5\n  11.5     16.1      0.      56.4958   0.       7.0458   9.5     27.7208\n   7.4958   7.225    7.8958 133.65     7.75   164.8667  40.125    9.225\n  47.1     14.4583  23.25    26.       7.75     7.925   34.375    8.05\n  10.5     86.5      0.       0.      29.7     14.4      5.      13.\n  10.5     76.2917  26.       6.75     7.75     8.05    10.5     26.25\n   6.45    14.5      7.75     7.8958  52.     134.5      9.5     26.55\n   7.8792   7.8958  21.      52.      26.      69.55    26.      25.925\n  53.1      7.875    8.05     9.35     8.05     7.8958  77.9583   7.925\n   9.5    211.3375  26.2833   7.125   13.       7.75     7.775    8.85\n  31.      16.7      9.35    71.      10.4625  18.7875 113.275    7.925\n   8.6625  27.7208  26.3875   8.05   135.6333  26.      26.       7.6292\n 263.       7.05    20.575   26.55    15.7417   9.5      7.8542  18.75\n  26.55     7.775   27.9     26.       7.75    61.175    7.8958  23.\n   8.05     9.5875  39.6875   7.775  227.525   13.       7.8958  24.15\n  13.5    153.4625   8.4042 113.275    9.5      7.05     8.6833   0.\n  14.5     26.25    34.375   76.7292  86.5      7.75    31.275   15.1\n  13.      19.9667  26.55     7.8958   7.8292   0.       7.4958  15.2458\n  27.9     15.85    11.1333  10.5     27.75    27.75    20.2125 211.5\n  46.9     78.2667   7.0542  26.55   134.5     15.5     90.       7.75\n 263.      35.5     29.       7.8958   7.2292  24.15     7.125   23.25\n  11.1333   7.2292   7.8542  80.      15.5     34.375   27.9     76.7292\n  29.125   49.5042  26.      89.1042   7.8958   8.05    49.5    263.\n  15.2458   7.75    26.55     8.05    10.5     79.65     8.05    14.5\n  53.1      7.225   15.9     65.      13.7917   7.225   79.2      8.1583\n  34.0208  10.5      8.05    71.       7.8     59.4      7.05    26.\n   7.2292  55.9    106.425   13.5     13.      15.5     26.55     6.975\n   7.8792   7.225   15.2458  30.      33.       7.3125   6.4958  30.\n  26.       7.8958   8.6625   6.4375   0.      91.0792   7.7958  10.5\n   7.75    16.7     13.      10.5167   8.1375   8.05    78.85     6.8583\n  30.      13.       7.8792  69.55   227.525   26.      15.0458  25.4667\n  86.5     17.4     33.      30.      26.       7.925   19.9667  12.475\n  37.0042   7.925    7.75    41.5792   7.8958  16.1     69.55    35.5\n  25.4667  14.4542  90.     106.425   14.4542   7.75    39.6875   9.825\n  34.6542 512.3292   7.75     7.8542  13.       7.65    24.15    13.\n  23.      12.35     7.25     7.75  ].\nReshape your data either using array.reshape(-1, 1) if your data has a single feature or array.reshape(1, -1) if it contains a single sample.\n\nThe above exception was the direct cause of the following exception:\n\nTraceback (most recent call last):\n  File \"C:\\Users\\AmanP\\PycharmProjects\\PodstawyPython\\github\\.venv\\lib\\site-packages\\sklearn\\model_selection\\_validation.py\", line 729, in _fit_and_score\n    estimator.fit(X_train, y_train, **fit_params)\n  File \"C:\\Users\\AmanP\\PycharmProjects\\PodstawyPython\\github\\.venv\\lib\\site-packages\\sklearn\\base.py\", line 1152, in wrapper\n    return fit_method(estimator, *args, **kwargs)\n  File \"C:\\Users\\AmanP\\PycharmProjects\\PodstawyPython\\github\\.venv\\lib\\site-packages\\sklearn\\pipeline.py\", line 423, in fit\n    Xt = self._fit(X, y, **fit_params_steps)\n  File \"C:\\Users\\AmanP\\PycharmProjects\\PodstawyPython\\github\\.venv\\lib\\site-packages\\sklearn\\pipeline.py\", line 377, in _fit\n    X, fitted_transformer = fit_transform_one_cached(\n  File \"C:\\Users\\AmanP\\PycharmProjects\\PodstawyPython\\github\\.venv\\lib\\site-packages\\joblib\\memory.py\", line 312, in __call__\n    return self.func(*args, **kwargs)\n  File \"C:\\Users\\AmanP\\PycharmProjects\\PodstawyPython\\github\\.venv\\lib\\site-packages\\sklearn\\pipeline.py\", line 957, in _fit_transform_one\n    res = transformer.fit_transform(X, y, **fit_params)\n  File \"C:\\Users\\AmanP\\PycharmProjects\\PodstawyPython\\github\\.venv\\lib\\site-packages\\sklearn\\utils\\_set_output.py\", line 157, in wrapped\n    data_to_wrap = f(self, X, *args, **kwargs)\n  File \"C:\\Users\\AmanP\\PycharmProjects\\PodstawyPython\\github\\.venv\\lib\\site-packages\\sklearn\\base.py\", line 1152, in wrapper\n    return fit_method(estimator, *args, **kwargs)\n  File \"C:\\Users\\AmanP\\PycharmProjects\\PodstawyPython\\github\\.venv\\lib\\site-packages\\sklearn\\compose\\_column_transformer.py\", line 754, in fit_transform\n    result = self._fit_transform(X, y, _fit_transform_one)\n  File \"C:\\Users\\AmanP\\PycharmProjects\\PodstawyPython\\github\\.venv\\lib\\site-packages\\sklearn\\compose\\_column_transformer.py\", line 694, in _fit_transform\n    raise ValueError(_ERR_MSG_1DCOLUMN) from e\nValueError: 1D data passed to a transformer that expects 2D data. Try to specify the column selection as a list of one item instead of a scalar.\n",
     "output_type": "error",
     "traceback": [
      "\u001b[1;31m---------------------------------------------------------------------------\u001b[0m",
      "\u001b[1;31mValueError\u001b[0m                                Traceback (most recent call last)",
      "Cell \u001b[1;32mIn[132], line 42\u001b[0m\n\u001b[0;32m     40\u001b[0m cv \u001b[38;5;241m=\u001b[39m KFold(n_splits\u001b[38;5;241m=\u001b[39m\u001b[38;5;241m10\u001b[39m, shuffle\u001b[38;5;241m=\u001b[39m\u001b[38;5;28;01mTrue\u001b[39;00m)\n\u001b[0;32m     41\u001b[0m optimizer \u001b[38;5;241m=\u001b[39m GridSearchCV(pipeline, param_grid, cv\u001b[38;5;241m=\u001b[39mcv, scoring\u001b[38;5;241m=\u001b[39m\u001b[38;5;124m'\u001b[39m\u001b[38;5;124maccuracy\u001b[39m\u001b[38;5;124m'\u001b[39m, n_jobs\u001b[38;5;241m=\u001b[39m\u001b[38;5;241m-\u001b[39m\u001b[38;5;241m1\u001b[39m)\n\u001b[1;32m---> 42\u001b[0m \u001b[43moptimizer\u001b[49m\u001b[38;5;241;43m.\u001b[39;49m\u001b[43mfit\u001b[49m\u001b[43m(\u001b[49m\u001b[43mX_train\u001b[49m\u001b[43m,\u001b[49m\u001b[43m \u001b[49m\u001b[43my_train\u001b[49m\u001b[43m)\u001b[49m\n\u001b[0;32m     44\u001b[0m accuracy_score(y_test, (optimizer\u001b[38;5;241m.\u001b[39mbest_estimator_\u001b[38;5;241m.\u001b[39mpredict(X_test)))\n",
      "File \u001b[1;32m~\\PycharmProjects\\PodstawyPython\\github\\.venv\\lib\\site-packages\\sklearn\\base.py:1152\u001b[0m, in \u001b[0;36m_fit_context.<locals>.decorator.<locals>.wrapper\u001b[1;34m(estimator, *args, **kwargs)\u001b[0m\n\u001b[0;32m   1145\u001b[0m     estimator\u001b[38;5;241m.\u001b[39m_validate_params()\n\u001b[0;32m   1147\u001b[0m \u001b[38;5;28;01mwith\u001b[39;00m config_context(\n\u001b[0;32m   1148\u001b[0m     skip_parameter_validation\u001b[38;5;241m=\u001b[39m(\n\u001b[0;32m   1149\u001b[0m         prefer_skip_nested_validation \u001b[38;5;129;01mor\u001b[39;00m global_skip_validation\n\u001b[0;32m   1150\u001b[0m     )\n\u001b[0;32m   1151\u001b[0m ):\n\u001b[1;32m-> 1152\u001b[0m     \u001b[38;5;28;01mreturn\u001b[39;00m \u001b[43mfit_method\u001b[49m\u001b[43m(\u001b[49m\u001b[43mestimator\u001b[49m\u001b[43m,\u001b[49m\u001b[43m \u001b[49m\u001b[38;5;241;43m*\u001b[39;49m\u001b[43margs\u001b[49m\u001b[43m,\u001b[49m\u001b[43m \u001b[49m\u001b[38;5;241;43m*\u001b[39;49m\u001b[38;5;241;43m*\u001b[39;49m\u001b[43mkwargs\u001b[49m\u001b[43m)\u001b[49m\n",
      "File \u001b[1;32m~\\PycharmProjects\\PodstawyPython\\github\\.venv\\lib\\site-packages\\sklearn\\model_selection\\_search.py:898\u001b[0m, in \u001b[0;36mBaseSearchCV.fit\u001b[1;34m(self, X, y, groups, **fit_params)\u001b[0m\n\u001b[0;32m    892\u001b[0m     results \u001b[38;5;241m=\u001b[39m \u001b[38;5;28mself\u001b[39m\u001b[38;5;241m.\u001b[39m_format_results(\n\u001b[0;32m    893\u001b[0m         all_candidate_params, n_splits, all_out, all_more_results\n\u001b[0;32m    894\u001b[0m     )\n\u001b[0;32m    896\u001b[0m     \u001b[38;5;28;01mreturn\u001b[39;00m results\n\u001b[1;32m--> 898\u001b[0m \u001b[38;5;28;43mself\u001b[39;49m\u001b[38;5;241;43m.\u001b[39;49m\u001b[43m_run_search\u001b[49m\u001b[43m(\u001b[49m\u001b[43mevaluate_candidates\u001b[49m\u001b[43m)\u001b[49m\n\u001b[0;32m    900\u001b[0m \u001b[38;5;66;03m# multimetric is determined here because in the case of a callable\u001b[39;00m\n\u001b[0;32m    901\u001b[0m \u001b[38;5;66;03m# self.scoring the return type is only known after calling\u001b[39;00m\n\u001b[0;32m    902\u001b[0m first_test_score \u001b[38;5;241m=\u001b[39m all_out[\u001b[38;5;241m0\u001b[39m][\u001b[38;5;124m\"\u001b[39m\u001b[38;5;124mtest_scores\u001b[39m\u001b[38;5;124m\"\u001b[39m]\n",
      "File \u001b[1;32m~\\PycharmProjects\\PodstawyPython\\github\\.venv\\lib\\site-packages\\sklearn\\model_selection\\_search.py:1422\u001b[0m, in \u001b[0;36mGridSearchCV._run_search\u001b[1;34m(self, evaluate_candidates)\u001b[0m\n\u001b[0;32m   1420\u001b[0m \u001b[38;5;28;01mdef\u001b[39;00m\u001b[38;5;250m \u001b[39m\u001b[38;5;21m_run_search\u001b[39m(\u001b[38;5;28mself\u001b[39m, evaluate_candidates):\n\u001b[0;32m   1421\u001b[0m \u001b[38;5;250m    \u001b[39m\u001b[38;5;124;03m\"\"\"Search all candidates in param_grid\"\"\"\u001b[39;00m\n\u001b[1;32m-> 1422\u001b[0m     \u001b[43mevaluate_candidates\u001b[49m\u001b[43m(\u001b[49m\u001b[43mParameterGrid\u001b[49m\u001b[43m(\u001b[49m\u001b[38;5;28;43mself\u001b[39;49m\u001b[38;5;241;43m.\u001b[39;49m\u001b[43mparam_grid\u001b[49m\u001b[43m)\u001b[49m\u001b[43m)\u001b[49m\n",
      "File \u001b[1;32m~\\PycharmProjects\\PodstawyPython\\github\\.venv\\lib\\site-packages\\sklearn\\model_selection\\_search.py:875\u001b[0m, in \u001b[0;36mBaseSearchCV.fit.<locals>.evaluate_candidates\u001b[1;34m(candidate_params, cv, more_results)\u001b[0m\n\u001b[0;32m    868\u001b[0m \u001b[38;5;28;01melif\u001b[39;00m \u001b[38;5;28mlen\u001b[39m(out) \u001b[38;5;241m!=\u001b[39m n_candidates \u001b[38;5;241m*\u001b[39m n_splits:\n\u001b[0;32m    869\u001b[0m     \u001b[38;5;28;01mraise\u001b[39;00m \u001b[38;5;167;01mValueError\u001b[39;00m(\n\u001b[0;32m    870\u001b[0m         \u001b[38;5;124m\"\u001b[39m\u001b[38;5;124mcv.split and cv.get_n_splits returned \u001b[39m\u001b[38;5;124m\"\u001b[39m\n\u001b[0;32m    871\u001b[0m         \u001b[38;5;124m\"\u001b[39m\u001b[38;5;124minconsistent results. Expected \u001b[39m\u001b[38;5;132;01m{}\u001b[39;00m\u001b[38;5;124m \u001b[39m\u001b[38;5;124m\"\u001b[39m\n\u001b[0;32m    872\u001b[0m         \u001b[38;5;124m\"\u001b[39m\u001b[38;5;124msplits, got \u001b[39m\u001b[38;5;132;01m{}\u001b[39;00m\u001b[38;5;124m\"\u001b[39m\u001b[38;5;241m.\u001b[39mformat(n_splits, \u001b[38;5;28mlen\u001b[39m(out) \u001b[38;5;241m/\u001b[39m\u001b[38;5;241m/\u001b[39m n_candidates)\n\u001b[0;32m    873\u001b[0m     )\n\u001b[1;32m--> 875\u001b[0m \u001b[43m_warn_or_raise_about_fit_failures\u001b[49m\u001b[43m(\u001b[49m\u001b[43mout\u001b[49m\u001b[43m,\u001b[49m\u001b[43m \u001b[49m\u001b[38;5;28;43mself\u001b[39;49m\u001b[38;5;241;43m.\u001b[39;49m\u001b[43merror_score\u001b[49m\u001b[43m)\u001b[49m\n\u001b[0;32m    877\u001b[0m \u001b[38;5;66;03m# For callable self.scoring, the return type is only know after\u001b[39;00m\n\u001b[0;32m    878\u001b[0m \u001b[38;5;66;03m# calling. If the return type is a dictionary, the error scores\u001b[39;00m\n\u001b[0;32m    879\u001b[0m \u001b[38;5;66;03m# can now be inserted with the correct key. The type checking\u001b[39;00m\n\u001b[0;32m    880\u001b[0m \u001b[38;5;66;03m# of out will be done in `_insert_error_scores`.\u001b[39;00m\n\u001b[0;32m    881\u001b[0m \u001b[38;5;28;01mif\u001b[39;00m \u001b[38;5;28mcallable\u001b[39m(\u001b[38;5;28mself\u001b[39m\u001b[38;5;241m.\u001b[39mscoring):\n",
      "File \u001b[1;32m~\\PycharmProjects\\PodstawyPython\\github\\.venv\\lib\\site-packages\\sklearn\\model_selection\\_validation.py:414\u001b[0m, in \u001b[0;36m_warn_or_raise_about_fit_failures\u001b[1;34m(results, error_score)\u001b[0m\n\u001b[0;32m    407\u001b[0m \u001b[38;5;28;01mif\u001b[39;00m num_failed_fits \u001b[38;5;241m==\u001b[39m num_fits:\n\u001b[0;32m    408\u001b[0m     all_fits_failed_message \u001b[38;5;241m=\u001b[39m (\n\u001b[0;32m    409\u001b[0m         \u001b[38;5;124mf\u001b[39m\u001b[38;5;124m\"\u001b[39m\u001b[38;5;130;01m\\n\u001b[39;00m\u001b[38;5;124mAll the \u001b[39m\u001b[38;5;132;01m{\u001b[39;00mnum_fits\u001b[38;5;132;01m}\u001b[39;00m\u001b[38;5;124m fits failed.\u001b[39m\u001b[38;5;130;01m\\n\u001b[39;00m\u001b[38;5;124m\"\u001b[39m\n\u001b[0;32m    410\u001b[0m         \u001b[38;5;124m\"\u001b[39m\u001b[38;5;124mIt is very likely that your model is misconfigured.\u001b[39m\u001b[38;5;130;01m\\n\u001b[39;00m\u001b[38;5;124m\"\u001b[39m\n\u001b[0;32m    411\u001b[0m         \u001b[38;5;124m\"\u001b[39m\u001b[38;5;124mYou can try to debug the error by setting error_score=\u001b[39m\u001b[38;5;124m'\u001b[39m\u001b[38;5;124mraise\u001b[39m\u001b[38;5;124m'\u001b[39m\u001b[38;5;124m.\u001b[39m\u001b[38;5;130;01m\\n\u001b[39;00m\u001b[38;5;130;01m\\n\u001b[39;00m\u001b[38;5;124m\"\u001b[39m\n\u001b[0;32m    412\u001b[0m         \u001b[38;5;124mf\u001b[39m\u001b[38;5;124m\"\u001b[39m\u001b[38;5;124mBelow are more details about the failures:\u001b[39m\u001b[38;5;130;01m\\n\u001b[39;00m\u001b[38;5;132;01m{\u001b[39;00mfit_errors_summary\u001b[38;5;132;01m}\u001b[39;00m\u001b[38;5;124m\"\u001b[39m\n\u001b[0;32m    413\u001b[0m     )\n\u001b[1;32m--> 414\u001b[0m     \u001b[38;5;28;01mraise\u001b[39;00m \u001b[38;5;167;01mValueError\u001b[39;00m(all_fits_failed_message)\n\u001b[0;32m    416\u001b[0m \u001b[38;5;28;01melse\u001b[39;00m:\n\u001b[0;32m    417\u001b[0m     some_fits_failed_message \u001b[38;5;241m=\u001b[39m (\n\u001b[0;32m    418\u001b[0m         \u001b[38;5;124mf\u001b[39m\u001b[38;5;124m\"\u001b[39m\u001b[38;5;130;01m\\n\u001b[39;00m\u001b[38;5;132;01m{\u001b[39;00mnum_failed_fits\u001b[38;5;132;01m}\u001b[39;00m\u001b[38;5;124m fits failed out of a total of \u001b[39m\u001b[38;5;132;01m{\u001b[39;00mnum_fits\u001b[38;5;132;01m}\u001b[39;00m\u001b[38;5;124m.\u001b[39m\u001b[38;5;130;01m\\n\u001b[39;00m\u001b[38;5;124m\"\u001b[39m\n\u001b[0;32m    419\u001b[0m         \u001b[38;5;124m\"\u001b[39m\u001b[38;5;124mThe score on these train-test partitions for these parameters\u001b[39m\u001b[38;5;124m\"\u001b[39m\n\u001b[1;32m   (...)\u001b[0m\n\u001b[0;32m    423\u001b[0m         \u001b[38;5;124mf\u001b[39m\u001b[38;5;124m\"\u001b[39m\u001b[38;5;124mBelow are more details about the failures:\u001b[39m\u001b[38;5;130;01m\\n\u001b[39;00m\u001b[38;5;132;01m{\u001b[39;00mfit_errors_summary\u001b[38;5;132;01m}\u001b[39;00m\u001b[38;5;124m\"\u001b[39m\n\u001b[0;32m    424\u001b[0m     )\n",
      "\u001b[1;31mValueError\u001b[0m: \nAll the 320 fits failed.\nIt is very likely that your model is misconfigured.\nYou can try to debug the error by setting error_score='raise'.\n\nBelow are more details about the failures:\n--------------------------------------------------------------------------------\n32 fits failed with the following error:\nTraceback (most recent call last):\n  File \"C:\\Users\\AmanP\\PycharmProjects\\PodstawyPython\\github\\.venv\\lib\\site-packages\\sklearn\\compose\\_column_transformer.py\", line 681, in _fit_transform\n    return Parallel(n_jobs=self.n_jobs)(\n  File \"C:\\Users\\AmanP\\PycharmProjects\\PodstawyPython\\github\\.venv\\lib\\site-packages\\sklearn\\utils\\parallel.py\", line 65, in __call__\n    return super().__call__(iterable_with_config)\n  File \"C:\\Users\\AmanP\\PycharmProjects\\PodstawyPython\\github\\.venv\\lib\\site-packages\\joblib\\parallel.py\", line 1918, in __call__\n    return output if self.return_generator else list(output)\n  File \"C:\\Users\\AmanP\\PycharmProjects\\PodstawyPython\\github\\.venv\\lib\\site-packages\\joblib\\parallel.py\", line 1847, in _get_sequential_output\n    res = func(*args, **kwargs)\n  File \"C:\\Users\\AmanP\\PycharmProjects\\PodstawyPython\\github\\.venv\\lib\\site-packages\\sklearn\\utils\\parallel.py\", line 127, in __call__\n    return self.function(*args, **kwargs)\n  File \"C:\\Users\\AmanP\\PycharmProjects\\PodstawyPython\\github\\.venv\\lib\\site-packages\\sklearn\\pipeline.py\", line 957, in _fit_transform_one\n    res = transformer.fit_transform(X, y, **fit_params)\n  File \"C:\\Users\\AmanP\\PycharmProjects\\PodstawyPython\\github\\.venv\\lib\\site-packages\\sklearn\\base.py\", line 1152, in wrapper\n    return fit_method(estimator, *args, **kwargs)\n  File \"C:\\Users\\AmanP\\PycharmProjects\\PodstawyPython\\github\\.venv\\lib\\site-packages\\sklearn\\pipeline.py\", line 471, in fit_transform\n    Xt = self._fit(X, y, **fit_params_steps)\n  File \"C:\\Users\\AmanP\\PycharmProjects\\PodstawyPython\\github\\.venv\\lib\\site-packages\\sklearn\\pipeline.py\", line 377, in _fit\n    X, fitted_transformer = fit_transform_one_cached(\n  File \"C:\\Users\\AmanP\\PycharmProjects\\PodstawyPython\\github\\.venv\\lib\\site-packages\\joblib\\memory.py\", line 312, in __call__\n    return self.func(*args, **kwargs)\n  File \"C:\\Users\\AmanP\\PycharmProjects\\PodstawyPython\\github\\.venv\\lib\\site-packages\\sklearn\\pipeline.py\", line 957, in _fit_transform_one\n    res = transformer.fit_transform(X, y, **fit_params)\n  File \"C:\\Users\\AmanP\\PycharmProjects\\PodstawyPython\\github\\.venv\\lib\\site-packages\\sklearn\\utils\\_set_output.py\", line 157, in wrapped\n    data_to_wrap = f(self, X, *args, **kwargs)\n  File \"C:\\Users\\AmanP\\PycharmProjects\\PodstawyPython\\github\\.venv\\lib\\site-packages\\sklearn\\base.py\", line 1152, in wrapper\n    return fit_method(estimator, *args, **kwargs)\n  File \"C:\\Users\\AmanP\\PycharmProjects\\PodstawyPython\\github\\.venv\\lib\\site-packages\\sklearn\\preprocessing\\_data.py\", line 3142, in fit_transform\n    return self._fit(X, y, force_transform=True)\n  File \"C:\\Users\\AmanP\\PycharmProjects\\PodstawyPython\\github\\.venv\\lib\\site-packages\\sklearn\\preprocessing\\_data.py\", line 3145, in _fit\n    X = self._check_input(X, in_fit=True, check_positive=True)\n  File \"C:\\Users\\AmanP\\PycharmProjects\\PodstawyPython\\github\\.venv\\lib\\site-packages\\sklearn\\preprocessing\\_data.py\", line 3383, in _check_input\n    X = self._validate_data(\n  File \"C:\\Users\\AmanP\\PycharmProjects\\PodstawyPython\\github\\.venv\\lib\\site-packages\\sklearn\\base.py\", line 605, in _validate_data\n    out = check_array(X, input_name=\"X\", **check_params)\n  File \"C:\\Users\\AmanP\\PycharmProjects\\PodstawyPython\\github\\.venv\\lib\\site-packages\\sklearn\\utils\\validation.py\", line 938, in check_array\n    raise ValueError(\nValueError: Expected 2D array, got 1D array instead:\narray=[  0.      13.5     13.       8.05    14.5      9.5     16.1     13.\n  73.5     26.25     7.1417   8.3     13.4167   8.05     6.75    19.5\n   7.8542   8.0292  15.05    15.      30.5     30.0708   9.225   24.\n   7.8542   7.25    10.5     22.525   13.      10.5     61.3792  28.5\n   7.25    12.475    7.75     7.8958 108.9     15.5     83.1583  24.15\n   7.25     7.775  512.3292  15.55    90.     153.4625   7.8542   7.925\n  50.4958   7.75    15.85    21.       7.25    39.      12.875    8.05\n  26.55     7.8542   8.05    25.4667  14.4542 153.4625  27.9      7.925\n  13.8583  38.5      8.05   247.5208  16.     227.525    7.8958   7.5208\n  30.6958  15.5     20.575   30.5     26.      39.6     30.5     14.5\n   7.75    26.       7.8958  23.       7.7958  18.      35.5     27.7208\n   7.55     7.25    73.5      8.5167   7.725   26.       8.6625  56.9292\n  29.7     32.3208   8.05     8.6625  18.      21.075    6.2375  13.\n  10.4625   7.25    16.1     78.85    18.75     7.225    6.95   262.375\n 512.3292  69.55    26.55     7.75    20.25     7.775   52.      24.\n  27.7208   8.05     7.775   31.275    9.5    211.3375  26.       4.0125\n   7.8958   7.2292   7.8958  46.9     14.4583  10.5     16.1     14.4542\n   7.7333  69.55     9.825   17.8     56.4958   0.      29.125    0.\n  69.55     8.05    51.4792   7.8958   7.775   10.5     27.75    13.\n  26.55    26.     151.55    79.2     89.1042  30.5    211.3375  14.5\n 151.55     7.2292  26.      46.9     11.2417   7.8542  73.5      7.225\n   7.55    52.      12.2875   8.05     7.925    7.7375 120.       7.8958\n   7.8792   8.1125   0.      13.      26.      39.      79.2     22.025\n  10.5      9.8458  21.     110.8833   8.05     8.6625  13.      79.65\n   7.75    53.1      9.8375   7.8542 110.8833 263.       7.8958   7.925\n  52.5542   7.7958  10.5     14.4583  22.3583   7.8958   7.75     8.6625\n  10.5     31.3875   7.925   13.      16.1     12.35    75.25     7.4958\n   8.05     7.8958  49.5042  18.      16.1      7.925   41.5792  52.5542\n  15.5     51.8625  79.65    15.85    13.      36.75     8.05     7.125\n  80.      10.5     81.8583   8.05     7.925   20.525    7.8958 110.8833\n   8.05     7.925   57.       8.05    83.1583  10.5      9.5     11.5\n  16.1      0.      56.4958   0.       7.0458  31.3875   9.5     27.7208\n  26.      71.2833   7.4958   7.8958 133.65     7.75   164.8667  40.125\n   9.225   47.1     14.4583  23.25    26.       7.75     7.925   34.375\n   8.05    10.5     86.5      0.       0.      29.7      8.05    14.4\n   5.      13.      10.5     76.2917  26.       8.05     8.05     6.75\n   7.75     8.05    10.5      7.25    26.25     6.45    14.5      7.75\n   7.8958  52.     134.5      9.5     26.55     7.8792  21.      52.\n  26.      69.55    26.      25.925   53.1      7.875    8.05     9.35\n   8.05     7.8958  29.125   77.9583   7.925    9.5    211.3375  26.2833\n  26.       7.125   13.      10.5      7.775    8.85    31.      16.7\n   9.35    71.      10.4625  18.7875  27.7208   7.55     7.925    8.05\n 135.6333  15.5     26.      26.       7.6292 263.       7.05    20.575\n  26.55    15.7417   9.5      7.8542  18.75    26.55     7.775   27.9\n  26.       7.75    61.175    7.8958  23.       8.05     9.       9.5875\n  39.6875  52.       7.775  227.525   13.       7.8958  24.15    13.5\n 153.4625 113.275    7.05     8.6833   0.      14.5      8.6625  26.25\n  34.375   86.5      7.75    31.275   13.      19.9667  73.5     26.55\n   7.8958   7.8292   0.       7.4958  15.2458  27.9     15.85    11.1333\n   8.05    10.5     27.75    27.75    20.2125 211.5     46.9      7.0542\n  26.55   134.5     15.5     90.       7.75   263.      35.5     29.\n   7.8958   7.2292  90.      73.5     24.15     7.125   23.25    11.1333\n   7.2292  80.      15.5     34.375   24.15    27.9     76.7292  29.125\n  49.5042  26.      89.1042   7.8958   8.05    49.5    263.      15.2458\n   7.75    26.55     7.8542  10.5     79.65    14.5     26.      53.1\n   7.225   15.9     65.      13.7917   7.225    8.1583  34.0208  13.\n  10.5      8.05    71.       7.8      7.05    26.       7.2292 151.55\n  55.9    106.425   13.5     13.      26.55     6.975    7.8792  15.2458\n  30.     120.      33.       7.3125   6.4958  30.      26.       8.6625\n  77.9583   6.4375   0.      91.0792   7.7958  10.5      7.75    16.7\n  56.4958  13.      13.       8.05    10.5167   8.1375   8.05    78.85\n   6.8583  30.      13.       7.8792  69.55   227.525   26.      15.0458\n  25.4667  86.5     33.      30.      11.2417  26.      19.9667   7.925\n   7.75    41.5792   7.8958  16.1     69.55    35.5     25.4667  14.4542\n  90.     106.425   14.4542   7.75    39.6875   9.825   34.6542 512.3292\n   7.75     7.8542  13.       7.65    24.15    13.     262.375   12.35\n   7.925    7.25     7.75  ].\nReshape your data either using array.reshape(-1, 1) if your data has a single feature or array.reshape(1, -1) if it contains a single sample.\n\nThe above exception was the direct cause of the following exception:\n\nTraceback (most recent call last):\n  File \"C:\\Users\\AmanP\\PycharmProjects\\PodstawyPython\\github\\.venv\\lib\\site-packages\\sklearn\\model_selection\\_validation.py\", line 729, in _fit_and_score\n    estimator.fit(X_train, y_train, **fit_params)\n  File \"C:\\Users\\AmanP\\PycharmProjects\\PodstawyPython\\github\\.venv\\lib\\site-packages\\sklearn\\base.py\", line 1152, in wrapper\n    return fit_method(estimator, *args, **kwargs)\n  File \"C:\\Users\\AmanP\\PycharmProjects\\PodstawyPython\\github\\.venv\\lib\\site-packages\\sklearn\\pipeline.py\", line 423, in fit\n    Xt = self._fit(X, y, **fit_params_steps)\n  File \"C:\\Users\\AmanP\\PycharmProjects\\PodstawyPython\\github\\.venv\\lib\\site-packages\\sklearn\\pipeline.py\", line 377, in _fit\n    X, fitted_transformer = fit_transform_one_cached(\n  File \"C:\\Users\\AmanP\\PycharmProjects\\PodstawyPython\\github\\.venv\\lib\\site-packages\\joblib\\memory.py\", line 312, in __call__\n    return self.func(*args, **kwargs)\n  File \"C:\\Users\\AmanP\\PycharmProjects\\PodstawyPython\\github\\.venv\\lib\\site-packages\\sklearn\\pipeline.py\", line 957, in _fit_transform_one\n    res = transformer.fit_transform(X, y, **fit_params)\n  File \"C:\\Users\\AmanP\\PycharmProjects\\PodstawyPython\\github\\.venv\\lib\\site-packages\\sklearn\\utils\\_set_output.py\", line 157, in wrapped\n    data_to_wrap = f(self, X, *args, **kwargs)\n  File \"C:\\Users\\AmanP\\PycharmProjects\\PodstawyPython\\github\\.venv\\lib\\site-packages\\sklearn\\base.py\", line 1152, in wrapper\n    return fit_method(estimator, *args, **kwargs)\n  File \"C:\\Users\\AmanP\\PycharmProjects\\PodstawyPython\\github\\.venv\\lib\\site-packages\\sklearn\\compose\\_column_transformer.py\", line 754, in fit_transform\n    result = self._fit_transform(X, y, _fit_transform_one)\n  File \"C:\\Users\\AmanP\\PycharmProjects\\PodstawyPython\\github\\.venv\\lib\\site-packages\\sklearn\\compose\\_column_transformer.py\", line 694, in _fit_transform\n    raise ValueError(_ERR_MSG_1DCOLUMN) from e\nValueError: 1D data passed to a transformer that expects 2D data. Try to specify the column selection as a list of one item instead of a scalar.\n\n--------------------------------------------------------------------------------\n32 fits failed with the following error:\nTraceback (most recent call last):\n  File \"C:\\Users\\AmanP\\PycharmProjects\\PodstawyPython\\github\\.venv\\lib\\site-packages\\sklearn\\compose\\_column_transformer.py\", line 681, in _fit_transform\n    return Parallel(n_jobs=self.n_jobs)(\n  File \"C:\\Users\\AmanP\\PycharmProjects\\PodstawyPython\\github\\.venv\\lib\\site-packages\\sklearn\\utils\\parallel.py\", line 65, in __call__\n    return super().__call__(iterable_with_config)\n  File \"C:\\Users\\AmanP\\PycharmProjects\\PodstawyPython\\github\\.venv\\lib\\site-packages\\joblib\\parallel.py\", line 1918, in __call__\n    return output if self.return_generator else list(output)\n  File \"C:\\Users\\AmanP\\PycharmProjects\\PodstawyPython\\github\\.venv\\lib\\site-packages\\joblib\\parallel.py\", line 1847, in _get_sequential_output\n    res = func(*args, **kwargs)\n  File \"C:\\Users\\AmanP\\PycharmProjects\\PodstawyPython\\github\\.venv\\lib\\site-packages\\sklearn\\utils\\parallel.py\", line 127, in __call__\n    return self.function(*args, **kwargs)\n  File \"C:\\Users\\AmanP\\PycharmProjects\\PodstawyPython\\github\\.venv\\lib\\site-packages\\sklearn\\pipeline.py\", line 957, in _fit_transform_one\n    res = transformer.fit_transform(X, y, **fit_params)\n  File \"C:\\Users\\AmanP\\PycharmProjects\\PodstawyPython\\github\\.venv\\lib\\site-packages\\sklearn\\base.py\", line 1152, in wrapper\n    return fit_method(estimator, *args, **kwargs)\n  File \"C:\\Users\\AmanP\\PycharmProjects\\PodstawyPython\\github\\.venv\\lib\\site-packages\\sklearn\\pipeline.py\", line 471, in fit_transform\n    Xt = self._fit(X, y, **fit_params_steps)\n  File \"C:\\Users\\AmanP\\PycharmProjects\\PodstawyPython\\github\\.venv\\lib\\site-packages\\sklearn\\pipeline.py\", line 377, in _fit\n    X, fitted_transformer = fit_transform_one_cached(\n  File \"C:\\Users\\AmanP\\PycharmProjects\\PodstawyPython\\github\\.venv\\lib\\site-packages\\joblib\\memory.py\", line 312, in __call__\n    return self.func(*args, **kwargs)\n  File \"C:\\Users\\AmanP\\PycharmProjects\\PodstawyPython\\github\\.venv\\lib\\site-packages\\sklearn\\pipeline.py\", line 957, in _fit_transform_one\n    res = transformer.fit_transform(X, y, **fit_params)\n  File \"C:\\Users\\AmanP\\PycharmProjects\\PodstawyPython\\github\\.venv\\lib\\site-packages\\sklearn\\utils\\_set_output.py\", line 157, in wrapped\n    data_to_wrap = f(self, X, *args, **kwargs)\n  File \"C:\\Users\\AmanP\\PycharmProjects\\PodstawyPython\\github\\.venv\\lib\\site-packages\\sklearn\\base.py\", line 1152, in wrapper\n    return fit_method(estimator, *args, **kwargs)\n  File \"C:\\Users\\AmanP\\PycharmProjects\\PodstawyPython\\github\\.venv\\lib\\site-packages\\sklearn\\preprocessing\\_data.py\", line 3142, in fit_transform\n    return self._fit(X, y, force_transform=True)\n  File \"C:\\Users\\AmanP\\PycharmProjects\\PodstawyPython\\github\\.venv\\lib\\site-packages\\sklearn\\preprocessing\\_data.py\", line 3145, in _fit\n    X = self._check_input(X, in_fit=True, check_positive=True)\n  File \"C:\\Users\\AmanP\\PycharmProjects\\PodstawyPython\\github\\.venv\\lib\\site-packages\\sklearn\\preprocessing\\_data.py\", line 3383, in _check_input\n    X = self._validate_data(\n  File \"C:\\Users\\AmanP\\PycharmProjects\\PodstawyPython\\github\\.venv\\lib\\site-packages\\sklearn\\base.py\", line 605, in _validate_data\n    out = check_array(X, input_name=\"X\", **check_params)\n  File \"C:\\Users\\AmanP\\PycharmProjects\\PodstawyPython\\github\\.venv\\lib\\site-packages\\sklearn\\utils\\validation.py\", line 938, in check_array\n    raise ValueError(\nValueError: Expected 2D array, got 1D array instead:\narray=[ 69.3      0.      13.      13.       8.05    14.5      9.5      7.2292\n  16.1     73.5      7.1417   8.3     10.5      9.      13.4167   8.05\n   6.75    19.5      8.0292  15.05    15.      30.5      7.8958  30.0708\n   9.225   24.      10.5     22.525   13.      10.5     10.5     61.3792\n  28.5      7.25    13.     108.9     15.5      8.6625  83.1583  24.15\n   7.25     7.775  512.3292  90.     153.4625   7.8542   7.925   50.4958\n   7.55     7.75    15.85    39.       8.05    26.55     7.8958   7.8542\n   8.05    25.4667   7.225   14.4542 153.4625  27.9      7.925   30.6958\n  13.8583  10.5     38.5     13.       8.05   247.5208  16.     227.525\n   7.8958   7.5208  30.6958   7.925    7.7958  20.575   30.5     26.\n  39.6     30.5     14.5      7.75    26.       7.8958  23.       7.7958\n  18.      35.5      7.75    27.7208   7.55     7.25    73.5      8.5167\n   7.725   26.       8.6625   7.925   56.9292  29.7     32.3208   8.6625\n  18.      10.5      6.2375  13.      10.4625   7.25    16.1     78.85\n  18.75     7.225    6.95   262.375  512.3292  69.55    26.55     7.75\n  20.25     7.775   52.      27.7208   8.05     7.775   31.275    9.5\n 211.3375   4.0125   7.8958   7.2292   7.8958  46.9     14.4583  10.5\n  16.1     14.4542   7.7333  69.55    31.275    9.825   26.2875  31.275\n  17.8      7.125   56.4958   0.      29.125    0.      69.55    51.4792\n   7.8958  56.4958   7.775   10.5     27.75    13.      26.55    26.\n  79.2     89.1042  30.5    211.3375  14.5    151.55     7.2292   7.75\n  26.      46.9      8.05    11.2417   7.8542  73.5      7.225    7.55\n  52.      12.2875   8.05     7.925    7.7375  26.     120.       7.8958\n   7.8792   8.1125   0.      13.      26.      39.      79.2     22.025\n  10.5      9.8458 110.8833   8.05     8.6625  79.65    53.1      7.8542\n 263.       7.8958   7.925   52.5542   7.8958   7.7958  10.5     14.4583\n  22.3583   7.8958   7.75     8.6625  10.5     31.3875   7.925   13.\n  16.1     12.35    75.25     7.4958   8.05     7.775    7.8958  49.5042\n  18.      16.1      7.925   22.3583  41.5792  52.5542  15.5     51.8625\n  79.65    15.85    13.      36.75     8.05     7.125   10.5     81.8583\n  83.475    8.05     7.925    7.7333  20.525    7.8958   7.8542 110.8833\n   8.05     7.925   57.       8.05    10.1708   9.5      0.      56.4958\n   0.       7.0458  31.3875  26.      71.2833   7.225    7.8958   7.75\n 164.8667  40.125    9.225   47.1     14.4583  26.       7.75     7.925\n  34.375    8.05    10.5     86.5      0.       0.      29.7      8.05\n  14.4      5.      13.      10.5     76.2917  26.       8.05     8.05\n   6.75     7.75     8.05    10.5      7.25    26.25     6.45    14.5\n   7.75     7.8958  52.     134.5     26.55     7.8958  21.      52.\n  26.      69.55    26.      25.925   53.1      7.875    9.35     7.8958\n  29.125   77.9583   7.925    9.5    211.3375  26.2833  26.      13.\n  10.5      7.75     7.775    8.85    31.      16.7      9.35    71.\n  10.4625  18.7875 113.275    7.925    8.6625  27.7208   7.55    26.3875\n   7.925    8.05   135.6333  15.5     26.      26.       7.6292 263.\n  20.575   15.7417   9.5      7.8542  18.75    26.55     7.775   27.9\n  26.       7.75    61.175    7.8958   8.05     9.      39.6875  52.\n   7.775  227.525   13.       7.8958  24.15    13.5    153.4625   8.4042\n 113.275    9.5      7.05     0.      14.5      8.6625  26.25    34.375\n  76.7292  86.5      7.75    31.275   15.1     13.      19.9667  73.5\n  26.55     7.8958   7.8292   0.       7.4958  27.9     15.85    11.1333\n   8.05    10.5     27.75    27.75    20.2125 211.5     46.9     78.2667\n   7.0542  26.55   134.5     15.5     90.     263.      35.5     29.\n   7.8958   7.2292  90.      73.5     24.15     7.125   23.25    11.1333\n   7.2292   7.8542  80.      15.5     34.375   24.15    76.7292  29.125\n  49.5042  26.      89.1042   7.8958   8.05    49.5    263.      15.2458\n  26.55     7.8542   8.05     8.05    14.5     26.       7.225   15.9\n  65.      13.7917   7.225   79.2      8.1583  34.0208  13.      10.5\n   8.05    71.       7.8     59.4      7.05    26.       7.2292 151.55\n  55.9    106.425   13.5     13.      15.5     26.55     6.975    7.225\n  15.2458  30.     120.      33.       7.3125   6.4958  30.      26.\n   7.8958   8.6625  77.9583   6.4375   0.       7.7958  10.5      7.75\n  16.7     56.4958  13.      13.       8.05    10.5167   8.1375   6.8583\n  30.      13.       7.8792  69.55    26.      15.0458  25.4667  86.5\n  17.4     33.      11.2417  26.       7.925   19.9667  12.475   37.0042\n   7.925    7.75    41.5792   7.8958  16.1     69.55    35.5     25.4667\n  14.4542  90.     106.425   14.4542   7.75     9.825   34.6542 512.3292\n   7.75     7.8542  13.       7.65    24.15    13.     262.375   23.\n  12.35     7.925    7.25     7.75  ].\nReshape your data either using array.reshape(-1, 1) if your data has a single feature or array.reshape(1, -1) if it contains a single sample.\n\nThe above exception was the direct cause of the following exception:\n\nTraceback (most recent call last):\n  File \"C:\\Users\\AmanP\\PycharmProjects\\PodstawyPython\\github\\.venv\\lib\\site-packages\\sklearn\\model_selection\\_validation.py\", line 729, in _fit_and_score\n    estimator.fit(X_train, y_train, **fit_params)\n  File \"C:\\Users\\AmanP\\PycharmProjects\\PodstawyPython\\github\\.venv\\lib\\site-packages\\sklearn\\base.py\", line 1152, in wrapper\n    return fit_method(estimator, *args, **kwargs)\n  File \"C:\\Users\\AmanP\\PycharmProjects\\PodstawyPython\\github\\.venv\\lib\\site-packages\\sklearn\\pipeline.py\", line 423, in fit\n    Xt = self._fit(X, y, **fit_params_steps)\n  File \"C:\\Users\\AmanP\\PycharmProjects\\PodstawyPython\\github\\.venv\\lib\\site-packages\\sklearn\\pipeline.py\", line 377, in _fit\n    X, fitted_transformer = fit_transform_one_cached(\n  File \"C:\\Users\\AmanP\\PycharmProjects\\PodstawyPython\\github\\.venv\\lib\\site-packages\\joblib\\memory.py\", line 312, in __call__\n    return self.func(*args, **kwargs)\n  File \"C:\\Users\\AmanP\\PycharmProjects\\PodstawyPython\\github\\.venv\\lib\\site-packages\\sklearn\\pipeline.py\", line 957, in _fit_transform_one\n    res = transformer.fit_transform(X, y, **fit_params)\n  File \"C:\\Users\\AmanP\\PycharmProjects\\PodstawyPython\\github\\.venv\\lib\\site-packages\\sklearn\\utils\\_set_output.py\", line 157, in wrapped\n    data_to_wrap = f(self, X, *args, **kwargs)\n  File \"C:\\Users\\AmanP\\PycharmProjects\\PodstawyPython\\github\\.venv\\lib\\site-packages\\sklearn\\base.py\", line 1152, in wrapper\n    return fit_method(estimator, *args, **kwargs)\n  File \"C:\\Users\\AmanP\\PycharmProjects\\PodstawyPython\\github\\.venv\\lib\\site-packages\\sklearn\\compose\\_column_transformer.py\", line 754, in fit_transform\n    result = self._fit_transform(X, y, _fit_transform_one)\n  File \"C:\\Users\\AmanP\\PycharmProjects\\PodstawyPython\\github\\.venv\\lib\\site-packages\\sklearn\\compose\\_column_transformer.py\", line 694, in _fit_transform\n    raise ValueError(_ERR_MSG_1DCOLUMN) from e\nValueError: 1D data passed to a transformer that expects 2D data. Try to specify the column selection as a list of one item instead of a scalar.\n\n--------------------------------------------------------------------------------\n32 fits failed with the following error:\nTraceback (most recent call last):\n  File \"C:\\Users\\AmanP\\PycharmProjects\\PodstawyPython\\github\\.venv\\lib\\site-packages\\sklearn\\compose\\_column_transformer.py\", line 681, in _fit_transform\n    return Parallel(n_jobs=self.n_jobs)(\n  File \"C:\\Users\\AmanP\\PycharmProjects\\PodstawyPython\\github\\.venv\\lib\\site-packages\\sklearn\\utils\\parallel.py\", line 65, in __call__\n    return super().__call__(iterable_with_config)\n  File \"C:\\Users\\AmanP\\PycharmProjects\\PodstawyPython\\github\\.venv\\lib\\site-packages\\joblib\\parallel.py\", line 1918, in __call__\n    return output if self.return_generator else list(output)\n  File \"C:\\Users\\AmanP\\PycharmProjects\\PodstawyPython\\github\\.venv\\lib\\site-packages\\joblib\\parallel.py\", line 1847, in _get_sequential_output\n    res = func(*args, **kwargs)\n  File \"C:\\Users\\AmanP\\PycharmProjects\\PodstawyPython\\github\\.venv\\lib\\site-packages\\sklearn\\utils\\parallel.py\", line 127, in __call__\n    return self.function(*args, **kwargs)\n  File \"C:\\Users\\AmanP\\PycharmProjects\\PodstawyPython\\github\\.venv\\lib\\site-packages\\sklearn\\pipeline.py\", line 957, in _fit_transform_one\n    res = transformer.fit_transform(X, y, **fit_params)\n  File \"C:\\Users\\AmanP\\PycharmProjects\\PodstawyPython\\github\\.venv\\lib\\site-packages\\sklearn\\base.py\", line 1152, in wrapper\n    return fit_method(estimator, *args, **kwargs)\n  File \"C:\\Users\\AmanP\\PycharmProjects\\PodstawyPython\\github\\.venv\\lib\\site-packages\\sklearn\\pipeline.py\", line 471, in fit_transform\n    Xt = self._fit(X, y, **fit_params_steps)\n  File \"C:\\Users\\AmanP\\PycharmProjects\\PodstawyPython\\github\\.venv\\lib\\site-packages\\sklearn\\pipeline.py\", line 377, in _fit\n    X, fitted_transformer = fit_transform_one_cached(\n  File \"C:\\Users\\AmanP\\PycharmProjects\\PodstawyPython\\github\\.venv\\lib\\site-packages\\joblib\\memory.py\", line 312, in __call__\n    return self.func(*args, **kwargs)\n  File \"C:\\Users\\AmanP\\PycharmProjects\\PodstawyPython\\github\\.venv\\lib\\site-packages\\sklearn\\pipeline.py\", line 957, in _fit_transform_one\n    res = transformer.fit_transform(X, y, **fit_params)\n  File \"C:\\Users\\AmanP\\PycharmProjects\\PodstawyPython\\github\\.venv\\lib\\site-packages\\sklearn\\utils\\_set_output.py\", line 157, in wrapped\n    data_to_wrap = f(self, X, *args, **kwargs)\n  File \"C:\\Users\\AmanP\\PycharmProjects\\PodstawyPython\\github\\.venv\\lib\\site-packages\\sklearn\\base.py\", line 1152, in wrapper\n    return fit_method(estimator, *args, **kwargs)\n  File \"C:\\Users\\AmanP\\PycharmProjects\\PodstawyPython\\github\\.venv\\lib\\site-packages\\sklearn\\preprocessing\\_data.py\", line 3142, in fit_transform\n    return self._fit(X, y, force_transform=True)\n  File \"C:\\Users\\AmanP\\PycharmProjects\\PodstawyPython\\github\\.venv\\lib\\site-packages\\sklearn\\preprocessing\\_data.py\", line 3145, in _fit\n    X = self._check_input(X, in_fit=True, check_positive=True)\n  File \"C:\\Users\\AmanP\\PycharmProjects\\PodstawyPython\\github\\.venv\\lib\\site-packages\\sklearn\\preprocessing\\_data.py\", line 3383, in _check_input\n    X = self._validate_data(\n  File \"C:\\Users\\AmanP\\PycharmProjects\\PodstawyPython\\github\\.venv\\lib\\site-packages\\sklearn\\base.py\", line 605, in _validate_data\n    out = check_array(X, input_name=\"X\", **check_params)\n  File \"C:\\Users\\AmanP\\PycharmProjects\\PodstawyPython\\github\\.venv\\lib\\site-packages\\sklearn\\utils\\validation.py\", line 938, in check_array\n    raise ValueError(\nValueError: Expected 2D array, got 1D array instead:\narray=[ 69.3      0.      13.      13.5     13.       8.05    14.5      9.5\n   7.2292  16.1     13.      73.5     26.25     7.1417   8.3     10.5\n   9.       8.05     6.75    19.5      7.8542   8.0292  15.      30.5\n   7.8958   9.225   24.       7.8542   7.25    10.5     13.      10.5\n  10.5      7.25    12.475    7.75     7.8958  13.     108.9     15.5\n   8.6625  83.1583  24.15     7.25     7.775  512.3292  15.55    90.\n 153.4625   7.8542   7.925   50.4958   7.55     7.75    15.85    21.\n   7.25    39.      12.875    8.05    26.55     7.8958   7.8542   8.05\n  25.4667   7.225   14.4542 153.4625  27.9      7.925   30.6958  13.8583\n  10.5     38.5     13.       8.05    16.     227.525    7.8958   7.5208\n  30.6958   7.925    7.7958  15.5     20.575   30.5     26.      39.6\n  30.5     26.       7.8958  23.       7.7958  18.       7.75    27.7208\n   7.55     7.25    73.5      8.5167   7.725   26.       8.6625   7.925\n  56.9292  29.7     32.3208   8.05     8.6625  18.      21.075   10.5\n   6.2375  13.      10.4625   7.25    16.1     78.85    18.75     6.95\n 262.375  512.3292  69.55    26.55     7.75    20.25     7.775   52.\n  24.      27.7208   8.05     7.775   31.275    9.5    211.3375  26.\n   4.0125   7.8958   7.2292   7.8958  46.9     14.4583  10.5     16.1\n  14.4542   7.7333  31.275    9.825   26.2875  31.275   17.8      7.125\n  56.4958   0.       0.      69.55     8.05    51.4792   7.8958  56.4958\n   7.775   13.      26.     151.55    79.2     89.1042  30.5    211.3375\n  14.5    151.55     7.2292   7.75    26.      46.9      8.05    11.2417\n   7.8542   7.225    7.55    52.      12.2875   8.05     7.925    7.7375\n  26.     120.       7.8958   8.1125   0.      13.      26.      39.\n  79.2     22.025   10.5      9.8458  21.       8.05     8.6625  13.\n  79.65     7.75    53.1      9.8375 110.8833 263.       7.8958  52.5542\n   7.8958   7.7958  10.5     14.4583  22.3583   7.8958   7.75     8.6625\n  10.5     31.3875   7.925   13.      75.25     7.4958   8.05     7.775\n   7.8958  49.5042  18.      16.1      7.925   22.3583  41.5792  52.5542\n  15.5     51.8625  79.65    15.85    13.      36.75     7.125   80.\n  10.5     81.8583  83.475    8.05     7.7333  20.525    7.8542 110.8833\n   8.05     7.925   57.       8.05    83.1583  10.1708  10.5      9.5\n  11.5     16.1      0.      56.4958   0.       7.0458  31.3875   9.5\n  27.7208  26.      71.2833   7.4958   7.225    7.8958 133.65     7.75\n 164.8667  40.125    9.225   47.1     14.4583  23.25    26.       7.75\n   7.925   34.375    8.05    10.5     86.5      0.      29.7      8.05\n   5.      13.      10.5     76.2917   8.05     8.05     6.75     7.75\n  10.5      7.25    26.25    14.5      7.8958  52.     134.5      9.5\n   7.8792   7.8958  21.      52.      26.      69.55    26.      25.925\n  53.1      7.875    8.05     9.35     8.05    29.125   77.9583   7.925\n   9.5    211.3375  26.       7.125   13.      10.5      7.75     7.775\n   8.85    31.      16.7      9.35    71.      10.4625  18.7875 113.275\n   7.925    8.6625  27.7208   7.55    26.3875   7.925    8.05   135.6333\n  15.5     26.      26.       7.6292   7.05    20.575   26.55    15.7417\n   9.5      7.8542  18.75    26.55     7.775   27.9     26.      23.\n   9.       9.5875  39.6875  52.       7.775  227.525   13.      24.15\n  13.5    153.4625   8.4042 113.275    9.5      7.05     8.6833   0.\n  14.5      8.6625  26.25    34.375   76.7292  86.5      7.75    31.275\n  15.1     13.      19.9667  73.5     26.55     7.8958   7.8292   0.\n   7.4958  15.2458  27.9     11.1333   8.05    10.5     27.75    27.75\n  20.2125 211.5     78.2667   7.0542  26.55   134.5     15.5     90.\n   7.75   263.      35.5     29.       7.8958   7.2292  90.      73.5\n  24.15    11.1333   7.2292   7.8542  80.      34.375   24.15    27.9\n  76.7292  29.125   49.5042  26.      89.1042   7.8958   8.05    15.2458\n   7.75    26.55     7.8542   8.05    10.5     79.65     8.05    26.\n  53.1      7.225   15.9     13.7917   7.225   79.2      8.1583  34.0208\n  13.      10.5      8.05    71.       7.8     59.4      7.05    26.\n   7.2292 151.55    55.9    106.425   13.      15.5      6.975    7.8792\n   7.225   15.2458  30.     120.      33.       7.3125   6.4958  30.\n  26.       7.8958   8.6625  77.9583   6.4375   0.      91.0792  10.5\n   7.75    16.7     56.4958  13.      13.       8.05    10.5167   8.1375\n   8.05    78.85    30.       7.8792  69.55   227.525   26.      15.0458\n  86.5     17.4     33.      30.      11.2417  26.       7.925   19.9667\n  12.475   37.0042   7.925    7.75    41.5792   7.8958  16.1     69.55\n  35.5     14.4542  90.     106.425    7.75    39.6875   9.825   34.6542\n 512.3292   7.75     7.8542  13.       7.65    13.     262.375   23.\n  12.35     7.925    7.25     7.75  ].\nReshape your data either using array.reshape(-1, 1) if your data has a single feature or array.reshape(1, -1) if it contains a single sample.\n\nThe above exception was the direct cause of the following exception:\n\nTraceback (most recent call last):\n  File \"C:\\Users\\AmanP\\PycharmProjects\\PodstawyPython\\github\\.venv\\lib\\site-packages\\sklearn\\model_selection\\_validation.py\", line 729, in _fit_and_score\n    estimator.fit(X_train, y_train, **fit_params)\n  File \"C:\\Users\\AmanP\\PycharmProjects\\PodstawyPython\\github\\.venv\\lib\\site-packages\\sklearn\\base.py\", line 1152, in wrapper\n    return fit_method(estimator, *args, **kwargs)\n  File \"C:\\Users\\AmanP\\PycharmProjects\\PodstawyPython\\github\\.venv\\lib\\site-packages\\sklearn\\pipeline.py\", line 423, in fit\n    Xt = self._fit(X, y, **fit_params_steps)\n  File \"C:\\Users\\AmanP\\PycharmProjects\\PodstawyPython\\github\\.venv\\lib\\site-packages\\sklearn\\pipeline.py\", line 377, in _fit\n    X, fitted_transformer = fit_transform_one_cached(\n  File \"C:\\Users\\AmanP\\PycharmProjects\\PodstawyPython\\github\\.venv\\lib\\site-packages\\joblib\\memory.py\", line 312, in __call__\n    return self.func(*args, **kwargs)\n  File \"C:\\Users\\AmanP\\PycharmProjects\\PodstawyPython\\github\\.venv\\lib\\site-packages\\sklearn\\pipeline.py\", line 957, in _fit_transform_one\n    res = transformer.fit_transform(X, y, **fit_params)\n  File \"C:\\Users\\AmanP\\PycharmProjects\\PodstawyPython\\github\\.venv\\lib\\site-packages\\sklearn\\utils\\_set_output.py\", line 157, in wrapped\n    data_to_wrap = f(self, X, *args, **kwargs)\n  File \"C:\\Users\\AmanP\\PycharmProjects\\PodstawyPython\\github\\.venv\\lib\\site-packages\\sklearn\\base.py\", line 1152, in wrapper\n    return fit_method(estimator, *args, **kwargs)\n  File \"C:\\Users\\AmanP\\PycharmProjects\\PodstawyPython\\github\\.venv\\lib\\site-packages\\sklearn\\compose\\_column_transformer.py\", line 754, in fit_transform\n    result = self._fit_transform(X, y, _fit_transform_one)\n  File \"C:\\Users\\AmanP\\PycharmProjects\\PodstawyPython\\github\\.venv\\lib\\site-packages\\sklearn\\compose\\_column_transformer.py\", line 694, in _fit_transform\n    raise ValueError(_ERR_MSG_1DCOLUMN) from e\nValueError: 1D data passed to a transformer that expects 2D data. Try to specify the column selection as a list of one item instead of a scalar.\n\n--------------------------------------------------------------------------------\n32 fits failed with the following error:\nTraceback (most recent call last):\n  File \"C:\\Users\\AmanP\\PycharmProjects\\PodstawyPython\\github\\.venv\\lib\\site-packages\\sklearn\\compose\\_column_transformer.py\", line 681, in _fit_transform\n    return Parallel(n_jobs=self.n_jobs)(\n  File \"C:\\Users\\AmanP\\PycharmProjects\\PodstawyPython\\github\\.venv\\lib\\site-packages\\sklearn\\utils\\parallel.py\", line 65, in __call__\n    return super().__call__(iterable_with_config)\n  File \"C:\\Users\\AmanP\\PycharmProjects\\PodstawyPython\\github\\.venv\\lib\\site-packages\\joblib\\parallel.py\", line 1918, in __call__\n    return output if self.return_generator else list(output)\n  File \"C:\\Users\\AmanP\\PycharmProjects\\PodstawyPython\\github\\.venv\\lib\\site-packages\\joblib\\parallel.py\", line 1847, in _get_sequential_output\n    res = func(*args, **kwargs)\n  File \"C:\\Users\\AmanP\\PycharmProjects\\PodstawyPython\\github\\.venv\\lib\\site-packages\\sklearn\\utils\\parallel.py\", line 127, in __call__\n    return self.function(*args, **kwargs)\n  File \"C:\\Users\\AmanP\\PycharmProjects\\PodstawyPython\\github\\.venv\\lib\\site-packages\\sklearn\\pipeline.py\", line 957, in _fit_transform_one\n    res = transformer.fit_transform(X, y, **fit_params)\n  File \"C:\\Users\\AmanP\\PycharmProjects\\PodstawyPython\\github\\.venv\\lib\\site-packages\\sklearn\\base.py\", line 1152, in wrapper\n    return fit_method(estimator, *args, **kwargs)\n  File \"C:\\Users\\AmanP\\PycharmProjects\\PodstawyPython\\github\\.venv\\lib\\site-packages\\sklearn\\pipeline.py\", line 471, in fit_transform\n    Xt = self._fit(X, y, **fit_params_steps)\n  File \"C:\\Users\\AmanP\\PycharmProjects\\PodstawyPython\\github\\.venv\\lib\\site-packages\\sklearn\\pipeline.py\", line 377, in _fit\n    X, fitted_transformer = fit_transform_one_cached(\n  File \"C:\\Users\\AmanP\\PycharmProjects\\PodstawyPython\\github\\.venv\\lib\\site-packages\\joblib\\memory.py\", line 312, in __call__\n    return self.func(*args, **kwargs)\n  File \"C:\\Users\\AmanP\\PycharmProjects\\PodstawyPython\\github\\.venv\\lib\\site-packages\\sklearn\\pipeline.py\", line 957, in _fit_transform_one\n    res = transformer.fit_transform(X, y, **fit_params)\n  File \"C:\\Users\\AmanP\\PycharmProjects\\PodstawyPython\\github\\.venv\\lib\\site-packages\\sklearn\\utils\\_set_output.py\", line 157, in wrapped\n    data_to_wrap = f(self, X, *args, **kwargs)\n  File \"C:\\Users\\AmanP\\PycharmProjects\\PodstawyPython\\github\\.venv\\lib\\site-packages\\sklearn\\base.py\", line 1152, in wrapper\n    return fit_method(estimator, *args, **kwargs)\n  File \"C:\\Users\\AmanP\\PycharmProjects\\PodstawyPython\\github\\.venv\\lib\\site-packages\\sklearn\\preprocessing\\_data.py\", line 3142, in fit_transform\n    return self._fit(X, y, force_transform=True)\n  File \"C:\\Users\\AmanP\\PycharmProjects\\PodstawyPython\\github\\.venv\\lib\\site-packages\\sklearn\\preprocessing\\_data.py\", line 3145, in _fit\n    X = self._check_input(X, in_fit=True, check_positive=True)\n  File \"C:\\Users\\AmanP\\PycharmProjects\\PodstawyPython\\github\\.venv\\lib\\site-packages\\sklearn\\preprocessing\\_data.py\", line 3383, in _check_input\n    X = self._validate_data(\n  File \"C:\\Users\\AmanP\\PycharmProjects\\PodstawyPython\\github\\.venv\\lib\\site-packages\\sklearn\\base.py\", line 605, in _validate_data\n    out = check_array(X, input_name=\"X\", **check_params)\n  File \"C:\\Users\\AmanP\\PycharmProjects\\PodstawyPython\\github\\.venv\\lib\\site-packages\\sklearn\\utils\\validation.py\", line 938, in check_array\n    raise ValueError(\nValueError: Expected 2D array, got 1D array instead:\narray=[ 69.3      0.      13.      13.5     13.       8.05    14.5      9.5\n   7.2292  16.1     13.      73.5     26.25     7.1417   8.3     10.5\n   9.      13.4167   8.05    19.5      7.8542   8.0292  15.05    15.\n  30.5      7.8958  30.0708   9.225   24.       7.8542   7.25    10.5\n  22.525   13.      10.5     61.3792  28.5      7.25    12.475    7.75\n   7.8958  13.     108.9     15.5      8.6625  24.15   512.3292  15.55\n  90.     153.4625   7.925   50.4958   7.55     7.75    15.85    21.\n   7.25    12.875    8.05    26.55     7.8958   7.8542   8.05    25.4667\n   7.225   14.4542 153.4625  27.9      7.925   30.6958  13.8583  10.5\n  38.5     13.       8.05   247.5208  16.     227.525    7.8958   7.5208\n  30.6958   7.925    7.7958  15.5     20.575   30.5     26.      39.6\n  30.5     14.5      7.75    26.       7.8958  23.       7.7958  35.5\n   7.75    27.7208   7.55     7.25    73.5      7.725   26.       8.6625\n   7.925   56.9292  29.7      8.05     8.6625  18.      21.075   10.5\n   6.2375  13.      10.4625   7.25    16.1     78.85    18.75     7.225\n   6.95   262.375  512.3292  26.55     7.75    20.25     7.775   52.\n  24.       8.05     7.775   31.275    9.5    211.3375  26.       4.0125\n   7.2292   7.8958  46.9     14.4583  16.1     14.4542   7.7333  69.55\n  31.275    9.825   26.2875  31.275   17.8      7.125   56.4958   0.\n  29.125    0.      69.55     8.05    51.4792   7.8958  56.4958   7.775\n  10.5     27.75    13.      26.55    26.     151.55    79.2     89.1042\n  30.5    211.3375  14.5    151.55     7.2292   7.75    46.9      8.05\n  11.2417   7.8542  73.5      7.225   52.      12.2875   8.05    26.\n 120.       7.8958   7.8792   0.      13.      26.      39.      79.2\n  22.025   10.5      9.8458  21.     110.8833   8.05     8.6625  13.\n  79.65     7.75    53.1      9.8375   7.8542 110.8833 263.       7.8958\n   7.925   52.5542   7.8958   7.7958  10.5     22.3583   7.8958   7.75\n   8.6625  10.5     31.3875   7.925   13.      16.1     12.35    75.25\n   7.4958   8.05     7.775    7.8958  49.5042  18.      16.1      7.925\n  22.3583  41.5792  52.5542  15.5     51.8625  79.65    13.       8.05\n   7.125   80.      10.5     81.8583  83.475    8.05     7.925    7.7333\n  20.525    7.8958   7.8542 110.8833   7.925   57.       8.05    83.1583\n  10.1708  10.5      9.5     11.5     16.1      0.       0.       7.0458\n  31.3875   9.5     27.7208  26.      71.2833   7.4958   7.225    7.8958\n 133.65     7.75     9.225   47.1     14.4583  23.25    26.       7.75\n   7.925   34.375   86.5      0.       0.      29.7      8.05    14.4\n   5.      13.      76.2917  26.       8.05     8.05     6.75     7.75\n   8.05    10.5      7.25    26.25     6.45     7.75     7.8958 134.5\n   9.5     26.55     7.8792   7.8958  52.      69.55    26.      25.925\n  53.1      7.875    8.05     9.35     8.05     7.8958  29.125   77.9583\n   7.925    9.5    211.3375  26.2833  26.       7.125   13.      10.5\n   7.75     7.775    8.85    31.      16.7      9.35    10.4625  18.7875\n 113.275    7.925    8.6625  27.7208   7.55    26.3875   7.925    8.05\n  15.5     26.      26.       7.6292 263.       7.05    20.575   26.55\n  15.7417   9.5      7.8542  18.75    26.55     7.775   27.9      7.75\n  61.175    7.8958  23.       8.05     9.       9.5875  39.6875  52.\n   7.775   13.       7.8958  13.5    153.4625   8.4042 113.275    9.5\n   7.05     8.6833   0.      14.5      8.6625  26.25    34.375   76.7292\n  86.5      7.75    31.275   15.1     13.      19.9667  73.5     26.55\n   7.8958   7.8292   0.       7.4958  15.2458  27.9     15.85     8.05\n  10.5     27.75    46.9     78.2667   7.0542  26.55     7.75   263.\n  35.5      7.8958  90.      73.5     24.15     7.125   23.25    11.1333\n   7.2292   7.8542  80.      15.5     34.375   24.15    27.9     76.7292\n  29.125   49.5042  26.      89.1042   7.8958   8.05    49.5    263.\n  15.2458   7.75     7.8542   8.05    10.5     79.65     8.05    14.5\n  26.      53.1      7.225   15.9     65.       7.225   79.2     34.0208\n  13.       8.05    71.       7.8     59.4      7.05    26.     151.55\n  55.9    106.425   13.5     15.5     26.55     7.8792   7.225   15.2458\n  30.     120.      33.       6.4958  26.       7.8958   8.6625  77.9583\n   6.4375   0.      91.0792   7.7958  10.5      7.75    16.7     56.4958\n  13.      13.       8.05    10.5167   8.05    78.85     6.8583  30.\n  13.       7.8792  69.55   227.525   26.      25.4667  86.5     17.4\n  33.      30.      11.2417  26.       7.925   19.9667  12.475   37.0042\n   7.925    7.75    41.5792   7.8958  16.1     69.55    35.5     25.4667\n  14.4542 106.425   14.4542   7.75    39.6875   9.825   34.6542 512.3292\n   7.75     7.8542  13.       7.65    24.15    13.     262.375   23.\n  12.35     7.925    7.25     7.75  ].\nReshape your data either using array.reshape(-1, 1) if your data has a single feature or array.reshape(1, -1) if it contains a single sample.\n\nThe above exception was the direct cause of the following exception:\n\nTraceback (most recent call last):\n  File \"C:\\Users\\AmanP\\PycharmProjects\\PodstawyPython\\github\\.venv\\lib\\site-packages\\sklearn\\model_selection\\_validation.py\", line 729, in _fit_and_score\n    estimator.fit(X_train, y_train, **fit_params)\n  File \"C:\\Users\\AmanP\\PycharmProjects\\PodstawyPython\\github\\.venv\\lib\\site-packages\\sklearn\\base.py\", line 1152, in wrapper\n    return fit_method(estimator, *args, **kwargs)\n  File \"C:\\Users\\AmanP\\PycharmProjects\\PodstawyPython\\github\\.venv\\lib\\site-packages\\sklearn\\pipeline.py\", line 423, in fit\n    Xt = self._fit(X, y, **fit_params_steps)\n  File \"C:\\Users\\AmanP\\PycharmProjects\\PodstawyPython\\github\\.venv\\lib\\site-packages\\sklearn\\pipeline.py\", line 377, in _fit\n    X, fitted_transformer = fit_transform_one_cached(\n  File \"C:\\Users\\AmanP\\PycharmProjects\\PodstawyPython\\github\\.venv\\lib\\site-packages\\joblib\\memory.py\", line 312, in __call__\n    return self.func(*args, **kwargs)\n  File \"C:\\Users\\AmanP\\PycharmProjects\\PodstawyPython\\github\\.venv\\lib\\site-packages\\sklearn\\pipeline.py\", line 957, in _fit_transform_one\n    res = transformer.fit_transform(X, y, **fit_params)\n  File \"C:\\Users\\AmanP\\PycharmProjects\\PodstawyPython\\github\\.venv\\lib\\site-packages\\sklearn\\utils\\_set_output.py\", line 157, in wrapped\n    data_to_wrap = f(self, X, *args, **kwargs)\n  File \"C:\\Users\\AmanP\\PycharmProjects\\PodstawyPython\\github\\.venv\\lib\\site-packages\\sklearn\\base.py\", line 1152, in wrapper\n    return fit_method(estimator, *args, **kwargs)\n  File \"C:\\Users\\AmanP\\PycharmProjects\\PodstawyPython\\github\\.venv\\lib\\site-packages\\sklearn\\compose\\_column_transformer.py\", line 754, in fit_transform\n    result = self._fit_transform(X, y, _fit_transform_one)\n  File \"C:\\Users\\AmanP\\PycharmProjects\\PodstawyPython\\github\\.venv\\lib\\site-packages\\sklearn\\compose\\_column_transformer.py\", line 694, in _fit_transform\n    raise ValueError(_ERR_MSG_1DCOLUMN) from e\nValueError: 1D data passed to a transformer that expects 2D data. Try to specify the column selection as a list of one item instead of a scalar.\n\n--------------------------------------------------------------------------------\n32 fits failed with the following error:\nTraceback (most recent call last):\n  File \"C:\\Users\\AmanP\\PycharmProjects\\PodstawyPython\\github\\.venv\\lib\\site-packages\\sklearn\\compose\\_column_transformer.py\", line 681, in _fit_transform\n    return Parallel(n_jobs=self.n_jobs)(\n  File \"C:\\Users\\AmanP\\PycharmProjects\\PodstawyPython\\github\\.venv\\lib\\site-packages\\sklearn\\utils\\parallel.py\", line 65, in __call__\n    return super().__call__(iterable_with_config)\n  File \"C:\\Users\\AmanP\\PycharmProjects\\PodstawyPython\\github\\.venv\\lib\\site-packages\\joblib\\parallel.py\", line 1918, in __call__\n    return output if self.return_generator else list(output)\n  File \"C:\\Users\\AmanP\\PycharmProjects\\PodstawyPython\\github\\.venv\\lib\\site-packages\\joblib\\parallel.py\", line 1847, in _get_sequential_output\n    res = func(*args, **kwargs)\n  File \"C:\\Users\\AmanP\\PycharmProjects\\PodstawyPython\\github\\.venv\\lib\\site-packages\\sklearn\\utils\\parallel.py\", line 127, in __call__\n    return self.function(*args, **kwargs)\n  File \"C:\\Users\\AmanP\\PycharmProjects\\PodstawyPython\\github\\.venv\\lib\\site-packages\\sklearn\\pipeline.py\", line 957, in _fit_transform_one\n    res = transformer.fit_transform(X, y, **fit_params)\n  File \"C:\\Users\\AmanP\\PycharmProjects\\PodstawyPython\\github\\.venv\\lib\\site-packages\\sklearn\\base.py\", line 1152, in wrapper\n    return fit_method(estimator, *args, **kwargs)\n  File \"C:\\Users\\AmanP\\PycharmProjects\\PodstawyPython\\github\\.venv\\lib\\site-packages\\sklearn\\pipeline.py\", line 471, in fit_transform\n    Xt = self._fit(X, y, **fit_params_steps)\n  File \"C:\\Users\\AmanP\\PycharmProjects\\PodstawyPython\\github\\.venv\\lib\\site-packages\\sklearn\\pipeline.py\", line 377, in _fit\n    X, fitted_transformer = fit_transform_one_cached(\n  File \"C:\\Users\\AmanP\\PycharmProjects\\PodstawyPython\\github\\.venv\\lib\\site-packages\\joblib\\memory.py\", line 312, in __call__\n    return self.func(*args, **kwargs)\n  File \"C:\\Users\\AmanP\\PycharmProjects\\PodstawyPython\\github\\.venv\\lib\\site-packages\\sklearn\\pipeline.py\", line 957, in _fit_transform_one\n    res = transformer.fit_transform(X, y, **fit_params)\n  File \"C:\\Users\\AmanP\\PycharmProjects\\PodstawyPython\\github\\.venv\\lib\\site-packages\\sklearn\\utils\\_set_output.py\", line 157, in wrapped\n    data_to_wrap = f(self, X, *args, **kwargs)\n  File \"C:\\Users\\AmanP\\PycharmProjects\\PodstawyPython\\github\\.venv\\lib\\site-packages\\sklearn\\base.py\", line 1152, in wrapper\n    return fit_method(estimator, *args, **kwargs)\n  File \"C:\\Users\\AmanP\\PycharmProjects\\PodstawyPython\\github\\.venv\\lib\\site-packages\\sklearn\\preprocessing\\_data.py\", line 3142, in fit_transform\n    return self._fit(X, y, force_transform=True)\n  File \"C:\\Users\\AmanP\\PycharmProjects\\PodstawyPython\\github\\.venv\\lib\\site-packages\\sklearn\\preprocessing\\_data.py\", line 3145, in _fit\n    X = self._check_input(X, in_fit=True, check_positive=True)\n  File \"C:\\Users\\AmanP\\PycharmProjects\\PodstawyPython\\github\\.venv\\lib\\site-packages\\sklearn\\preprocessing\\_data.py\", line 3383, in _check_input\n    X = self._validate_data(\n  File \"C:\\Users\\AmanP\\PycharmProjects\\PodstawyPython\\github\\.venv\\lib\\site-packages\\sklearn\\base.py\", line 605, in _validate_data\n    out = check_array(X, input_name=\"X\", **check_params)\n  File \"C:\\Users\\AmanP\\PycharmProjects\\PodstawyPython\\github\\.venv\\lib\\site-packages\\sklearn\\utils\\validation.py\", line 938, in check_array\n    raise ValueError(\nValueError: Expected 2D array, got 1D array instead:\narray=[ 69.3      0.      13.      13.5     13.       8.05    14.5      9.5\n   7.2292  16.1     13.      26.25     7.1417  10.5      9.      13.4167\n   8.05     6.75    19.5      7.8542   8.0292  15.05    15.      30.5\n   7.8958  30.0708   9.225   24.       7.8542   7.25    10.5     22.525\n  13.      10.5     10.5     61.3792  28.5      7.25    12.475    7.75\n   7.8958  13.     108.9      8.6625  83.1583   7.25     7.775  512.3292\n  15.55    90.       7.8542   7.925   50.4958   7.55     7.75    15.85\n  21.       7.25    39.      12.875    8.05    26.55     7.8958   7.8542\n   8.05    25.4667   7.225   14.4542 153.4625  27.9      7.925   30.6958\n  10.5     38.5     13.       8.05   247.5208 227.525    7.8958   7.5208\n  30.6958   7.925    7.7958  15.5     20.575   30.5     26.      39.6\n  14.5      7.75    26.       7.8958  23.       7.7958  18.      35.5\n   7.75    27.7208   7.55     7.25    73.5      8.5167   7.725   26.\n   8.6625   7.925   56.9292  29.7     32.3208   8.05     8.6625  18.\n  21.075   10.5      7.25    78.85    18.75     7.225  262.375  512.3292\n  69.55    20.25     7.775   24.      27.7208   8.05     7.775   31.275\n   9.5    211.3375  26.       4.0125   7.8958   7.8958  46.9     14.4583\n  10.5     16.1     14.4542   7.7333  69.55    31.275   26.2875  31.275\n  17.8      7.125   56.4958   0.      29.125   69.55     8.05     7.8958\n  56.4958   7.775   10.5     27.75    13.      26.55    26.     151.55\n  79.2     89.1042  30.5     14.5    151.55     7.2292   7.75    26.\n   8.05    11.2417   7.8542  73.5      7.55    52.      12.2875   8.05\n   7.925    7.7375  26.     120.       7.8958   7.8792   8.1125   0.\n  13.      26.      39.      79.2     22.025   10.5      9.8458  21.\n 110.8833   8.6625  13.      79.65     7.75     9.8375   7.8542 110.8833\n 263.       7.925   52.5542   7.8958   7.7958  10.5     14.4583  22.3583\n   7.75     8.6625  10.5     31.3875   7.925   13.      16.1     12.35\n   7.4958   8.05     7.775    7.8958  49.5042  16.1      7.925   22.3583\n  41.5792  52.5542  15.5     51.8625  79.65    15.85    13.      36.75\n   8.05     7.125   80.      10.5     83.475    8.05     7.925    7.7333\n  20.525    7.8958   7.8542 110.8833   8.05     7.925   57.      83.1583\n  10.1708  10.5      9.5     11.5     16.1      0.      56.4958   0.\n   7.0458  31.3875   9.5     27.7208  26.      71.2833   7.4958   7.225\n   7.8958 133.65     7.75   164.8667  40.125    9.225   47.1     14.4583\n  23.25    26.       7.75     7.925   34.375    8.05    10.5     86.5\n   0.      29.7      8.05    14.4      5.      13.      10.5     76.2917\n  26.       8.05     8.05     6.75     7.75     8.05    10.5      7.25\n   6.45    14.5      7.75    52.     134.5      9.5     26.55     7.8792\n   7.8958  21.      52.      26.      69.55    26.      25.925   53.1\n   8.05     8.05     7.8958  29.125   77.9583   7.925    9.5    211.3375\n  26.2833  26.       7.125   13.      10.5      7.75     7.775    8.85\n  31.       9.35    71.      10.4625  18.7875 113.275    7.925    8.6625\n  27.7208   7.55    26.3875   7.925    8.05   135.6333  15.5     26.\n  26.       7.6292 263.       7.05    20.575   26.55     9.5      7.8542\n   7.775   27.9     26.       7.75    61.175    7.8958  23.       8.05\n   9.       9.5875  52.       7.775  227.525    7.8958  24.15    13.5\n 153.4625   8.4042 113.275    9.5      7.05     8.6833   0.      14.5\n   8.6625  26.25    34.375   76.7292  86.5      7.75    31.275   15.1\n  13.      19.9667  73.5      7.8958   7.8292   0.      15.2458  27.9\n  15.85    11.1333   8.05    10.5     27.75    20.2125 211.5     46.9\n  78.2667   7.0542  26.55   134.5     15.5     90.       7.75   263.\n  35.5     29.       7.8958   7.2292  90.      73.5     24.15     7.125\n  23.25    11.1333   7.8542  80.      15.5     34.375   24.15    27.9\n  76.7292  29.125   49.5042  89.1042   7.8958   8.05    49.5    263.\n  15.2458   7.75    26.55     7.8542   8.05    10.5     79.65     8.05\n  14.5     26.      53.1      7.225   15.9     65.      13.7917   7.225\n  79.2      8.1583  13.      10.5      8.05    71.       7.8     59.4\n   7.05    26.       7.2292 151.55    55.9     13.5     13.      15.5\n  26.55     6.975    7.8792   7.225   15.2458  30.     120.       7.3125\n  30.       7.8958  77.9583   6.4375   0.      91.0792   7.7958  10.5\n   7.75    16.7     56.4958  13.      13.       8.05     8.1375   8.05\n  78.85     6.8583  30.      13.       7.8792  69.55   227.525   15.0458\n  25.4667  86.5     17.4     33.      30.      11.2417  26.       7.925\n  19.9667  12.475   37.0042   7.925    7.75    41.5792   7.8958  16.1\n  69.55    35.5     25.4667  14.4542  90.     106.425   14.4542   7.75\n  39.6875   9.825   34.6542   7.8542  13.      24.15   262.375   23.\n  12.35     7.925    7.25     7.75  ].\nReshape your data either using array.reshape(-1, 1) if your data has a single feature or array.reshape(1, -1) if it contains a single sample.\n\nThe above exception was the direct cause of the following exception:\n\nTraceback (most recent call last):\n  File \"C:\\Users\\AmanP\\PycharmProjects\\PodstawyPython\\github\\.venv\\lib\\site-packages\\sklearn\\model_selection\\_validation.py\", line 729, in _fit_and_score\n    estimator.fit(X_train, y_train, **fit_params)\n  File \"C:\\Users\\AmanP\\PycharmProjects\\PodstawyPython\\github\\.venv\\lib\\site-packages\\sklearn\\base.py\", line 1152, in wrapper\n    return fit_method(estimator, *args, **kwargs)\n  File \"C:\\Users\\AmanP\\PycharmProjects\\PodstawyPython\\github\\.venv\\lib\\site-packages\\sklearn\\pipeline.py\", line 423, in fit\n    Xt = self._fit(X, y, **fit_params_steps)\n  File \"C:\\Users\\AmanP\\PycharmProjects\\PodstawyPython\\github\\.venv\\lib\\site-packages\\sklearn\\pipeline.py\", line 377, in _fit\n    X, fitted_transformer = fit_transform_one_cached(\n  File \"C:\\Users\\AmanP\\PycharmProjects\\PodstawyPython\\github\\.venv\\lib\\site-packages\\joblib\\memory.py\", line 312, in __call__\n    return self.func(*args, **kwargs)\n  File \"C:\\Users\\AmanP\\PycharmProjects\\PodstawyPython\\github\\.venv\\lib\\site-packages\\sklearn\\pipeline.py\", line 957, in _fit_transform_one\n    res = transformer.fit_transform(X, y, **fit_params)\n  File \"C:\\Users\\AmanP\\PycharmProjects\\PodstawyPython\\github\\.venv\\lib\\site-packages\\sklearn\\utils\\_set_output.py\", line 157, in wrapped\n    data_to_wrap = f(self, X, *args, **kwargs)\n  File \"C:\\Users\\AmanP\\PycharmProjects\\PodstawyPython\\github\\.venv\\lib\\site-packages\\sklearn\\base.py\", line 1152, in wrapper\n    return fit_method(estimator, *args, **kwargs)\n  File \"C:\\Users\\AmanP\\PycharmProjects\\PodstawyPython\\github\\.venv\\lib\\site-packages\\sklearn\\compose\\_column_transformer.py\", line 754, in fit_transform\n    result = self._fit_transform(X, y, _fit_transform_one)\n  File \"C:\\Users\\AmanP\\PycharmProjects\\PodstawyPython\\github\\.venv\\lib\\site-packages\\sklearn\\compose\\_column_transformer.py\", line 694, in _fit_transform\n    raise ValueError(_ERR_MSG_1DCOLUMN) from e\nValueError: 1D data passed to a transformer that expects 2D data. Try to specify the column selection as a list of one item instead of a scalar.\n\n--------------------------------------------------------------------------------\n32 fits failed with the following error:\nTraceback (most recent call last):\n  File \"C:\\Users\\AmanP\\PycharmProjects\\PodstawyPython\\github\\.venv\\lib\\site-packages\\sklearn\\compose\\_column_transformer.py\", line 681, in _fit_transform\n    return Parallel(n_jobs=self.n_jobs)(\n  File \"C:\\Users\\AmanP\\PycharmProjects\\PodstawyPython\\github\\.venv\\lib\\site-packages\\sklearn\\utils\\parallel.py\", line 65, in __call__\n    return super().__call__(iterable_with_config)\n  File \"C:\\Users\\AmanP\\PycharmProjects\\PodstawyPython\\github\\.venv\\lib\\site-packages\\joblib\\parallel.py\", line 1918, in __call__\n    return output if self.return_generator else list(output)\n  File \"C:\\Users\\AmanP\\PycharmProjects\\PodstawyPython\\github\\.venv\\lib\\site-packages\\joblib\\parallel.py\", line 1847, in _get_sequential_output\n    res = func(*args, **kwargs)\n  File \"C:\\Users\\AmanP\\PycharmProjects\\PodstawyPython\\github\\.venv\\lib\\site-packages\\sklearn\\utils\\parallel.py\", line 127, in __call__\n    return self.function(*args, **kwargs)\n  File \"C:\\Users\\AmanP\\PycharmProjects\\PodstawyPython\\github\\.venv\\lib\\site-packages\\sklearn\\pipeline.py\", line 957, in _fit_transform_one\n    res = transformer.fit_transform(X, y, **fit_params)\n  File \"C:\\Users\\AmanP\\PycharmProjects\\PodstawyPython\\github\\.venv\\lib\\site-packages\\sklearn\\base.py\", line 1152, in wrapper\n    return fit_method(estimator, *args, **kwargs)\n  File \"C:\\Users\\AmanP\\PycharmProjects\\PodstawyPython\\github\\.venv\\lib\\site-packages\\sklearn\\pipeline.py\", line 471, in fit_transform\n    Xt = self._fit(X, y, **fit_params_steps)\n  File \"C:\\Users\\AmanP\\PycharmProjects\\PodstawyPython\\github\\.venv\\lib\\site-packages\\sklearn\\pipeline.py\", line 377, in _fit\n    X, fitted_transformer = fit_transform_one_cached(\n  File \"C:\\Users\\AmanP\\PycharmProjects\\PodstawyPython\\github\\.venv\\lib\\site-packages\\joblib\\memory.py\", line 312, in __call__\n    return self.func(*args, **kwargs)\n  File \"C:\\Users\\AmanP\\PycharmProjects\\PodstawyPython\\github\\.venv\\lib\\site-packages\\sklearn\\pipeline.py\", line 957, in _fit_transform_one\n    res = transformer.fit_transform(X, y, **fit_params)\n  File \"C:\\Users\\AmanP\\PycharmProjects\\PodstawyPython\\github\\.venv\\lib\\site-packages\\sklearn\\utils\\_set_output.py\", line 157, in wrapped\n    data_to_wrap = f(self, X, *args, **kwargs)\n  File \"C:\\Users\\AmanP\\PycharmProjects\\PodstawyPython\\github\\.venv\\lib\\site-packages\\sklearn\\base.py\", line 1152, in wrapper\n    return fit_method(estimator, *args, **kwargs)\n  File \"C:\\Users\\AmanP\\PycharmProjects\\PodstawyPython\\github\\.venv\\lib\\site-packages\\sklearn\\preprocessing\\_data.py\", line 3142, in fit_transform\n    return self._fit(X, y, force_transform=True)\n  File \"C:\\Users\\AmanP\\PycharmProjects\\PodstawyPython\\github\\.venv\\lib\\site-packages\\sklearn\\preprocessing\\_data.py\", line 3145, in _fit\n    X = self._check_input(X, in_fit=True, check_positive=True)\n  File \"C:\\Users\\AmanP\\PycharmProjects\\PodstawyPython\\github\\.venv\\lib\\site-packages\\sklearn\\preprocessing\\_data.py\", line 3383, in _check_input\n    X = self._validate_data(\n  File \"C:\\Users\\AmanP\\PycharmProjects\\PodstawyPython\\github\\.venv\\lib\\site-packages\\sklearn\\base.py\", line 605, in _validate_data\n    out = check_array(X, input_name=\"X\", **check_params)\n  File \"C:\\Users\\AmanP\\PycharmProjects\\PodstawyPython\\github\\.venv\\lib\\site-packages\\sklearn\\utils\\validation.py\", line 938, in check_array\n    raise ValueError(\nValueError: Expected 2D array, got 1D array instead:\narray=[ 69.3      0.      13.      13.5     13.       8.05    14.5      9.5\n   7.2292  13.      73.5     26.25     7.1417   8.3     10.5      9.\n  13.4167   8.05     6.75    19.5      7.8542   8.0292  15.05    30.5\n   7.8958  30.0708   9.225   24.       7.8542   7.25    10.5     22.525\n  13.      10.5     10.5     61.3792  28.5     12.475    7.75     7.8958\n  13.      15.5      8.6625  83.1583  24.15     7.25     7.775  512.3292\n  15.55    90.     153.4625   7.8542   7.925   50.4958   7.55     7.75\n  15.85    21.       7.25    39.      12.875   26.55     7.8958   7.8542\n  25.4667   7.225  153.4625  27.9      7.925   30.6958  13.8583  10.5\n  13.       8.05   247.5208  16.     227.525    7.8958   7.925    7.7958\n  15.5     20.575   30.5     26.      39.6     30.5     14.5      7.75\n  26.       7.8958  23.       7.7958  18.      35.5      7.75    27.7208\n   7.55     7.25    73.5      8.5167   7.725    8.6625   7.925   29.7\n  32.3208   8.05    18.      21.075   10.5      6.2375  13.      10.4625\n  16.1      7.225    6.95   262.375  512.3292  69.55    26.55     7.75\n   7.775   52.      24.      27.7208   8.05    31.275  211.3375  26.\n   4.0125   7.8958   7.2292   7.8958  46.9     10.5     16.1     14.4542\n   7.7333  69.55    31.275    9.825   26.2875  31.275   17.8      7.125\n  56.4958  29.125    0.       8.05    51.4792  56.4958   7.775   10.5\n  27.75    13.      26.55   151.55    79.2     89.1042  30.5    211.3375\n  14.5    151.55     7.2292   7.75    26.      46.9      8.05    11.2417\n   7.8542  73.5      7.225    7.55    52.      12.2875   8.05     7.925\n   7.7375  26.       7.8792   8.1125   0.      13.      26.      10.5\n  21.     110.8833   8.05     8.6625  13.      79.65     7.75    53.1\n   9.8375   7.8542 110.8833 263.       7.8958   7.925   52.5542   7.8958\n   7.7958  10.5     14.4583  22.3583   7.8958   7.75    10.5      7.925\n  16.1     12.35    75.25     7.4958   8.05     7.775    7.8958  18.\n  16.1     22.3583  41.5792  15.5     51.8625  79.65    15.85    13.\n  36.75     8.05     7.125   80.      10.5     81.8583  83.475    8.05\n   7.925    7.7333   7.8958   7.8542   8.05     7.925   57.       8.05\n  83.1583  10.1708  10.5      9.5     11.5     16.1      0.      56.4958\n   0.       7.0458  31.3875   9.5     27.7208  26.      71.2833   7.4958\n   7.225    7.8958 133.65   164.8667  40.125    9.225   47.1     14.4583\n  23.25    26.       7.75     7.925   34.375    8.05    10.5     86.5\n   0.       0.      29.7      8.05    14.4      5.      13.      10.5\n  76.2917  26.       8.05     8.05     6.75     7.75     8.05    10.5\n   7.25    26.25     6.45    14.5      7.75     7.8958  52.     134.5\n   9.5     26.55     7.8792   7.8958  21.      52.      26.      69.55\n  25.925   53.1      7.875    8.05     9.35     8.05     7.8958  29.125\n  77.9583   7.925   26.2833  26.       7.125   10.5      7.75     7.775\n   8.85    31.      16.7      9.35    71.      10.4625  18.7875 113.275\n   7.925    8.6625  27.7208   7.55    26.3875   7.925    8.05   135.6333\n  15.5     26.      26.       7.6292 263.       7.05    20.575   26.55\n  15.7417   7.8542  18.75    26.55    26.       7.75    61.175    7.8958\n  23.       8.05     9.       9.5875  39.6875  52.       7.775  227.525\n  13.       7.8958  24.15    13.5    153.4625   8.4042 113.275    9.5\n   8.6833   0.      14.5      8.6625  26.25    34.375   76.7292  86.5\n  31.275   15.1     13.      19.9667  73.5     26.55     7.8958   7.8292\n   0.       7.4958  15.2458  27.9     15.85    11.1333   8.05    10.5\n  27.75    27.75    20.2125 211.5     46.9     78.2667  26.55   134.5\n  15.5     90.       7.75   263.      35.5     29.       7.8958   7.2292\n  90.      73.5     24.15     7.125   23.25     7.2292   7.8542  80.\n  15.5     24.15    27.9     76.7292  29.125   26.       7.8958   8.05\n  49.5    263.      15.2458   7.75    26.55     7.8542   8.05    10.5\n  79.65     8.05    14.5     26.      53.1      7.225   15.9     65.\n  13.7917   7.225   79.2      8.1583  34.0208  13.      10.5      8.05\n  71.       7.8     59.4      7.05    26.       7.2292 151.55    55.9\n 106.425   13.5     13.      15.5     26.55     6.975    7.8792   7.225\n  15.2458  30.     120.      33.       7.3125   6.4958  30.      26.\n   7.8958   8.6625  77.9583   6.4375   0.      91.0792   7.7958  10.5\n   7.75    56.4958  13.      13.       8.05    10.5167   8.1375   8.05\n  78.85     6.8583  30.      13.       7.8792  69.55   227.525   26.\n  15.0458  25.4667  86.5     17.4     33.      30.      11.2417  26.\n   7.925   19.9667  12.475   37.0042   7.75    41.5792   7.8958  69.55\n  35.5     25.4667  14.4542  90.     106.425   14.4542  39.6875   9.825\n  34.6542 512.3292   7.75    13.       7.65    24.15    13.     262.375\n  23.      12.35     7.925    7.75  ].\nReshape your data either using array.reshape(-1, 1) if your data has a single feature or array.reshape(1, -1) if it contains a single sample.\n\nThe above exception was the direct cause of the following exception:\n\nTraceback (most recent call last):\n  File \"C:\\Users\\AmanP\\PycharmProjects\\PodstawyPython\\github\\.venv\\lib\\site-packages\\sklearn\\model_selection\\_validation.py\", line 729, in _fit_and_score\n    estimator.fit(X_train, y_train, **fit_params)\n  File \"C:\\Users\\AmanP\\PycharmProjects\\PodstawyPython\\github\\.venv\\lib\\site-packages\\sklearn\\base.py\", line 1152, in wrapper\n    return fit_method(estimator, *args, **kwargs)\n  File \"C:\\Users\\AmanP\\PycharmProjects\\PodstawyPython\\github\\.venv\\lib\\site-packages\\sklearn\\pipeline.py\", line 423, in fit\n    Xt = self._fit(X, y, **fit_params_steps)\n  File \"C:\\Users\\AmanP\\PycharmProjects\\PodstawyPython\\github\\.venv\\lib\\site-packages\\sklearn\\pipeline.py\", line 377, in _fit\n    X, fitted_transformer = fit_transform_one_cached(\n  File \"C:\\Users\\AmanP\\PycharmProjects\\PodstawyPython\\github\\.venv\\lib\\site-packages\\joblib\\memory.py\", line 312, in __call__\n    return self.func(*args, **kwargs)\n  File \"C:\\Users\\AmanP\\PycharmProjects\\PodstawyPython\\github\\.venv\\lib\\site-packages\\sklearn\\pipeline.py\", line 957, in _fit_transform_one\n    res = transformer.fit_transform(X, y, **fit_params)\n  File \"C:\\Users\\AmanP\\PycharmProjects\\PodstawyPython\\github\\.venv\\lib\\site-packages\\sklearn\\utils\\_set_output.py\", line 157, in wrapped\n    data_to_wrap = f(self, X, *args, **kwargs)\n  File \"C:\\Users\\AmanP\\PycharmProjects\\PodstawyPython\\github\\.venv\\lib\\site-packages\\sklearn\\base.py\", line 1152, in wrapper\n    return fit_method(estimator, *args, **kwargs)\n  File \"C:\\Users\\AmanP\\PycharmProjects\\PodstawyPython\\github\\.venv\\lib\\site-packages\\sklearn\\compose\\_column_transformer.py\", line 754, in fit_transform\n    result = self._fit_transform(X, y, _fit_transform_one)\n  File \"C:\\Users\\AmanP\\PycharmProjects\\PodstawyPython\\github\\.venv\\lib\\site-packages\\sklearn\\compose\\_column_transformer.py\", line 694, in _fit_transform\n    raise ValueError(_ERR_MSG_1DCOLUMN) from e\nValueError: 1D data passed to a transformer that expects 2D data. Try to specify the column selection as a list of one item instead of a scalar.\n\n--------------------------------------------------------------------------------\n32 fits failed with the following error:\nTraceback (most recent call last):\n  File \"C:\\Users\\AmanP\\PycharmProjects\\PodstawyPython\\github\\.venv\\lib\\site-packages\\sklearn\\compose\\_column_transformer.py\", line 681, in _fit_transform\n    return Parallel(n_jobs=self.n_jobs)(\n  File \"C:\\Users\\AmanP\\PycharmProjects\\PodstawyPython\\github\\.venv\\lib\\site-packages\\sklearn\\utils\\parallel.py\", line 65, in __call__\n    return super().__call__(iterable_with_config)\n  File \"C:\\Users\\AmanP\\PycharmProjects\\PodstawyPython\\github\\.venv\\lib\\site-packages\\joblib\\parallel.py\", line 1918, in __call__\n    return output if self.return_generator else list(output)\n  File \"C:\\Users\\AmanP\\PycharmProjects\\PodstawyPython\\github\\.venv\\lib\\site-packages\\joblib\\parallel.py\", line 1847, in _get_sequential_output\n    res = func(*args, **kwargs)\n  File \"C:\\Users\\AmanP\\PycharmProjects\\PodstawyPython\\github\\.venv\\lib\\site-packages\\sklearn\\utils\\parallel.py\", line 127, in __call__\n    return self.function(*args, **kwargs)\n  File \"C:\\Users\\AmanP\\PycharmProjects\\PodstawyPython\\github\\.venv\\lib\\site-packages\\sklearn\\pipeline.py\", line 957, in _fit_transform_one\n    res = transformer.fit_transform(X, y, **fit_params)\n  File \"C:\\Users\\AmanP\\PycharmProjects\\PodstawyPython\\github\\.venv\\lib\\site-packages\\sklearn\\base.py\", line 1152, in wrapper\n    return fit_method(estimator, *args, **kwargs)\n  File \"C:\\Users\\AmanP\\PycharmProjects\\PodstawyPython\\github\\.venv\\lib\\site-packages\\sklearn\\pipeline.py\", line 471, in fit_transform\n    Xt = self._fit(X, y, **fit_params_steps)\n  File \"C:\\Users\\AmanP\\PycharmProjects\\PodstawyPython\\github\\.venv\\lib\\site-packages\\sklearn\\pipeline.py\", line 377, in _fit\n    X, fitted_transformer = fit_transform_one_cached(\n  File \"C:\\Users\\AmanP\\PycharmProjects\\PodstawyPython\\github\\.venv\\lib\\site-packages\\joblib\\memory.py\", line 312, in __call__\n    return self.func(*args, **kwargs)\n  File \"C:\\Users\\AmanP\\PycharmProjects\\PodstawyPython\\github\\.venv\\lib\\site-packages\\sklearn\\pipeline.py\", line 957, in _fit_transform_one\n    res = transformer.fit_transform(X, y, **fit_params)\n  File \"C:\\Users\\AmanP\\PycharmProjects\\PodstawyPython\\github\\.venv\\lib\\site-packages\\sklearn\\utils\\_set_output.py\", line 157, in wrapped\n    data_to_wrap = f(self, X, *args, **kwargs)\n  File \"C:\\Users\\AmanP\\PycharmProjects\\PodstawyPython\\github\\.venv\\lib\\site-packages\\sklearn\\base.py\", line 1152, in wrapper\n    return fit_method(estimator, *args, **kwargs)\n  File \"C:\\Users\\AmanP\\PycharmProjects\\PodstawyPython\\github\\.venv\\lib\\site-packages\\sklearn\\preprocessing\\_data.py\", line 3142, in fit_transform\n    return self._fit(X, y, force_transform=True)\n  File \"C:\\Users\\AmanP\\PycharmProjects\\PodstawyPython\\github\\.venv\\lib\\site-packages\\sklearn\\preprocessing\\_data.py\", line 3145, in _fit\n    X = self._check_input(X, in_fit=True, check_positive=True)\n  File \"C:\\Users\\AmanP\\PycharmProjects\\PodstawyPython\\github\\.venv\\lib\\site-packages\\sklearn\\preprocessing\\_data.py\", line 3383, in _check_input\n    X = self._validate_data(\n  File \"C:\\Users\\AmanP\\PycharmProjects\\PodstawyPython\\github\\.venv\\lib\\site-packages\\sklearn\\base.py\", line 605, in _validate_data\n    out = check_array(X, input_name=\"X\", **check_params)\n  File \"C:\\Users\\AmanP\\PycharmProjects\\PodstawyPython\\github\\.venv\\lib\\site-packages\\sklearn\\utils\\validation.py\", line 938, in check_array\n    raise ValueError(\nValueError: Expected 2D array, got 1D array instead:\narray=[ 69.3      0.      13.      13.5     13.       8.05    14.5      9.5\n   7.2292  16.1     13.      73.5     26.25     7.1417   8.3     10.5\n   9.      13.4167   8.05     6.75    19.5      7.8542  15.05    15.\n  30.5      7.8958  30.0708  24.       7.8542   7.25    10.5     22.525\n  10.5     10.5     61.3792  28.5      7.25    12.475    7.75     7.8958\n  13.     108.9     15.5      8.6625  83.1583  24.15     7.25     7.775\n 512.3292  15.55    90.     153.4625   7.8542   7.925   50.4958   7.55\n   7.75    15.85    21.       7.25    39.      12.875    8.05    26.55\n   7.8958   7.8542   8.05    25.4667   7.225   14.4542   7.925   30.6958\n  13.8583  10.5     38.5     13.       8.05   247.5208  16.     227.525\n   7.8958   7.5208  30.6958   7.925    7.7958  15.5     20.575   30.5\n  30.5     14.5      7.75    26.       7.8958  23.      18.      35.5\n   7.75    27.7208   7.25     8.5167  26.       8.6625   7.925   56.9292\n  29.7     32.3208   8.05     8.6625  18.      21.075   10.5      6.2375\n  13.      10.4625   7.25    16.1     78.85    18.75     7.225    6.95\n 262.375   69.55    26.55     7.75    20.25    52.      24.      27.7208\n   8.05     7.775   31.275    9.5    211.3375  26.       7.8958   7.2292\n   7.8958  46.9     14.4583  10.5     14.4542   7.7333  69.55    31.275\n   9.825   26.2875  31.275   17.8      7.125   56.4958   0.      29.125\n   0.      69.55     8.05    51.4792   7.8958  56.4958  10.5     27.75\n  13.      26.55    26.     151.55    79.2     89.1042  30.5    211.3375\n  14.5    151.55     7.2292   7.75    26.      46.9      8.05    11.2417\n   7.8542  73.5      7.225    7.55    52.       7.925    7.7375  26.\n 120.       7.8958   7.8792   8.1125  13.      26.      39.      79.2\n  22.025   10.5      9.8458  21.     110.8833   8.05     8.6625  13.\n  79.65     7.75    53.1      9.8375   7.8542 110.8833 263.       7.8958\n   7.925   52.5542   7.8958   7.7958  10.5     14.4583  22.3583   7.8958\n   7.75     8.6625  10.5     31.3875  13.      16.1     12.35    75.25\n   8.05     7.775    7.8958  49.5042  18.      16.1      7.925   22.3583\n  41.5792  52.5542  15.5     51.8625  79.65    15.85    13.      36.75\n   8.05     7.125   80.      10.5     81.8583  83.475    7.925    7.7333\n  20.525    7.8958   7.8542 110.8833   8.05     7.925   57.       8.05\n  83.1583  10.1708  10.5      9.5     11.5     16.1     56.4958   0.\n   7.0458  31.3875   9.5     27.7208  26.      71.2833   7.4958   7.225\n 133.65     7.75   164.8667  40.125    9.225   14.4583  23.25     7.75\n   7.925    8.05    10.5     86.5      0.       0.      29.7      8.05\n  14.4      5.      13.      10.5     76.2917  26.       8.05     8.05\n   6.75     8.05     7.25    26.25     6.45    14.5      7.75     7.8958\n  52.     134.5      9.5     26.55     7.8792   7.8958  21.      52.\n  26.      26.      53.1      7.875    8.05     9.35     8.05     7.8958\n  29.125   77.9583   9.5    211.3375  26.2833  26.       7.125   13.\n  10.5      7.75     7.775   31.      16.7      9.35    71.      18.7875\n 113.275    7.925    8.6625  27.7208   7.55    26.3875   7.925    8.05\n 135.6333  15.5     26.       7.6292 263.       7.05    26.55    15.7417\n   9.5      7.8542  18.75    26.55     7.775   27.9     26.       7.75\n  61.175    7.8958  23.       8.05     9.       9.5875  39.6875  52.\n   7.775  227.525   13.       7.8958  24.15    13.5    153.4625   8.4042\n   9.5      7.05     8.6833   0.      14.5      8.6625  26.25    34.375\n  76.7292  86.5      7.75    15.1     73.5     26.55     7.4958  15.2458\n  27.9     15.85    11.1333   8.05    10.5     27.75    27.75    20.2125\n 211.5     46.9     78.2667   7.0542 134.5     15.5     90.       7.75\n 263.      29.       7.8958   7.2292  90.      73.5      7.125   23.25\n  11.1333   7.2292   7.8542  15.5     34.375   24.15    27.9     76.7292\n  29.125   49.5042  26.      89.1042   7.8958  49.5    263.       7.75\n  26.55     7.8542   8.05    10.5     79.65     8.05    14.5     26.\n  53.1      7.225   15.9     65.      13.7917   7.225   79.2      8.1583\n  34.0208  13.      10.5     71.       7.8     59.4      7.05    26.\n   7.2292 151.55   106.425   13.5     13.      15.5     26.55     6.975\n   7.8792   7.225   15.2458  30.     120.      33.       7.3125   6.4958\n  30.      26.       7.8958   8.6625  77.9583   0.      91.0792   7.7958\n  10.5      7.75    16.7     56.4958  13.      13.       8.05    10.5167\n   8.1375   8.05    78.85     6.8583  30.      13.       7.8792  69.55\n 227.525   26.      15.0458  25.4667  86.5     17.4     33.      30.\n  11.2417   7.925   19.9667  12.475   37.0042   7.925    7.8958  16.1\n  25.4667  14.4542  90.     106.425   14.4542   7.75    39.6875  34.6542\n 512.3292   7.75     7.8542  13.       7.65    24.15    13.     262.375\n  23.      12.35     7.925    7.25  ].\nReshape your data either using array.reshape(-1, 1) if your data has a single feature or array.reshape(1, -1) if it contains a single sample.\n\nThe above exception was the direct cause of the following exception:\n\nTraceback (most recent call last):\n  File \"C:\\Users\\AmanP\\PycharmProjects\\PodstawyPython\\github\\.venv\\lib\\site-packages\\sklearn\\model_selection\\_validation.py\", line 729, in _fit_and_score\n    estimator.fit(X_train, y_train, **fit_params)\n  File \"C:\\Users\\AmanP\\PycharmProjects\\PodstawyPython\\github\\.venv\\lib\\site-packages\\sklearn\\base.py\", line 1152, in wrapper\n    return fit_method(estimator, *args, **kwargs)\n  File \"C:\\Users\\AmanP\\PycharmProjects\\PodstawyPython\\github\\.venv\\lib\\site-packages\\sklearn\\pipeline.py\", line 423, in fit\n    Xt = self._fit(X, y, **fit_params_steps)\n  File \"C:\\Users\\AmanP\\PycharmProjects\\PodstawyPython\\github\\.venv\\lib\\site-packages\\sklearn\\pipeline.py\", line 377, in _fit\n    X, fitted_transformer = fit_transform_one_cached(\n  File \"C:\\Users\\AmanP\\PycharmProjects\\PodstawyPython\\github\\.venv\\lib\\site-packages\\joblib\\memory.py\", line 312, in __call__\n    return self.func(*args, **kwargs)\n  File \"C:\\Users\\AmanP\\PycharmProjects\\PodstawyPython\\github\\.venv\\lib\\site-packages\\sklearn\\pipeline.py\", line 957, in _fit_transform_one\n    res = transformer.fit_transform(X, y, **fit_params)\n  File \"C:\\Users\\AmanP\\PycharmProjects\\PodstawyPython\\github\\.venv\\lib\\site-packages\\sklearn\\utils\\_set_output.py\", line 157, in wrapped\n    data_to_wrap = f(self, X, *args, **kwargs)\n  File \"C:\\Users\\AmanP\\PycharmProjects\\PodstawyPython\\github\\.venv\\lib\\site-packages\\sklearn\\base.py\", line 1152, in wrapper\n    return fit_method(estimator, *args, **kwargs)\n  File \"C:\\Users\\AmanP\\PycharmProjects\\PodstawyPython\\github\\.venv\\lib\\site-packages\\sklearn\\compose\\_column_transformer.py\", line 754, in fit_transform\n    result = self._fit_transform(X, y, _fit_transform_one)\n  File \"C:\\Users\\AmanP\\PycharmProjects\\PodstawyPython\\github\\.venv\\lib\\site-packages\\sklearn\\compose\\_column_transformer.py\", line 694, in _fit_transform\n    raise ValueError(_ERR_MSG_1DCOLUMN) from e\nValueError: 1D data passed to a transformer that expects 2D data. Try to specify the column selection as a list of one item instead of a scalar.\n\n--------------------------------------------------------------------------------\n32 fits failed with the following error:\nTraceback (most recent call last):\n  File \"C:\\Users\\AmanP\\PycharmProjects\\PodstawyPython\\github\\.venv\\lib\\site-packages\\sklearn\\compose\\_column_transformer.py\", line 681, in _fit_transform\n    return Parallel(n_jobs=self.n_jobs)(\n  File \"C:\\Users\\AmanP\\PycharmProjects\\PodstawyPython\\github\\.venv\\lib\\site-packages\\sklearn\\utils\\parallel.py\", line 65, in __call__\n    return super().__call__(iterable_with_config)\n  File \"C:\\Users\\AmanP\\PycharmProjects\\PodstawyPython\\github\\.venv\\lib\\site-packages\\joblib\\parallel.py\", line 1918, in __call__\n    return output if self.return_generator else list(output)\n  File \"C:\\Users\\AmanP\\PycharmProjects\\PodstawyPython\\github\\.venv\\lib\\site-packages\\joblib\\parallel.py\", line 1847, in _get_sequential_output\n    res = func(*args, **kwargs)\n  File \"C:\\Users\\AmanP\\PycharmProjects\\PodstawyPython\\github\\.venv\\lib\\site-packages\\sklearn\\utils\\parallel.py\", line 127, in __call__\n    return self.function(*args, **kwargs)\n  File \"C:\\Users\\AmanP\\PycharmProjects\\PodstawyPython\\github\\.venv\\lib\\site-packages\\sklearn\\pipeline.py\", line 957, in _fit_transform_one\n    res = transformer.fit_transform(X, y, **fit_params)\n  File \"C:\\Users\\AmanP\\PycharmProjects\\PodstawyPython\\github\\.venv\\lib\\site-packages\\sklearn\\base.py\", line 1152, in wrapper\n    return fit_method(estimator, *args, **kwargs)\n  File \"C:\\Users\\AmanP\\PycharmProjects\\PodstawyPython\\github\\.venv\\lib\\site-packages\\sklearn\\pipeline.py\", line 471, in fit_transform\n    Xt = self._fit(X, y, **fit_params_steps)\n  File \"C:\\Users\\AmanP\\PycharmProjects\\PodstawyPython\\github\\.venv\\lib\\site-packages\\sklearn\\pipeline.py\", line 377, in _fit\n    X, fitted_transformer = fit_transform_one_cached(\n  File \"C:\\Users\\AmanP\\PycharmProjects\\PodstawyPython\\github\\.venv\\lib\\site-packages\\joblib\\memory.py\", line 312, in __call__\n    return self.func(*args, **kwargs)\n  File \"C:\\Users\\AmanP\\PycharmProjects\\PodstawyPython\\github\\.venv\\lib\\site-packages\\sklearn\\pipeline.py\", line 957, in _fit_transform_one\n    res = transformer.fit_transform(X, y, **fit_params)\n  File \"C:\\Users\\AmanP\\PycharmProjects\\PodstawyPython\\github\\.venv\\lib\\site-packages\\sklearn\\utils\\_set_output.py\", line 157, in wrapped\n    data_to_wrap = f(self, X, *args, **kwargs)\n  File \"C:\\Users\\AmanP\\PycharmProjects\\PodstawyPython\\github\\.venv\\lib\\site-packages\\sklearn\\base.py\", line 1152, in wrapper\n    return fit_method(estimator, *args, **kwargs)\n  File \"C:\\Users\\AmanP\\PycharmProjects\\PodstawyPython\\github\\.venv\\lib\\site-packages\\sklearn\\preprocessing\\_data.py\", line 3142, in fit_transform\n    return self._fit(X, y, force_transform=True)\n  File \"C:\\Users\\AmanP\\PycharmProjects\\PodstawyPython\\github\\.venv\\lib\\site-packages\\sklearn\\preprocessing\\_data.py\", line 3145, in _fit\n    X = self._check_input(X, in_fit=True, check_positive=True)\n  File \"C:\\Users\\AmanP\\PycharmProjects\\PodstawyPython\\github\\.venv\\lib\\site-packages\\sklearn\\preprocessing\\_data.py\", line 3383, in _check_input\n    X = self._validate_data(\n  File \"C:\\Users\\AmanP\\PycharmProjects\\PodstawyPython\\github\\.venv\\lib\\site-packages\\sklearn\\base.py\", line 605, in _validate_data\n    out = check_array(X, input_name=\"X\", **check_params)\n  File \"C:\\Users\\AmanP\\PycharmProjects\\PodstawyPython\\github\\.venv\\lib\\site-packages\\sklearn\\utils\\validation.py\", line 938, in check_array\n    raise ValueError(\nValueError: Expected 2D array, got 1D array instead:\narray=[ 69.3      0.      13.      13.5     13.       8.05     7.2292  16.1\n  13.      73.5     26.25     7.1417   8.3     10.5      9.      13.4167\n   6.75     7.8542   8.0292  15.05    15.      30.5      7.8958  30.0708\n   9.225   24.       7.8542   7.25    10.5     22.525   13.      10.5\n  10.5     61.3792  28.5      7.25    12.475    7.75     7.8958  13.\n 108.9     15.5      8.6625  83.1583  24.15     7.25     7.775   15.55\n  90.     153.4625   7.8542  50.4958   7.55     7.75    15.85    21.\n   7.25    39.      12.875    8.05    26.55     7.8958   7.8542   8.05\n  25.4667   7.225   14.4542 153.4625  27.9     30.6958  13.8583  10.5\n  38.5     13.     247.5208  16.     227.525    7.8958   7.5208  30.6958\n   7.925    7.7958  15.5     30.5     26.      39.6     30.5     14.5\n   7.75    26.       7.8958  23.       7.7958  18.      35.5      7.75\n  27.7208   7.55     7.25    73.5      8.5167   7.725   26.       8.6625\n   7.925   56.9292  29.7     32.3208   8.05     8.6625  21.075   10.5\n   6.2375  13.      10.4625   7.25    16.1     78.85    18.75     7.225\n   6.95   262.375  512.3292  69.55    26.55     7.75    20.25     7.775\n  52.      24.      27.7208   7.775   31.275    9.5     26.       4.0125\n   7.8958   7.2292   7.8958  46.9     14.4583  10.5     16.1     14.4542\n   7.7333  69.55    31.275    9.825   26.2875  31.275   17.8      7.125\n  56.4958   0.      29.125    0.      69.55     8.05    51.4792   7.8958\n  56.4958   7.775   10.5     27.75    13.      26.55    26.     151.55\n  89.1042  30.5    211.3375  14.5    151.55     7.75    26.      46.9\n   8.05    11.2417   7.8542  73.5      7.225    7.55    12.2875   8.05\n   7.925    7.7375  26.     120.       7.8958   7.8792   8.1125   0.\n  13.      39.      79.2     22.025   10.5      9.8458  21.     110.8833\n   8.05     8.6625  13.       7.75    53.1      9.8375   7.8542 110.8833\n 263.       7.8958   7.925   52.5542   7.8958  14.4583  22.3583   7.8958\n   7.75     8.6625  10.5     31.3875   7.925   13.      16.1     12.35\n  75.25     7.4958   8.05     7.775    7.8958  49.5042  18.       7.925\n  22.3583  52.5542  15.85    13.      36.75     8.05     7.125   80.\n  10.5     81.8583  83.475    8.05     7.925    7.7333  20.525    7.8958\n   7.8542 110.8833   8.05    57.       8.05    83.1583  10.1708  10.5\n  11.5     16.1      0.      56.4958   7.0458  31.3875   9.5     27.7208\n  26.      71.2833   7.4958   7.225    7.8958 133.65     7.75   164.8667\n  40.125    9.225   47.1     14.4583  23.25    26.       7.75    34.375\n   8.05    10.5     86.5      0.       0.      29.7      8.05    14.4\n  10.5     26.       8.05     8.05     7.75     8.05    10.5      7.25\n  26.25     6.45    14.5      7.75     7.8958  52.     134.5      9.5\n  26.55     7.8792   7.8958  21.      26.      69.55    26.      25.925\n   7.875    8.05     9.35     8.05     7.8958  29.125    7.925    9.5\n 211.3375  26.2833  26.       7.125   13.      10.5      7.75     7.775\n   8.85    31.      16.7      9.35    71.      10.4625 113.275    7.925\n   8.6625  27.7208   7.55    26.3875   7.925    8.05   135.6333  15.5\n  26.       7.6292 263.       7.05    20.575   26.55    15.7417   9.5\n   7.8542  18.75    26.55     7.775   27.9     26.       7.75    61.175\n   7.8958  23.       8.05     9.       9.5875  39.6875  52.       7.775\n 227.525   13.       7.8958  24.15    13.5      8.4042 113.275    9.5\n   7.05     8.6833   8.6625  26.25    76.7292  86.5      7.75    31.275\n  15.1     13.      19.9667  73.5     26.55     7.8958   7.8292   0.\n   7.4958  15.2458  15.85    11.1333   8.05    10.5     27.75    27.75\n  20.2125 211.5     46.9     78.2667   7.0542  26.55   134.5     15.5\n  90.       7.75    35.5     29.       7.2292  90.      73.5     24.15\n   7.125   23.25    11.1333   7.2292   7.8542  80.      15.5     34.375\n  24.15    27.9     29.125   49.5042  26.      89.1042   7.8958   8.05\n  49.5    263.      15.2458   7.75    26.55     7.8542   8.05    10.5\n  79.65     8.05    14.5     26.      53.1     15.9     65.      13.7917\n  79.2      8.1583  34.0208  13.      10.5      8.05     7.8     59.4\n   7.2292 151.55    55.9    106.425   13.5     13.      15.5     26.55\n   6.975    7.8792   7.225   30.     120.      33.       7.3125   6.4958\n  30.      26.       7.8958   8.6625  77.9583   6.4375   0.      91.0792\n   7.7958  10.5      7.75    16.7     56.4958  13.       8.05    10.5167\n   8.1375   8.05    78.85     6.8583  30.      13.     227.525   26.\n  15.0458  25.4667  86.5     17.4     30.      11.2417  26.       7.925\n  19.9667  12.475   37.0042   7.925    7.75    41.5792  16.1     69.55\n  35.5     25.4667  90.      14.4542   7.75    39.6875   9.825  512.3292\n   7.75     7.8542  13.       7.65    24.15    13.     262.375   23.\n  12.35     7.925    7.25     7.75  ].\nReshape your data either using array.reshape(-1, 1) if your data has a single feature or array.reshape(1, -1) if it contains a single sample.\n\nThe above exception was the direct cause of the following exception:\n\nTraceback (most recent call last):\n  File \"C:\\Users\\AmanP\\PycharmProjects\\PodstawyPython\\github\\.venv\\lib\\site-packages\\sklearn\\model_selection\\_validation.py\", line 729, in _fit_and_score\n    estimator.fit(X_train, y_train, **fit_params)\n  File \"C:\\Users\\AmanP\\PycharmProjects\\PodstawyPython\\github\\.venv\\lib\\site-packages\\sklearn\\base.py\", line 1152, in wrapper\n    return fit_method(estimator, *args, **kwargs)\n  File \"C:\\Users\\AmanP\\PycharmProjects\\PodstawyPython\\github\\.venv\\lib\\site-packages\\sklearn\\pipeline.py\", line 423, in fit\n    Xt = self._fit(X, y, **fit_params_steps)\n  File \"C:\\Users\\AmanP\\PycharmProjects\\PodstawyPython\\github\\.venv\\lib\\site-packages\\sklearn\\pipeline.py\", line 377, in _fit\n    X, fitted_transformer = fit_transform_one_cached(\n  File \"C:\\Users\\AmanP\\PycharmProjects\\PodstawyPython\\github\\.venv\\lib\\site-packages\\joblib\\memory.py\", line 312, in __call__\n    return self.func(*args, **kwargs)\n  File \"C:\\Users\\AmanP\\PycharmProjects\\PodstawyPython\\github\\.venv\\lib\\site-packages\\sklearn\\pipeline.py\", line 957, in _fit_transform_one\n    res = transformer.fit_transform(X, y, **fit_params)\n  File \"C:\\Users\\AmanP\\PycharmProjects\\PodstawyPython\\github\\.venv\\lib\\site-packages\\sklearn\\utils\\_set_output.py\", line 157, in wrapped\n    data_to_wrap = f(self, X, *args, **kwargs)\n  File \"C:\\Users\\AmanP\\PycharmProjects\\PodstawyPython\\github\\.venv\\lib\\site-packages\\sklearn\\base.py\", line 1152, in wrapper\n    return fit_method(estimator, *args, **kwargs)\n  File \"C:\\Users\\AmanP\\PycharmProjects\\PodstawyPython\\github\\.venv\\lib\\site-packages\\sklearn\\compose\\_column_transformer.py\", line 754, in fit_transform\n    result = self._fit_transform(X, y, _fit_transform_one)\n  File \"C:\\Users\\AmanP\\PycharmProjects\\PodstawyPython\\github\\.venv\\lib\\site-packages\\sklearn\\compose\\_column_transformer.py\", line 694, in _fit_transform\n    raise ValueError(_ERR_MSG_1DCOLUMN) from e\nValueError: 1D data passed to a transformer that expects 2D data. Try to specify the column selection as a list of one item instead of a scalar.\n\n--------------------------------------------------------------------------------\n32 fits failed with the following error:\nTraceback (most recent call last):\n  File \"C:\\Users\\AmanP\\PycharmProjects\\PodstawyPython\\github\\.venv\\lib\\site-packages\\sklearn\\compose\\_column_transformer.py\", line 681, in _fit_transform\n    return Parallel(n_jobs=self.n_jobs)(\n  File \"C:\\Users\\AmanP\\PycharmProjects\\PodstawyPython\\github\\.venv\\lib\\site-packages\\sklearn\\utils\\parallel.py\", line 65, in __call__\n    return super().__call__(iterable_with_config)\n  File \"C:\\Users\\AmanP\\PycharmProjects\\PodstawyPython\\github\\.venv\\lib\\site-packages\\joblib\\parallel.py\", line 1918, in __call__\n    return output if self.return_generator else list(output)\n  File \"C:\\Users\\AmanP\\PycharmProjects\\PodstawyPython\\github\\.venv\\lib\\site-packages\\joblib\\parallel.py\", line 1847, in _get_sequential_output\n    res = func(*args, **kwargs)\n  File \"C:\\Users\\AmanP\\PycharmProjects\\PodstawyPython\\github\\.venv\\lib\\site-packages\\sklearn\\utils\\parallel.py\", line 127, in __call__\n    return self.function(*args, **kwargs)\n  File \"C:\\Users\\AmanP\\PycharmProjects\\PodstawyPython\\github\\.venv\\lib\\site-packages\\sklearn\\pipeline.py\", line 957, in _fit_transform_one\n    res = transformer.fit_transform(X, y, **fit_params)\n  File \"C:\\Users\\AmanP\\PycharmProjects\\PodstawyPython\\github\\.venv\\lib\\site-packages\\sklearn\\base.py\", line 1152, in wrapper\n    return fit_method(estimator, *args, **kwargs)\n  File \"C:\\Users\\AmanP\\PycharmProjects\\PodstawyPython\\github\\.venv\\lib\\site-packages\\sklearn\\pipeline.py\", line 471, in fit_transform\n    Xt = self._fit(X, y, **fit_params_steps)\n  File \"C:\\Users\\AmanP\\PycharmProjects\\PodstawyPython\\github\\.venv\\lib\\site-packages\\sklearn\\pipeline.py\", line 377, in _fit\n    X, fitted_transformer = fit_transform_one_cached(\n  File \"C:\\Users\\AmanP\\PycharmProjects\\PodstawyPython\\github\\.venv\\lib\\site-packages\\joblib\\memory.py\", line 312, in __call__\n    return self.func(*args, **kwargs)\n  File \"C:\\Users\\AmanP\\PycharmProjects\\PodstawyPython\\github\\.venv\\lib\\site-packages\\sklearn\\pipeline.py\", line 957, in _fit_transform_one\n    res = transformer.fit_transform(X, y, **fit_params)\n  File \"C:\\Users\\AmanP\\PycharmProjects\\PodstawyPython\\github\\.venv\\lib\\site-packages\\sklearn\\utils\\_set_output.py\", line 157, in wrapped\n    data_to_wrap = f(self, X, *args, **kwargs)\n  File \"C:\\Users\\AmanP\\PycharmProjects\\PodstawyPython\\github\\.venv\\lib\\site-packages\\sklearn\\base.py\", line 1152, in wrapper\n    return fit_method(estimator, *args, **kwargs)\n  File \"C:\\Users\\AmanP\\PycharmProjects\\PodstawyPython\\github\\.venv\\lib\\site-packages\\sklearn\\preprocessing\\_data.py\", line 3142, in fit_transform\n    return self._fit(X, y, force_transform=True)\n  File \"C:\\Users\\AmanP\\PycharmProjects\\PodstawyPython\\github\\.venv\\lib\\site-packages\\sklearn\\preprocessing\\_data.py\", line 3145, in _fit\n    X = self._check_input(X, in_fit=True, check_positive=True)\n  File \"C:\\Users\\AmanP\\PycharmProjects\\PodstawyPython\\github\\.venv\\lib\\site-packages\\sklearn\\preprocessing\\_data.py\", line 3383, in _check_input\n    X = self._validate_data(\n  File \"C:\\Users\\AmanP\\PycharmProjects\\PodstawyPython\\github\\.venv\\lib\\site-packages\\sklearn\\base.py\", line 605, in _validate_data\n    out = check_array(X, input_name=\"X\", **check_params)\n  File \"C:\\Users\\AmanP\\PycharmProjects\\PodstawyPython\\github\\.venv\\lib\\site-packages\\sklearn\\utils\\validation.py\", line 938, in check_array\n    raise ValueError(\nValueError: Expected 2D array, got 1D array instead:\narray=[ 69.3     13.      13.5     13.       8.05    14.5      9.5      7.2292\n  16.1     13.      73.5     26.25     7.1417   8.3     10.5      9.\n  13.4167   8.05     6.75    19.5      7.8542   8.0292  15.05    15.\n   7.8958  30.0708   9.225    7.8542   7.25    22.525   13.      10.5\n  10.5     61.3792  28.5      7.25    12.475    7.75     7.8958  13.\n 108.9     15.5      8.6625  83.1583  24.15     7.25     7.775  512.3292\n  15.55    90.     153.4625   7.8542   7.925    7.55     7.75    21.\n   7.25    39.      12.875    8.05    26.55     7.8958   7.8542   8.05\n  25.4667   7.225   14.4542 153.4625  27.9      7.925   30.6958  13.8583\n  10.5     38.5     13.       8.05   247.5208  16.       7.8958   7.5208\n  30.6958   7.925    7.7958  15.5     20.575   30.5     26.      39.6\n  30.5     14.5      7.75     7.7958  18.      35.5      7.75    27.7208\n   7.55    73.5      8.5167   7.725   26.       8.6625   7.925   56.9292\n  32.3208   8.05     8.6625  18.      21.075   10.5      6.2375  13.\n  10.4625   7.25    16.1     78.85    18.75     7.225    6.95   512.3292\n  69.55    26.55     7.75    20.25     7.775   52.      24.      27.7208\n   8.05     7.775    9.5    211.3375  26.       4.0125   7.8958   7.2292\n  14.4583  10.5     16.1      7.7333  69.55    31.275    9.825   26.2875\n  31.275   17.8      7.125   56.4958   0.      29.125    0.      69.55\n   8.05    51.4792   7.8958  56.4958   7.775   10.5     27.75    26.55\n  26.     151.55    79.2     89.1042  30.5    211.3375  14.5    151.55\n   7.2292   7.75    26.      46.9      8.05    73.5      7.225    7.55\n  52.      12.2875   8.05     7.925    7.7375  26.     120.       7.8958\n   7.8792   8.1125   0.      26.      39.      79.2     22.025   10.5\n   9.8458  21.     110.8833   8.05     8.6625  13.      79.65     7.75\n  53.1      9.8375   7.8542 110.8833 263.       7.8958   7.925    7.8958\n   7.7958  10.5     14.4583  22.3583   7.8958   8.6625  31.3875   7.925\n  13.      16.1     12.35    75.25     7.4958   8.05     7.775   49.5042\n  18.      16.1      7.925   22.3583  41.5792  52.5542  15.5     51.8625\n  79.65    15.85    13.      36.75     8.05    80.      81.8583  83.475\n   8.05     7.925    7.7333  20.525    7.8958   7.8542 110.8833   8.05\n   7.925   57.       8.05    83.1583  10.1708  10.5      9.5     11.5\n  16.1      0.      56.4958   0.      31.3875   9.5     27.7208  26.\n  71.2833   7.4958   7.225    7.8958 133.65     7.75   164.8667  40.125\n  47.1     23.25    26.       7.925   34.375    8.05    10.5      0.\n   0.       8.05    14.4      5.      13.      10.5     76.2917  26.\n   8.05     8.05     6.75     7.75     8.05    10.5      7.25    26.25\n   6.45    14.5      7.75     7.8958  52.       9.5     26.55     7.8792\n   7.8958  21.      52.      26.      69.55    26.      25.925   53.1\n   7.875    8.05     9.35     8.05     7.8958  29.125   77.9583   7.925\n   9.5    211.3375  26.2833  26.       7.125   13.      10.5      7.75\n   8.85    16.7     71.      10.4625  18.7875 113.275    7.925    8.6625\n   7.55    26.3875   7.925  135.6333  15.5     26.      26.     263.\n   7.05    20.575   26.55    15.7417   9.5     18.75    26.55     7.775\n  27.9     26.       7.75    61.175    7.8958  23.       8.05     9.\n   9.5875  39.6875  52.     227.525   13.       7.8958  24.15   153.4625\n   8.4042 113.275    9.5      7.05     8.6833   0.      14.5      8.6625\n  34.375   76.7292   7.75    31.275   15.1     13.      19.9667  73.5\n  26.55     7.8958   7.8292   0.       7.4958  15.2458  27.9     15.85\n  11.1333   8.05    27.75    27.75    20.2125 211.5     46.9     78.2667\n   7.0542  26.55   134.5     15.5     90.       7.75   263.      35.5\n  29.       7.8958   7.2292  90.      73.5     24.15     7.125   23.25\n  11.1333   7.2292   7.8542  80.      15.5     34.375   24.15    27.9\n  76.7292  49.5042  26.      89.1042   8.05    49.5    263.      15.2458\n   7.75    26.55     7.8542   8.05    10.5     79.65     8.05    14.5\n  26.      53.1      7.225   65.      13.7917   7.225   79.2      8.1583\n  34.0208  13.      10.5      8.05    71.      59.4      7.05    26.\n   7.2292 151.55    55.9    106.425   13.5     13.      15.5     26.55\n   6.975    7.8792   7.225   15.2458 120.      33.       7.3125   6.4958\n  30.      26.       7.8958   8.6625  77.9583   6.4375  91.0792   7.7958\n  16.7     56.4958  13.      13.       8.05    10.5167   8.1375   8.05\n  78.85     6.8583  13.       7.8792  69.55   227.525   26.      15.0458\n  25.4667  17.4     33.      30.      11.2417  26.       7.925   12.475\n  37.0042   7.925    7.75    41.5792   7.8958  16.1     69.55    35.5\n  25.4667  14.4542  90.     106.425   14.4542   7.75    39.6875   9.825\n  34.6542 512.3292   7.75     7.8542   7.65    24.15    13.     262.375\n  23.       7.925    7.25     7.75  ].\nReshape your data either using array.reshape(-1, 1) if your data has a single feature or array.reshape(1, -1) if it contains a single sample.\n\nThe above exception was the direct cause of the following exception:\n\nTraceback (most recent call last):\n  File \"C:\\Users\\AmanP\\PycharmProjects\\PodstawyPython\\github\\.venv\\lib\\site-packages\\sklearn\\model_selection\\_validation.py\", line 729, in _fit_and_score\n    estimator.fit(X_train, y_train, **fit_params)\n  File \"C:\\Users\\AmanP\\PycharmProjects\\PodstawyPython\\github\\.venv\\lib\\site-packages\\sklearn\\base.py\", line 1152, in wrapper\n    return fit_method(estimator, *args, **kwargs)\n  File \"C:\\Users\\AmanP\\PycharmProjects\\PodstawyPython\\github\\.venv\\lib\\site-packages\\sklearn\\pipeline.py\", line 423, in fit\n    Xt = self._fit(X, y, **fit_params_steps)\n  File \"C:\\Users\\AmanP\\PycharmProjects\\PodstawyPython\\github\\.venv\\lib\\site-packages\\sklearn\\pipeline.py\", line 377, in _fit\n    X, fitted_transformer = fit_transform_one_cached(\n  File \"C:\\Users\\AmanP\\PycharmProjects\\PodstawyPython\\github\\.venv\\lib\\site-packages\\joblib\\memory.py\", line 312, in __call__\n    return self.func(*args, **kwargs)\n  File \"C:\\Users\\AmanP\\PycharmProjects\\PodstawyPython\\github\\.venv\\lib\\site-packages\\sklearn\\pipeline.py\", line 957, in _fit_transform_one\n    res = transformer.fit_transform(X, y, **fit_params)\n  File \"C:\\Users\\AmanP\\PycharmProjects\\PodstawyPython\\github\\.venv\\lib\\site-packages\\sklearn\\utils\\_set_output.py\", line 157, in wrapped\n    data_to_wrap = f(self, X, *args, **kwargs)\n  File \"C:\\Users\\AmanP\\PycharmProjects\\PodstawyPython\\github\\.venv\\lib\\site-packages\\sklearn\\base.py\", line 1152, in wrapper\n    return fit_method(estimator, *args, **kwargs)\n  File \"C:\\Users\\AmanP\\PycharmProjects\\PodstawyPython\\github\\.venv\\lib\\site-packages\\sklearn\\compose\\_column_transformer.py\", line 754, in fit_transform\n    result = self._fit_transform(X, y, _fit_transform_one)\n  File \"C:\\Users\\AmanP\\PycharmProjects\\PodstawyPython\\github\\.venv\\lib\\site-packages\\sklearn\\compose\\_column_transformer.py\", line 694, in _fit_transform\n    raise ValueError(_ERR_MSG_1DCOLUMN) from e\nValueError: 1D data passed to a transformer that expects 2D data. Try to specify the column selection as a list of one item instead of a scalar.\n\n--------------------------------------------------------------------------------\n32 fits failed with the following error:\nTraceback (most recent call last):\n  File \"C:\\Users\\AmanP\\PycharmProjects\\PodstawyPython\\github\\.venv\\lib\\site-packages\\sklearn\\compose\\_column_transformer.py\", line 681, in _fit_transform\n    return Parallel(n_jobs=self.n_jobs)(\n  File \"C:\\Users\\AmanP\\PycharmProjects\\PodstawyPython\\github\\.venv\\lib\\site-packages\\sklearn\\utils\\parallel.py\", line 65, in __call__\n    return super().__call__(iterable_with_config)\n  File \"C:\\Users\\AmanP\\PycharmProjects\\PodstawyPython\\github\\.venv\\lib\\site-packages\\joblib\\parallel.py\", line 1918, in __call__\n    return output if self.return_generator else list(output)\n  File \"C:\\Users\\AmanP\\PycharmProjects\\PodstawyPython\\github\\.venv\\lib\\site-packages\\joblib\\parallel.py\", line 1847, in _get_sequential_output\n    res = func(*args, **kwargs)\n  File \"C:\\Users\\AmanP\\PycharmProjects\\PodstawyPython\\github\\.venv\\lib\\site-packages\\sklearn\\utils\\parallel.py\", line 127, in __call__\n    return self.function(*args, **kwargs)\n  File \"C:\\Users\\AmanP\\PycharmProjects\\PodstawyPython\\github\\.venv\\lib\\site-packages\\sklearn\\pipeline.py\", line 957, in _fit_transform_one\n    res = transformer.fit_transform(X, y, **fit_params)\n  File \"C:\\Users\\AmanP\\PycharmProjects\\PodstawyPython\\github\\.venv\\lib\\site-packages\\sklearn\\base.py\", line 1152, in wrapper\n    return fit_method(estimator, *args, **kwargs)\n  File \"C:\\Users\\AmanP\\PycharmProjects\\PodstawyPython\\github\\.venv\\lib\\site-packages\\sklearn\\pipeline.py\", line 471, in fit_transform\n    Xt = self._fit(X, y, **fit_params_steps)\n  File \"C:\\Users\\AmanP\\PycharmProjects\\PodstawyPython\\github\\.venv\\lib\\site-packages\\sklearn\\pipeline.py\", line 377, in _fit\n    X, fitted_transformer = fit_transform_one_cached(\n  File \"C:\\Users\\AmanP\\PycharmProjects\\PodstawyPython\\github\\.venv\\lib\\site-packages\\joblib\\memory.py\", line 312, in __call__\n    return self.func(*args, **kwargs)\n  File \"C:\\Users\\AmanP\\PycharmProjects\\PodstawyPython\\github\\.venv\\lib\\site-packages\\sklearn\\pipeline.py\", line 957, in _fit_transform_one\n    res = transformer.fit_transform(X, y, **fit_params)\n  File \"C:\\Users\\AmanP\\PycharmProjects\\PodstawyPython\\github\\.venv\\lib\\site-packages\\sklearn\\utils\\_set_output.py\", line 157, in wrapped\n    data_to_wrap = f(self, X, *args, **kwargs)\n  File \"C:\\Users\\AmanP\\PycharmProjects\\PodstawyPython\\github\\.venv\\lib\\site-packages\\sklearn\\base.py\", line 1152, in wrapper\n    return fit_method(estimator, *args, **kwargs)\n  File \"C:\\Users\\AmanP\\PycharmProjects\\PodstawyPython\\github\\.venv\\lib\\site-packages\\sklearn\\preprocessing\\_data.py\", line 3142, in fit_transform\n    return self._fit(X, y, force_transform=True)\n  File \"C:\\Users\\AmanP\\PycharmProjects\\PodstawyPython\\github\\.venv\\lib\\site-packages\\sklearn\\preprocessing\\_data.py\", line 3145, in _fit\n    X = self._check_input(X, in_fit=True, check_positive=True)\n  File \"C:\\Users\\AmanP\\PycharmProjects\\PodstawyPython\\github\\.venv\\lib\\site-packages\\sklearn\\preprocessing\\_data.py\", line 3383, in _check_input\n    X = self._validate_data(\n  File \"C:\\Users\\AmanP\\PycharmProjects\\PodstawyPython\\github\\.venv\\lib\\site-packages\\sklearn\\base.py\", line 605, in _validate_data\n    out = check_array(X, input_name=\"X\", **check_params)\n  File \"C:\\Users\\AmanP\\PycharmProjects\\PodstawyPython\\github\\.venv\\lib\\site-packages\\sklearn\\utils\\validation.py\", line 938, in check_array\n    raise ValueError(\nValueError: Expected 2D array, got 1D array instead:\narray=[ 69.3      0.      13.      13.5     14.5      9.5      7.2292  16.1\n  13.      73.5     26.25     8.3     10.5      9.      13.4167   8.05\n   6.75    19.5      7.8542   8.0292  15.05    15.      30.5      7.8958\n  30.0708   9.225   24.       7.8542   7.25    10.5     22.525   13.\n  10.5     10.5     61.3792  28.5      7.25    12.475    7.75     7.8958\n  13.     108.9     15.5      8.6625  83.1583  24.15     7.25     7.775\n 512.3292  15.55   153.4625   7.8542   7.925   50.4958   7.55    15.85\n  21.       7.25    39.      12.875    8.05     7.8958   8.05     7.225\n  14.4542 153.4625  27.9      7.925   30.6958  13.8583  10.5     38.5\n  13.       8.05   247.5208  16.     227.525    7.5208  30.6958   7.925\n   7.7958  15.5     20.575   26.      39.6     30.5     14.5      7.75\n  26.       7.8958  23.       7.7958  18.      35.5      7.75     7.55\n   7.25    73.5      8.5167   7.725   26.       7.925   56.9292  29.7\n  32.3208   8.05     8.6625  18.      21.075   10.5      6.2375  13.\n  10.4625   7.25    16.1     78.85    18.75     7.225    6.95   262.375\n 512.3292  69.55    26.55     7.75    20.25     7.775   52.      24.\n  27.7208   8.05     7.775   31.275    9.5    211.3375  26.       4.0125\n   7.8958   7.2292   7.8958  46.9     14.4583  10.5     16.1     14.4542\n  69.55    31.275    9.825   26.2875  31.275    7.125    0.      29.125\n   0.      69.55     8.05    51.4792   7.8958  56.4958   7.775   10.5\n  27.75    13.      26.55    26.     151.55    79.2    211.3375   7.2292\n   7.75    26.      46.9      8.05    11.2417   7.8542  73.5      7.225\n   7.55    52.      12.2875   8.05     7.925    7.7375  26.     120.\n   7.8958   7.8792   8.1125   0.      13.      26.      39.      79.2\n  22.025    9.8458  21.     110.8833   8.05    13.      79.65     7.75\n  53.1      9.8375   7.8542 110.8833   7.8958   7.925   52.5542   7.8958\n   7.7958  10.5     14.4583   7.8958   7.75     8.6625  10.5     31.3875\n   7.925   13.      16.1     12.35    75.25     7.4958   7.775    7.8958\n  49.5042  18.      16.1      7.925   22.3583  41.5792  52.5542  15.5\n  51.8625  79.65    15.85    36.75     8.05     7.125   80.      10.5\n  81.8583  83.475    8.05     7.925    7.7333  20.525    7.8958   7.8542\n 110.8833   8.05     7.925    8.05    83.1583  10.1708  10.5      9.5\n  11.5     16.1      0.      56.4958   0.       7.0458   9.5     27.7208\n   7.4958   7.225    7.8958 133.65     7.75   164.8667  40.125    9.225\n  47.1     14.4583  23.25    26.       7.75     7.925   34.375    8.05\n  10.5     86.5      0.       0.      29.7     14.4      5.      13.\n  10.5     76.2917  26.       6.75     7.75     8.05    10.5     26.25\n   6.45    14.5      7.75     7.8958  52.     134.5      9.5     26.55\n   7.8792   7.8958  21.      52.      26.      69.55    26.      25.925\n  53.1      7.875    8.05     9.35     8.05     7.8958  77.9583   7.925\n   9.5    211.3375  26.2833   7.125   13.       7.75     7.775    8.85\n  31.      16.7      9.35    71.      10.4625  18.7875 113.275    7.925\n   8.6625  27.7208  26.3875   8.05   135.6333  26.      26.       7.6292\n 263.       7.05    20.575   26.55    15.7417   9.5      7.8542  18.75\n  26.55     7.775   27.9     26.       7.75    61.175    7.8958  23.\n   8.05     9.5875  39.6875   7.775  227.525   13.       7.8958  24.15\n  13.5    153.4625   8.4042 113.275    9.5      7.05     8.6833   0.\n  14.5     26.25    34.375   76.7292  86.5      7.75    31.275   15.1\n  13.      19.9667  26.55     7.8958   7.8292   0.       7.4958  15.2458\n  27.9     15.85    11.1333  10.5     27.75    27.75    20.2125 211.5\n  46.9     78.2667   7.0542  26.55   134.5     15.5     90.       7.75\n 263.      35.5     29.       7.8958   7.2292  24.15     7.125   23.25\n  11.1333   7.2292   7.8542  80.      15.5     34.375   27.9     76.7292\n  29.125   49.5042  26.      89.1042   7.8958   8.05    49.5    263.\n  15.2458   7.75    26.55     8.05    10.5     79.65     8.05    14.5\n  53.1      7.225   15.9     65.      13.7917   7.225   79.2      8.1583\n  34.0208  10.5      8.05    71.       7.8     59.4      7.05    26.\n   7.2292  55.9    106.425   13.5     13.      15.5     26.55     6.975\n   7.8792   7.225   15.2458  30.      33.       7.3125   6.4958  30.\n  26.       7.8958   8.6625   6.4375   0.      91.0792   7.7958  10.5\n   7.75    16.7     13.      10.5167   8.1375   8.05    78.85     6.8583\n  30.      13.       7.8792  69.55   227.525   26.      15.0458  25.4667\n  86.5     17.4     33.      30.      26.       7.925   19.9667  12.475\n  37.0042   7.925    7.75    41.5792   7.8958  16.1     69.55    35.5\n  25.4667  14.4542  90.     106.425   14.4542   7.75    39.6875   9.825\n  34.6542 512.3292   7.75     7.8542  13.       7.65    24.15    13.\n  23.      12.35     7.25     7.75  ].\nReshape your data either using array.reshape(-1, 1) if your data has a single feature or array.reshape(1, -1) if it contains a single sample.\n\nThe above exception was the direct cause of the following exception:\n\nTraceback (most recent call last):\n  File \"C:\\Users\\AmanP\\PycharmProjects\\PodstawyPython\\github\\.venv\\lib\\site-packages\\sklearn\\model_selection\\_validation.py\", line 729, in _fit_and_score\n    estimator.fit(X_train, y_train, **fit_params)\n  File \"C:\\Users\\AmanP\\PycharmProjects\\PodstawyPython\\github\\.venv\\lib\\site-packages\\sklearn\\base.py\", line 1152, in wrapper\n    return fit_method(estimator, *args, **kwargs)\n  File \"C:\\Users\\AmanP\\PycharmProjects\\PodstawyPython\\github\\.venv\\lib\\site-packages\\sklearn\\pipeline.py\", line 423, in fit\n    Xt = self._fit(X, y, **fit_params_steps)\n  File \"C:\\Users\\AmanP\\PycharmProjects\\PodstawyPython\\github\\.venv\\lib\\site-packages\\sklearn\\pipeline.py\", line 377, in _fit\n    X, fitted_transformer = fit_transform_one_cached(\n  File \"C:\\Users\\AmanP\\PycharmProjects\\PodstawyPython\\github\\.venv\\lib\\site-packages\\joblib\\memory.py\", line 312, in __call__\n    return self.func(*args, **kwargs)\n  File \"C:\\Users\\AmanP\\PycharmProjects\\PodstawyPython\\github\\.venv\\lib\\site-packages\\sklearn\\pipeline.py\", line 957, in _fit_transform_one\n    res = transformer.fit_transform(X, y, **fit_params)\n  File \"C:\\Users\\AmanP\\PycharmProjects\\PodstawyPython\\github\\.venv\\lib\\site-packages\\sklearn\\utils\\_set_output.py\", line 157, in wrapped\n    data_to_wrap = f(self, X, *args, **kwargs)\n  File \"C:\\Users\\AmanP\\PycharmProjects\\PodstawyPython\\github\\.venv\\lib\\site-packages\\sklearn\\base.py\", line 1152, in wrapper\n    return fit_method(estimator, *args, **kwargs)\n  File \"C:\\Users\\AmanP\\PycharmProjects\\PodstawyPython\\github\\.venv\\lib\\site-packages\\sklearn\\compose\\_column_transformer.py\", line 754, in fit_transform\n    result = self._fit_transform(X, y, _fit_transform_one)\n  File \"C:\\Users\\AmanP\\PycharmProjects\\PodstawyPython\\github\\.venv\\lib\\site-packages\\sklearn\\compose\\_column_transformer.py\", line 694, in _fit_transform\n    raise ValueError(_ERR_MSG_1DCOLUMN) from e\nValueError: 1D data passed to a transformer that expects 2D data. Try to specify the column selection as a list of one item instead of a scalar.\n"
     ]
    }
   ],
   "source": [
    "num_columns = ['Age', 'Fare', 'Pclass']\n",
    "cat_columns = ['Embarked', 'Sex']\n",
    "fare_columns = ['Fare', 'Pclass']\n",
    "\n",
    "num_pipe = Pipeline([\n",
    "    ('imputer', SimpleImputer()),\n",
    "    ('power_transformer', PowerTransformer()),\n",
    "    ('scaler', StandardScaler())\n",
    "])\n",
    "\n",
    "cat_pipe = Pipeline([\n",
    "    ('imputer', SimpleImputer(strategy='most_frequent')),\n",
    "    ('encoder', OneHotEncoder(drop='first'))\n",
    "     ])\n",
    "\n",
    "fare_pipe = Pipeline([\n",
    "    ('imputer', SimpleRelationalImputer('Pclass', \"Fare\")),\n",
    "    ('power_transformer', PowerTransformer()),\n",
    "    ('scaler', StandardScaler())\n",
    "])\n",
    "\n",
    "preprocessor = ColumnTransformer([\n",
    "    ('num', num_pipe, num_columns),\n",
    "    ('cat', cat_pipe, cat_columns),\n",
    "    ('fare', fare_pipe, fare_columns)\n",
    "])\n",
    "\n",
    "pipeline = Pipeline([\n",
    "    ('preprocessor', preprocessor),\n",
    "    ('model', LogisticRegression())\n",
    "])\n",
    "\n",
    "param_grid = {\n",
    "    'preprocessor__num__imputer__strategy': ['mean', 'median'],\n",
    "    'preprocessor__num__power_transformer': [PowerTransformer(), \"passthrough\"],\n",
    "    'preprocessor__num__scaler': [StandardScaler(), MinMaxScaler()],\n",
    "    'model__C': [0.1, 1, 2, 10]\n",
    "}\n",
    "\n",
    "cv = KFold(n_splits=10, shuffle=True)\n",
    "optimizer = GridSearchCV(pipeline, param_grid, cv=cv, scoring='accuracy', n_jobs=-1)\n",
    "optimizer.fit(X_train, y_train)\n",
    "\n",
    "accuracy_score(y_test, optimizer.best_estimator_.predict(X_test))"
   ]
  },
  {
   "cell_type": "code",
   "execution_count": null,
   "id": "a99053fb-51ea-4a52-ac1d-b288dcb6a1c9",
   "metadata": {},
   "outputs": [],
   "source": []
  }
 ],
 "metadata": {
  "kernelspec": {
   "display_name": "Python 3 (ipykernel)",
   "language": "python",
   "name": "python3"
  },
  "language_info": {
   "codemirror_mode": {
    "name": "ipython",
    "version": 3
   },
   "file_extension": ".py",
   "mimetype": "text/x-python",
   "name": "python",
   "nbconvert_exporter": "python",
   "pygments_lexer": "ipython3",
   "version": "3.8.2"
  }
 },
 "nbformat": 4,
 "nbformat_minor": 5
}
