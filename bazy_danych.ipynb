{
 "cells": [
  {
   "cell_type": "code",
   "execution_count": 25,
   "id": "b8e7620d-2acf-4d86-a368-93c1088c293e",
   "metadata": {},
   "outputs": [
    {
     "name": "stdout",
     "output_type": "stream",
     "text": [
      "[('Luís', 'Gonçalves', 'Brazil'), ('Leonie', 'Köhler', 'Germany'), ('François', 'Tremblay', 'Canada'), ('Bjørn', 'Hansen', 'Norway'), ('František', 'Wichterlová', 'Czech Republic'), ('Helena', 'Holý', 'Czech Republic'), ('Astrid', 'Gruber', 'Austria'), ('Daan', 'Peeters', 'Belgium'), ('Kara', 'Nielsen', 'Denmark'), ('Eduardo', 'Martins', 'Brazil'), ('Alexandre', 'Rocha', 'Brazil'), ('Roberto', 'Almeida', 'Brazil'), ('Fernanda', 'Ramos', 'Brazil'), ('Mark', 'Philips', 'Canada'), ('Jennifer', 'Peterson', 'Canada'), ('Frank', 'Harris', 'USA'), ('Jack', 'Smith', 'USA'), ('Michelle', 'Brooks', 'USA'), ('Tim', 'Goyer', 'USA'), ('Dan', 'Miller', 'USA'), ('Kathy', 'Chase', 'USA'), ('Heather', 'Leacock', 'USA'), ('John', 'Gordon', 'USA'), ('Frank', 'Ralston', 'USA'), ('Victor', 'Stevens', 'USA'), ('Richard', 'Cunningham', 'USA'), ('Patrick', 'Gray', 'USA'), ('Julia', 'Barnett', 'USA'), ('Robert', 'Brown', 'Canada'), ('Edward', 'Francis', 'Canada'), ('Martha', 'Silk', 'Canada'), ('Aaron', 'Mitchell', 'Canada'), ('Ellie', 'Sullivan', 'Canada'), ('João', 'Fernandes', 'Portugal'), ('Madalena', 'Sampaio', 'Portugal'), ('Hannah', 'Schneider', 'Germany'), ('Fynn', 'Zimmermann', 'Germany'), ('Niklas', 'Schröder', 'Germany'), ('Camille', 'Bernard', 'France'), ('Dominique', 'Lefebvre', 'France'), ('Marc', 'Dubois', 'France'), ('Wyatt', 'Girard', 'France'), ('Isabelle', 'Mercier', 'France'), ('Terhi', 'Hämäläinen', 'Finland'), ('Ladislav', 'Kovács', 'Hungary'), ('Hugh', \"O'Reilly\", 'Ireland'), ('Lucas', 'Mancini', 'Italy'), ('Johannes', 'Van der Berg', 'Netherlands'), ('Stanisław', 'Wójcik', 'Poland'), ('Enrique', 'Muñoz', 'Spain'), ('Joakim', 'Johansson', 'Sweden'), ('Emma', 'Jones', 'United Kingdom'), ('Phil', 'Hughes', 'United Kingdom'), ('Steve', 'Murray', 'United Kingdom'), ('Mark', 'Taylor', 'Australia'), ('Diego', 'Gutiérrez', 'Argentina'), ('Luis', 'Rojas', 'Chile'), ('Manoj', 'Pareek', 'India'), ('Puja', 'Srivastava', 'India')]\n"
     ]
    }
   ],
   "source": [
    "from sqlite3 import connect\n",
    "\n",
    "cnx = connect(\"chinook.db\")\n",
    "\n",
    "cursor = cnx.cursor()\n",
    "\n",
    "stmt = 'SELECT firstname, lastname, country FROM customers;'\n",
    "\n",
    "cursor.execute(stmt)\n",
    "\n",
    "result = cursor.fetchall()\n",
    "\n",
    "print(result)"
   ]
  },
  {
   "cell_type": "code",
   "execution_count": 30,
   "id": "9516ead8-c545-4237-8299-6e498488e039",
   "metadata": {},
   "outputs": [
    {
     "name": "stdout",
     "output_type": "stream",
     "text": [
      "[('Luís', 'Gonçalves', 'Brazil'), ('Leonie', 'Köhler', 'Germany'), ('François', 'Tremblay', 'Canada'), ('Bjørn', 'Hansen', 'Norway'), ('František', 'Wichterlová', 'Czech Republic'), ('Helena', 'Holý', 'Czech Republic'), ('Astrid', 'Gruber', 'Austria'), ('Daan', 'Peeters', 'Belgium'), ('Kara', 'Nielsen', 'Denmark'), ('Eduardo', 'Martins', 'Brazil'), ('Alexandre', 'Rocha', 'Brazil'), ('Roberto', 'Almeida', 'Brazil'), ('Fernanda', 'Ramos', 'Brazil'), ('Mark', 'Philips', 'Canada'), ('Jennifer', 'Peterson', 'Canada'), ('Frank', 'Harris', 'USA'), ('Jack', 'Smith', 'USA'), ('Michelle', 'Brooks', 'USA'), ('Tim', 'Goyer', 'USA'), ('Dan', 'Miller', 'USA'), ('Kathy', 'Chase', 'USA'), ('Heather', 'Leacock', 'USA'), ('John', 'Gordon', 'USA'), ('Frank', 'Ralston', 'USA'), ('Victor', 'Stevens', 'USA'), ('Richard', 'Cunningham', 'USA'), ('Patrick', 'Gray', 'USA'), ('Julia', 'Barnett', 'USA'), ('Robert', 'Brown', 'Canada'), ('Edward', 'Francis', 'Canada'), ('Martha', 'Silk', 'Canada'), ('Aaron', 'Mitchell', 'Canada'), ('Ellie', 'Sullivan', 'Canada'), ('João', 'Fernandes', 'Portugal'), ('Madalena', 'Sampaio', 'Portugal'), ('Hannah', 'Schneider', 'Germany'), ('Fynn', 'Zimmermann', 'Germany'), ('Niklas', 'Schröder', 'Germany'), ('Camille', 'Bernard', 'France'), ('Dominique', 'Lefebvre', 'France'), ('Marc', 'Dubois', 'France'), ('Wyatt', 'Girard', 'France'), ('Isabelle', 'Mercier', 'France'), ('Terhi', 'Hämäläinen', 'Finland'), ('Ladislav', 'Kovács', 'Hungary'), ('Hugh', \"O'Reilly\", 'Ireland'), ('Lucas', 'Mancini', 'Italy'), ('Johannes', 'Van der Berg', 'Netherlands'), ('Stanisław', 'Wójcik', 'Poland'), ('Enrique', 'Muñoz', 'Spain'), ('Joakim', 'Johansson', 'Sweden'), ('Emma', 'Jones', 'United Kingdom'), ('Phil', 'Hughes', 'United Kingdom'), ('Steve', 'Murray', 'United Kingdom'), ('Mark', 'Taylor', 'Australia'), ('Diego', 'Gutiérrez', 'Argentina'), ('Luis', 'Rojas', 'Chile'), ('Manoj', 'Pareek', 'India'), ('Puja', 'Srivastava', 'India')]\n"
     ]
    }
   ],
   "source": [
    "with connect(\"chinook.db\") as cnx:\n",
    "    cursor = cnx.cursor()\n",
    "    stmt = 'SELECT firstname, lastname, country FROM customers;'\n",
    "    cursor.execute(stmt)\n",
    "    result = cursor.fetchall()\n",
    "    \n",
    "print(result)"
   ]
  },
  {
   "cell_type": "code",
   "execution_count": 32,
   "id": "77ed8d72-e42c-4fdf-9624-ecb8957331fb",
   "metadata": {},
   "outputs": [
    {
     "name": "stdout",
     "output_type": "stream",
     "text": [
      "('Luís', 'Gonçalves', 'Brazil')\n",
      "('Leonie', 'Köhler', 'Germany')\n",
      "('François', 'Tremblay', 'Canada')\n",
      "('Bjørn', 'Hansen', 'Norway')\n",
      "('František', 'Wichterlová', 'Czech Republic')\n",
      "('Helena', 'Holý', 'Czech Republic')\n",
      "('Astrid', 'Gruber', 'Austria')\n",
      "('Daan', 'Peeters', 'Belgium')\n",
      "('Kara', 'Nielsen', 'Denmark')\n",
      "('Eduardo', 'Martins', 'Brazil')\n",
      "('Alexandre', 'Rocha', 'Brazil')\n",
      "('Roberto', 'Almeida', 'Brazil')\n",
      "('Fernanda', 'Ramos', 'Brazil')\n",
      "('Mark', 'Philips', 'Canada')\n",
      "('Jennifer', 'Peterson', 'Canada')\n",
      "('Frank', 'Harris', 'USA')\n",
      "('Jack', 'Smith', 'USA')\n",
      "('Michelle', 'Brooks', 'USA')\n",
      "('Tim', 'Goyer', 'USA')\n",
      "('Dan', 'Miller', 'USA')\n",
      "('Kathy', 'Chase', 'USA')\n",
      "('Heather', 'Leacock', 'USA')\n",
      "('John', 'Gordon', 'USA')\n",
      "('Frank', 'Ralston', 'USA')\n",
      "('Victor', 'Stevens', 'USA')\n",
      "('Richard', 'Cunningham', 'USA')\n",
      "('Patrick', 'Gray', 'USA')\n",
      "('Julia', 'Barnett', 'USA')\n",
      "('Robert', 'Brown', 'Canada')\n",
      "('Edward', 'Francis', 'Canada')\n",
      "('Martha', 'Silk', 'Canada')\n",
      "('Aaron', 'Mitchell', 'Canada')\n",
      "('Ellie', 'Sullivan', 'Canada')\n",
      "('João', 'Fernandes', 'Portugal')\n",
      "('Madalena', 'Sampaio', 'Portugal')\n",
      "('Hannah', 'Schneider', 'Germany')\n",
      "('Fynn', 'Zimmermann', 'Germany')\n",
      "('Niklas', 'Schröder', 'Germany')\n",
      "('Camille', 'Bernard', 'France')\n",
      "('Dominique', 'Lefebvre', 'France')\n",
      "('Marc', 'Dubois', 'France')\n",
      "('Wyatt', 'Girard', 'France')\n",
      "('Isabelle', 'Mercier', 'France')\n",
      "('Terhi', 'Hämäläinen', 'Finland')\n",
      "('Ladislav', 'Kovács', 'Hungary')\n",
      "('Hugh', \"O'Reilly\", 'Ireland')\n",
      "('Lucas', 'Mancini', 'Italy')\n",
      "('Johannes', 'Van der Berg', 'Netherlands')\n",
      "('Stanisław', 'Wójcik', 'Poland')\n",
      "('Enrique', 'Muñoz', 'Spain')\n",
      "('Joakim', 'Johansson', 'Sweden')\n",
      "('Emma', 'Jones', 'United Kingdom')\n",
      "('Phil', 'Hughes', 'United Kingdom')\n",
      "('Steve', 'Murray', 'United Kingdom')\n",
      "('Mark', 'Taylor', 'Australia')\n",
      "('Diego', 'Gutiérrez', 'Argentina')\n",
      "('Luis', 'Rojas', 'Chile')\n",
      "('Manoj', 'Pareek', 'India')\n",
      "('Puja', 'Srivastava', 'India')\n"
     ]
    }
   ],
   "source": [
    "with connect(\"chinook.db\") as cnx:\n",
    "    cursor = cnx.cursor()\n",
    "    stmt = 'SELECT firstname, lastname, country FROM customers;'\n",
    "    cursor.execute(stmt)\n",
    "    result = cursor.fetchone()\n",
    "    while(result):\n",
    "        print(result)\n",
    "        result = cursor.fetchone()\n",
    "    "
   ]
  },
  {
   "cell_type": "code",
   "execution_count": 33,
   "id": "6a508865-93b3-4440-ba0d-fee1f30cdfb0",
   "metadata": {},
   "outputs": [
    {
     "name": "stdout",
     "output_type": "stream",
     "text": [
      "[('Luís', 'Gonçalves', 'Brazil'), ('Leonie', 'Köhler', 'Germany'), ('François', 'Tremblay', 'Canada')]\n",
      "[('Bjørn', 'Hansen', 'Norway'), ('František', 'Wichterlová', 'Czech Republic'), ('Helena', 'Holý', 'Czech Republic')]\n",
      "[('Astrid', 'Gruber', 'Austria'), ('Daan', 'Peeters', 'Belgium'), ('Kara', 'Nielsen', 'Denmark')]\n",
      "[('Eduardo', 'Martins', 'Brazil'), ('Alexandre', 'Rocha', 'Brazil'), ('Roberto', 'Almeida', 'Brazil')]\n",
      "[('Fernanda', 'Ramos', 'Brazil'), ('Mark', 'Philips', 'Canada'), ('Jennifer', 'Peterson', 'Canada')]\n",
      "[('Frank', 'Harris', 'USA'), ('Jack', 'Smith', 'USA'), ('Michelle', 'Brooks', 'USA')]\n",
      "[('Tim', 'Goyer', 'USA'), ('Dan', 'Miller', 'USA'), ('Kathy', 'Chase', 'USA')]\n",
      "[('Heather', 'Leacock', 'USA'), ('John', 'Gordon', 'USA'), ('Frank', 'Ralston', 'USA')]\n",
      "[('Victor', 'Stevens', 'USA'), ('Richard', 'Cunningham', 'USA'), ('Patrick', 'Gray', 'USA')]\n",
      "[('Julia', 'Barnett', 'USA'), ('Robert', 'Brown', 'Canada'), ('Edward', 'Francis', 'Canada')]\n",
      "[('Martha', 'Silk', 'Canada'), ('Aaron', 'Mitchell', 'Canada'), ('Ellie', 'Sullivan', 'Canada')]\n",
      "[('João', 'Fernandes', 'Portugal'), ('Madalena', 'Sampaio', 'Portugal'), ('Hannah', 'Schneider', 'Germany')]\n",
      "[('Fynn', 'Zimmermann', 'Germany'), ('Niklas', 'Schröder', 'Germany'), ('Camille', 'Bernard', 'France')]\n",
      "[('Dominique', 'Lefebvre', 'France'), ('Marc', 'Dubois', 'France'), ('Wyatt', 'Girard', 'France')]\n",
      "[('Isabelle', 'Mercier', 'France'), ('Terhi', 'Hämäläinen', 'Finland'), ('Ladislav', 'Kovács', 'Hungary')]\n",
      "[('Hugh', \"O'Reilly\", 'Ireland'), ('Lucas', 'Mancini', 'Italy'), ('Johannes', 'Van der Berg', 'Netherlands')]\n",
      "[('Stanisław', 'Wójcik', 'Poland'), ('Enrique', 'Muñoz', 'Spain'), ('Joakim', 'Johansson', 'Sweden')]\n",
      "[('Emma', 'Jones', 'United Kingdom'), ('Phil', 'Hughes', 'United Kingdom'), ('Steve', 'Murray', 'United Kingdom')]\n",
      "[('Mark', 'Taylor', 'Australia'), ('Diego', 'Gutiérrez', 'Argentina'), ('Luis', 'Rojas', 'Chile')]\n",
      "[('Manoj', 'Pareek', 'India'), ('Puja', 'Srivastava', 'India')]\n"
     ]
    }
   ],
   "source": [
    "with connect(\"chinook.db\") as cnx:\n",
    "    cursor = cnx.cursor()\n",
    "    stmt = 'SELECT firstname, lastname, country FROM customers;'\n",
    "    cursor.execute(stmt)\n",
    "    result = cursor.fetchmany(3)\n",
    "    while(result):\n",
    "        print(result)\n",
    "        result = cursor.fetchmany(3)\n",
    "    "
   ]
  }
 ],
 "metadata": {
  "kernelspec": {
   "display_name": "Python 3 (ipykernel)",
   "language": "python",
   "name": "python3"
  },
  "language_info": {
   "codemirror_mode": {
    "name": "ipython",
    "version": 3
   },
   "file_extension": ".py",
   "mimetype": "text/x-python",
   "name": "python",
   "nbconvert_exporter": "python",
   "pygments_lexer": "ipython3",
   "version": "3.8.2"
  }
 },
 "nbformat": 4,
 "nbformat_minor": 5
}
