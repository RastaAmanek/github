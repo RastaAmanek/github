{
 "cells": [
  {
   "cell_type": "code",
   "execution_count": 16,
   "id": "2fe68493-a0ac-46b2-83db-86d4fccefa4a",
   "metadata": {},
   "outputs": [],
   "source": [
    "import pandas as pd\n",
    "import numpy as np\n",
    "import matplotlib.pyplot as plt"
   ]
  },
  {
   "cell_type": "code",
   "execution_count": 17,
   "id": "53ba9af7-7bdc-45e5-a51b-8438e263f5e1",
   "metadata": {},
   "outputs": [],
   "source": [
    "from sklearn.ensemble import BaggingClassifier\n",
    "from sklearn.tree import DecisionTreeClassifier\n",
    "from sklearn.svm import SVC\n",
    "from sklearn.preprocessing import StandardScaler, Normalizer\n",
    "from sklearn.metrics import accuracy_score, precision_score, recall_score, f1_score, confusion_matrix"
   ]
  },
  {
   "cell_type": "code",
   "execution_count": 27,
   "id": "322a1515-8989-4f7d-94ce-e479232c600d",
   "metadata": {},
   "outputs": [],
   "source": [
    "from sklearn.model_selection import train_test_split"
   ]
  },
  {
   "cell_type": "code",
   "execution_count": 9,
   "id": "ae486a6c-0fed-4ae5-a04b-403835523def",
   "metadata": {},
   "outputs": [],
   "source": [
    "def load_dataset(filename, class_column, index_col=None):\n",
    "    dataset = pd.read_csv(f\"ML-datasets/{filename}.csv\", index_col=index_col)\n",
    "    dataset['class'] = dataset[class_column].astype('category').cat.codes\n",
    "    classes = dataset.pop(class_column).unique()\n",
    "    return dataset, classes\n",
    "\n",
    "\n",
    "def prepare_dataset(dataset_name):\n",
    "    params = {'iris': {'class_column': 'species', 'index_col': None},\n",
    "              'wine': {'class_column': 'Class', 'index_col': None},\n",
    "              'glass': {'class_column': 'Type', 'index_col': 'ID'},\n",
    "              'breast_cancer': {'class_column': 'Class', 'index_col': 'Sample code number'},\n",
    "              'diabetes': {'class_column': 'Class', 'index_col': None}}\n",
    "    dataset, classes = load_dataset(dataset_name, **params[dataset_name])\n",
    "    y = dataset.pop('class')\n",
    "    X = dataset\n",
    "    return X, y, classes"
   ]
  },
  {
   "cell_type": "code",
   "execution_count": 10,
   "id": "b3f5fb6d-6d6f-4634-acef-e16f328afd20",
   "metadata": {},
   "outputs": [],
   "source": [
    "X, y, classes = prepare_dataset('diabetes')"
   ]
  },
  {
   "cell_type": "code",
   "execution_count": 12,
   "id": "6eabd222-2000-45eb-95ee-6bdef2aeda8a",
   "metadata": {},
   "outputs": [
    {
     "data": {
      "text/plain": [
       "class\n",
       "0    500\n",
       "1    268\n",
       "Name: count, dtype: int64"
      ]
     },
     "execution_count": 12,
     "metadata": {},
     "output_type": "execute_result"
    }
   ],
   "source": [
    "y.value_counts()"
   ]
  },
  {
   "cell_type": "code",
   "execution_count": 14,
   "id": "f85f89f8-1b12-434e-a85f-e6283dba39cd",
   "metadata": {},
   "outputs": [],
   "source": [
    "normalizer = Normalizer()\n",
    "standarizer = StandardScaler()\n",
    "preprocessor = standarizer"
   ]
  },
  {
   "cell_type": "markdown",
   "id": "58d314f4-9a44-4d9f-bf44-01a0d38644c4",
   "metadata": {},
   "source": [
    "--------------------"
   ]
  },
  {
   "cell_type": "markdown",
   "id": "4fe1b9f7-b351-471f-89cc-c13c3a3eaca4",
   "metadata": {},
   "source": [
    "## Testy na zbiorach danych"
   ]
  },
  {
   "cell_type": "code",
   "execution_count": 15,
   "id": "c8047b88-3084-468d-9506-c1b5b5337c60",
   "metadata": {},
   "outputs": [],
   "source": [
    "def preprocessor_data(X, preprocessor=None):\n",
    "    if preprocessor is not None:\n",
    "        preprocessor.fit(X)\n",
    "        X_preprocessed = X.copy()\n",
    "        X_preprocessed[:] = preprocessor.transform(X.values)\n",
    "        X = X_preprocessed\n",
    "    return X"
   ]
  },
  {
   "cell_type": "code",
   "execution_count": 21,
   "id": "65008eac-ddf0-4c78-9462-285101e0094f",
   "metadata": {},
   "outputs": [],
   "source": [
    "def calculate_metrics(target, prediction, average='macro'):\n",
    "    accuracy = accuracy_score(target, prediction)\n",
    "    precision = precision_score(target, prediction, average=average)\n",
    "    recall = recall_score(target, prediction, average=average)\n",
    "    f1 = f1_score(target, prediction, average=average)\n",
    "    mislabeled = (target != prediction).sum()\n",
    "    total = len(target)\n",
    "    return accuracy, precision, recall, f1, mislabeled, total"
   ]
  },
  {
   "cell_type": "code",
   "execution_count": 22,
   "id": "60fe5e57-6497-409a-a4f4-137189a1e981",
   "metadata": {},
   "outputs": [],
   "source": [
    "def print_results(metrics, classifier_id='classifier'):\n",
    "    print(f'Results for {classifier_id}')\n",
    "    print('----')\n",
    "    print(f'  Accuracy: {metrics[0]}')\n",
    "    print(f'  Precision: {metrics[1]}')\n",
    "    print(f'  Recall: {metrics[2]}')\n",
    "    print(f'  f1 score: {metrics[3]}')\n",
    "    print(f'  Mislabeled: {metrics[4]}')\n",
    "    print('\\n')"
   ]
  },
  {
   "cell_type": "code",
   "execution_count": 33,
   "id": "ed45b5fe-0840-447a-858a-12205be04a01",
   "metadata": {},
   "outputs": [],
   "source": [
    "def plot_confusion_matrix(confusion_matrix, classes, title=None, title_appendix='', cmap=plt.cm.Blues):\n",
    "    if title_appendix:\n",
    "        title_appendix = f'({title_appendix})'\n",
    "    if title is None:\n",
    "        title = f'(Condusion matrix {title_appendix}'\n",
    "\n",
    "    fig, ax = plt.subplots()\n",
    "    img = ax.imshow(confusion_matrix, cmap=cmap)\n",
    "    ax.figure.colorbar(img, ax=ax)\n",
    "    ax.set_xticks(np.arange(confusion_matrix.shape[1]))\n",
    "    ax.set_xticklabels(classes, rotation=45, ha='right', rotation_mode='anchor')\n",
    "    ax.set_yticks(np.arange(confusion_matrix.shape[0]))\n",
    "    ax.set_yticklabels(classes, rotation=45, ha='right', rotation_mode='anchor')\n",
    "    ax.set_title(title)\n",
    "    ax.set_ylabel('True label')\n",
    "    ax.set_xlabel('Predicted label')\n",
    "\n",
    "    fmt = '.2f' if confusion_matrix.dtype == 'float' else 'd'\n",
    "    thresh = confusion_matrix.max() / 2\n",
    "    for y, row in enumerate(confusion_matrix):\n",
    "        for x, cell in enumerate(row):\n",
    "            ax.text(x, y, format(cell, fmt),\n",
    "                   ha = 'center', va='center',\n",
    "                   color='white' if cell > thresh else 'black')\n",
    "\n",
    "    fig.tight_layout()\n",
    "    return ax"
   ]
  },
  {
   "cell_type": "code",
   "execution_count": 25,
   "id": "c6f9f264-9d8f-478c-86d7-f50eb27b7457",
   "metadata": {},
   "outputs": [],
   "source": [
    "def normalize_confusion_matrix(confusion_matrix):\n",
    "    return confusion_matrix.astype('float') / confusion_matrix.sum(axis=1)[np.newaxis].T"
   ]
  },
  {
   "cell_type": "code",
   "execution_count": 26,
   "id": "a806cefd-5ac6-41af-86be-0ac4b0ce69f4",
   "metadata": {},
   "outputs": [
    {
     "name": "stderr",
     "output_type": "stream",
     "text": [
      "C:\\Users\\AmanP\\PycharmProjects\\PodstawyPython\\github\\.venv\\lib\\site-packages\\sklearn\\base.py:465: UserWarning: X does not have valid feature names, but StandardScaler was fitted with feature names\n",
      "  warnings.warn(\n"
     ]
    },
    {
     "data": {
      "text/html": [
       "<div>\n",
       "<style scoped>\n",
       "    .dataframe tbody tr th:only-of-type {\n",
       "        vertical-align: middle;\n",
       "    }\n",
       "\n",
       "    .dataframe tbody tr th {\n",
       "        vertical-align: top;\n",
       "    }\n",
       "\n",
       "    .dataframe thead th {\n",
       "        text-align: right;\n",
       "    }\n",
       "</style>\n",
       "<table border=\"1\" class=\"dataframe\">\n",
       "  <thead>\n",
       "    <tr style=\"text-align: right;\">\n",
       "      <th></th>\n",
       "      <th>Alcohol</th>\n",
       "      <th>Malic acid</th>\n",
       "      <th>Ash</th>\n",
       "      <th>Alcalinity of ash</th>\n",
       "      <th>Magnesium</th>\n",
       "      <th>Total phenols</th>\n",
       "      <th>Flavanoids</th>\n",
       "      <th>Nonflavanoid phenols</th>\n",
       "      <th>Proanthocyanins</th>\n",
       "      <th>Color intensity</th>\n",
       "      <th>Hue</th>\n",
       "      <th>OD280/OD315 of diluted wines</th>\n",
       "      <th>Proline</th>\n",
       "    </tr>\n",
       "  </thead>\n",
       "  <tbody>\n",
       "    <tr>\n",
       "      <th>count</th>\n",
       "      <td>1.780000e+02</td>\n",
       "      <td>1.780000e+02</td>\n",
       "      <td>1.780000e+02</td>\n",
       "      <td>1.780000e+02</td>\n",
       "      <td>1.780000e+02</td>\n",
       "      <td>178.000000</td>\n",
       "      <td>1.780000e+02</td>\n",
       "      <td>1.780000e+02</td>\n",
       "      <td>1.780000e+02</td>\n",
       "      <td>1.780000e+02</td>\n",
       "      <td>1.780000e+02</td>\n",
       "      <td>1.780000e+02</td>\n",
       "      <td>1.780000e+02</td>\n",
       "    </tr>\n",
       "    <tr>\n",
       "      <th>mean</th>\n",
       "      <td>-8.382808e-16</td>\n",
       "      <td>-1.197544e-16</td>\n",
       "      <td>-8.370333e-16</td>\n",
       "      <td>-3.991813e-17</td>\n",
       "      <td>-3.991813e-17</td>\n",
       "      <td>0.000000</td>\n",
       "      <td>-3.991813e-16</td>\n",
       "      <td>3.592632e-16</td>\n",
       "      <td>-1.197544e-16</td>\n",
       "      <td>2.494883e-17</td>\n",
       "      <td>1.995907e-16</td>\n",
       "      <td>3.193450e-16</td>\n",
       "      <td>-1.596725e-16</td>\n",
       "    </tr>\n",
       "    <tr>\n",
       "      <th>std</th>\n",
       "      <td>1.002821e+00</td>\n",
       "      <td>1.002821e+00</td>\n",
       "      <td>1.002821e+00</td>\n",
       "      <td>1.002821e+00</td>\n",
       "      <td>1.002821e+00</td>\n",
       "      <td>1.002821</td>\n",
       "      <td>1.002821e+00</td>\n",
       "      <td>1.002821e+00</td>\n",
       "      <td>1.002821e+00</td>\n",
       "      <td>1.002821e+00</td>\n",
       "      <td>1.002821e+00</td>\n",
       "      <td>1.002821e+00</td>\n",
       "      <td>1.002821e+00</td>\n",
       "    </tr>\n",
       "    <tr>\n",
       "      <th>min</th>\n",
       "      <td>-2.434235e+00</td>\n",
       "      <td>-1.432983e+00</td>\n",
       "      <td>-3.679162e+00</td>\n",
       "      <td>-2.671018e+00</td>\n",
       "      <td>-2.088255e+00</td>\n",
       "      <td>-2.107246</td>\n",
       "      <td>-1.695971e+00</td>\n",
       "      <td>-1.868234e+00</td>\n",
       "      <td>-2.069034e+00</td>\n",
       "      <td>-1.634288e+00</td>\n",
       "      <td>-2.094732e+00</td>\n",
       "      <td>-1.895054e+00</td>\n",
       "      <td>-1.493188e+00</td>\n",
       "    </tr>\n",
       "    <tr>\n",
       "      <th>25%</th>\n",
       "      <td>-7.882448e-01</td>\n",
       "      <td>-6.587486e-01</td>\n",
       "      <td>-5.721225e-01</td>\n",
       "      <td>-6.891372e-01</td>\n",
       "      <td>-8.244151e-01</td>\n",
       "      <td>-0.885468</td>\n",
       "      <td>-8.275393e-01</td>\n",
       "      <td>-7.401412e-01</td>\n",
       "      <td>-5.972835e-01</td>\n",
       "      <td>-7.951025e-01</td>\n",
       "      <td>-7.675624e-01</td>\n",
       "      <td>-9.522483e-01</td>\n",
       "      <td>-7.846378e-01</td>\n",
       "    </tr>\n",
       "    <tr>\n",
       "      <th>50%</th>\n",
       "      <td>6.099988e-02</td>\n",
       "      <td>-4.231120e-01</td>\n",
       "      <td>-2.382132e-02</td>\n",
       "      <td>1.518295e-03</td>\n",
       "      <td>-1.222817e-01</td>\n",
       "      <td>0.095960</td>\n",
       "      <td>1.061497e-01</td>\n",
       "      <td>-1.760948e-01</td>\n",
       "      <td>-6.289785e-02</td>\n",
       "      <td>-1.592246e-01</td>\n",
       "      <td>3.312687e-02</td>\n",
       "      <td>2.377348e-01</td>\n",
       "      <td>-2.337204e-01</td>\n",
       "    </tr>\n",
       "    <tr>\n",
       "      <th>75%</th>\n",
       "      <td>8.361286e-01</td>\n",
       "      <td>6.697929e-01</td>\n",
       "      <td>6.981085e-01</td>\n",
       "      <td>6.020883e-01</td>\n",
       "      <td>5.096384e-01</td>\n",
       "      <td>0.808997</td>\n",
       "      <td>8.490851e-01</td>\n",
       "      <td>6.095413e-01</td>\n",
       "      <td>6.291754e-01</td>\n",
       "      <td>4.939560e-01</td>\n",
       "      <td>7.131644e-01</td>\n",
       "      <td>7.885875e-01</td>\n",
       "      <td>7.582494e-01</td>\n",
       "    </tr>\n",
       "    <tr>\n",
       "      <th>max</th>\n",
       "      <td>2.259772e+00</td>\n",
       "      <td>3.109192e+00</td>\n",
       "      <td>3.156325e+00</td>\n",
       "      <td>3.154511e+00</td>\n",
       "      <td>4.371372e+00</td>\n",
       "      <td>2.539515</td>\n",
       "      <td>3.062832e+00</td>\n",
       "      <td>2.402403e+00</td>\n",
       "      <td>3.485073e+00</td>\n",
       "      <td>3.435432e+00</td>\n",
       "      <td>3.301694e+00</td>\n",
       "      <td>1.960915e+00</td>\n",
       "      <td>2.971473e+00</td>\n",
       "    </tr>\n",
       "  </tbody>\n",
       "</table>\n",
       "</div>"
      ],
      "text/plain": [
       "            Alcohol    Malic acid           Ash  Alcalinity of ash  \\\n",
       "count  1.780000e+02  1.780000e+02  1.780000e+02       1.780000e+02   \n",
       "mean  -8.382808e-16 -1.197544e-16 -8.370333e-16      -3.991813e-17   \n",
       "std    1.002821e+00  1.002821e+00  1.002821e+00       1.002821e+00   \n",
       "min   -2.434235e+00 -1.432983e+00 -3.679162e+00      -2.671018e+00   \n",
       "25%   -7.882448e-01 -6.587486e-01 -5.721225e-01      -6.891372e-01   \n",
       "50%    6.099988e-02 -4.231120e-01 -2.382132e-02       1.518295e-03   \n",
       "75%    8.361286e-01  6.697929e-01  6.981085e-01       6.020883e-01   \n",
       "max    2.259772e+00  3.109192e+00  3.156325e+00       3.154511e+00   \n",
       "\n",
       "          Magnesium  Total phenols    Flavanoids  Nonflavanoid phenols  \\\n",
       "count  1.780000e+02     178.000000  1.780000e+02          1.780000e+02   \n",
       "mean  -3.991813e-17       0.000000 -3.991813e-16          3.592632e-16   \n",
       "std    1.002821e+00       1.002821  1.002821e+00          1.002821e+00   \n",
       "min   -2.088255e+00      -2.107246 -1.695971e+00         -1.868234e+00   \n",
       "25%   -8.244151e-01      -0.885468 -8.275393e-01         -7.401412e-01   \n",
       "50%   -1.222817e-01       0.095960  1.061497e-01         -1.760948e-01   \n",
       "75%    5.096384e-01       0.808997  8.490851e-01          6.095413e-01   \n",
       "max    4.371372e+00       2.539515  3.062832e+00          2.402403e+00   \n",
       "\n",
       "       Proanthocyanins  Color intensity           Hue  \\\n",
       "count     1.780000e+02     1.780000e+02  1.780000e+02   \n",
       "mean     -1.197544e-16     2.494883e-17  1.995907e-16   \n",
       "std       1.002821e+00     1.002821e+00  1.002821e+00   \n",
       "min      -2.069034e+00    -1.634288e+00 -2.094732e+00   \n",
       "25%      -5.972835e-01    -7.951025e-01 -7.675624e-01   \n",
       "50%      -6.289785e-02    -1.592246e-01  3.312687e-02   \n",
       "75%       6.291754e-01     4.939560e-01  7.131644e-01   \n",
       "max       3.485073e+00     3.435432e+00  3.301694e+00   \n",
       "\n",
       "       OD280/OD315 of diluted wines       Proline  \n",
       "count                  1.780000e+02  1.780000e+02  \n",
       "mean                   3.193450e-16 -1.596725e-16  \n",
       "std                    1.002821e+00  1.002821e+00  \n",
       "min                   -1.895054e+00 -1.493188e+00  \n",
       "25%                   -9.522483e-01 -7.846378e-01  \n",
       "50%                    2.377348e-01 -2.337204e-01  \n",
       "75%                    7.885875e-01  7.582494e-01  \n",
       "max                    1.960915e+00  2.971473e+00  "
      ]
     },
     "execution_count": 26,
     "metadata": {},
     "output_type": "execute_result"
    }
   ],
   "source": [
    "X, y, classes = prepare_dataset('wine')\n",
    "X = preprocessor_data(X, standarizer)\n",
    "X.describe()"
   ]
  },
  {
   "cell_type": "code",
   "execution_count": 28,
   "id": "975d654b-1108-412f-ad38-f2f32ab7f0b7",
   "metadata": {},
   "outputs": [],
   "source": [
    "X_train, X_test, y_train, y_test = train_test_split(X, y, test_size=0.2, stratify=y, random_state=42)"
   ]
  },
  {
   "cell_type": "code",
   "execution_count": 29,
   "id": "67738730-774b-462d-a4f9-5f3f6a351cbb",
   "metadata": {},
   "outputs": [
    {
     "name": "stdout",
     "output_type": "stream",
     "text": [
      "<bound method IndexOpsMixin.value_counts of 0      0\n",
      "1      0\n",
      "2      0\n",
      "3      0\n",
      "4      0\n",
      "      ..\n",
      "173    1\n",
      "174    1\n",
      "175    1\n",
      "176    1\n",
      "177    1\n",
      "Name: class, Length: 178, dtype: int8>\n",
      "<bound method IndexOpsMixin.value_counts of 87     2\n",
      "26     0\n",
      "2      0\n",
      "36     0\n",
      "102    2\n",
      "      ..\n",
      "148    1\n",
      "59     2\n",
      "64     2\n",
      "34     0\n",
      "103    2\n",
      "Name: class, Length: 142, dtype: int8>\n",
      "<bound method IndexOpsMixin.value_counts of 10     0\n",
      "129    2\n",
      "28     0\n",
      "131    1\n",
      "143    1\n",
      "51     0\n",
      "7      0\n",
      "95     2\n",
      "81     2\n",
      "86     2\n",
      "82     2\n",
      "65     2\n",
      "42     0\n",
      "63     2\n",
      "14     0\n",
      "137    1\n",
      "93     2\n",
      "20     0\n",
      "133    1\n",
      "38     0\n",
      "136    1\n",
      "146    1\n",
      "22     0\n",
      "18     0\n",
      "164    1\n",
      "165    1\n",
      "58     0\n",
      "70     2\n",
      "169    1\n",
      "106    2\n",
      "48     0\n",
      "92     2\n",
      "173    1\n",
      "99     2\n",
      "91     2\n",
      "113    2\n",
      "Name: class, dtype: int8>\n"
     ]
    }
   ],
   "source": [
    "print(y.value_counts)\n",
    "print(y_train.value_counts)\n",
    "print(y_test.value_counts)"
   ]
  },
  {
   "cell_type": "code",
   "execution_count": 32,
   "id": "8ae3d511-766a-4d0a-b2e5-2ab6b53e6200",
   "metadata": {},
   "outputs": [],
   "source": [
    "tree = DecisionTreeClassifier()\n",
    "tree.fit(X_train, y_train)\n",
    "y_tree = tree.predict(X_test)"
   ]
  },
  {
   "cell_type": "code",
   "execution_count": 34,
   "id": "2c183fda-c380-4ed5-9f3f-6285b821fa72",
   "metadata": {},
   "outputs": [
    {
     "name": "stdout",
     "output_type": "stream",
     "text": [
      "Results for Decision Tree\n",
      "----\n",
      "  Accuracy: 0.9166666666666666\n",
      "  Precision: 0.923076923076923\n",
      "  Recall: 0.9246031746031745\n",
      "  f1 score: 0.9229629629629629\n",
      "  Mislabeled: 3\n",
      "\n",
      "\n"
     ]
    },
    {
     "data": {
      "text/plain": [
       "<Axes: title={'center': '(Condusion matrix '}, xlabel='Predicted label', ylabel='True label'>"
      ]
     },
     "execution_count": 34,
     "metadata": {},
     "output_type": "execute_result"
    },
    {
     "data": {
      "image/png": "[encoded data removed]",
      "text/plain": [
       "<Figure size 640x480 with 2 Axes>"
      ]
     },
     "metadata": {},
     "output_type": "display_data"
    }
   ],
   "source": [
    "print_results(calculate_metrics(y_test.values, y_tree), 'Decision Tree')\n",
    "cm = confusion_matrix(y_test, y_tree)\n",
    "plot_confusion_matrix(cm, classes)"
   ]
  },
  {
   "cell_type": "code",
   "execution_count": 36,
   "id": "f0b82cbf-3848-4b37-9d1c-7a3eb9855133",
   "metadata": {},
   "outputs": [
    {
     "name": "stderr",
     "output_type": "stream",
     "text": [
      "C:\\Users\\AmanP\\PycharmProjects\\PodstawyPython\\github\\.venv\\lib\\site-packages\\sklearn\\ensemble\\_base.py:156: FutureWarning: `base_estimator` was renamed to `estimator` in version 1.2 and will be removed in 1.4.\n",
      "  warnings.warn(\n"
     ]
    }
   ],
   "source": [
    "bclf = BaggingClassifier(base_estimator=DecisionTreeClassifier(), n_estimators=50)\n",
    "bclf.fit(X_train, y_train)\n",
    "y_b = bclf.predict(X_test)"
   ]
  },
  {
   "cell_type": "code",
   "execution_count": 37,
   "id": "3eb112b8-b856-44b8-b5a8-4a74c901aa29",
   "metadata": {},
   "outputs": [
    {
     "name": "stdout",
     "output_type": "stream",
     "text": [
      "Results for Bagging Ensamble\n",
      "----\n",
      "  Accuracy: 1.0\n",
      "  Precision: 1.0\n",
      "  Recall: 1.0\n",
      "  f1 score: 1.0\n",
      "  Mislabeled: 0\n",
      "\n",
      "\n"
     ]
    },
    {
     "data": {
      "text/plain": [
       "<Axes: title={'center': '(Condusion matrix '}, xlabel='Predicted label', ylabel='True label'>"
      ]
     },
     "execution_count": 37,
     "metadata": {},
     "output_type": "execute_result"
    },
    {
     "data": {
      "image/png": "[encoded data removed]",
      "text/plain": [
       "<Figure size 640x480 with 2 Axes>"
      ]
     },
     "metadata": {},
     "output_type": "display_data"
    }
   ],
   "source": [
    "print_results(calculate_metrics(y_test.values, y_b), 'Bagging Ensamble')\n",
    "cm = confusion_matrix(y_test, y_b)\n",
    "plot_confusion_matrix(cm, classes)"
   ]
  },
  {
   "cell_type": "code",
   "execution_count": null,
   "id": "f9e545d0-3051-4dda-8edf-514824728a79",
   "metadata": {},
   "outputs": [],
   "source": []
  }
 ],
 "metadata": {
  "kernelspec": {
   "display_name": "Python 3 (ipykernel)",
   "language": "python",
   "name": "python3"
  },
  "language_info": {
   "codemirror_mode": {
    "name": "ipython",
    "version": 3
   },
   "file_extension": ".py",
   "mimetype": "text/x-python",
   "name": "python",
   "nbconvert_exporter": "python",
   "pygments_lexer": "ipython3",
   "version": "3.8.2"
  }
 },
 "nbformat": 4,
 "nbformat_minor": 5
}
