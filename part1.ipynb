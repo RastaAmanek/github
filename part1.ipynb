{
 "cells": [
  {
   "cell_type": "code",
   "execution_count": 1,
   "id": "8d547ec5-c801-4c8e-a361-f6cdbf08c711",
   "metadata": {},
   "outputs": [],
   "source": [
    "import numpy as np"
   ]
  },
  {
   "cell_type": "code",
   "execution_count": 2,
   "id": "4626033f-bf27-4e73-b4e8-9b3a138e456a",
   "metadata": {},
   "outputs": [
    {
     "data": {
      "text/plain": [
       "'1.24.4'"
      ]
     },
     "execution_count": 2,
     "metadata": {},
     "output_type": "execute_result"
    }
   ],
   "source": [
    "np.__version__"
   ]
  },
  {
   "cell_type": "code",
   "execution_count": 3,
   "id": "d265d86c-30b1-42f7-a12f-b95e2dd89a19",
   "metadata": {},
   "outputs": [],
   "source": [
    "list_of_numbers = [5, 23, 25, 28, 4586]"
   ]
  },
  {
   "cell_type": "code",
   "execution_count": 4,
   "id": "7085b5ea-0d0a-4c73-8b51-52ee1bf622b5",
   "metadata": {},
   "outputs": [],
   "source": [
    "vector = np.array(list_of_numbers)"
   ]
  },
  {
   "cell_type": "code",
   "execution_count": 5,
   "id": "1e96da46-1fac-4b0a-a846-4bc4c25f3d10",
   "metadata": {},
   "outputs": [
    {
     "data": {
      "text/plain": [
       "array([   5,   23,   25,   28, 4586])"
      ]
     },
     "execution_count": 5,
     "metadata": {},
     "output_type": "execute_result"
    }
   ],
   "source": [
    "vector"
   ]
  },
  {
   "cell_type": "code",
   "execution_count": 6,
   "id": "e4f7115a-c911-4ce3-a60f-4745f9637f94",
   "metadata": {},
   "outputs": [
    {
     "data": {
      "text/plain": [
       "[5, 23, 25, 28, 4586]"
      ]
     },
     "execution_count": 6,
     "metadata": {},
     "output_type": "execute_result"
    }
   ],
   "source": [
    "list_of_numbers"
   ]
  },
  {
   "cell_type": "code",
   "execution_count": 7,
   "id": "bb4c44a3-afc2-4fcc-b588-78e1dd1479bd",
   "metadata": {},
   "outputs": [
    {
     "data": {
      "text/plain": [
       "(5,)"
      ]
     },
     "execution_count": 7,
     "metadata": {},
     "output_type": "execute_result"
    }
   ],
   "source": [
    "vector.shape"
   ]
  },
  {
   "cell_type": "code",
   "execution_count": 8,
   "id": "c2839453-7b79-43fa-84e2-9a134c8a3976",
   "metadata": {},
   "outputs": [
    {
     "data": {
      "text/plain": [
       "array([   6,   10,   14,   15, 5023])"
      ]
     },
     "execution_count": 8,
     "metadata": {},
     "output_type": "execute_result"
    }
   ],
   "source": [
    "np.array([1, 3, 6, 8, 4567]) + [5, 7, 8, 7, 456]"
   ]
  },
  {
   "cell_type": "code",
   "execution_count": 9,
   "id": "ded86825-c99a-4b86-9a7e-83f5714d51a8",
   "metadata": {},
   "outputs": [],
   "source": [
    "import timeit"
   ]
  },
  {
   "cell_type": "code",
   "execution_count": 10,
   "id": "92fa8601-823e-4317-90ad-4f35d068977e",
   "metadata": {},
   "outputs": [
    {
     "data": {
      "text/plain": [
       "6.237728799999999"
      ]
     },
     "execution_count": 10,
     "metadata": {},
     "output_type": "execute_result"
    }
   ],
   "source": [
    "# kod inicjalizujacy\n",
    "setup_code = \"\"\"\n",
    "result = []\n",
    "l1 = list(range(1100, 1150))\n",
    "l2 = list(range(500, 550))\n",
    "\"\"\"\n",
    "\n",
    "# kod wlasciwy\n",
    "code = \"\"\"\n",
    "for item in zip(l1, l2):\n",
    "    result.append(item[0] + item[1]) \n",
    "\"\"\"\n",
    "\n",
    "timeit.timeit(code, setup=setup_code)"
   ]
  },
  {
   "cell_type": "code",
   "execution_count": 14,
   "id": "adb10398-6e0d-414d-88a6-6dfc1612beaa",
   "metadata": {},
   "outputs": [],
   "source": [
    "\n",
    "\n",
    "l1 = list(range(1100, 1150))\n",
    "l2 = list(range(500, 550))\n",
    "\n"
   ]
  },
  {
   "cell_type": "code",
   "execution_count": 15,
   "id": "41552a64-458e-4729-8ce9-4d60e76c7e30",
   "metadata": {},
   "outputs": [
    {
     "name": "stdout",
     "output_type": "stream",
     "text": [
      "5.8 µs ± 53.1 ns per loop (mean ± std. dev. of 7 runs, 100,000 loops each)\n"
     ]
    }
   ],
   "source": [
    "%%timeit\n",
    "\n",
    "result = []\n",
    "for item in zip(l1, l2):\n",
    "    result.append(item[0] + item[1])"
   ]
  },
  {
   "cell_type": "code",
   "execution_count": 16,
   "id": "b7d24e3f-0afb-497d-ab2f-6eb964d98a40",
   "metadata": {},
   "outputs": [
    {
     "name": "stdout",
     "output_type": "stream",
     "text": [
      "8.57 µs ± 117 ns per loop (mean ± std. dev. of 7 runs, 100,000 loops each)\n"
     ]
    }
   ],
   "source": [
    "%%timeit\n",
    "\n",
    "n1 = np.array(range(1100, 1150))\n",
    "n2 = np.array(range(500, 550))\n",
    "\n",
    "\n",
    "result = n1 + n2 \n",
    "\n",
    "\n"
   ]
  },
  {
   "cell_type": "code",
   "execution_count": 17,
   "id": "1fea483c-d017-42b8-b983-5875233a6318",
   "metadata": {},
   "outputs": [
    {
     "data": {
      "text/plain": [
       "array([   5,   23,   25,   28, 4586])"
      ]
     },
     "execution_count": 17,
     "metadata": {},
     "output_type": "execute_result"
    }
   ],
   "source": [
    "vector"
   ]
  },
  {
   "cell_type": "code",
   "execution_count": 19,
   "id": "4284eb29-b359-489f-b342-2ad8be31b17f",
   "metadata": {},
   "outputs": [],
   "source": [
    "first_vector = np.arange(1, 6)\n",
    "second_vector = np.array([1, 2, 3, 4, 5])"
   ]
  },
  {
   "cell_type": "code",
   "execution_count": 20,
   "id": "594b6769-7738-4de5-a5c8-472d41e0873e",
   "metadata": {},
   "outputs": [
    {
     "data": {
      "text/plain": [
       "array([ 2,  4,  6,  8, 10])"
      ]
     },
     "execution_count": 20,
     "metadata": {},
     "output_type": "execute_result"
    }
   ],
   "source": [
    "summation = first_vector + second_vector\n",
    "summation"
   ]
  },
  {
   "cell_type": "code",
   "execution_count": 21,
   "id": "20b70ab5-ea8f-4354-bb25-bb22e3a439e4",
   "metadata": {},
   "outputs": [],
   "source": [
    "third_vector = np.arange(1, 7)"
   ]
  },
  {
   "cell_type": "code",
   "execution_count": 22,
   "id": "b065d064-66fe-402a-b12d-81f022a1111e",
   "metadata": {},
   "outputs": [
    {
     "ename": "ValueError",
     "evalue": "operands could not be broadcast together with shapes (5,) (6,) ",
     "output_type": "error",
     "traceback": [
      "\u001b[1;31m---------------------------------------------------------------------------\u001b[0m",
      "\u001b[1;31mValueError\u001b[0m                                Traceback (most recent call last)",
      "Cell \u001b[1;32mIn[22], line 1\u001b[0m\n\u001b[1;32m----> 1\u001b[0m summation_2 \u001b[38;5;241m=\u001b[39m \u001b[43msecond_vector\u001b[49m\u001b[43m \u001b[49m\u001b[38;5;241;43m+\u001b[39;49m\u001b[43m \u001b[49m\u001b[43mthird_vector\u001b[49m\n",
      "\u001b[1;31mValueError\u001b[0m: operands could not be broadcast together with shapes (5,) (6,) "
     ]
    }
   ],
   "source": [
    "summation_2 = second_vector + third_vector"
   ]
  },
  {
   "cell_type": "code",
   "execution_count": 24,
   "id": "aabf1fa8-22f3-494f-973e-075050cf834b",
   "metadata": {},
   "outputs": [
    {
     "data": {
      "text/plain": [
       "array([5, 6, 7, 8, 9])"
      ]
     },
     "execution_count": 24,
     "metadata": {},
     "output_type": "execute_result"
    }
   ],
   "source": [
    "fourth_vector = np.array([4])\n",
    "\n",
    "result = second_vector + fourth_vector\n",
    "result"
   ]
  },
  {
   "cell_type": "code",
   "execution_count": null,
   "id": "02ba0fde-ea2d-42fe-8ee3-806473aad806",
   "metadata": {},
   "outputs": [],
   "source": []
  }
 ],
 "metadata": {
  "kernelspec": {
   "display_name": "Python 3 (ipykernel)",
   "language": "python",
   "name": "python3"
  },
  "language_info": {
   "codemirror_mode": {
    "name": "ipython",
    "version": 3
   },
   "file_extension": ".py",
   "mimetype": "text/x-python",
   "name": "python",
   "nbconvert_exporter": "python",
   "pygments_lexer": "ipython3",
   "version": "3.8.2"
  }
 },
 "nbformat": 4,
 "nbformat_minor": 5
}
