{
 "cells": [
  {
   "cell_type": "code",
   "execution_count": 4,
   "id": "f12aede1-cf93-4c07-ac5c-e1e180f66a01",
   "metadata": {},
   "outputs": [],
   "source": [
    "from sklearn.pipeline import Pipeline\n",
    "from sklearn.preprocessing import StandardScaler\n",
    "from sklearn.model_selection import GridSearchCV"
   ]
  },
  {
   "cell_type": "code",
   "execution_count": 5,
   "id": "d231ac42-20c2-4a2a-a731-d9308f6638b0",
   "metadata": {},
   "outputs": [],
   "source": [
    "import numpy as np"
   ]
  },
  {
   "cell_type": "code",
   "execution_count": 10,
   "id": "d0d8a8c3-ae58-4482-a6b6-d21d57c6d8d3",
   "metadata": {},
   "outputs": [
    {
     "data": {
      "text/plain": [
       "1"
      ]
     },
     "execution_count": 10,
     "metadata": {},
     "output_type": "execute_result"
    }
   ],
   "source": [
    "y_true = np.array([0, 1, 1, 0, 0, 0, 0, 0])\n",
    "y_pred = np.array([0, 1, 0, 1, 0, 0, 1, 1])\n",
    "\n",
    "tp = ((y_true == 1) & (y_pred == 1)).sum()\n",
    "tn = ((y_true == 0) & (y_pred == 0)).sum()\n",
    "fp = ((y_true == 0) & (y_pred == 1)).sum()\n",
    "fn = ((y_true == 1) & (y_pred == 0)).sum()\n",
    "tp"
   ]
  },
  {
   "cell_type": "code",
   "execution_count": 26,
   "id": "f65937cb-7297-4be9-af07-ea5926cbc6d9",
   "metadata": {},
   "outputs": [],
   "source": [
    "def accuracy(y_true, y_pred):\n",
    "    tp = ((y_true == 1) & (y_pred == 1)).sum()\n",
    "    tn = ((y_true == 0) & (y_pred == 0)).sum()\n",
    "    fp = ((y_true == 0) & (y_pred == 1)).sum()\n",
    "    fn = ((y_true == 1) & (y_pred == 0)).sum()\n",
    "    return (tp+tn)/len(y_true)"
   ]
  },
  {
   "cell_type": "code",
   "execution_count": 29,
   "id": "3775e8b3-c078-4ac2-a242-d71b2a6eb5d8",
   "metadata": {},
   "outputs": [],
   "source": [
    "y_true1 = np.array([0, 1, 1, 0, 0, 0, 0, 0])\n",
    "y_pred1 = np.array([0, 1, 0, 1, 0, 0, 1, 1])"
   ]
  },
  {
   "cell_type": "code",
   "execution_count": 30,
   "id": "5caa01d7-6058-49d9-83d4-ca831858d2ab",
   "metadata": {},
   "outputs": [
    {
     "data": {
      "text/plain": [
       "0.5"
      ]
     },
     "execution_count": 30,
     "metadata": {},
     "output_type": "execute_result"
    }
   ],
   "source": [
    "accurac1 = accuracy(y_true1, y_pred1)\n",
    "accurac1"
   ]
  },
  {
   "cell_type": "code",
   "execution_count": 23,
   "id": "a41b564f-3cd2-4a3e-8c6e-06ca670f271a",
   "metadata": {},
   "outputs": [],
   "source": [
    "def accuracy2(y_true, y_pred):\n",
    "    tpn = (y_true == y_pred).sum()\n",
    "    all_n = len(y_true)\n",
    "    return tpn/all_n"
   ]
  },
  {
   "cell_type": "code",
   "execution_count": 31,
   "id": "7263869f-2ee0-4d54-89de-c1749250ea60",
   "metadata": {},
   "outputs": [
    {
     "data": {
      "text/plain": [
       "0.5"
      ]
     },
     "execution_count": 31,
     "metadata": {},
     "output_type": "execute_result"
    }
   ],
   "source": [
    "accurac2 = accuracy2(y_true1, y_pred1)\n",
    "accurac2"
   ]
  },
  {
   "cell_type": "code",
   "execution_count": null,
   "id": "671e2896-3398-4efa-ac95-21cdad4be272",
   "metadata": {},
   "outputs": [],
   "source": []
  }
 ],
 "metadata": {
  "kernelspec": {
   "display_name": "Python 3 (ipykernel)",
   "language": "python",
   "name": "python3"
  },
  "language_info": {
   "codemirror_mode": {
    "name": "ipython",
    "version": 3
   },
   "file_extension": ".py",
   "mimetype": "text/x-python",
   "name": "python",
   "nbconvert_exporter": "python",
   "pygments_lexer": "ipython3",
   "version": "3.8.2"
  }
 },
 "nbformat": 4,
 "nbformat_minor": 5
}
