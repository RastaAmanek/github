{
 "cells": [
  {
   "cell_type": "code",
   "execution_count": 1,
   "id": "f12aede1-cf93-4c07-ac5c-e1e180f66a01",
   "metadata": {},
   "outputs": [],
   "source": [
    "from sklearn.pipeline import Pipeline\n",
    "from sklearn.preprocessing import StandardScaler\n",
    "from sklearn.model_selection import GridSearchCV"
   ]
  },
  {
   "cell_type": "code",
   "execution_count": 2,
   "id": "d231ac42-20c2-4a2a-a731-d9308f6638b0",
   "metadata": {},
   "outputs": [],
   "source": [
    "import numpy as np"
   ]
  },
  {
   "cell_type": "code",
   "execution_count": 3,
   "id": "d0d8a8c3-ae58-4482-a6b6-d21d57c6d8d3",
   "metadata": {},
   "outputs": [],
   "source": [
    "y_true = np.array([0, 1, 1, 0, 0, 0, 0, 0])\n",
    "y_pred = np.array([0, 1, 0, 1, 0, 0, 1, 1])\n",
    "\n",
    "tp = ((y_true == 1) & (y_pred == 1)).sum()\n",
    "tn = ((y_true == 0) & (y_pred == 0)).sum()\n",
    "fp = ((y_true == 0) & (y_pred == 1)).sum()\n",
    "fn = ((y_true == 1) & (y_pred == 0)).sum()"
   ]
  },
  {
   "cell_type": "code",
   "execution_count": null,
   "id": "f65937cb-7297-4be9-af07-ea5926cbc6d9",
   "metadata": {},
   "outputs": [],
   "source": []
  }
 ],
 "metadata": {
  "kernelspec": {
   "display_name": "Python 3 (ipykernel)",
   "language": "python",
   "name": "python3"
  },
  "language_info": {
   "codemirror_mode": {
    "name": "ipython",
    "version": 3
   },
   "file_extension": ".py",
   "mimetype": "text/x-python",
   "name": "python",
   "nbconvert_exporter": "python",
   "pygments_lexer": "ipython3",
   "version": "3.8.2"
  }
 },
 "nbformat": 4,
 "nbformat_minor": 5
}
