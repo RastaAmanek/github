{
 "cells": [
  {
   "cell_type": "code",
   "execution_count": 1,
   "id": "0c755e97-b588-4b44-83c1-58feb2547acf",
   "metadata": {},
   "outputs": [],
   "source": [
    "import pandas as pd\n",
    "\n",
    "df = pd.read_csv(\"cars.csv\")\n",
    "\n"
   ]
  },
  {
   "cell_type": "code",
   "execution_count": 2,
   "id": "5e4b6dac-b640-4258-a875-2df21a8ce79f",
   "metadata": {},
   "outputs": [
    {
     "data": {
      "text/html": [
       "<div>\n",
       "<style scoped>\n",
       "    .dataframe tbody tr th:only-of-type {\n",
       "        vertical-align: middle;\n",
       "    }\n",
       "\n",
       "    .dataframe tbody tr th {\n",
       "        vertical-align: top;\n",
       "    }\n",
       "\n",
       "    .dataframe thead th {\n",
       "        text-align: right;\n",
       "    }\n",
       "</style>\n",
       "<table border=\"1\" class=\"dataframe\">\n",
       "  <thead>\n",
       "    <tr style=\"text-align: right;\">\n",
       "      <th></th>\n",
       "      <th>price</th>\n",
       "      <th>currency</th>\n",
       "      <th>brand</th>\n",
       "      <th>body</th>\n",
       "      <th>engine_vol</th>\n",
       "      <th>fuel</th>\n",
       "      <th>drive</th>\n",
       "      <th>power</th>\n",
       "      <th>gearbox_is_manual</th>\n",
       "      <th>prod_year</th>\n",
       "      <th>orig_country</th>\n",
       "      <th>mileage</th>\n",
       "      <th>color</th>\n",
       "      <th>title</th>\n",
       "      <th>offer_timestamp</th>\n",
       "    </tr>\n",
       "  </thead>\n",
       "  <tbody>\n",
       "    <tr>\n",
       "      <th>0</th>\n",
       "      <td>32900</td>\n",
       "      <td>PLN</td>\n",
       "      <td>Škoda</td>\n",
       "      <td>Sedan</td>\n",
       "      <td>1598.0</td>\n",
       "      <td>Diesel</td>\n",
       "      <td>Przód</td>\n",
       "      <td>115.0</td>\n",
       "      <td>True</td>\n",
       "      <td>2017</td>\n",
       "      <td>Polska</td>\n",
       "      <td>175000.0</td>\n",
       "      <td>Srebrny</td>\n",
       "      <td>Škoda RAPID</td>\n",
       "      <td>2021-02-28 12:53:00</td>\n",
       "    </tr>\n",
       "    <tr>\n",
       "      <th>1</th>\n",
       "      <td>32500</td>\n",
       "      <td>PLN</td>\n",
       "      <td>BMW</td>\n",
       "      <td>Kompakt</td>\n",
       "      <td>1598.0</td>\n",
       "      <td>Diesel</td>\n",
       "      <td>Tył</td>\n",
       "      <td>116.0</td>\n",
       "      <td>True</td>\n",
       "      <td>2012</td>\n",
       "      <td>NaN</td>\n",
       "      <td>228000.0</td>\n",
       "      <td>Biały</td>\n",
       "      <td>BMW Seria 1 116d</td>\n",
       "      <td>2021-02-28 12:52:00</td>\n",
       "    </tr>\n",
       "    <tr>\n",
       "      <th>2</th>\n",
       "      <td>7900</td>\n",
       "      <td>PLN</td>\n",
       "      <td>Fiat</td>\n",
       "      <td>Auta małe</td>\n",
       "      <td>1242.0</td>\n",
       "      <td>Benzyna</td>\n",
       "      <td>Przód</td>\n",
       "      <td>69.0</td>\n",
       "      <td>True</td>\n",
       "      <td>2012</td>\n",
       "      <td>Polska</td>\n",
       "      <td>2610000.0</td>\n",
       "      <td>Szary</td>\n",
       "      <td>Fiat Panda 1.2</td>\n",
       "      <td>2021-02-28 12:50:00</td>\n",
       "    </tr>\n",
       "  </tbody>\n",
       "</table>\n",
       "</div>"
      ],
      "text/plain": [
       "   price currency  brand       body  engine_vol     fuel  drive  power  \\\n",
       "0  32900      PLN  Škoda      Sedan      1598.0   Diesel  Przód  115.0   \n",
       "1  32500      PLN    BMW    Kompakt      1598.0   Diesel    Tył  116.0   \n",
       "2   7900      PLN   Fiat  Auta małe      1242.0  Benzyna  Przód   69.0   \n",
       "\n",
       "  gearbox_is_manual  prod_year orig_country    mileage    color  \\\n",
       "0              True       2017       Polska   175000.0  Srebrny   \n",
       "1              True       2012          NaN   228000.0    Biały   \n",
       "2              True       2012       Polska  2610000.0    Szary   \n",
       "\n",
       "              title      offer_timestamp  \n",
       "0       Škoda RAPID  2021-02-28 12:53:00  \n",
       "1  BMW Seria 1 116d  2021-02-28 12:52:00  \n",
       "2    Fiat Panda 1.2  2021-02-28 12:50:00  "
      ]
     },
     "execution_count": 2,
     "metadata": {},
     "output_type": "execute_result"
    }
   ],
   "source": [
    "df.head(3)"
   ]
  },
  {
   "cell_type": "code",
   "execution_count": 3,
   "id": "9fbb4411-f043-4386-94fb-59228c6de27b",
   "metadata": {},
   "outputs": [
    {
     "data": {
      "text/plain": [
       "'2.0.3'"
      ]
     },
     "execution_count": 3,
     "metadata": {},
     "output_type": "execute_result"
    }
   ],
   "source": [
    "pd.__version__"
   ]
  },
  {
   "cell_type": "code",
   "execution_count": 4,
   "id": "f422adaa-3982-4d72-988d-5ce9460b116a",
   "metadata": {},
   "outputs": [
    {
     "data": {
      "text/plain": [
       "(100000, 15)"
      ]
     },
     "execution_count": 4,
     "metadata": {},
     "output_type": "execute_result"
    }
   ],
   "source": [
    "df.shape"
   ]
  },
  {
   "cell_type": "code",
   "execution_count": 5,
   "id": "4fc5d32b-9346-4fd3-894e-6e5deed10281",
   "metadata": {},
   "outputs": [
    {
     "data": {
      "text/plain": [
       "100000"
      ]
     },
     "execution_count": 5,
     "metadata": {},
     "output_type": "execute_result"
    }
   ],
   "source": [
    "len(df)"
   ]
  },
  {
   "cell_type": "code",
   "execution_count": 6,
   "id": "663b3ec2-96bd-4df7-aa27-3a878c95e521",
   "metadata": {},
   "outputs": [
    {
     "data": {
      "text/plain": [
       "Index(['price', 'currency', 'brand', 'body', 'engine_vol', 'fuel', 'drive',\n",
       "       'power', 'gearbox_is_manual', 'prod_year', 'orig_country', 'mileage',\n",
       "       'color', 'title', 'offer_timestamp'],\n",
       "      dtype='object')"
      ]
     },
     "execution_count": 6,
     "metadata": {},
     "output_type": "execute_result"
    }
   ],
   "source": [
    "df.columns"
   ]
  },
  {
   "cell_type": "code",
   "execution_count": 7,
   "id": "f2eeab5e-8650-41be-b655-c5bf803eebdb",
   "metadata": {},
   "outputs": [
    {
     "data": {
      "text/plain": [
       "RangeIndex(start=0, stop=100000, step=1)"
      ]
     },
     "execution_count": 7,
     "metadata": {},
     "output_type": "execute_result"
    }
   ],
   "source": [
    "df.index"
   ]
  },
  {
   "cell_type": "code",
   "execution_count": 8,
   "id": "930edeac-06c5-41e3-92b6-48e948702abc",
   "metadata": {},
   "outputs": [
    {
     "data": {
      "text/plain": [
       "price                  int64\n",
       "currency              object\n",
       "brand                 object\n",
       "body                  object\n",
       "engine_vol           float64\n",
       "fuel                  object\n",
       "drive                 object\n",
       "power                float64\n",
       "gearbox_is_manual     object\n",
       "prod_year              int64\n",
       "orig_country          object\n",
       "mileage              float64\n",
       "color                 object\n",
       "title                 object\n",
       "offer_timestamp       object\n",
       "dtype: object"
      ]
     },
     "execution_count": 8,
     "metadata": {},
     "output_type": "execute_result"
    }
   ],
   "source": [
    "df.dtypes"
   ]
  },
  {
   "cell_type": "code",
   "execution_count": 9,
   "id": "429e948c-bc93-4b16-b00b-8fb0de117a19",
   "metadata": {},
   "outputs": [
    {
     "data": {
      "text/plain": [
       "price                    0\n",
       "currency                 0\n",
       "brand                    0\n",
       "body                     0\n",
       "engine_vol             699\n",
       "fuel                     0\n",
       "drive                19919\n",
       "power                  672\n",
       "gearbox_is_manual      607\n",
       "prod_year                0\n",
       "orig_country         44509\n",
       "mileage                172\n",
       "color                    0\n",
       "title                    0\n",
       "offer_timestamp          0\n",
       "dtype: int64"
      ]
     },
     "execution_count": 9,
     "metadata": {},
     "output_type": "execute_result"
    }
   ],
   "source": [
    "df.isna().sum()"
   ]
  },
  {
   "cell_type": "code",
   "execution_count": 13,
   "id": "c9b471ca-adfd-4154-be51-80457945d9fc",
   "metadata": {},
   "outputs": [
    {
     "data": {
      "text/plain": [
       "True"
      ]
     },
     "execution_count": 13,
     "metadata": {},
     "output_type": "execute_result"
    }
   ],
   "source": [
    "pd.isnull(None)"
   ]
  },
  {
   "cell_type": "code",
   "execution_count": 16,
   "id": "c20ec9d2-e01c-4468-922e-ae79c6546440",
   "metadata": {},
   "outputs": [
    {
     "data": {
      "text/html": [
       "<div>\n",
       "<style scoped>\n",
       "    .dataframe tbody tr th:only-of-type {\n",
       "        vertical-align: middle;\n",
       "    }\n",
       "\n",
       "    .dataframe tbody tr th {\n",
       "        vertical-align: top;\n",
       "    }\n",
       "\n",
       "    .dataframe thead th {\n",
       "        text-align: right;\n",
       "    }\n",
       "</style>\n",
       "<table border=\"1\" class=\"dataframe\">\n",
       "  <thead>\n",
       "    <tr style=\"text-align: right;\">\n",
       "      <th></th>\n",
       "      <th>price</th>\n",
       "      <th>engine_vol</th>\n",
       "      <th>power</th>\n",
       "      <th>prod_year</th>\n",
       "      <th>mileage</th>\n",
       "    </tr>\n",
       "  </thead>\n",
       "  <tbody>\n",
       "    <tr>\n",
       "      <th>count</th>\n",
       "      <td>1.000000e+05</td>\n",
       "      <td>99301.000000</td>\n",
       "      <td>99328.000000</td>\n",
       "      <td>100000.000000</td>\n",
       "      <td>9.982800e+04</td>\n",
       "    </tr>\n",
       "    <tr>\n",
       "      <th>mean</th>\n",
       "      <td>3.949909e+04</td>\n",
       "      <td>1802.313904</td>\n",
       "      <td>136.591575</td>\n",
       "      <td>2010.935530</td>\n",
       "      <td>1.594466e+05</td>\n",
       "    </tr>\n",
       "    <tr>\n",
       "      <th>std</th>\n",
       "      <td>1.432028e+05</td>\n",
       "      <td>598.744998</td>\n",
       "      <td>54.965202</td>\n",
       "      <td>5.820637</td>\n",
       "      <td>4.091146e+05</td>\n",
       "    </tr>\n",
       "    <tr>\n",
       "      <th>min</th>\n",
       "      <td>5.850000e+02</td>\n",
       "      <td>400.000000</td>\n",
       "      <td>1.000000</td>\n",
       "      <td>1900.000000</td>\n",
       "      <td>1.000000e+00</td>\n",
       "    </tr>\n",
       "    <tr>\n",
       "      <th>25%</th>\n",
       "      <td>1.540000e+04</td>\n",
       "      <td>1461.000000</td>\n",
       "      <td>102.000000</td>\n",
       "      <td>2007.000000</td>\n",
       "      <td>9.346000e+04</td>\n",
       "    </tr>\n",
       "    <tr>\n",
       "      <th>50%</th>\n",
       "      <td>2.690000e+04</td>\n",
       "      <td>1686.000000</td>\n",
       "      <td>129.000000</td>\n",
       "      <td>2011.000000</td>\n",
       "      <td>1.600045e+05</td>\n",
       "    </tr>\n",
       "    <tr>\n",
       "      <th>75%</th>\n",
       "      <td>4.950000e+04</td>\n",
       "      <td>1995.000000</td>\n",
       "      <td>150.000000</td>\n",
       "      <td>2015.000000</td>\n",
       "      <td>2.150770e+05</td>\n",
       "    </tr>\n",
       "    <tr>\n",
       "      <th>max</th>\n",
       "      <td>1.432083e+07</td>\n",
       "      <td>8200.000000</td>\n",
       "      <td>1203.000000</td>\n",
       "      <td>2021.000000</td>\n",
       "      <td>1.234568e+08</td>\n",
       "    </tr>\n",
       "  </tbody>\n",
       "</table>\n",
       "</div>"
      ],
      "text/plain": [
       "              price    engine_vol         power      prod_year       mileage\n",
       "count  1.000000e+05  99301.000000  99328.000000  100000.000000  9.982800e+04\n",
       "mean   3.949909e+04   1802.313904    136.591575    2010.935530  1.594466e+05\n",
       "std    1.432028e+05    598.744998     54.965202       5.820637  4.091146e+05\n",
       "min    5.850000e+02    400.000000      1.000000    1900.000000  1.000000e+00\n",
       "25%    1.540000e+04   1461.000000    102.000000    2007.000000  9.346000e+04\n",
       "50%    2.690000e+04   1686.000000    129.000000    2011.000000  1.600045e+05\n",
       "75%    4.950000e+04   1995.000000    150.000000    2015.000000  2.150770e+05\n",
       "max    1.432083e+07   8200.000000   1203.000000    2021.000000  1.234568e+08"
      ]
     },
     "execution_count": 16,
     "metadata": {},
     "output_type": "execute_result"
    }
   ],
   "source": [
    "df.describe()"
   ]
  },
  {
   "cell_type": "code",
   "execution_count": 18,
   "id": "236c7f78-e71d-4ad3-ab3e-7e9cafad5591",
   "metadata": {},
   "outputs": [
    {
     "data": {
      "text/plain": [
       "Index                   128\n",
       "price                800000\n",
       "currency             800000\n",
       "brand                800000\n",
       "body                 800000\n",
       "engine_vol           800000\n",
       "fuel                 800000\n",
       "drive                800000\n",
       "power                800000\n",
       "gearbox_is_manual    800000\n",
       "prod_year            800000\n",
       "orig_country         800000\n",
       "mileage              800000\n",
       "color                800000\n",
       "title                800000\n",
       "offer_timestamp      800000\n",
       "dtype: int64"
      ]
     },
     "execution_count": 18,
     "metadata": {},
     "output_type": "execute_result"
    }
   ],
   "source": [
    "df.memory_usage()"
   ]
  },
  {
   "cell_type": "code",
   "execution_count": 19,
   "id": "f794b89d-c6fc-4e3d-927f-1acd0c4b3de3",
   "metadata": {},
   "outputs": [
    {
     "data": {
      "text/plain": [
       "12000128"
      ]
     },
     "execution_count": 19,
     "metadata": {},
     "output_type": "execute_result"
    }
   ],
   "source": [
    "df.memory_usage().sum()"
   ]
  },
  {
   "cell_type": "code",
   "execution_count": 29,
   "id": "5ddfff20-bd2a-40eb-9dc4-db5cff479214",
   "metadata": {},
   "outputs": [],
   "source": [
    "pd.set_option(\"display.float_format\", \"{:.4f}\".format)"
   ]
  },
  {
   "cell_type": "code",
   "execution_count": 30,
   "id": "a0a5ed44-5b68-462c-a363-1f27c43e6470",
   "metadata": {},
   "outputs": [
    {
     "data": {
      "text/html": [
       "<div>\n",
       "<style scoped>\n",
       "    .dataframe tbody tr th:only-of-type {\n",
       "        vertical-align: middle;\n",
       "    }\n",
       "\n",
       "    .dataframe tbody tr th {\n",
       "        vertical-align: top;\n",
       "    }\n",
       "\n",
       "    .dataframe thead th {\n",
       "        text-align: right;\n",
       "    }\n",
       "</style>\n",
       "<table border=\"1\" class=\"dataframe\">\n",
       "  <thead>\n",
       "    <tr style=\"text-align: right;\">\n",
       "      <th></th>\n",
       "      <th>price</th>\n",
       "      <th>engine_vol</th>\n",
       "      <th>power</th>\n",
       "      <th>prod_year</th>\n",
       "      <th>mileage</th>\n",
       "    </tr>\n",
       "  </thead>\n",
       "  <tbody>\n",
       "    <tr>\n",
       "      <th>count</th>\n",
       "      <td>100000.0000</td>\n",
       "      <td>99301.0000</td>\n",
       "      <td>99328.0000</td>\n",
       "      <td>100000.0000</td>\n",
       "      <td>99828.0000</td>\n",
       "    </tr>\n",
       "    <tr>\n",
       "      <th>mean</th>\n",
       "      <td>39499.0895</td>\n",
       "      <td>1802.3139</td>\n",
       "      <td>136.5916</td>\n",
       "      <td>2010.9355</td>\n",
       "      <td>159446.6398</td>\n",
       "    </tr>\n",
       "    <tr>\n",
       "      <th>std</th>\n",
       "      <td>143202.8489</td>\n",
       "      <td>598.7450</td>\n",
       "      <td>54.9652</td>\n",
       "      <td>5.8206</td>\n",
       "      <td>409114.6012</td>\n",
       "    </tr>\n",
       "    <tr>\n",
       "      <th>min</th>\n",
       "      <td>585.0000</td>\n",
       "      <td>400.0000</td>\n",
       "      <td>1.0000</td>\n",
       "      <td>1900.0000</td>\n",
       "      <td>1.0000</td>\n",
       "    </tr>\n",
       "    <tr>\n",
       "      <th>25%</th>\n",
       "      <td>15400.0000</td>\n",
       "      <td>1461.0000</td>\n",
       "      <td>102.0000</td>\n",
       "      <td>2007.0000</td>\n",
       "      <td>93460.0000</td>\n",
       "    </tr>\n",
       "    <tr>\n",
       "      <th>50%</th>\n",
       "      <td>26900.0000</td>\n",
       "      <td>1686.0000</td>\n",
       "      <td>129.0000</td>\n",
       "      <td>2011.0000</td>\n",
       "      <td>160004.5000</td>\n",
       "    </tr>\n",
       "    <tr>\n",
       "      <th>75%</th>\n",
       "      <td>49500.0000</td>\n",
       "      <td>1995.0000</td>\n",
       "      <td>150.0000</td>\n",
       "      <td>2015.0000</td>\n",
       "      <td>215077.0000</td>\n",
       "    </tr>\n",
       "    <tr>\n",
       "      <th>max</th>\n",
       "      <td>14320827.0000</td>\n",
       "      <td>8200.0000</td>\n",
       "      <td>1203.0000</td>\n",
       "      <td>2021.0000</td>\n",
       "      <td>123456789.0000</td>\n",
       "    </tr>\n",
       "  </tbody>\n",
       "</table>\n",
       "</div>"
      ],
      "text/plain": [
       "              price  engine_vol      power   prod_year        mileage\n",
       "count   100000.0000  99301.0000 99328.0000 100000.0000     99828.0000\n",
       "mean     39499.0895   1802.3139   136.5916   2010.9355    159446.6398\n",
       "std     143202.8489    598.7450    54.9652      5.8206    409114.6012\n",
       "min        585.0000    400.0000     1.0000   1900.0000         1.0000\n",
       "25%      15400.0000   1461.0000   102.0000   2007.0000     93460.0000\n",
       "50%      26900.0000   1686.0000   129.0000   2011.0000    160004.5000\n",
       "75%      49500.0000   1995.0000   150.0000   2015.0000    215077.0000\n",
       "max   14320827.0000   8200.0000  1203.0000   2021.0000 123456789.0000"
      ]
     },
     "execution_count": 30,
     "metadata": {},
     "output_type": "execute_result"
    }
   ],
   "source": [
    "df.describe()"
   ]
  },
  {
   "cell_type": "code",
   "execution_count": 32,
   "id": "ace284dd-258b-46ef-ac0d-e570774524b5",
   "metadata": {},
   "outputs": [
    {
     "name": "stdout",
     "output_type": "stream",
     "text": [
      "<class 'pandas.core.frame.DataFrame'>\n",
      "RangeIndex: 100000 entries, 0 to 99999\n",
      "Data columns (total 15 columns):\n",
      " #   Column             Non-Null Count   Dtype  \n",
      "---  ------             --------------   -----  \n",
      " 0   price              100000 non-null  int64  \n",
      " 1   currency           100000 non-null  object \n",
      " 2   brand              100000 non-null  object \n",
      " 3   body               100000 non-null  object \n",
      " 4   engine_vol         99301 non-null   float64\n",
      " 5   fuel               100000 non-null  object \n",
      " 6   drive              80081 non-null   object \n",
      " 7   power              99328 non-null   float64\n",
      " 8   gearbox_is_manual  99393 non-null   object \n",
      " 9   prod_year          100000 non-null  int64  \n",
      " 10  orig_country       55491 non-null   object \n",
      " 11  mileage            99828 non-null   float64\n",
      " 12  color              100000 non-null  object \n",
      " 13  title              100000 non-null  object \n",
      " 14  offer_timestamp    100000 non-null  object \n",
      "dtypes: float64(3), int64(2), object(10)\n",
      "memory usage: 11.4+ MB\n"
     ]
    }
   ],
   "source": [
    "df.info()"
   ]
  },
  {
   "cell_type": "code",
   "execution_count": 54,
   "id": "ff23d8dc-1225-44e2-a918-dd2cf0ebc800",
   "metadata": {},
   "outputs": [
    {
     "data": {
      "text/plain": [
       "price                                585\n",
       "currency                             PLN\n",
       "brand                               Fiat\n",
       "body                             Kompakt\n",
       "engine_vol                      999.0000\n",
       "fuel                             Benzyna\n",
       "drive                              Przód\n",
       "power                           100.0000\n",
       "gearbox_is_manual                   True\n",
       "prod_year                           2021\n",
       "orig_country                      Polska\n",
       "mileage                           1.0000\n",
       "color                            Srebrny\n",
       "title                      Fiat Tipo 1.0\n",
       "offer_timestamp      2021-04-07 14:24:00\n",
       "Name: 71145, dtype: object"
      ]
     },
     "execution_count": 54,
     "metadata": {},
     "output_type": "execute_result"
    }
   ],
   "source": [
    "df.iloc[71145]"
   ]
  },
  {
   "cell_type": "code",
   "execution_count": 38,
   "id": "19fdd471-f921-4081-a5f3-67581520dd51",
   "metadata": {},
   "outputs": [
    {
     "data": {
      "text/plain": [
       "Index(['price', 'currency', 'brand', 'body', 'engine_vol', 'fuel', 'drive',\n",
       "       'power', 'gearbox_is_manual', 'prod_year', 'orig_country', 'mileage',\n",
       "       'color', 'title', 'offer_timestamp'],\n",
       "      dtype='object')"
      ]
     },
     "execution_count": 38,
     "metadata": {},
     "output_type": "execute_result"
    }
   ],
   "source": [
    "df.columns"
   ]
  },
  {
   "cell_type": "code",
   "execution_count": 46,
   "id": "4470629b-d923-43f6-8d3d-ffd52df7b5eb",
   "metadata": {},
   "outputs": [
    {
     "data": {
      "text/plain": [
       "71145"
      ]
     },
     "execution_count": 46,
     "metadata": {},
     "output_type": "execute_result"
    }
   ],
   "source": [
    "smaller_df = df[[\"fuel\", \"price\", \"mileage\", \"brand\"]]\n",
    "smaller_df[\"price\"].idxmin()"
   ]
  },
  {
   "cell_type": "code",
   "execution_count": 51,
   "id": "9d92336b-379d-4891-8cbd-caa9ee3abf5c",
   "metadata": {},
   "outputs": [
    {
     "data": {
      "text/plain": [
       "fuel       Benzyna\n",
       "price          585\n",
       "mileage     1.0000\n",
       "brand         Fiat\n",
       "Name: 71145, dtype: object"
      ]
     },
     "execution_count": 51,
     "metadata": {},
     "output_type": "execute_result"
    }
   ],
   "source": [
    "smaller_df.iloc[71145]"
   ]
  },
  {
   "cell_type": "code",
   "execution_count": 56,
   "id": "d306fb52-d93c-4ce1-816e-7de99b84e3ab",
   "metadata": {},
   "outputs": [],
   "source": [
    "timestamps = df[\"offer_timestamp\"]"
   ]
  },
  {
   "cell_type": "code",
   "execution_count": 57,
   "id": "722b6c46-b7f5-48e4-b134-aacf2250bf6b",
   "metadata": {},
   "outputs": [
    {
     "data": {
      "text/plain": [
       "0        2021-02-28 12:53:00\n",
       "1        2021-02-28 12:52:00\n",
       "2        2021-02-28 12:50:00\n",
       "3        2021-02-28 12:57:00\n",
       "4        2021-02-28 12:50:00\n",
       "                ...         \n",
       "99995    2021-04-21 14:58:00\n",
       "99996    2021-04-21 19:45:00\n",
       "99997    2021-04-21 15:53:00\n",
       "99998    2021-04-21 13:42:00\n",
       "99999    2021-04-21 13:03:00\n",
       "Name: offer_timestamp, Length: 100000, dtype: object"
      ]
     },
     "execution_count": 57,
     "metadata": {},
     "output_type": "execute_result"
    }
   ],
   "source": [
    "timestamps"
   ]
  },
  {
   "cell_type": "code",
   "execution_count": 73,
   "id": "26c8db34-fe06-446f-9654-cc40aae1011c",
   "metadata": {},
   "outputs": [
    {
     "data": {
      "text/plain": [
       "list"
      ]
     },
     "execution_count": 73,
     "metadata": {},
     "output_type": "execute_result"
    }
   ],
   "source": [
    "sorted_smaller = list(smaller_df[\"price\"])\n",
    "type(sorted_smaller)"
   ]
  },
  {
   "cell_type": "code",
   "execution_count": 74,
   "id": "01aff6d1-42c3-4b68-ae96-b9866bf4e605",
   "metadata": {},
   "outputs": [
    {
     "name": "stdout",
     "output_type": "stream",
     "text": [
      "<built-in method sort of list object at 0x0000019B05BAD200>\n"
     ]
    }
   ],
   "source": [
    "print(sorted_smaller.sort)"
   ]
  },
  {
   "cell_type": "code",
   "execution_count": 88,
   "id": "b41bb493-b9dc-453f-b106-c7611cda7b5c",
   "metadata": {},
   "outputs": [
    {
     "data": {
      "text/plain": [
       "<zip at 0x19b05a6dc80>"
      ]
     },
     "execution_count": 88,
     "metadata": {},
     "output_type": "execute_result"
    }
   ],
   "source": [
    "sorted_smaller = zip(sorted_smaller)\n",
    "sorted_smaller"
   ]
  },
  {
   "cell_type": "code",
   "execution_count": 82,
   "id": "9f4c69ba-1e39-40e8-8fdf-e2231e04b89c",
   "metadata": {},
   "outputs": [
    {
     "data": {
      "text/html": [
       "<div>\n",
       "<style scoped>\n",
       "    .dataframe tbody tr th:only-of-type {\n",
       "        vertical-align: middle;\n",
       "    }\n",
       "\n",
       "    .dataframe tbody tr th {\n",
       "        vertical-align: top;\n",
       "    }\n",
       "\n",
       "    .dataframe thead th {\n",
       "        text-align: right;\n",
       "    }\n",
       "</style>\n",
       "<table border=\"1\" class=\"dataframe\">\n",
       "  <thead>\n",
       "    <tr style=\"text-align: right;\">\n",
       "      <th></th>\n",
       "      <th>title</th>\n",
       "      <th>offer_timestamp</th>\n",
       "    </tr>\n",
       "  </thead>\n",
       "  <tbody>\n",
       "    <tr>\n",
       "      <th>6</th>\n",
       "      <td>Renault Kadjar 1.3</td>\n",
       "      <td>2021-02-28 12:56:00</td>\n",
       "    </tr>\n",
       "    <tr>\n",
       "      <th>7</th>\n",
       "      <td>Dacia Dokker Van</td>\n",
       "      <td>2021-02-28 12:57:00</td>\n",
       "    </tr>\n",
       "    <tr>\n",
       "      <th>8</th>\n",
       "      <td>Opel Insignia 2.0</td>\n",
       "      <td>2021-02-28 12:53:00</td>\n",
       "    </tr>\n",
       "    <tr>\n",
       "      <th>9</th>\n",
       "      <td>Volkswagen Tiguan 2.0</td>\n",
       "      <td>2021-02-28 12:57:00</td>\n",
       "    </tr>\n",
       "    <tr>\n",
       "      <th>10</th>\n",
       "      <td>Opel Insignia 2.0</td>\n",
       "      <td>2021-02-28 12:56:00</td>\n",
       "    </tr>\n",
       "    <tr>\n",
       "      <th>11</th>\n",
       "      <td>Peugeot 407 2.0</td>\n",
       "      <td>2021-02-28 12:49:00</td>\n",
       "    </tr>\n",
       "  </tbody>\n",
       "</table>\n",
       "</div>"
      ],
      "text/plain": [
       "                    title      offer_timestamp\n",
       "6      Renault Kadjar 1.3  2021-02-28 12:56:00\n",
       "7        Dacia Dokker Van  2021-02-28 12:57:00\n",
       "8       Opel Insignia 2.0  2021-02-28 12:53:00\n",
       "9   Volkswagen Tiguan 2.0  2021-02-28 12:57:00\n",
       "10      Opel Insignia 2.0  2021-02-28 12:56:00\n",
       "11        Peugeot 407 2.0  2021-02-28 12:49:00"
      ]
     },
     "execution_count": 82,
     "metadata": {},
     "output_type": "execute_result"
    }
   ],
   "source": [
    "df[[\"title\", \"offer_timestamp\"]][6:12]"
   ]
  },
  {
   "cell_type": "code",
   "execution_count": 85,
   "id": "6ef09e24-bf54-4788-917f-a071b832eedf",
   "metadata": {},
   "outputs": [
    {
     "data": {
      "text/html": [
       "<div>\n",
       "<style scoped>\n",
       "    .dataframe tbody tr th:only-of-type {\n",
       "        vertical-align: middle;\n",
       "    }\n",
       "\n",
       "    .dataframe tbody tr th {\n",
       "        vertical-align: top;\n",
       "    }\n",
       "\n",
       "    .dataframe thead th {\n",
       "        text-align: right;\n",
       "    }\n",
       "</style>\n",
       "<table border=\"1\" class=\"dataframe\">\n",
       "  <thead>\n",
       "    <tr style=\"text-align: right;\">\n",
       "      <th></th>\n",
       "      <th>currency</th>\n",
       "      <th>brand</th>\n",
       "      <th>body</th>\n",
       "      <th>fuel</th>\n",
       "      <th>drive</th>\n",
       "      <th>gearbox_is_manual</th>\n",
       "      <th>orig_country</th>\n",
       "      <th>color</th>\n",
       "      <th>title</th>\n",
       "      <th>offer_timestamp</th>\n",
       "    </tr>\n",
       "  </thead>\n",
       "  <tbody>\n",
       "    <tr>\n",
       "      <th>0</th>\n",
       "      <td>PLN</td>\n",
       "      <td>Škoda</td>\n",
       "      <td>Sedan</td>\n",
       "      <td>Diesel</td>\n",
       "      <td>Przód</td>\n",
       "      <td>True</td>\n",
       "      <td>Polska</td>\n",
       "      <td>Srebrny</td>\n",
       "      <td>Škoda RAPID</td>\n",
       "      <td>2021-02-28 12:53:00</td>\n",
       "    </tr>\n",
       "    <tr>\n",
       "      <th>1</th>\n",
       "      <td>PLN</td>\n",
       "      <td>BMW</td>\n",
       "      <td>Kompakt</td>\n",
       "      <td>Diesel</td>\n",
       "      <td>Tył</td>\n",
       "      <td>True</td>\n",
       "      <td>NaN</td>\n",
       "      <td>Biały</td>\n",
       "      <td>BMW Seria 1 116d</td>\n",
       "      <td>2021-02-28 12:52:00</td>\n",
       "    </tr>\n",
       "    <tr>\n",
       "      <th>2</th>\n",
       "      <td>PLN</td>\n",
       "      <td>Fiat</td>\n",
       "      <td>Auta małe</td>\n",
       "      <td>Benzyna</td>\n",
       "      <td>Przód</td>\n",
       "      <td>True</td>\n",
       "      <td>Polska</td>\n",
       "      <td>Szary</td>\n",
       "      <td>Fiat Panda 1.2</td>\n",
       "      <td>2021-02-28 12:50:00</td>\n",
       "    </tr>\n",
       "    <tr>\n",
       "      <th>3</th>\n",
       "      <td>PLN</td>\n",
       "      <td>Kia</td>\n",
       "      <td>SUV</td>\n",
       "      <td>Diesel</td>\n",
       "      <td>Przód</td>\n",
       "      <td>True</td>\n",
       "      <td>Niemcy</td>\n",
       "      <td>Szary</td>\n",
       "      <td>Kia Sportage 1.7</td>\n",
       "      <td>2021-02-28 12:57:00</td>\n",
       "    </tr>\n",
       "    <tr>\n",
       "      <th>4</th>\n",
       "      <td>PLN</td>\n",
       "      <td>Kia</td>\n",
       "      <td>SUV</td>\n",
       "      <td>Diesel</td>\n",
       "      <td>Przód</td>\n",
       "      <td>True</td>\n",
       "      <td>NaN</td>\n",
       "      <td>Biały</td>\n",
       "      <td>Kia Sportage</td>\n",
       "      <td>2021-02-28 12:50:00</td>\n",
       "    </tr>\n",
       "    <tr>\n",
       "      <th>...</th>\n",
       "      <td>...</td>\n",
       "      <td>...</td>\n",
       "      <td>...</td>\n",
       "      <td>...</td>\n",
       "      <td>...</td>\n",
       "      <td>...</td>\n",
       "      <td>...</td>\n",
       "      <td>...</td>\n",
       "      <td>...</td>\n",
       "      <td>...</td>\n",
       "    </tr>\n",
       "    <tr>\n",
       "      <th>99995</th>\n",
       "      <td>PLN</td>\n",
       "      <td>Ford</td>\n",
       "      <td>Kombi</td>\n",
       "      <td>Diesel</td>\n",
       "      <td>Przód</td>\n",
       "      <td>True</td>\n",
       "      <td>NaN</td>\n",
       "      <td>Srebrny</td>\n",
       "      <td>Ford Focus</td>\n",
       "      <td>2021-04-21 14:58:00</td>\n",
       "    </tr>\n",
       "    <tr>\n",
       "      <th>99996</th>\n",
       "      <td>PLN</td>\n",
       "      <td>Audi</td>\n",
       "      <td>Kombi</td>\n",
       "      <td>Benzyna</td>\n",
       "      <td>Przód</td>\n",
       "      <td>True</td>\n",
       "      <td>Niemcy</td>\n",
       "      <td>Niebieski</td>\n",
       "      <td>Audi A4 Avant</td>\n",
       "      <td>2021-04-21 19:45:00</td>\n",
       "    </tr>\n",
       "    <tr>\n",
       "      <th>99997</th>\n",
       "      <td>PLN</td>\n",
       "      <td>BMW</td>\n",
       "      <td>Sedan</td>\n",
       "      <td>Diesel</td>\n",
       "      <td>Tył</td>\n",
       "      <td>False</td>\n",
       "      <td>NaN</td>\n",
       "      <td>Inny kolor</td>\n",
       "      <td>BMW Seria 7 740d</td>\n",
       "      <td>2021-04-21 15:53:00</td>\n",
       "    </tr>\n",
       "    <tr>\n",
       "      <th>99998</th>\n",
       "      <td>PLN</td>\n",
       "      <td>Peugeot</td>\n",
       "      <td>Auta małe</td>\n",
       "      <td>Benzyna</td>\n",
       "      <td>Przód</td>\n",
       "      <td>True</td>\n",
       "      <td>NaN</td>\n",
       "      <td>Biały</td>\n",
       "      <td>Peugeot 208 PureTech</td>\n",
       "      <td>2021-04-21 13:42:00</td>\n",
       "    </tr>\n",
       "    <tr>\n",
       "      <th>99999</th>\n",
       "      <td>PLN</td>\n",
       "      <td>Volkswagen</td>\n",
       "      <td>Sedan</td>\n",
       "      <td>Benzyna</td>\n",
       "      <td>Przód</td>\n",
       "      <td>True</td>\n",
       "      <td>Szwajcaria</td>\n",
       "      <td>Szary</td>\n",
       "      <td>Volkswagen Touran 1.4</td>\n",
       "      <td>2021-04-21 13:03:00</td>\n",
       "    </tr>\n",
       "  </tbody>\n",
       "</table>\n",
       "<p>100000 rows × 10 columns</p>\n",
       "</div>"
      ],
      "text/plain": [
       "      currency       brand       body     fuel  drive gearbox_is_manual  \\\n",
       "0          PLN       Škoda      Sedan   Diesel  Przód              True   \n",
       "1          PLN         BMW    Kompakt   Diesel    Tył              True   \n",
       "2          PLN        Fiat  Auta małe  Benzyna  Przód              True   \n",
       "3          PLN         Kia        SUV   Diesel  Przód              True   \n",
       "4          PLN         Kia        SUV   Diesel  Przód              True   \n",
       "...        ...         ...        ...      ...    ...               ...   \n",
       "99995      PLN        Ford      Kombi   Diesel  Przód              True   \n",
       "99996      PLN        Audi      Kombi  Benzyna  Przód              True   \n",
       "99997      PLN         BMW      Sedan   Diesel    Tył             False   \n",
       "99998      PLN     Peugeot  Auta małe  Benzyna  Przód              True   \n",
       "99999      PLN  Volkswagen      Sedan  Benzyna  Przód              True   \n",
       "\n",
       "      orig_country       color                  title      offer_timestamp  \n",
       "0           Polska     Srebrny            Škoda RAPID  2021-02-28 12:53:00  \n",
       "1              NaN       Biały       BMW Seria 1 116d  2021-02-28 12:52:00  \n",
       "2           Polska       Szary         Fiat Panda 1.2  2021-02-28 12:50:00  \n",
       "3           Niemcy       Szary       Kia Sportage 1.7  2021-02-28 12:57:00  \n",
       "4              NaN       Biały           Kia Sportage  2021-02-28 12:50:00  \n",
       "...            ...         ...                    ...                  ...  \n",
       "99995          NaN     Srebrny             Ford Focus  2021-04-21 14:58:00  \n",
       "99996       Niemcy   Niebieski          Audi A4 Avant  2021-04-21 19:45:00  \n",
       "99997          NaN  Inny kolor       BMW Seria 7 740d  2021-04-21 15:53:00  \n",
       "99998          NaN       Biały   Peugeot 208 PureTech  2021-04-21 13:42:00  \n",
       "99999   Szwajcaria       Szary  Volkswagen Touran 1.4  2021-04-21 13:03:00  \n",
       "\n",
       "[100000 rows x 10 columns]"
      ]
     },
     "execution_count": 85,
     "metadata": {},
     "output_type": "execute_result"
    }
   ],
   "source": [
    "df.select_dtypes(object)"
   ]
  },
  {
   "cell_type": "code",
   "execution_count": null,
   "id": "f8ecbbd1-99b5-4325-98ae-29878aeab478",
   "metadata": {},
   "outputs": [],
   "source": []
  }
 ],
 "metadata": {
  "kernelspec": {
   "display_name": "Python 3 (ipykernel)",
   "language": "python",
   "name": "python3"
  },
  "language_info": {
   "codemirror_mode": {
    "name": "ipython",
    "version": 3
   },
   "file_extension": ".py",
   "mimetype": "text/x-python",
   "name": "python",
   "nbconvert_exporter": "python",
   "pygments_lexer": "ipython3",
   "version": "3.8.2"
  }
 },
 "nbformat": 4,
 "nbformat_minor": 5
}
