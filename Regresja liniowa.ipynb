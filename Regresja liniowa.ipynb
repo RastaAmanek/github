{
 "cells": [
  {
   "cell_type": "code",
   "execution_count": 1,
   "id": "76e314ac-ac53-42be-b09b-a71c5d28326f",
   "metadata": {},
   "outputs": [],
   "source": [
    "import statsmodels.api as sm\n",
    "import numpy as np\n",
    "import pandas as pd\n",
    "import seaborn as sns\n",
    "import matplotlib.pyplot as plt"
   ]
  },
  {
   "cell_type": "code",
   "execution_count": 2,
   "id": "75d66223-9801-4022-810b-4ad52a2964b0",
   "metadata": {},
   "outputs": [],
   "source": [
    "# pip install sklearn"
   ]
  },
  {
   "cell_type": "code",
   "execution_count": 3,
   "id": "fabecd30-0e8f-4398-80b6-a7e7011f22a1",
   "metadata": {},
   "outputs": [],
   "source": [
    "from sklearn.linear_model import LinearRegression\n",
    "from sklearn.preprocessing import PowerTransformer\n",
    "from sklearn.preprocessing import OneHotEncoder\n",
    "from sklearn.pipeline import make_pipeline\n",
    "from sklearn.pipeline import Pipeline\n"
   ]
  },
  {
   "cell_type": "code",
   "execution_count": 4,
   "id": "8d9cfeb0-7a1b-48bc-9251-337628f50922",
   "metadata": {},
   "outputs": [],
   "source": [
    "cancer = sm.datasets.cancer.load_pandas()"
   ]
  },
  {
   "cell_type": "code",
   "execution_count": 7,
   "id": "46713824-a80f-4d52-8b31-ce5d1850b464",
   "metadata": {},
   "outputs": [
    {
     "data": {
      "text/html": [
       "<div>\n",
       "<style scoped>\n",
       "    .dataframe tbody tr th:only-of-type {\n",
       "        vertical-align: middle;\n",
       "    }\n",
       "\n",
       "    .dataframe tbody tr th {\n",
       "        vertical-align: top;\n",
       "    }\n",
       "\n",
       "    .dataframe thead th {\n",
       "        text-align: right;\n",
       "    }\n",
       "</style>\n",
       "<table border=\"1\" class=\"dataframe\">\n",
       "  <thead>\n",
       "    <tr style=\"text-align: right;\">\n",
       "      <th></th>\n",
       "      <th>cancer</th>\n",
       "      <th>population</th>\n",
       "    </tr>\n",
       "  </thead>\n",
       "  <tbody>\n",
       "    <tr>\n",
       "      <th>0</th>\n",
       "      <td>1.0</td>\n",
       "      <td>445.0</td>\n",
       "    </tr>\n",
       "    <tr>\n",
       "      <th>1</th>\n",
       "      <td>0.0</td>\n",
       "      <td>559.0</td>\n",
       "    </tr>\n",
       "    <tr>\n",
       "      <th>2</th>\n",
       "      <td>3.0</td>\n",
       "      <td>677.0</td>\n",
       "    </tr>\n",
       "    <tr>\n",
       "      <th>3</th>\n",
       "      <td>4.0</td>\n",
       "      <td>681.0</td>\n",
       "    </tr>\n",
       "    <tr>\n",
       "      <th>4</th>\n",
       "      <td>3.0</td>\n",
       "      <td>746.0</td>\n",
       "    </tr>\n",
       "    <tr>\n",
       "      <th>...</th>\n",
       "      <td>...</td>\n",
       "      <td>...</td>\n",
       "    </tr>\n",
       "    <tr>\n",
       "      <th>296</th>\n",
       "      <td>250.0</td>\n",
       "      <td>62931.0</td>\n",
       "    </tr>\n",
       "    <tr>\n",
       "      <th>297</th>\n",
       "      <td>267.0</td>\n",
       "      <td>63476.0</td>\n",
       "    </tr>\n",
       "    <tr>\n",
       "      <th>298</th>\n",
       "      <td>244.0</td>\n",
       "      <td>66676.0</td>\n",
       "    </tr>\n",
       "    <tr>\n",
       "      <th>299</th>\n",
       "      <td>248.0</td>\n",
       "      <td>74005.0</td>\n",
       "    </tr>\n",
       "    <tr>\n",
       "      <th>300</th>\n",
       "      <td>360.0</td>\n",
       "      <td>88456.0</td>\n",
       "    </tr>\n",
       "  </tbody>\n",
       "</table>\n",
       "<p>301 rows × 2 columns</p>\n",
       "</div>"
      ],
      "text/plain": [
       "     cancer  population\n",
       "0       1.0       445.0\n",
       "1       0.0       559.0\n",
       "2       3.0       677.0\n",
       "3       4.0       681.0\n",
       "4       3.0       746.0\n",
       "..      ...         ...\n",
       "296   250.0     62931.0\n",
       "297   267.0     63476.0\n",
       "298   244.0     66676.0\n",
       "299   248.0     74005.0\n",
       "300   360.0     88456.0\n",
       "\n",
       "[301 rows x 2 columns]"
      ]
     },
     "execution_count": 7,
     "metadata": {},
     "output_type": "execute_result"
    }
   ],
   "source": [
    "cancer.data"
   ]
  },
  {
   "cell_type": "code",
   "execution_count": 8,
   "id": "a1b2e49d-aee4-4ea5-be7c-ddf5d610083a",
   "metadata": {},
   "outputs": [
    {
     "name": "stdout",
     "output_type": "stream",
     "text": [
      "Breast Cancer and county population\n",
      "The number of breast cancer observances in various counties\n",
      "::\n",
      "\n",
      "    Number of observations: 301\n",
      "    Number of variables: 2\n",
      "    Variable name definitions:\n",
      "\n",
      "        cancer - The number of breast cancer observances\n",
      "        population - The population of the county\n",
      "\n",
      "\n"
     ]
    }
   ],
   "source": [
    "print(sm.datasets.cancer.DESCRSHORT)\n",
    "print(sm.datasets.cancer.DESCRLONG)\n",
    "print(sm.datasets.cancer.NOTE)"
   ]
  },
  {
   "cell_type": "code",
   "execution_count": 9,
   "id": "9d3a7fcb-dea4-4331-96a9-4e710f1f432b",
   "metadata": {},
   "outputs": [
    {
     "data": {
      "text/html": [
       "<div>\n",
       "<style scoped>\n",
       "    .dataframe tbody tr th:only-of-type {\n",
       "        vertical-align: middle;\n",
       "    }\n",
       "\n",
       "    .dataframe tbody tr th {\n",
       "        vertical-align: top;\n",
       "    }\n",
       "\n",
       "    .dataframe thead th {\n",
       "        text-align: right;\n",
       "    }\n",
       "</style>\n",
       "<table border=\"1\" class=\"dataframe\">\n",
       "  <thead>\n",
       "    <tr style=\"text-align: right;\">\n",
       "      <th></th>\n",
       "      <th>cancer</th>\n",
       "      <th>population</th>\n",
       "    </tr>\n",
       "  </thead>\n",
       "  <tbody>\n",
       "    <tr>\n",
       "      <th>0</th>\n",
       "      <td>1.0</td>\n",
       "      <td>445.0</td>\n",
       "    </tr>\n",
       "    <tr>\n",
       "      <th>1</th>\n",
       "      <td>0.0</td>\n",
       "      <td>559.0</td>\n",
       "    </tr>\n",
       "    <tr>\n",
       "      <th>2</th>\n",
       "      <td>3.0</td>\n",
       "      <td>677.0</td>\n",
       "    </tr>\n",
       "    <tr>\n",
       "      <th>3</th>\n",
       "      <td>4.0</td>\n",
       "      <td>681.0</td>\n",
       "    </tr>\n",
       "    <tr>\n",
       "      <th>4</th>\n",
       "      <td>3.0</td>\n",
       "      <td>746.0</td>\n",
       "    </tr>\n",
       "  </tbody>\n",
       "</table>\n",
       "</div>"
      ],
      "text/plain": [
       "   cancer  population\n",
       "0     1.0       445.0\n",
       "1     0.0       559.0\n",
       "2     3.0       677.0\n",
       "3     4.0       681.0\n",
       "4     3.0       746.0"
      ]
     },
     "execution_count": 9,
     "metadata": {},
     "output_type": "execute_result"
    }
   ],
   "source": [
    "cancer.data.head()"
   ]
  },
  {
   "cell_type": "code",
   "execution_count": 10,
   "id": "2528c230-3af4-4bdf-9681-9eb71a39e093",
   "metadata": {},
   "outputs": [],
   "source": [
    "carseats = sm.datasets.get_rdataset(dataname=\"Carseats\", package=\"ISLR\", cache=True)"
   ]
  },
  {
   "cell_type": "code",
   "execution_count": 16,
   "id": "e532dcce-0895-424e-aae0-ef3c3ce0ab9f",
   "metadata": {},
   "outputs": [
    {
     "data": {
      "text/plain": [
       "'.. container::\\n\\n   .. container::\\n\\n      ======== ===============\\n      Carseats R Documentation\\n      ======== ===============\\n\\n      .. rubric:: Sales of Child Car Seats\\n         :name: sales-of-child-car-seats\\n\\n      .. rubric:: Description\\n         :name: description\\n\\n      A simulated data set containing sales of child car seats at 400\\n      different stores.\\n\\n      .. rubric:: Usage\\n         :name: usage\\n\\n      .. code:: R\\n\\n         Carseats\\n\\n      .. rubric:: Format\\n         :name: format\\n\\n      A data frame with 400 observations on the following 11 variables.\\n\\n      ``Sales``\\n         Unit sales (in thousands) at each location\\n\\n      ``CompPrice``\\n         Price charged by competitor at each location\\n\\n      ``Income``\\n         Community income level (in thousands of dollars)\\n\\n      ``Advertising``\\n         Local advertising budget for company at each location (in\\n         thousands of dollars)\\n\\n      ``Population``\\n         Population size in region (in thousands)\\n\\n      ``Price``\\n         Price company charges for car seats at each site\\n\\n      ``ShelveLoc``\\n         A factor with levels ``Bad``, ``Good`` and ``Medium``\\n         indicating the quality of the shelving location for the car\\n         seats at each site\\n\\n      ``Age``\\n         Average age of the local population\\n\\n      ``Education``\\n         Education level at each location\\n\\n      ``Urban``\\n         A factor with levels ``No`` and ``Yes`` to indicate whether the\\n         store is in an urban or rural location\\n\\n      ``US``\\n         A factor with levels ``No`` and ``Yes`` to indicate whether the\\n         store is in the US or not\\n\\n      .. rubric:: Source\\n         :name: source\\n\\n      Simulated data\\n\\n      .. rubric:: References\\n         :name: references\\n\\n      James, G., Witten, D., Hastie, T., and Tibshirani, R. (2013) *An\\n      Introduction to Statistical Learning with applications in R*,\\n      https://www.statlearning.com, Springer-Verlag, New York\\n\\n      .. rubric:: Examples\\n         :name: examples\\n\\n      .. code:: R\\n\\n         summary(Carseats)\\n         lm.fit=lm(Sales~Advertising+Price,data=Carseats)\\n'"
      ]
     },
     "execution_count": 16,
     "metadata": {},
     "output_type": "execute_result"
    }
   ],
   "source": [
    "carseats.__doc__"
   ]
  },
  {
   "cell_type": "code",
   "execution_count": 17,
   "id": "6d5bdac5-6d25-470d-b9aa-58730512560f",
   "metadata": {},
   "outputs": [],
   "source": [
    "carseats_df = carseats.data"
   ]
  },
  {
   "cell_type": "code",
   "execution_count": 18,
   "id": "a71f0e7e-0c8b-4a5e-84b8-c3ce9accae72",
   "metadata": {},
   "outputs": [
    {
     "data": {
      "text/html": [
       "<div>\n",
       "<style scoped>\n",
       "    .dataframe tbody tr th:only-of-type {\n",
       "        vertical-align: middle;\n",
       "    }\n",
       "\n",
       "    .dataframe tbody tr th {\n",
       "        vertical-align: top;\n",
       "    }\n",
       "\n",
       "    .dataframe thead th {\n",
       "        text-align: right;\n",
       "    }\n",
       "</style>\n",
       "<table border=\"1\" class=\"dataframe\">\n",
       "  <thead>\n",
       "    <tr style=\"text-align: right;\">\n",
       "      <th></th>\n",
       "      <th>Sales</th>\n",
       "      <th>CompPrice</th>\n",
       "      <th>Income</th>\n",
       "      <th>Advertising</th>\n",
       "      <th>Population</th>\n",
       "      <th>Price</th>\n",
       "      <th>ShelveLoc</th>\n",
       "      <th>Age</th>\n",
       "      <th>Education</th>\n",
       "      <th>Urban</th>\n",
       "      <th>US</th>\n",
       "    </tr>\n",
       "  </thead>\n",
       "  <tbody>\n",
       "    <tr>\n",
       "      <th>0</th>\n",
       "      <td>9.50</td>\n",
       "      <td>138</td>\n",
       "      <td>73</td>\n",
       "      <td>11</td>\n",
       "      <td>276</td>\n",
       "      <td>120</td>\n",
       "      <td>Bad</td>\n",
       "      <td>42</td>\n",
       "      <td>17</td>\n",
       "      <td>Yes</td>\n",
       "      <td>Yes</td>\n",
       "    </tr>\n",
       "    <tr>\n",
       "      <th>1</th>\n",
       "      <td>11.22</td>\n",
       "      <td>111</td>\n",
       "      <td>48</td>\n",
       "      <td>16</td>\n",
       "      <td>260</td>\n",
       "      <td>83</td>\n",
       "      <td>Good</td>\n",
       "      <td>65</td>\n",
       "      <td>10</td>\n",
       "      <td>Yes</td>\n",
       "      <td>Yes</td>\n",
       "    </tr>\n",
       "    <tr>\n",
       "      <th>2</th>\n",
       "      <td>10.06</td>\n",
       "      <td>113</td>\n",
       "      <td>35</td>\n",
       "      <td>10</td>\n",
       "      <td>269</td>\n",
       "      <td>80</td>\n",
       "      <td>Medium</td>\n",
       "      <td>59</td>\n",
       "      <td>12</td>\n",
       "      <td>Yes</td>\n",
       "      <td>Yes</td>\n",
       "    </tr>\n",
       "    <tr>\n",
       "      <th>3</th>\n",
       "      <td>7.40</td>\n",
       "      <td>117</td>\n",
       "      <td>100</td>\n",
       "      <td>4</td>\n",
       "      <td>466</td>\n",
       "      <td>97</td>\n",
       "      <td>Medium</td>\n",
       "      <td>55</td>\n",
       "      <td>14</td>\n",
       "      <td>Yes</td>\n",
       "      <td>Yes</td>\n",
       "    </tr>\n",
       "    <tr>\n",
       "      <th>4</th>\n",
       "      <td>4.15</td>\n",
       "      <td>141</td>\n",
       "      <td>64</td>\n",
       "      <td>3</td>\n",
       "      <td>340</td>\n",
       "      <td>128</td>\n",
       "      <td>Bad</td>\n",
       "      <td>38</td>\n",
       "      <td>13</td>\n",
       "      <td>Yes</td>\n",
       "      <td>No</td>\n",
       "    </tr>\n",
       "  </tbody>\n",
       "</table>\n",
       "</div>"
      ],
      "text/plain": [
       "   Sales  CompPrice  Income  Advertising  Population  Price ShelveLoc  Age  \\\n",
       "0   9.50        138      73           11         276    120       Bad   42   \n",
       "1  11.22        111      48           16         260     83      Good   65   \n",
       "2  10.06        113      35           10         269     80    Medium   59   \n",
       "3   7.40        117     100            4         466     97    Medium   55   \n",
       "4   4.15        141      64            3         340    128       Bad   38   \n",
       "\n",
       "   Education Urban   US  \n",
       "0         17   Yes  Yes  \n",
       "1         10   Yes  Yes  \n",
       "2         12   Yes  Yes  \n",
       "3         14   Yes  Yes  \n",
       "4         13   Yes   No  "
      ]
     },
     "execution_count": 18,
     "metadata": {},
     "output_type": "execute_result"
    }
   ],
   "source": [
    "carseats_df.head()"
   ]
  },
  {
   "cell_type": "code",
   "execution_count": 19,
   "id": "e90c74e0-f569-40ce-9727-c1cf66c91bf9",
   "metadata": {},
   "outputs": [],
   "source": [
    "X, y = carseats_df.iloc[:, carseats_df.columns !='Sales'], carseats_df['Sales']"
   ]
  },
  {
   "cell_type": "code",
   "execution_count": 20,
   "id": "36a91751-3c70-41a9-a3a5-f8b7aa01de82",
   "metadata": {},
   "outputs": [
    {
     "data": {
      "text/plain": [
       "<matplotlib.collections.PathCollection at 0x1ba9a751580>"
      ]
     },
     "execution_count": 20,
     "metadata": {},
     "output_type": "execute_result"
    },
    {
     "data": {
      "image/png": "[encoded data removed]",
      "text/plain": [
       "<Figure size 640x480 with 1 Axes>"
      ]
     },
     "metadata": {},
     "output_type": "display_data"
    }
   ],
   "source": [
    "x = X['Price']\n",
    "plt.scatter(x, y)"
   ]
  },
  {
   "cell_type": "code",
   "execution_count": 21,
   "id": "03b826f5-11e5-4cf0-916e-336454a2eef5",
   "metadata": {},
   "outputs": [
    {
     "data": {
      "text/plain": [
       "-0.44495072784657264"
      ]
     },
     "execution_count": 21,
     "metadata": {},
     "output_type": "execute_result"
    }
   ],
   "source": [
    "np.corrcoef(x, y)[0, 1]"
   ]
  },
  {
   "cell_type": "code",
   "execution_count": 43,
   "id": "4ae81c15-2a06-4e9f-8783-2b1e95c4808d",
   "metadata": {},
   "outputs": [],
   "source": [
    "x1 = np.array(x).reshape(-1, 1)\n",
    "# x1"
   ]
  },
  {
   "cell_type": "code",
   "execution_count": 25,
   "id": "f07d1f86-5d23-4983-9d78-191cc987dbfd",
   "metadata": {},
   "outputs": [],
   "source": [
    "lm1 = LinearRegression()"
   ]
  },
  {
   "cell_type": "code",
   "execution_count": 26,
   "id": "68076de8-f800-4541-b3bd-aea1f2b39064",
   "metadata": {},
   "outputs": [
    {
     "data": {
      "text/html": [
       "<style>#sk-container-id-1 {color: black;}#sk-container-id-1 pre{padding: 0;}#sk-container-id-1 div.sk-toggleable {background-color: white;}#sk-container-id-1 label.sk-toggleable__label {cursor: pointer;display: block;width: 100%;margin-bottom: 0;padding: 0.3em;box-sizing: border-box;text-align: center;}#sk-container-id-1 label.sk-toggleable__label-arrow:before {content: \"▸\";float: left;margin-right: 0.25em;color: #696969;}#sk-container-id-1 label.sk-toggleable__label-arrow:hover:before {color: black;}#sk-container-id-1 div.sk-estimator:hover label.sk-toggleable__label-arrow:before {color: black;}#sk-container-id-1 div.sk-toggleable__content {max-height: 0;max-width: 0;overflow: hidden;text-align: left;background-color: #f0f8ff;}#sk-container-id-1 div.sk-toggleable__content pre {margin: 0.2em;color: black;border-radius: 0.25em;background-color: #f0f8ff;}#sk-container-id-1 input.sk-toggleable__control:checked~div.sk-toggleable__content {max-height: 200px;max-width: 100%;overflow: auto;}#sk-container-id-1 input.sk-toggleable__control:checked~label.sk-toggleable__label-arrow:before {content: \"▾\";}#sk-container-id-1 div.sk-estimator input.sk-toggleable__control:checked~label.sk-toggleable__label {background-color: #d4ebff;}#sk-container-id-1 div.sk-label input.sk-toggleable__control:checked~label.sk-toggleable__label {background-color: #d4ebff;}#sk-container-id-1 input.sk-hidden--visually {border: 0;clip: rect(1px 1px 1px 1px);clip: rect(1px, 1px, 1px, 1px);height: 1px;margin: -1px;overflow: hidden;padding: 0;position: absolute;width: 1px;}#sk-container-id-1 div.sk-estimator {font-family: monospace;background-color: #f0f8ff;border: 1px dotted black;border-radius: 0.25em;box-sizing: border-box;margin-bottom: 0.5em;}#sk-container-id-1 div.sk-estimator:hover {background-color: #d4ebff;}#sk-container-id-1 div.sk-parallel-item::after {content: \"\";width: 100%;border-bottom: 1px solid gray;flex-grow: 1;}#sk-container-id-1 div.sk-label:hover label.sk-toggleable__label {background-color: #d4ebff;}#sk-container-id-1 div.sk-serial::before {content: \"\";position: absolute;border-left: 1px solid gray;box-sizing: border-box;top: 0;bottom: 0;left: 50%;z-index: 0;}#sk-container-id-1 div.sk-serial {display: flex;flex-direction: column;align-items: center;background-color: white;padding-right: 0.2em;padding-left: 0.2em;position: relative;}#sk-container-id-1 div.sk-item {position: relative;z-index: 1;}#sk-container-id-1 div.sk-parallel {display: flex;align-items: stretch;justify-content: center;background-color: white;position: relative;}#sk-container-id-1 div.sk-item::before, #sk-container-id-1 div.sk-parallel-item::before {content: \"\";position: absolute;border-left: 1px solid gray;box-sizing: border-box;top: 0;bottom: 0;left: 50%;z-index: -1;}#sk-container-id-1 div.sk-parallel-item {display: flex;flex-direction: column;z-index: 1;position: relative;background-color: white;}#sk-container-id-1 div.sk-parallel-item:first-child::after {align-self: flex-end;width: 50%;}#sk-container-id-1 div.sk-parallel-item:last-child::after {align-self: flex-start;width: 50%;}#sk-container-id-1 div.sk-parallel-item:only-child::after {width: 0;}#sk-container-id-1 div.sk-dashed-wrapped {border: 1px dashed gray;margin: 0 0.4em 0.5em 0.4em;box-sizing: border-box;padding-bottom: 0.4em;background-color: white;}#sk-container-id-1 div.sk-label label {font-family: monospace;font-weight: bold;display: inline-block;line-height: 1.2em;}#sk-container-id-1 div.sk-label-container {text-align: center;}#sk-container-id-1 div.sk-container {/* jupyter's `normalize.less` sets `[hidden] { display: none; }` but bootstrap.min.css set `[hidden] { display: none !important; }` so we also need the `!important` here to be able to override the default hidden behavior on the sphinx rendered scikit-learn.org. See: https://github.com/scikit-learn/scikit-learn/issues/21755 */display: inline-block !important;position: relative;}#sk-container-id-1 div.sk-text-repr-fallback {display: none;}</style><div id=\"sk-container-id-1\" class=\"sk-top-container\"><div class=\"sk-text-repr-fallback\"><pre>LinearRegression()</pre><b>In a Jupyter environment, please rerun this cell to show the HTML representation or trust the notebook. <br />On GitHub, the HTML representation is unable to render, please try loading this page with nbviewer.org.</b></div><div class=\"sk-container\" hidden><div class=\"sk-item\"><div class=\"sk-estimator sk-toggleable\"><input class=\"sk-toggleable__control sk-hidden--visually\" id=\"sk-estimator-id-1\" type=\"checkbox\" checked><label for=\"sk-estimator-id-1\" class=\"sk-toggleable__label sk-toggleable__label-arrow\">LinearRegression</label><div class=\"sk-toggleable__content\"><pre>LinearRegression()</pre></div></div></div></div></div>"
      ],
      "text/plain": [
       "LinearRegression()"
      ]
     },
     "execution_count": 26,
     "metadata": {},
     "output_type": "execute_result"
    }
   ],
   "source": [
    "lm1.fit(X=x1, y=y)"
   ]
  },
  {
   "cell_type": "code",
   "execution_count": 28,
   "id": "c167f2d3-7cc8-4f29-b1b6-8c917b1303b1",
   "metadata": {},
   "outputs": [
    {
     "data": {
      "text/plain": [
       "array([-0.05307302])"
      ]
     },
     "execution_count": 28,
     "metadata": {},
     "output_type": "execute_result"
    }
   ],
   "source": [
    "lm1.coef_"
   ]
  },
  {
   "cell_type": "code",
   "execution_count": 29,
   "id": "dc276254-454b-4747-a418-2915554253eb",
   "metadata": {},
   "outputs": [
    {
     "data": {
      "text/plain": [
       "13.641915176780909"
      ]
     },
     "execution_count": 29,
     "metadata": {},
     "output_type": "execute_result"
    }
   ],
   "source": [
    "lm1.intercept_"
   ]
  },
  {
   "cell_type": "code",
   "execution_count": 33,
   "id": "9f83e58c-aa64-4dd6-9425-1102b6f96d38",
   "metadata": {},
   "outputs": [
    {
     "data": {
      "text/plain": [
       "array([ 7.27315296,  9.23685464,  9.3960737 ,  8.49383238,  6.84856881,\n",
       "        9.82065785,  7.91002918,  7.27315296,  7.06086088,  7.06086088,\n",
       "        8.33461333,  8.65305144,  6.42398466,  9.07763559,  7.37929899,\n",
       "        5.99940051,  7.80388314,  6.68934975, 10.03294992,  7.22007994,\n",
       "        6.68934975,  7.85695616,  6.31783862,  7.85695616,  7.64466409,\n",
       "        9.28992766,  6.68934975,  7.9631022 ,  8.49383238,  8.22846729,\n",
       "        8.91841653,  6.68934975,  6.37091164,  6.84856881,  6.84856881,\n",
       "        8.5469054 ,  8.33461333,  7.80388314,  8.22846729,  6.31783862,\n",
       "        6.95471485,  7.06086088, 12.36816273,  6.5301307 ,  8.59997842,\n",
       "        6.47705768,  9.92680388,  7.91002918,  8.44075936,  5.73403542,\n",
       "        7.91002918,  7.91002918,  6.79549579,  7.32622598,  5.99940051,\n",
       "        5.46867033,  9.18378162,  7.43237201,  8.17539427,  7.59159107,\n",
       "        7.1139339 ,  7.9631022 ,  6.58320372,  8.28154031,  8.12232125,\n",
       "        6.84856881,  8.81227049,  7.53851805,  6.5301307 ,  8.38768635,\n",
       "        8.38768635,  5.6809624 ,  7.48544503,  8.12232125,  6.42398466,\n",
       "        8.75919748,  9.92680388,  8.91841653,  5.94632749,  8.86534351,\n",
       "        9.44914672,  6.84856881,  6.26476561,  8.65305144,  7.22007994,\n",
       "        7.69773711,  6.5301307 ,  6.95471485,  7.75081012,  7.32622598,\n",
       "        8.17539427,  7.9631022 ,  7.00778786,  8.12232125,  9.18378162,\n",
       "        5.78710844,  6.63627674,  6.79549579,  6.90164183,  7.9631022 ,\n",
       "        8.01617522,  7.37929899,  8.49383238,  8.5469054 ,  6.31783862,\n",
       "        8.49383238,  6.26476561,  7.91002918,  8.17539427,  8.86534351,\n",
       "        7.48544503,  5.62788938,  7.00778786,  6.90164183,  8.01617522,\n",
       "        6.79549579,  6.84856881,  7.32622598,  8.38768635,  6.84856881,\n",
       "        6.68934975,  9.02456257,  7.91002918,  5.41559731,  7.27315296,\n",
       "       11.04133727,  6.58320372,  7.48544503,  6.95471485,  5.84018146,\n",
       "        9.55529275,  8.65305144,  6.42398466,  8.49383238,  6.68934975,\n",
       "        7.27315296,  7.27315296,  7.37929899,  7.85695616,  8.65305144,\n",
       "        6.79549579,  6.68934975,  8.12232125,  5.20330524,  7.1139339 ,\n",
       "        7.43237201,  6.68934975,  7.32622598,  8.49383238,  9.02456257,\n",
       "        7.59159107,  8.17539427,  6.84856881,  5.6809624 ,  7.80388314,\n",
       "        9.9798769 ,  5.30945127,  8.86534351,  7.69773711,  9.92680388,\n",
       "        7.75081012,  5.15023222,  5.73403542,  8.01617522,  6.15861957,\n",
       "        3.50496864,  6.37091164,  8.70612446,  7.43237201,  9.55529275,\n",
       "        7.37929899, 10.72289916,  7.80388314,  6.84856881,  3.82340675,\n",
       "        7.16700692,  5.46867033,  8.65305144,  9.34300068,  7.48544503,\n",
       "        5.73403542,  8.81227049,  6.21169259,  8.22846729,  8.49383238,\n",
       "        7.9631022 ,  9.07763559,  8.5469054 ,  8.86534351,  8.12232125,\n",
       "        8.28154031,  4.46028298,  8.70612446,  8.5469054 ,  6.84856881,\n",
       "        7.69773711,  6.58320372,  6.31783862,  6.84856881,  6.95471485,\n",
       "        5.89325448,  6.5301307 ,  6.74242277,  5.30945127,  7.06086088,\n",
       "        6.63627674,  5.15023222,  8.49383238, 10.24524199,  8.86534351,\n",
       "        7.1139339 ,  7.27315296,  8.06924823,  6.26476561,  7.9631022 ,\n",
       "        5.99940051,  5.99940051,  7.75081012,  7.27315296,  7.48544503,\n",
       "        7.06086088,  7.9631022 ,  5.94632749,  7.00778786,  6.15861957,\n",
       "        9.28992766,  7.16700692,  8.28154031,  4.99101316,  9.82065785,\n",
       "        7.59159107,  7.16700692,  8.06924823,  7.27315296,  6.79549579,\n",
       "        6.63627674,  7.91002918,  6.47705768,  6.58320372,  7.37929899,\n",
       "        7.22007994,  8.65305144,  6.47705768,  7.80388314,  8.33461333,\n",
       "        8.97148955,  8.86534351,  5.62788938,  8.28154031,  7.43237201,\n",
       "        5.36252429,  6.63627674,  7.43237201,  7.16700692,  6.79549579,\n",
       "        9.34300068,  5.99940051,  7.69773711,  9.34300068,  8.33461333,\n",
       "        8.28154031,  7.37929899,  6.63627674,  7.53851805,  5.20330524,\n",
       "        6.79549579,  7.69773711,  7.69773711,  8.06924823,  4.83179411,\n",
       "        8.91841653,  7.80388314, 10.29831501,  9.07763559,  7.32622598,\n",
       "        6.63627674,  6.74242277,  7.00778786,  5.62788938,  5.25637825,\n",
       "        5.94632749,  8.06924823,  5.46867033,  7.43237201,  8.5469054 ,\n",
       "        6.68934975,  7.64466409,  9.82065785,  8.49383238,  5.36252429,\n",
       "        8.17539427,  8.91841653,  9.71451181,  8.91841653,  8.38768635,\n",
       "        6.37091164,  7.1139339 ,  8.12232125,  6.74242277,  8.5469054 ,\n",
       "        8.38768635,  9.02456257,  7.80388314,  8.38768635,  6.5301307 ,\n",
       "        6.63627674,  6.58320372,  7.27315296,  6.95471485,  9.3960737 ,\n",
       "        4.83179411,  6.63627674,  6.47705768, 10.77597218,  6.79549579,\n",
       "        4.56642901,  9.82065785,  6.42398466,  6.74242277,  6.79549579,\n",
       "        5.57481637,  8.44075936,  6.26476561,  8.17539427,  5.6809624 ,\n",
       "        8.12232125,  7.16700692,  8.12232125,  7.75081012,  8.91841653,\n",
       "        7.69773711,  6.5301307 ,  8.12232125,  5.84018146,  9.23685464,\n",
       "        7.80388314,  6.05247353,  8.22846729,  8.28154031,  6.95471485,\n",
       "        8.81227049,  8.70612446,  7.37929899,  7.22007994,  6.95471485,\n",
       "        5.73403542,  7.00778786,  7.69773711,  7.9631022 ,  8.5469054 ,\n",
       "        8.81227049,  8.06924823,  7.16700692,  8.75919748,  5.94632749,\n",
       "        5.89325448,  4.93794014,  9.82065785,  7.37929899,  6.74242277,\n",
       "        7.59159107,  8.12232125,  7.80388314,  7.91002918,  6.68934975,\n",
       "        5.04408618,  6.5301307 , 10.8290452 ,  9.44914672,  7.16700692,\n",
       "        7.32622598,  6.95471485,  8.44075936,  7.48544503,  7.37929899,\n",
       "        7.06086088,  8.75919748,  7.00778786,  7.32622598,  7.9631022 ,\n",
       "        8.91841653,  5.62788938,  7.22007994, 10.03294992,  7.69773711,\n",
       "        6.63627674,  5.15023222,  7.53851805,  9.50221973,  7.9631022 ,\n",
       "        7.75081012,  7.06086088,  6.74242277,  7.27315296,  6.26476561,\n",
       "        6.84856881,  7.27315296,  5.20330524,  8.59997842,  7.27315296])"
      ]
     },
     "execution_count": 33,
     "metadata": {},
     "output_type": "execute_result"
    }
   ],
   "source": [
    "lm1.predict(x1)"
   ]
  },
  {
   "cell_type": "code",
   "execution_count": 35,
   "id": "d498d8ac-b75d-41cc-ac13-ddc71ba479dc",
   "metadata": {},
   "outputs": [
    {
     "data": {
      "image/png": "[encoded data removed]",
      "text/plain": [
       "<Figure size 640x480 with 1 Axes>"
      ]
     },
     "metadata": {},
     "output_type": "display_data"
    }
   ],
   "source": [
    "plt.scatter(x, y)\n",
    "X_plot = np.linspace(0, 200, 200)\n",
    "plt.plot(X_plot, X_plot*lm1.coef_+lm1.intercept_, color='red')\n",
    "plt.show()"
   ]
  },
  {
   "cell_type": "code",
   "execution_count": 37,
   "id": "c97d26d2-a61a-4c7f-ba4d-d0eb89ae39ea",
   "metadata": {},
   "outputs": [
    {
     "data": {
      "text/plain": [
       "[<matplotlib.lines.Line2D at 0x1ba9eac6be0>]"
      ]
     },
     "execution_count": 37,
     "metadata": {},
     "output_type": "execute_result"
    },
    {
     "data": {
      "image/png": "[encoded data removed]",
      "text/plain": [
       "<Figure size 640x480 with 1 Axes>"
      ]
     },
     "metadata": {},
     "output_type": "display_data"
    }
   ],
   "source": [
    "plt.scatter(x, y)\n",
    "plt.plot(x, x*lm1.coef_+lm1.intercept_, color='red')"
   ]
  },
  {
   "cell_type": "code",
   "execution_count": 39,
   "id": "01857975-f2f6-4516-8355-75a6888df1f6",
   "metadata": {},
   "outputs": [
    {
     "data": {
      "text/plain": [
       "[<matplotlib.lines.Line2D at 0x1ba9aa8d850>]"
      ]
     },
     "execution_count": 39,
     "metadata": {},
     "output_type": "execute_result"
    },
    {
     "data": {
      "image/png": "[encoded data removed]",
      "text/plain": [
       "<Figure size 640x480 with 1 Axes>"
      ]
     },
     "metadata": {},
     "output_type": "display_data"
    }
   ],
   "source": [
    "plt.scatter(x, y)\n",
    "plt.plot(x, lm1.predict(x1), color='red')"
   ]
  },
  {
   "cell_type": "code",
   "execution_count": 40,
   "id": "579a7833-4e87-4ea9-ae2c-4063a09b9b37",
   "metadata": {},
   "outputs": [
    {
     "data": {
      "text/plain": [
       "0.1979811502111949"
      ]
     },
     "execution_count": 40,
     "metadata": {},
     "output_type": "execute_result"
    }
   ],
   "source": [
    "lm1.score(x1, y)"
   ]
  },
  {
   "cell_type": "code",
   "execution_count": 41,
   "id": "4b75e338-9441-4b9d-b9b0-3d9412462f95",
   "metadata": {},
   "outputs": [
    {
     "data": {
      "text/plain": [
       "0.19798115021119475"
      ]
     },
     "execution_count": 41,
     "metadata": {},
     "output_type": "execute_result"
    }
   ],
   "source": [
    "np.corrcoef(x, y)[0, 1]**2"
   ]
  },
  {
   "cell_type": "code",
   "execution_count": 42,
   "id": "9ab292b8-d42e-4d52-9814-588c572545a1",
   "metadata": {},
   "outputs": [],
   "source": [
    "x = X['CompPrice']"
   ]
  },
  {
   "cell_type": "code",
   "execution_count": 44,
   "id": "1c62f448-cee0-488d-9dcf-c5f203248154",
   "metadata": {},
   "outputs": [
    {
     "data": {
      "text/plain": [
       "<matplotlib.collections.PathCollection at 0x1ba9eb216a0>"
      ]
     },
     "execution_count": 44,
     "metadata": {},
     "output_type": "execute_result"
    },
    {
     "data": {
      "image/png": "[encoded data removed]",
      "text/plain": [
       "<Figure size 640x480 with 1 Axes>"
      ]
     },
     "metadata": {},
     "output_type": "display_data"
    }
   ],
   "source": [
    "plt.scatter(x, y)"
   ]
  },
  {
   "cell_type": "code",
   "execution_count": 45,
   "id": "fafa5c1b-ab77-4ae7-9f83-7f6263d86510",
   "metadata": {},
   "outputs": [
    {
     "data": {
      "text/plain": [
       "0.06407872955062155"
      ]
     },
     "execution_count": 45,
     "metadata": {},
     "output_type": "execute_result"
    }
   ],
   "source": [
    "np.corrcoef(x, y)[0, 1]"
   ]
  },
  {
   "cell_type": "code",
   "execution_count": 56,
   "id": "cf8368b0-1bf7-4b6b-b95d-efc71217f12f",
   "metadata": {},
   "outputs": [
    {
     "data": {
      "text/plain": [
       "0.0041060835808217"
      ]
     },
     "execution_count": 56,
     "metadata": {},
     "output_type": "execute_result"
    }
   ],
   "source": [
    "np.corrcoef(x, y)[0, 1]**2"
   ]
  },
  {
   "cell_type": "code",
   "execution_count": 46,
   "id": "1ce1dd9f-cb67-45da-a074-4df0a488f6b0",
   "metadata": {},
   "outputs": [],
   "source": [
    "x1 = np.array(x).reshape(-1, 1)\n",
    "# x1"
   ]
  },
  {
   "cell_type": "code",
   "execution_count": 47,
   "id": "7bbb98d6-3413-471b-ac51-3f28471e5d69",
   "metadata": {},
   "outputs": [],
   "source": [
    "lm1 = LinearRegression()"
   ]
  },
  {
   "cell_type": "code",
   "execution_count": 48,
   "id": "74c5cff3-bec7-4672-9e21-56fcc180c20b",
   "metadata": {},
   "outputs": [
    {
     "data": {
      "text/html": [
       "<style>#sk-container-id-2 {color: black;}#sk-container-id-2 pre{padding: 0;}#sk-container-id-2 div.sk-toggleable {background-color: white;}#sk-container-id-2 label.sk-toggleable__label {cursor: pointer;display: block;width: 100%;margin-bottom: 0;padding: 0.3em;box-sizing: border-box;text-align: center;}#sk-container-id-2 label.sk-toggleable__label-arrow:before {content: \"▸\";float: left;margin-right: 0.25em;color: #696969;}#sk-container-id-2 label.sk-toggleable__label-arrow:hover:before {color: black;}#sk-container-id-2 div.sk-estimator:hover label.sk-toggleable__label-arrow:before {color: black;}#sk-container-id-2 div.sk-toggleable__content {max-height: 0;max-width: 0;overflow: hidden;text-align: left;background-color: #f0f8ff;}#sk-container-id-2 div.sk-toggleable__content pre {margin: 0.2em;color: black;border-radius: 0.25em;background-color: #f0f8ff;}#sk-container-id-2 input.sk-toggleable__control:checked~div.sk-toggleable__content {max-height: 200px;max-width: 100%;overflow: auto;}#sk-container-id-2 input.sk-toggleable__control:checked~label.sk-toggleable__label-arrow:before {content: \"▾\";}#sk-container-id-2 div.sk-estimator input.sk-toggleable__control:checked~label.sk-toggleable__label {background-color: #d4ebff;}#sk-container-id-2 div.sk-label input.sk-toggleable__control:checked~label.sk-toggleable__label {background-color: #d4ebff;}#sk-container-id-2 input.sk-hidden--visually {border: 0;clip: rect(1px 1px 1px 1px);clip: rect(1px, 1px, 1px, 1px);height: 1px;margin: -1px;overflow: hidden;padding: 0;position: absolute;width: 1px;}#sk-container-id-2 div.sk-estimator {font-family: monospace;background-color: #f0f8ff;border: 1px dotted black;border-radius: 0.25em;box-sizing: border-box;margin-bottom: 0.5em;}#sk-container-id-2 div.sk-estimator:hover {background-color: #d4ebff;}#sk-container-id-2 div.sk-parallel-item::after {content: \"\";width: 100%;border-bottom: 1px solid gray;flex-grow: 1;}#sk-container-id-2 div.sk-label:hover label.sk-toggleable__label {background-color: #d4ebff;}#sk-container-id-2 div.sk-serial::before {content: \"\";position: absolute;border-left: 1px solid gray;box-sizing: border-box;top: 0;bottom: 0;left: 50%;z-index: 0;}#sk-container-id-2 div.sk-serial {display: flex;flex-direction: column;align-items: center;background-color: white;padding-right: 0.2em;padding-left: 0.2em;position: relative;}#sk-container-id-2 div.sk-item {position: relative;z-index: 1;}#sk-container-id-2 div.sk-parallel {display: flex;align-items: stretch;justify-content: center;background-color: white;position: relative;}#sk-container-id-2 div.sk-item::before, #sk-container-id-2 div.sk-parallel-item::before {content: \"\";position: absolute;border-left: 1px solid gray;box-sizing: border-box;top: 0;bottom: 0;left: 50%;z-index: -1;}#sk-container-id-2 div.sk-parallel-item {display: flex;flex-direction: column;z-index: 1;position: relative;background-color: white;}#sk-container-id-2 div.sk-parallel-item:first-child::after {align-self: flex-end;width: 50%;}#sk-container-id-2 div.sk-parallel-item:last-child::after {align-self: flex-start;width: 50%;}#sk-container-id-2 div.sk-parallel-item:only-child::after {width: 0;}#sk-container-id-2 div.sk-dashed-wrapped {border: 1px dashed gray;margin: 0 0.4em 0.5em 0.4em;box-sizing: border-box;padding-bottom: 0.4em;background-color: white;}#sk-container-id-2 div.sk-label label {font-family: monospace;font-weight: bold;display: inline-block;line-height: 1.2em;}#sk-container-id-2 div.sk-label-container {text-align: center;}#sk-container-id-2 div.sk-container {/* jupyter's `normalize.less` sets `[hidden] { display: none; }` but bootstrap.min.css set `[hidden] { display: none !important; }` so we also need the `!important` here to be able to override the default hidden behavior on the sphinx rendered scikit-learn.org. See: https://github.com/scikit-learn/scikit-learn/issues/21755 */display: inline-block !important;position: relative;}#sk-container-id-2 div.sk-text-repr-fallback {display: none;}</style><div id=\"sk-container-id-2\" class=\"sk-top-container\"><div class=\"sk-text-repr-fallback\"><pre>LinearRegression()</pre><b>In a Jupyter environment, please rerun this cell to show the HTML representation or trust the notebook. <br />On GitHub, the HTML representation is unable to render, please try loading this page with nbviewer.org.</b></div><div class=\"sk-container\" hidden><div class=\"sk-item\"><div class=\"sk-estimator sk-toggleable\"><input class=\"sk-toggleable__control sk-hidden--visually\" id=\"sk-estimator-id-2\" type=\"checkbox\" checked><label for=\"sk-estimator-id-2\" class=\"sk-toggleable__label sk-toggleable__label-arrow\">LinearRegression</label><div class=\"sk-toggleable__content\"><pre>LinearRegression()</pre></div></div></div></div></div>"
      ],
      "text/plain": [
       "LinearRegression()"
      ]
     },
     "execution_count": 48,
     "metadata": {},
     "output_type": "execute_result"
    }
   ],
   "source": [
    "lm1.fit(X=x1, y=y)"
   ]
  },
  {
   "cell_type": "code",
   "execution_count": 49,
   "id": "a0607a21-4338-4b00-948f-5f25130cd23e",
   "metadata": {},
   "outputs": [
    {
     "data": {
      "text/plain": [
       "array([0.0118012])"
      ]
     },
     "execution_count": 49,
     "metadata": {},
     "output_type": "execute_result"
    }
   ],
   "source": [
    "lm1.coef_"
   ]
  },
  {
   "cell_type": "code",
   "execution_count": 50,
   "id": "69769cbc-442d-45ff-a640-354fae060f15",
   "metadata": {},
   "outputs": [
    {
     "data": {
      "text/plain": [
       "6.021469481874259"
      ]
     },
     "execution_count": 50,
     "metadata": {},
     "output_type": "execute_result"
    }
   ],
   "source": [
    "lm1.intercept_"
   ]
  },
  {
   "cell_type": "code",
   "execution_count": 51,
   "id": "08dfa249-f7fb-422d-8f5f-49f6217237ed",
   "metadata": {},
   "outputs": [
    {
     "data": {
      "text/plain": [
       "array([7.65003569, 7.33140317, 7.35500558, 7.4022104 , 7.6854393 ,\n",
       "       7.48481883, 7.37860799, 7.62643328, 7.57922846, 7.57922846,\n",
       "       7.44941521, 7.4022104 , 7.46121642, 7.37860799, 7.28419835,\n",
       "       7.77984894, 7.4140116 , 7.75624653, 7.31960196, 7.54382485,\n",
       "       7.49662003, 7.60283087, 7.53202364, 7.44941521, 7.73264412,\n",
       "       7.66183689, 7.28419835, 7.17798751, 7.23699353, 7.24879474,\n",
       "       7.49662003, 7.62643328, 7.28419835, 7.36680678, 7.37860799,\n",
       "       7.56742726, 7.46121642, 7.44941521, 7.30780076, 7.55562605,\n",
       "       7.4258128 , 7.87425857, 6.93016222, 7.47301762, 7.02457185,\n",
       "       7.6854393 , 7.52022244, 7.50842123, 7.39040919, 7.87425857,\n",
       "       7.18978872, 7.44941521, 7.82705375, 7.30780076, 7.60283087,\n",
       "       7.70904171, 7.59102967, 7.11898149, 7.23699353, 7.4140116 ,\n",
       "       7.46121642, 7.26059594, 7.66183689, 7.4258128 , 7.20158992,\n",
       "       7.46121642, 7.52022244, 7.50842123, 7.77984894, 7.52022244,\n",
       "       7.07177667, 7.76804773, 7.37860799, 7.4140116 , 7.79165014,\n",
       "       7.05997547, 7.22519233, 7.4140116 , 7.60283087, 7.60283087,\n",
       "       7.35500558, 7.39040919, 7.80345134, 7.30780076, 7.33140317,\n",
       "       7.49662003, 7.79165014, 7.56742726, 7.4022104 , 7.53202364,\n",
       "       7.37860799, 7.16618631, 7.36680678, 7.73264412, 7.37860799,\n",
       "       7.60283087, 7.75624653, 7.92146339, 7.46121642, 7.44941521,\n",
       "       7.35500558, 7.53202364, 7.35500558, 7.47301762, 7.44941521,\n",
       "       7.24879474, 7.22519233, 7.60283087, 7.28419835, 7.37860799,\n",
       "       7.53202364, 7.57922846, 7.39040919, 7.56742726, 7.46121642,\n",
       "       7.66183689, 7.61463207, 7.73264412, 7.34320437, 7.55562605,\n",
       "       7.53202364, 7.49662003, 7.4258128 , 7.52022244, 7.56742726,\n",
       "       7.07177667, 7.82705375, 7.49662003, 7.59102967, 7.70904171,\n",
       "       7.13078269, 7.29599956, 7.49662003, 7.57922846, 7.57922846,\n",
       "       7.1543851 , 7.56742726, 7.53202364, 7.49662003, 7.74444532,\n",
       "       7.59102967, 7.6736381 , 7.48481883, 7.46121642, 7.57922846,\n",
       "       7.72084291, 7.36680678, 7.6736381 , 7.31960196, 7.44941521,\n",
       "       7.46121642, 7.33140317, 7.53202364, 7.79165014, 7.54382485,\n",
       "       7.17798751, 7.74444532, 7.44941521, 7.6972405 , 7.4258128 ,\n",
       "       7.33140317, 7.70904171, 7.46121642, 7.55562605, 7.76804773,\n",
       "       7.75624653, 7.4258128 , 7.27239715, 7.54382485, 7.24879474,\n",
       "       7.53202364, 7.11898149, 7.24879474, 7.61463207, 7.66183689,\n",
       "       7.37860799, 7.65003569, 7.65003569, 7.24879474, 7.72084291,\n",
       "       7.63823448, 7.44941521, 7.63823448, 7.4140116 , 7.57922846,\n",
       "       7.55562605, 7.43761401, 7.4022104 , 7.39040919, 7.4140116 ,\n",
       "       7.55562605, 7.86245737, 7.29599956, 7.66183689, 7.34320437,\n",
       "       7.4022104 , 7.55562605, 7.48481883, 7.34320437, 7.46121642,\n",
       "       7.72084291, 7.65003569, 7.44941521, 7.56742726, 7.85065616,\n",
       "       7.35500558, 7.93326459, 7.33140317, 7.03637306, 7.17798751,\n",
       "       7.49662003, 7.4022104 , 7.73264412, 7.77984894, 7.37860799,\n",
       "       7.39040919, 7.6854393 , 7.27239715, 7.65003569, 7.39040919,\n",
       "       7.56742726, 7.48481883, 7.62643328, 7.31960196, 7.60283087,\n",
       "       7.28419835, 7.4258128 , 7.35500558, 7.77984894, 7.17798751,\n",
       "       7.37860799, 7.57922846, 7.63823448, 7.47301762, 7.37860799,\n",
       "       7.50842123, 7.6854393 , 7.80345134, 7.44941521, 7.47301762,\n",
       "       7.89786098, 7.62643328, 7.48481883, 7.48481883, 7.55562605,\n",
       "       7.36680678, 7.43761401, 7.47301762, 7.33140317, 7.49662003,\n",
       "       7.63823448, 7.66183689, 7.59102967, 7.48481883, 7.29599956,\n",
       "       7.47301762, 7.75624653, 7.49662003, 7.29599956, 7.47301762,\n",
       "       7.54382485, 7.44941521, 7.43761401, 7.39040919, 7.53202364,\n",
       "       7.55562605, 7.53202364, 7.60283087, 7.47301762, 7.89786098,\n",
       "       7.4258128 , 7.33140317, 7.35500558, 7.39040919, 7.61463207,\n",
       "       7.28419835, 7.61463207, 7.62643328, 7.36680678, 7.6854393 ,\n",
       "       7.44941521, 7.46121642, 7.79165014, 7.61463207, 7.27239715,\n",
       "       7.74444532, 7.4022104 , 7.1425839 , 7.39040919, 7.70904171,\n",
       "       7.28419835, 7.4140116 , 7.35500558, 7.47301762, 7.76804773,\n",
       "       7.4140116 , 7.52022244, 7.4140116 , 7.76804773, 7.61463207,\n",
       "       7.39040919, 7.18978872, 7.29599956, 7.59102967, 7.47301762,\n",
       "       7.37860799, 7.56742726, 7.65003569, 7.50842123, 7.56742726,\n",
       "       8.08668025, 7.74444532, 7.63823448, 7.23699353, 7.59102967,\n",
       "       7.56742726, 7.46121642, 7.6972405 , 7.39040919, 7.52022244,\n",
       "       7.62643328, 7.47301762, 7.6736381 , 7.28419835, 7.62643328,\n",
       "       7.72084291, 7.59102967, 7.34320437, 7.4022104 , 7.20158992,\n",
       "       7.46121642, 7.61463207, 7.27239715, 7.62643328, 7.11898149,\n",
       "       7.43761401, 7.65003569, 7.55562605, 7.34320437, 7.60283087,\n",
       "       7.6736381 , 7.17798751, 7.63823448, 7.4022104 , 7.65003569,\n",
       "       7.44941521, 7.57922846, 7.1543851 , 7.57922846, 7.60283087,\n",
       "       7.33140317, 7.48481883, 7.59102967, 7.28419835, 7.59102967,\n",
       "       7.55562605, 7.6972405 , 7.23699353, 7.47301762, 7.55562605,\n",
       "       7.4140116 , 7.56742726, 7.56742726, 7.33140317, 7.46121642,\n",
       "       7.83885496, 7.48481883, 7.1425839 , 7.30780076, 7.61463207,\n",
       "       7.50842123, 7.81525255, 7.44941521, 7.63823448, 7.56742726,\n",
       "       7.57922846, 7.6854393 , 7.57922846, 7.59102967, 7.49662003,\n",
       "       7.27239715, 7.48481883, 7.44941521, 7.17798751, 7.47301762,\n",
       "       7.56742726, 7.81525255, 7.6972405 , 7.61463207, 7.53202364,\n",
       "       7.29599956, 7.82705375, 7.54382485, 7.30780076, 7.55562605,\n",
       "       7.65003569, 7.66183689, 7.93326459, 7.20158992, 7.60283087])"
      ]
     },
     "execution_count": 51,
     "metadata": {},
     "output_type": "execute_result"
    }
   ],
   "source": [
    "lm1.predict(x1)"
   ]
  },
  {
   "cell_type": "code",
   "execution_count": 53,
   "id": "e2d66df0-8dbe-436a-a2e5-d1a2992e29e4",
   "metadata": {},
   "outputs": [
    {
     "data": {
      "text/plain": [
       "[<matplotlib.lines.Line2D at 0x1ba9fdd13d0>]"
      ]
     },
     "execution_count": 53,
     "metadata": {},
     "output_type": "execute_result"
    },
    {
     "data": {
      "image/png": "[encoded data removed]",
      "text/plain": [
       "<Figure size 640x480 with 1 Axes>"
      ]
     },
     "metadata": {},
     "output_type": "display_data"
    }
   ],
   "source": [
    "plt.scatter(x, y)\n",
    "plt.plot(x, lm1.predict(x1), color='red')"
   ]
  },
  {
   "cell_type": "code",
   "execution_count": 54,
   "id": "95557476-4108-4816-876b-a72540839356",
   "metadata": {},
   "outputs": [
    {
     "data": {
      "text/plain": [
       "0.004106083580821762"
      ]
     },
     "execution_count": 54,
     "metadata": {},
     "output_type": "execute_result"
    }
   ],
   "source": [
    "lm1.score(x1, y)"
   ]
  },
  {
   "cell_type": "code",
   "execution_count": 55,
   "id": "b7ff4e48-73d2-42b6-b4dc-46c60d58b817",
   "metadata": {},
   "outputs": [
    {
     "data": {
      "text/plain": [
       "0.0041060835808217"
      ]
     },
     "execution_count": 55,
     "metadata": {},
     "output_type": "execute_result"
    }
   ],
   "source": [
    "np.corrcoef(x, y)[0, 1]**2"
   ]
  },
  {
   "cell_type": "code",
   "execution_count": 57,
   "id": "dcb6fa74-446b-49bb-b00b-92cba593604d",
   "metadata": {},
   "outputs": [
    {
     "data": {
      "text/html": [
       "<div>\n",
       "<style scoped>\n",
       "    .dataframe tbody tr th:only-of-type {\n",
       "        vertical-align: middle;\n",
       "    }\n",
       "\n",
       "    .dataframe tbody tr th {\n",
       "        vertical-align: top;\n",
       "    }\n",
       "\n",
       "    .dataframe thead th {\n",
       "        text-align: right;\n",
       "    }\n",
       "</style>\n",
       "<table border=\"1\" class=\"dataframe\">\n",
       "  <thead>\n",
       "    <tr style=\"text-align: right;\">\n",
       "      <th></th>\n",
       "      <th>rank</th>\n",
       "      <th>discipline</th>\n",
       "      <th>yrs.since.phd</th>\n",
       "      <th>yrs.service</th>\n",
       "      <th>sex</th>\n",
       "      <th>salary</th>\n",
       "    </tr>\n",
       "  </thead>\n",
       "  <tbody>\n",
       "    <tr>\n",
       "      <th>0</th>\n",
       "      <td>Prof</td>\n",
       "      <td>B</td>\n",
       "      <td>19</td>\n",
       "      <td>18</td>\n",
       "      <td>Male</td>\n",
       "      <td>139750</td>\n",
       "    </tr>\n",
       "    <tr>\n",
       "      <th>1</th>\n",
       "      <td>Prof</td>\n",
       "      <td>B</td>\n",
       "      <td>20</td>\n",
       "      <td>16</td>\n",
       "      <td>Male</td>\n",
       "      <td>173200</td>\n",
       "    </tr>\n",
       "    <tr>\n",
       "      <th>2</th>\n",
       "      <td>AsstProf</td>\n",
       "      <td>B</td>\n",
       "      <td>4</td>\n",
       "      <td>3</td>\n",
       "      <td>Male</td>\n",
       "      <td>79750</td>\n",
       "    </tr>\n",
       "    <tr>\n",
       "      <th>3</th>\n",
       "      <td>Prof</td>\n",
       "      <td>B</td>\n",
       "      <td>45</td>\n",
       "      <td>39</td>\n",
       "      <td>Male</td>\n",
       "      <td>115000</td>\n",
       "    </tr>\n",
       "    <tr>\n",
       "      <th>4</th>\n",
       "      <td>Prof</td>\n",
       "      <td>B</td>\n",
       "      <td>40</td>\n",
       "      <td>41</td>\n",
       "      <td>Male</td>\n",
       "      <td>141500</td>\n",
       "    </tr>\n",
       "  </tbody>\n",
       "</table>\n",
       "</div>"
      ],
      "text/plain": [
       "       rank discipline  yrs.since.phd  yrs.service   sex  salary\n",
       "0      Prof          B             19           18  Male  139750\n",
       "1      Prof          B             20           16  Male  173200\n",
       "2  AsstProf          B              4            3  Male   79750\n",
       "3      Prof          B             45           39  Male  115000\n",
       "4      Prof          B             40           41  Male  141500"
      ]
     },
     "execution_count": 57,
     "metadata": {},
     "output_type": "execute_result"
    }
   ],
   "source": [
    "salaries = sm.datasets.get_rdataset(dataname=\"Salaries\", package=\"carData\")\n",
    "salaries.data.head()"
   ]
  },
  {
   "cell_type": "code",
   "execution_count": 59,
   "id": "c32c2a1b-d91d-49ed-8a14-6b77011dcd91",
   "metadata": {},
   "outputs": [],
   "source": [
    "y = salaries.data['salary']\n",
    "x = salaries.data['sex']\n",
    "x1 = np.array(x).reshape(-1, 1)"
   ]
  },
  {
   "cell_type": "code",
   "execution_count": 61,
   "id": "93dc066c-d31f-41c0-8ed4-ef4e6cf7baee",
   "metadata": {},
   "outputs": [],
   "source": [
    "# lm1 = LinearRegression()\n",
    "# lm1.fit(x1, y)"
   ]
  },
  {
   "cell_type": "code",
   "execution_count": 62,
   "id": "9b63fbf5-ecfe-4165-a480-03f1e84105b6",
   "metadata": {},
   "outputs": [],
   "source": [
    "enc = OneHotEncoder()\n",
    "x1_transform = enc.fit_transform(x1).toarray()"
   ]
  },
  {
   "cell_type": "code",
   "execution_count": 67,
   "id": "fb578d42-5f76-4de5-ba7e-3582e0a58141",
   "metadata": {},
   "outputs": [
    {
     "data": {
      "text/plain": [
       "array([[1.],\n",
       "       [1.],\n",
       "       [1.],\n",
       "       [1.],\n",
       "       [1.],\n",
       "       [1.],\n",
       "       [1.],\n",
       "       [1.],\n",
       "       [1.],\n",
       "       [0.],\n",
       "       [1.],\n",
       "       [1.],\n",
       "       [1.],\n",
       "       [1.],\n",
       "       [1.],\n",
       "       [1.],\n",
       "       [1.],\n",
       "       [1.],\n",
       "       [1.],\n",
       "       [0.],\n",
       "       [1.],\n",
       "       [1.],\n",
       "       [1.],\n",
       "       [1.],\n",
       "       [0.],\n",
       "       [1.],\n",
       "       [1.],\n",
       "       [1.],\n",
       "       [1.],\n",
       "       [1.],\n",
       "       [1.],\n",
       "       [1.],\n",
       "       [1.],\n",
       "       [1.],\n",
       "       [0.],\n",
       "       [0.],\n",
       "       [1.],\n",
       "       [1.],\n",
       "       [1.],\n",
       "       [1.],\n",
       "       [1.],\n",
       "       [1.],\n",
       "       [1.],\n",
       "       [1.],\n",
       "       [1.],\n",
       "       [1.],\n",
       "       [1.],\n",
       "       [0.],\n",
       "       [0.],\n",
       "       [1.],\n",
       "       [1.],\n",
       "       [1.],\n",
       "       [0.],\n",
       "       [1.],\n",
       "       [1.],\n",
       "       [1.],\n",
       "       [1.],\n",
       "       [1.],\n",
       "       [1.],\n",
       "       [1.],\n",
       "       [1.],\n",
       "       [1.],\n",
       "       [1.],\n",
       "       [0.],\n",
       "       [1.],\n",
       "       [1.],\n",
       "       [1.],\n",
       "       [1.],\n",
       "       [0.],\n",
       "       [1.],\n",
       "       [1.],\n",
       "       [1.],\n",
       "       [1.],\n",
       "       [1.],\n",
       "       [1.],\n",
       "       [1.],\n",
       "       [1.],\n",
       "       [1.],\n",
       "       [1.],\n",
       "       [1.],\n",
       "       [1.],\n",
       "       [1.],\n",
       "       [1.],\n",
       "       [1.],\n",
       "       [0.],\n",
       "       [1.],\n",
       "       [1.],\n",
       "       [1.],\n",
       "       [1.],\n",
       "       [1.],\n",
       "       [0.],\n",
       "       [1.],\n",
       "       [1.],\n",
       "       [1.],\n",
       "       [1.],\n",
       "       [1.],\n",
       "       [1.],\n",
       "       [1.],\n",
       "       [1.],\n",
       "       [1.],\n",
       "       [1.],\n",
       "       [1.],\n",
       "       [1.],\n",
       "       [0.],\n",
       "       [1.],\n",
       "       [1.],\n",
       "       [1.],\n",
       "       [1.],\n",
       "       [1.],\n",
       "       [1.],\n",
       "       [1.],\n",
       "       [1.],\n",
       "       [1.],\n",
       "       [1.],\n",
       "       [0.],\n",
       "       [1.],\n",
       "       [1.],\n",
       "       [1.],\n",
       "       [1.],\n",
       "       [0.],\n",
       "       [1.],\n",
       "       [1.],\n",
       "       [1.],\n",
       "       [0.],\n",
       "       [1.],\n",
       "       [1.],\n",
       "       [1.],\n",
       "       [0.],\n",
       "       [1.],\n",
       "       [1.],\n",
       "       [1.],\n",
       "       [1.],\n",
       "       [0.],\n",
       "       [0.],\n",
       "       [1.],\n",
       "       [1.],\n",
       "       [1.],\n",
       "       [1.],\n",
       "       [1.],\n",
       "       [1.],\n",
       "       [1.],\n",
       "       [1.],\n",
       "       [1.],\n",
       "       [1.],\n",
       "       [1.],\n",
       "       [1.],\n",
       "       [1.],\n",
       "       [1.],\n",
       "       [0.],\n",
       "       [1.],\n",
       "       [1.],\n",
       "       [1.],\n",
       "       [1.],\n",
       "       [0.],\n",
       "       [1.],\n",
       "       [1.],\n",
       "       [1.],\n",
       "       [1.],\n",
       "       [1.],\n",
       "       [1.],\n",
       "       [1.],\n",
       "       [1.],\n",
       "       [1.],\n",
       "       [1.],\n",
       "       [1.],\n",
       "       [1.],\n",
       "       [1.],\n",
       "       [1.],\n",
       "       [1.],\n",
       "       [1.],\n",
       "       [1.],\n",
       "       [1.],\n",
       "       [1.],\n",
       "       [1.],\n",
       "       [1.],\n",
       "       [1.],\n",
       "       [1.],\n",
       "       [1.],\n",
       "       [1.],\n",
       "       [0.],\n",
       "       [1.],\n",
       "       [1.],\n",
       "       [1.],\n",
       "       [1.],\n",
       "       [1.],\n",
       "       [1.],\n",
       "       [0.],\n",
       "       [1.],\n",
       "       [1.],\n",
       "       [1.],\n",
       "       [1.],\n",
       "       [1.],\n",
       "       [1.],\n",
       "       [1.],\n",
       "       [1.],\n",
       "       [1.],\n",
       "       [1.],\n",
       "       [1.],\n",
       "       [1.],\n",
       "       [1.],\n",
       "       [1.],\n",
       "       [1.],\n",
       "       [1.],\n",
       "       [1.],\n",
       "       [1.],\n",
       "       [1.],\n",
       "       [1.],\n",
       "       [1.],\n",
       "       [1.],\n",
       "       [1.],\n",
       "       [1.],\n",
       "       [1.],\n",
       "       [1.],\n",
       "       [1.],\n",
       "       [1.],\n",
       "       [1.],\n",
       "       [1.],\n",
       "       [1.],\n",
       "       [0.],\n",
       "       [1.],\n",
       "       [1.],\n",
       "       [1.],\n",
       "       [1.],\n",
       "       [1.],\n",
       "       [1.],\n",
       "       [1.],\n",
       "       [1.],\n",
       "       [1.],\n",
       "       [1.],\n",
       "       [1.],\n",
       "       [0.],\n",
       "       [0.],\n",
       "       [1.],\n",
       "       [0.],\n",
       "       [1.],\n",
       "       [1.],\n",
       "       [1.],\n",
       "       [0.],\n",
       "       [1.],\n",
       "       [1.],\n",
       "       [1.],\n",
       "       [1.],\n",
       "       [1.],\n",
       "       [1.],\n",
       "       [1.],\n",
       "       [0.],\n",
       "       [1.],\n",
       "       [1.],\n",
       "       [1.],\n",
       "       [1.],\n",
       "       [1.],\n",
       "       [1.],\n",
       "       [1.],\n",
       "       [0.],\n",
       "       [0.],\n",
       "       [1.],\n",
       "       [1.],\n",
       "       [1.],\n",
       "       [1.],\n",
       "       [1.],\n",
       "       [1.],\n",
       "       [1.],\n",
       "       [1.],\n",
       "       [1.],\n",
       "       [1.],\n",
       "       [1.],\n",
       "       [1.],\n",
       "       [1.],\n",
       "       [1.],\n",
       "       [1.],\n",
       "       [1.],\n",
       "       [1.],\n",
       "       [1.],\n",
       "       [1.],\n",
       "       [0.],\n",
       "       [1.],\n",
       "       [1.],\n",
       "       [1.],\n",
       "       [1.],\n",
       "       [1.],\n",
       "       [1.],\n",
       "       [1.],\n",
       "       [1.],\n",
       "       [1.],\n",
       "       [1.],\n",
       "       [1.],\n",
       "       [1.],\n",
       "       [1.],\n",
       "       [1.],\n",
       "       [1.],\n",
       "       [1.],\n",
       "       [1.],\n",
       "       [1.],\n",
       "       [1.],\n",
       "       [1.],\n",
       "       [1.],\n",
       "       [1.],\n",
       "       [1.],\n",
       "       [1.],\n",
       "       [1.],\n",
       "       [1.],\n",
       "       [1.],\n",
       "       [1.],\n",
       "       [1.],\n",
       "       [1.],\n",
       "       [1.],\n",
       "       [1.],\n",
       "       [1.],\n",
       "       [1.],\n",
       "       [1.],\n",
       "       [1.],\n",
       "       [1.],\n",
       "       [1.],\n",
       "       [1.],\n",
       "       [1.],\n",
       "       [1.],\n",
       "       [0.],\n",
       "       [1.],\n",
       "       [1.],\n",
       "       [1.],\n",
       "       [1.],\n",
       "       [1.],\n",
       "       [1.],\n",
       "       [0.],\n",
       "       [1.],\n",
       "       [1.],\n",
       "       [1.],\n",
       "       [1.],\n",
       "       [1.],\n",
       "       [1.],\n",
       "       [1.],\n",
       "       [1.],\n",
       "       [0.],\n",
       "       [1.],\n",
       "       [0.],\n",
       "       [1.],\n",
       "       [1.],\n",
       "       [1.],\n",
       "       [1.],\n",
       "       [1.],\n",
       "       [1.],\n",
       "       [0.],\n",
       "       [1.],\n",
       "       [1.],\n",
       "       [1.],\n",
       "       [1.],\n",
       "       [1.],\n",
       "       [1.],\n",
       "       [1.],\n",
       "       [1.],\n",
       "       [1.],\n",
       "       [1.],\n",
       "       [1.],\n",
       "       [1.],\n",
       "       [1.],\n",
       "       [1.],\n",
       "       [1.],\n",
       "       [1.],\n",
       "       [0.],\n",
       "       [1.],\n",
       "       [1.],\n",
       "       [0.],\n",
       "       [1.],\n",
       "       [1.],\n",
       "       [1.],\n",
       "       [1.],\n",
       "       [1.],\n",
       "       [1.],\n",
       "       [1.],\n",
       "       [1.],\n",
       "       [1.],\n",
       "       [1.],\n",
       "       [1.],\n",
       "       [1.],\n",
       "       [1.],\n",
       "       [1.],\n",
       "       [1.],\n",
       "       [1.],\n",
       "       [1.],\n",
       "       [1.],\n",
       "       [1.],\n",
       "       [1.],\n",
       "       [1.],\n",
       "       [1.],\n",
       "       [1.],\n",
       "       [1.],\n",
       "       [1.],\n",
       "       [1.],\n",
       "       [1.],\n",
       "       [1.],\n",
       "       [1.],\n",
       "       [1.],\n",
       "       [1.],\n",
       "       [1.],\n",
       "       [1.],\n",
       "       [1.],\n",
       "       [1.]])"
      ]
     },
     "execution_count": 67,
     "metadata": {},
     "output_type": "execute_result"
    }
   ],
   "source": [
    "x1_transform[:,1].reshape(-1,1)"
   ]
  },
  {
   "cell_type": "code",
   "execution_count": 68,
   "id": "4cea4611-7f71-4278-a888-fac5e0baf6e9",
   "metadata": {},
   "outputs": [
    {
     "data": {
      "text/html": [
       "<style>#sk-container-id-3 {color: black;}#sk-container-id-3 pre{padding: 0;}#sk-container-id-3 div.sk-toggleable {background-color: white;}#sk-container-id-3 label.sk-toggleable__label {cursor: pointer;display: block;width: 100%;margin-bottom: 0;padding: 0.3em;box-sizing: border-box;text-align: center;}#sk-container-id-3 label.sk-toggleable__label-arrow:before {content: \"▸\";float: left;margin-right: 0.25em;color: #696969;}#sk-container-id-3 label.sk-toggleable__label-arrow:hover:before {color: black;}#sk-container-id-3 div.sk-estimator:hover label.sk-toggleable__label-arrow:before {color: black;}#sk-container-id-3 div.sk-toggleable__content {max-height: 0;max-width: 0;overflow: hidden;text-align: left;background-color: #f0f8ff;}#sk-container-id-3 div.sk-toggleable__content pre {margin: 0.2em;color: black;border-radius: 0.25em;background-color: #f0f8ff;}#sk-container-id-3 input.sk-toggleable__control:checked~div.sk-toggleable__content {max-height: 200px;max-width: 100%;overflow: auto;}#sk-container-id-3 input.sk-toggleable__control:checked~label.sk-toggleable__label-arrow:before {content: \"▾\";}#sk-container-id-3 div.sk-estimator input.sk-toggleable__control:checked~label.sk-toggleable__label {background-color: #d4ebff;}#sk-container-id-3 div.sk-label input.sk-toggleable__control:checked~label.sk-toggleable__label {background-color: #d4ebff;}#sk-container-id-3 input.sk-hidden--visually {border: 0;clip: rect(1px 1px 1px 1px);clip: rect(1px, 1px, 1px, 1px);height: 1px;margin: -1px;overflow: hidden;padding: 0;position: absolute;width: 1px;}#sk-container-id-3 div.sk-estimator {font-family: monospace;background-color: #f0f8ff;border: 1px dotted black;border-radius: 0.25em;box-sizing: border-box;margin-bottom: 0.5em;}#sk-container-id-3 div.sk-estimator:hover {background-color: #d4ebff;}#sk-container-id-3 div.sk-parallel-item::after {content: \"\";width: 100%;border-bottom: 1px solid gray;flex-grow: 1;}#sk-container-id-3 div.sk-label:hover label.sk-toggleable__label {background-color: #d4ebff;}#sk-container-id-3 div.sk-serial::before {content: \"\";position: absolute;border-left: 1px solid gray;box-sizing: border-box;top: 0;bottom: 0;left: 50%;z-index: 0;}#sk-container-id-3 div.sk-serial {display: flex;flex-direction: column;align-items: center;background-color: white;padding-right: 0.2em;padding-left: 0.2em;position: relative;}#sk-container-id-3 div.sk-item {position: relative;z-index: 1;}#sk-container-id-3 div.sk-parallel {display: flex;align-items: stretch;justify-content: center;background-color: white;position: relative;}#sk-container-id-3 div.sk-item::before, #sk-container-id-3 div.sk-parallel-item::before {content: \"\";position: absolute;border-left: 1px solid gray;box-sizing: border-box;top: 0;bottom: 0;left: 50%;z-index: -1;}#sk-container-id-3 div.sk-parallel-item {display: flex;flex-direction: column;z-index: 1;position: relative;background-color: white;}#sk-container-id-3 div.sk-parallel-item:first-child::after {align-self: flex-end;width: 50%;}#sk-container-id-3 div.sk-parallel-item:last-child::after {align-self: flex-start;width: 50%;}#sk-container-id-3 div.sk-parallel-item:only-child::after {width: 0;}#sk-container-id-3 div.sk-dashed-wrapped {border: 1px dashed gray;margin: 0 0.4em 0.5em 0.4em;box-sizing: border-box;padding-bottom: 0.4em;background-color: white;}#sk-container-id-3 div.sk-label label {font-family: monospace;font-weight: bold;display: inline-block;line-height: 1.2em;}#sk-container-id-3 div.sk-label-container {text-align: center;}#sk-container-id-3 div.sk-container {/* jupyter's `normalize.less` sets `[hidden] { display: none; }` but bootstrap.min.css set `[hidden] { display: none !important; }` so we also need the `!important` here to be able to override the default hidden behavior on the sphinx rendered scikit-learn.org. See: https://github.com/scikit-learn/scikit-learn/issues/21755 */display: inline-block !important;position: relative;}#sk-container-id-3 div.sk-text-repr-fallback {display: none;}</style><div id=\"sk-container-id-3\" class=\"sk-top-container\"><div class=\"sk-text-repr-fallback\"><pre>LinearRegression()</pre><b>In a Jupyter environment, please rerun this cell to show the HTML representation or trust the notebook. <br />On GitHub, the HTML representation is unable to render, please try loading this page with nbviewer.org.</b></div><div class=\"sk-container\" hidden><div class=\"sk-item\"><div class=\"sk-estimator sk-toggleable\"><input class=\"sk-toggleable__control sk-hidden--visually\" id=\"sk-estimator-id-3\" type=\"checkbox\" checked><label for=\"sk-estimator-id-3\" class=\"sk-toggleable__label sk-toggleable__label-arrow\">LinearRegression</label><div class=\"sk-toggleable__content\"><pre>LinearRegression()</pre></div></div></div></div></div>"
      ],
      "text/plain": [
       "LinearRegression()"
      ]
     },
     "execution_count": 68,
     "metadata": {},
     "output_type": "execute_result"
    }
   ],
   "source": [
    "lm1 = LinearRegression()\n",
    "lm1.fit(x1_transform[:, 1].reshape(-1, 1), y)"
   ]
  },
  {
   "cell_type": "code",
   "execution_count": 69,
   "id": "9ee24069-8fbc-462b-9d02-7cb284b33086",
   "metadata": {},
   "outputs": [
    {
     "data": {
      "text/plain": [
       "array([14088.008738])"
      ]
     },
     "execution_count": 69,
     "metadata": {},
     "output_type": "execute_result"
    }
   ],
   "source": [
    "lm1.coef_"
   ]
  },
  {
   "cell_type": "code",
   "execution_count": 70,
   "id": "dccf0cce-cb76-47b2-b87c-d989d8f0aa0c",
   "metadata": {},
   "outputs": [
    {
     "data": {
      "text/plain": [
       "101002.41025641026"
      ]
     },
     "execution_count": 70,
     "metadata": {},
     "output_type": "execute_result"
    }
   ],
   "source": [
    "lm1.intercept_"
   ]
  },
  {
   "cell_type": "code",
   "execution_count": 71,
   "id": "1c09e808-095c-4ea1-93e7-17f14558e2c1",
   "metadata": {},
   "outputs": [
    {
     "data": {
      "text/html": [
       "<style>#sk-container-id-4 {color: black;}#sk-container-id-4 pre{padding: 0;}#sk-container-id-4 div.sk-toggleable {background-color: white;}#sk-container-id-4 label.sk-toggleable__label {cursor: pointer;display: block;width: 100%;margin-bottom: 0;padding: 0.3em;box-sizing: border-box;text-align: center;}#sk-container-id-4 label.sk-toggleable__label-arrow:before {content: \"▸\";float: left;margin-right: 0.25em;color: #696969;}#sk-container-id-4 label.sk-toggleable__label-arrow:hover:before {color: black;}#sk-container-id-4 div.sk-estimator:hover label.sk-toggleable__label-arrow:before {color: black;}#sk-container-id-4 div.sk-toggleable__content {max-height: 0;max-width: 0;overflow: hidden;text-align: left;background-color: #f0f8ff;}#sk-container-id-4 div.sk-toggleable__content pre {margin: 0.2em;color: black;border-radius: 0.25em;background-color: #f0f8ff;}#sk-container-id-4 input.sk-toggleable__control:checked~div.sk-toggleable__content {max-height: 200px;max-width: 100%;overflow: auto;}#sk-container-id-4 input.sk-toggleable__control:checked~label.sk-toggleable__label-arrow:before {content: \"▾\";}#sk-container-id-4 div.sk-estimator input.sk-toggleable__control:checked~label.sk-toggleable__label {background-color: #d4ebff;}#sk-container-id-4 div.sk-label input.sk-toggleable__control:checked~label.sk-toggleable__label {background-color: #d4ebff;}#sk-container-id-4 input.sk-hidden--visually {border: 0;clip: rect(1px 1px 1px 1px);clip: rect(1px, 1px, 1px, 1px);height: 1px;margin: -1px;overflow: hidden;padding: 0;position: absolute;width: 1px;}#sk-container-id-4 div.sk-estimator {font-family: monospace;background-color: #f0f8ff;border: 1px dotted black;border-radius: 0.25em;box-sizing: border-box;margin-bottom: 0.5em;}#sk-container-id-4 div.sk-estimator:hover {background-color: #d4ebff;}#sk-container-id-4 div.sk-parallel-item::after {content: \"\";width: 100%;border-bottom: 1px solid gray;flex-grow: 1;}#sk-container-id-4 div.sk-label:hover label.sk-toggleable__label {background-color: #d4ebff;}#sk-container-id-4 div.sk-serial::before {content: \"\";position: absolute;border-left: 1px solid gray;box-sizing: border-box;top: 0;bottom: 0;left: 50%;z-index: 0;}#sk-container-id-4 div.sk-serial {display: flex;flex-direction: column;align-items: center;background-color: white;padding-right: 0.2em;padding-left: 0.2em;position: relative;}#sk-container-id-4 div.sk-item {position: relative;z-index: 1;}#sk-container-id-4 div.sk-parallel {display: flex;align-items: stretch;justify-content: center;background-color: white;position: relative;}#sk-container-id-4 div.sk-item::before, #sk-container-id-4 div.sk-parallel-item::before {content: \"\";position: absolute;border-left: 1px solid gray;box-sizing: border-box;top: 0;bottom: 0;left: 50%;z-index: -1;}#sk-container-id-4 div.sk-parallel-item {display: flex;flex-direction: column;z-index: 1;position: relative;background-color: white;}#sk-container-id-4 div.sk-parallel-item:first-child::after {align-self: flex-end;width: 50%;}#sk-container-id-4 div.sk-parallel-item:last-child::after {align-self: flex-start;width: 50%;}#sk-container-id-4 div.sk-parallel-item:only-child::after {width: 0;}#sk-container-id-4 div.sk-dashed-wrapped {border: 1px dashed gray;margin: 0 0.4em 0.5em 0.4em;box-sizing: border-box;padding-bottom: 0.4em;background-color: white;}#sk-container-id-4 div.sk-label label {font-family: monospace;font-weight: bold;display: inline-block;line-height: 1.2em;}#sk-container-id-4 div.sk-label-container {text-align: center;}#sk-container-id-4 div.sk-container {/* jupyter's `normalize.less` sets `[hidden] { display: none; }` but bootstrap.min.css set `[hidden] { display: none !important; }` so we also need the `!important` here to be able to override the default hidden behavior on the sphinx rendered scikit-learn.org. See: https://github.com/scikit-learn/scikit-learn/issues/21755 */display: inline-block !important;position: relative;}#sk-container-id-4 div.sk-text-repr-fallback {display: none;}</style><div id=\"sk-container-id-4\" class=\"sk-top-container\"><div class=\"sk-text-repr-fallback\"><pre>LinearRegression()</pre><b>In a Jupyter environment, please rerun this cell to show the HTML representation or trust the notebook. <br />On GitHub, the HTML representation is unable to render, please try loading this page with nbviewer.org.</b></div><div class=\"sk-container\" hidden><div class=\"sk-item\"><div class=\"sk-estimator sk-toggleable\"><input class=\"sk-toggleable__control sk-hidden--visually\" id=\"sk-estimator-id-4\" type=\"checkbox\" checked><label for=\"sk-estimator-id-4\" class=\"sk-toggleable__label sk-toggleable__label-arrow\">LinearRegression</label><div class=\"sk-toggleable__content\"><pre>LinearRegression()</pre></div></div></div></div></div>"
      ],
      "text/plain": [
       "LinearRegression()"
      ]
     },
     "execution_count": 71,
     "metadata": {},
     "output_type": "execute_result"
    }
   ],
   "source": [
    "lm2 = LinearRegression()\n",
    "lm2.fit(x1_transform[:, 0].reshape(-1, 1), y)"
   ]
  },
  {
   "cell_type": "code",
   "execution_count": 72,
   "id": "17f5a5e7-e772-41d5-b95f-b0144f3e903e",
   "metadata": {},
   "outputs": [
    {
     "data": {
      "text/plain": [
       "array([-14088.008738])"
      ]
     },
     "execution_count": 72,
     "metadata": {},
     "output_type": "execute_result"
    }
   ],
   "source": [
    "lm2.coef_"
   ]
  },
  {
   "cell_type": "code",
   "execution_count": 73,
   "id": "bb212ce9-77a3-488a-8dd4-3a2f7e2dc061",
   "metadata": {},
   "outputs": [
    {
     "data": {
      "text/plain": [
       "115090.41899441341"
      ]
     },
     "execution_count": 73,
     "metadata": {},
     "output_type": "execute_result"
    }
   ],
   "source": [
    "lm2.intercept_"
   ]
  },
  {
   "cell_type": "code",
   "execution_count": 74,
   "id": "fce8240a-e2c4-4a9d-9015-2f4a19d67239",
   "metadata": {},
   "outputs": [
    {
     "data": {
      "text/plain": [
       "array(['Bad', 'Good', 'Medium'], dtype=object)"
      ]
     },
     "execution_count": 74,
     "metadata": {},
     "output_type": "execute_result"
    }
   ],
   "source": [
    "np.unique(carseats_df.ShelveLoc)"
   ]
  },
  {
   "cell_type": "code",
   "execution_count": 75,
   "id": "40ebe244-49ab-4457-9227-efcd762f8b5f",
   "metadata": {},
   "outputs": [],
   "source": [
    "y = carseats_df[\"Sales\"]\n",
    "x = carseats_df['ShelveLoc']\n",
    "x1 = np.array(x).reshape(-1, 1)"
   ]
  },
  {
   "cell_type": "code",
   "execution_count": null,
   "id": "e122bdba-0018-4629-95a9-921cc4d47a09",
   "metadata": {},
   "outputs": [],
   "source": []
  }
 ],
 "metadata": {
  "kernelspec": {
   "display_name": "Python 3 (ipykernel)",
   "language": "python",
   "name": "python3"
  },
  "language_info": {
   "codemirror_mode": {
    "name": "ipython",
    "version": 3
   },
   "file_extension": ".py",
   "mimetype": "text/x-python",
   "name": "python",
   "nbconvert_exporter": "python",
   "pygments_lexer": "ipython3",
   "version": "3.8.2"
  }
 },
 "nbformat": 4,
 "nbformat_minor": 5
}
